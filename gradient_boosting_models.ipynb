{
 "cells": [
  {
   "cell_type": "markdown",
   "metadata": {},
   "source": [
    "# Определение стоимости автомобилей"
   ]
  },
  {
   "cell_type": "markdown",
   "metadata": {},
   "source": [
    "Сервис по продаже автомобилей с пробегом «Не бит, не крашен» разрабатывает приложение для привлечения новых клиентов. В нём можно быстро узнать рыночную стоимость своего автомобиля. В вашем распоряжении исторические данные: технические характеристики, комплектации и цены автомобилей. Вам нужно построить модель для определения стоимости. \n",
    "\n",
    "Заказчику важны:\n",
    "\n",
    "- качество предсказания;\n",
    "- скорость предсказания;\n",
    "- время обучения."
   ]
  },
  {
   "cell_type": "markdown",
   "metadata": {},
   "source": [
    "# Описание данных\n",
    "\n",
    "<b>Признаки</b>\n",
    "- DateCrawled — дата скачивания анкеты из базы\n",
    "- VehicleType — тип автомобильного кузова\n",
    "- RegistrationYear — год регистрации автомобиля\n",
    "- Gearbox — тип коробки передач\n",
    "- Power — мощность (л. с.)\n",
    "- Model — модель автомобиля\n",
    "- Kilometer — пробег (км)\n",
    "- RegistrationMonth — месяц регистрации автомобиля\n",
    "- FuelType — тип топлива\n",
    "- Brand — марка автомобиля\n",
    "- Repaired — была машина в ремонте или нет\n",
    "- DateCreated — дата создания анкеты\n",
    "- NumberOfPictures — количество фотографий автомобиля\n",
    "- PostalCode — почтовый индекс владельца анкеты (пользователя)\n",
    "- LastSeen — дата последней активности пользователя\n",
    "\n",
    "<b>Целевой признак</b>\n",
    "- Price — цена (евро)"
   ]
  },
  {
   "cell_type": "code",
   "execution_count": 1,
   "metadata": {},
   "outputs": [
    {
     "name": "stdout",
     "output_type": "stream",
     "text": [
      "Requirement already satisfied: scikit-learn in /opt/conda/lib/python3.9/site-packages (0.24.1)\n",
      "Collecting scikit-learn\n",
      "  Downloading scikit_learn-1.6.1-cp39-cp39-manylinux_2_17_x86_64.manylinux2014_x86_64.whl (13.5 MB)\n",
      "\u001b[K     |████████████████████████████████| 13.5 MB 2.4 MB/s eta 0:00:01\n",
      "\u001b[?25hRequirement already satisfied: threadpoolctl>=3.1.0 in /opt/conda/lib/python3.9/site-packages (from scikit-learn) (3.1.0)\n",
      "Requirement already satisfied: scipy>=1.6.0 in /opt/conda/lib/python3.9/site-packages (from scikit-learn) (1.9.1)\n",
      "Collecting joblib>=1.2.0\n",
      "  Downloading joblib-1.5.2-py3-none-any.whl (308 kB)\n",
      "\u001b[K     |████████████████████████████████| 308 kB 55.6 MB/s eta 0:00:01\n",
      "\u001b[?25hRequirement already satisfied: numpy>=1.19.5 in /opt/conda/lib/python3.9/site-packages (from scikit-learn) (1.21.1)\n",
      "Installing collected packages: joblib, scikit-learn\n",
      "  Attempting uninstall: joblib\n",
      "    Found existing installation: joblib 1.1.0\n",
      "    Uninstalling joblib-1.1.0:\n",
      "      Successfully uninstalled joblib-1.1.0\n",
      "  Attempting uninstall: scikit-learn\n",
      "    Found existing installation: scikit-learn 0.24.1\n",
      "    Uninstalling scikit-learn-0.24.1:\n",
      "      Successfully uninstalled scikit-learn-0.24.1\n",
      "Successfully installed joblib-1.5.2 scikit-learn-1.6.1\n",
      "Note: you may need to restart the kernel to use updated packages.\n"
     ]
    }
   ],
   "source": [
    "pip install --upgrade scikit-learn"
   ]
  },
  {
   "cell_type": "code",
   "execution_count": 2,
   "metadata": {},
   "outputs": [],
   "source": [
    "import pandas as pd\n",
    "import numpy as np\n",
    "from matplotlib import pyplot as plt\n",
    "import seaborn as sns\n",
    "from sklearn.linear_model import LinearRegression\n",
    "from sklearn.ensemble import HistGradientBoostingRegressor\n",
    "from sklearn.dummy import DummyRegressor\n",
    "from sklearn.model_selection import train_test_split\n",
    "from sklearn.preprocessing import StandardScaler, LabelEncoder\n",
    "from sklearn.metrics import mean_squared_error\n",
    "from sklearn.preprocessing import OrdinalEncoder\n",
    "from sklearn.tree import DecisionTreeRegressor\n",
    "from sklearn.linear_model import LinearRegression\n",
    "from sklearn.svm import SVR\n",
    "from sklearn.metrics import mean_squared_error\n",
    "from sklearn.model_selection import cross_val_score, GridSearchCV\n",
    "import lightgbm as lgb\n",
    "from lightgbm import LGBMRegressor\n",
    "import time"
   ]
  },
  {
   "cell_type": "markdown",
   "metadata": {},
   "source": [
    "## Подготовка данных"
   ]
  },
  {
   "cell_type": "code",
   "execution_count": 3,
   "metadata": {},
   "outputs": [],
   "source": [
    "autos_data = pd.read_csv('/datasets/autos.csv')"
   ]
  },
  {
   "cell_type": "code",
   "execution_count": 4,
   "metadata": {},
   "outputs": [
    {
     "data": {
      "text/html": [
       "<style  type=\"text/css\" >\n",
       "    #T_364e9_ th {\n",
       "          text-align: center;\n",
       "    }#T_364e9_row0_col0,#T_364e9_row0_col1,#T_364e9_row0_col3,#T_364e9_row0_col4,#T_364e9_row0_col5,#T_364e9_row0_col6,#T_364e9_row0_col7,#T_364e9_row0_col8,#T_364e9_row0_col9,#T_364e9_row0_col10,#T_364e9_row0_col12,#T_364e9_row0_col13,#T_364e9_row0_col14,#T_364e9_row0_col15,#T_364e9_row1_col0,#T_364e9_row1_col1,#T_364e9_row1_col2,#T_364e9_row1_col3,#T_364e9_row1_col4,#T_364e9_row1_col5,#T_364e9_row1_col7,#T_364e9_row1_col8,#T_364e9_row1_col9,#T_364e9_row1_col10,#T_364e9_row1_col11,#T_364e9_row1_col12,#T_364e9_row1_col13,#T_364e9_row1_col14,#T_364e9_row1_col15,#T_364e9_row2_col0,#T_364e9_row2_col1,#T_364e9_row2_col2,#T_364e9_row2_col3,#T_364e9_row2_col4,#T_364e9_row2_col5,#T_364e9_row2_col6,#T_364e9_row2_col7,#T_364e9_row2_col8,#T_364e9_row2_col9,#T_364e9_row2_col10,#T_364e9_row2_col12,#T_364e9_row2_col13,#T_364e9_row2_col14,#T_364e9_row2_col15,#T_364e9_row3_col0,#T_364e9_row3_col1,#T_364e9_row3_col2,#T_364e9_row3_col3,#T_364e9_row3_col4,#T_364e9_row3_col5,#T_364e9_row3_col6,#T_364e9_row3_col7,#T_364e9_row3_col8,#T_364e9_row3_col9,#T_364e9_row3_col10,#T_364e9_row3_col11,#T_364e9_row3_col12,#T_364e9_row3_col13,#T_364e9_row3_col14,#T_364e9_row3_col15,#T_364e9_row4_col0,#T_364e9_row4_col1,#T_364e9_row4_col2,#T_364e9_row4_col3,#T_364e9_row4_col4,#T_364e9_row4_col5,#T_364e9_row4_col6,#T_364e9_row4_col7,#T_364e9_row4_col8,#T_364e9_row4_col9,#T_364e9_row4_col10,#T_364e9_row4_col11,#T_364e9_row4_col12,#T_364e9_row4_col13,#T_364e9_row4_col14,#T_364e9_row4_col15{\n",
       "            text-align:  center;\n",
       "        }#T_364e9_row0_col2,#T_364e9_row0_col11,#T_364e9_row1_col6,#T_364e9_row2_col11{\n",
       "            text-align:  center;\n",
       "            background-color:  lightgray;\n",
       "        }</style><table id=\"T_364e9_\" ><caption>Первые 5 строк оригинальной таблицы</caption><thead>    <tr>        <th class=\"blank level0\" ></th>        <th class=\"col_heading level0 col0\" >DateCrawled</th>        <th class=\"col_heading level0 col1\" >Price</th>        <th class=\"col_heading level0 col2\" >VehicleType</th>        <th class=\"col_heading level0 col3\" >RegistrationYear</th>        <th class=\"col_heading level0 col4\" >Gearbox</th>        <th class=\"col_heading level0 col5\" >Power</th>        <th class=\"col_heading level0 col6\" >Model</th>        <th class=\"col_heading level0 col7\" >Kilometer</th>        <th class=\"col_heading level0 col8\" >RegistrationMonth</th>        <th class=\"col_heading level0 col9\" >FuelType</th>        <th class=\"col_heading level0 col10\" >Brand</th>        <th class=\"col_heading level0 col11\" >Repaired</th>        <th class=\"col_heading level0 col12\" >DateCreated</th>        <th class=\"col_heading level0 col13\" >NumberOfPictures</th>        <th class=\"col_heading level0 col14\" >PostalCode</th>        <th class=\"col_heading level0 col15\" >LastSeen</th>    </tr></thead><tbody>\n",
       "                <tr>\n",
       "                        <th id=\"T_364e9_level0_row0\" class=\"row_heading level0 row0\" >0</th>\n",
       "                        <td id=\"T_364e9_row0_col0\" class=\"data row0 col0\" >2016-03-24 11:52:17</td>\n",
       "                        <td id=\"T_364e9_row0_col1\" class=\"data row0 col1\" >480</td>\n",
       "                        <td id=\"T_364e9_row0_col2\" class=\"data row0 col2\" >nan</td>\n",
       "                        <td id=\"T_364e9_row0_col3\" class=\"data row0 col3\" >1993</td>\n",
       "                        <td id=\"T_364e9_row0_col4\" class=\"data row0 col4\" >manual</td>\n",
       "                        <td id=\"T_364e9_row0_col5\" class=\"data row0 col5\" >0</td>\n",
       "                        <td id=\"T_364e9_row0_col6\" class=\"data row0 col6\" >golf</td>\n",
       "                        <td id=\"T_364e9_row0_col7\" class=\"data row0 col7\" >150000</td>\n",
       "                        <td id=\"T_364e9_row0_col8\" class=\"data row0 col8\" >0</td>\n",
       "                        <td id=\"T_364e9_row0_col9\" class=\"data row0 col9\" >petrol</td>\n",
       "                        <td id=\"T_364e9_row0_col10\" class=\"data row0 col10\" >volkswagen</td>\n",
       "                        <td id=\"T_364e9_row0_col11\" class=\"data row0 col11\" >nan</td>\n",
       "                        <td id=\"T_364e9_row0_col12\" class=\"data row0 col12\" >2016-03-24 00:00:00</td>\n",
       "                        <td id=\"T_364e9_row0_col13\" class=\"data row0 col13\" >0</td>\n",
       "                        <td id=\"T_364e9_row0_col14\" class=\"data row0 col14\" >70435</td>\n",
       "                        <td id=\"T_364e9_row0_col15\" class=\"data row0 col15\" >2016-04-07 03:16:57</td>\n",
       "            </tr>\n",
       "            <tr>\n",
       "                        <th id=\"T_364e9_level0_row1\" class=\"row_heading level0 row1\" >1</th>\n",
       "                        <td id=\"T_364e9_row1_col0\" class=\"data row1 col0\" >2016-03-24 10:58:45</td>\n",
       "                        <td id=\"T_364e9_row1_col1\" class=\"data row1 col1\" >18300</td>\n",
       "                        <td id=\"T_364e9_row1_col2\" class=\"data row1 col2\" >coupe</td>\n",
       "                        <td id=\"T_364e9_row1_col3\" class=\"data row1 col3\" >2011</td>\n",
       "                        <td id=\"T_364e9_row1_col4\" class=\"data row1 col4\" >manual</td>\n",
       "                        <td id=\"T_364e9_row1_col5\" class=\"data row1 col5\" >190</td>\n",
       "                        <td id=\"T_364e9_row1_col6\" class=\"data row1 col6\" >nan</td>\n",
       "                        <td id=\"T_364e9_row1_col7\" class=\"data row1 col7\" >125000</td>\n",
       "                        <td id=\"T_364e9_row1_col8\" class=\"data row1 col8\" >5</td>\n",
       "                        <td id=\"T_364e9_row1_col9\" class=\"data row1 col9\" >gasoline</td>\n",
       "                        <td id=\"T_364e9_row1_col10\" class=\"data row1 col10\" >audi</td>\n",
       "                        <td id=\"T_364e9_row1_col11\" class=\"data row1 col11\" >yes</td>\n",
       "                        <td id=\"T_364e9_row1_col12\" class=\"data row1 col12\" >2016-03-24 00:00:00</td>\n",
       "                        <td id=\"T_364e9_row1_col13\" class=\"data row1 col13\" >0</td>\n",
       "                        <td id=\"T_364e9_row1_col14\" class=\"data row1 col14\" >66954</td>\n",
       "                        <td id=\"T_364e9_row1_col15\" class=\"data row1 col15\" >2016-04-07 01:46:50</td>\n",
       "            </tr>\n",
       "            <tr>\n",
       "                        <th id=\"T_364e9_level0_row2\" class=\"row_heading level0 row2\" >2</th>\n",
       "                        <td id=\"T_364e9_row2_col0\" class=\"data row2 col0\" >2016-03-14 12:52:21</td>\n",
       "                        <td id=\"T_364e9_row2_col1\" class=\"data row2 col1\" >9800</td>\n",
       "                        <td id=\"T_364e9_row2_col2\" class=\"data row2 col2\" >suv</td>\n",
       "                        <td id=\"T_364e9_row2_col3\" class=\"data row2 col3\" >2004</td>\n",
       "                        <td id=\"T_364e9_row2_col4\" class=\"data row2 col4\" >auto</td>\n",
       "                        <td id=\"T_364e9_row2_col5\" class=\"data row2 col5\" >163</td>\n",
       "                        <td id=\"T_364e9_row2_col6\" class=\"data row2 col6\" >grand</td>\n",
       "                        <td id=\"T_364e9_row2_col7\" class=\"data row2 col7\" >125000</td>\n",
       "                        <td id=\"T_364e9_row2_col8\" class=\"data row2 col8\" >8</td>\n",
       "                        <td id=\"T_364e9_row2_col9\" class=\"data row2 col9\" >gasoline</td>\n",
       "                        <td id=\"T_364e9_row2_col10\" class=\"data row2 col10\" >jeep</td>\n",
       "                        <td id=\"T_364e9_row2_col11\" class=\"data row2 col11\" >nan</td>\n",
       "                        <td id=\"T_364e9_row2_col12\" class=\"data row2 col12\" >2016-03-14 00:00:00</td>\n",
       "                        <td id=\"T_364e9_row2_col13\" class=\"data row2 col13\" >0</td>\n",
       "                        <td id=\"T_364e9_row2_col14\" class=\"data row2 col14\" >90480</td>\n",
       "                        <td id=\"T_364e9_row2_col15\" class=\"data row2 col15\" >2016-04-05 12:47:46</td>\n",
       "            </tr>\n",
       "            <tr>\n",
       "                        <th id=\"T_364e9_level0_row3\" class=\"row_heading level0 row3\" >3</th>\n",
       "                        <td id=\"T_364e9_row3_col0\" class=\"data row3 col0\" >2016-03-17 16:54:04</td>\n",
       "                        <td id=\"T_364e9_row3_col1\" class=\"data row3 col1\" >1500</td>\n",
       "                        <td id=\"T_364e9_row3_col2\" class=\"data row3 col2\" >small</td>\n",
       "                        <td id=\"T_364e9_row3_col3\" class=\"data row3 col3\" >2001</td>\n",
       "                        <td id=\"T_364e9_row3_col4\" class=\"data row3 col4\" >manual</td>\n",
       "                        <td id=\"T_364e9_row3_col5\" class=\"data row3 col5\" >75</td>\n",
       "                        <td id=\"T_364e9_row3_col6\" class=\"data row3 col6\" >golf</td>\n",
       "                        <td id=\"T_364e9_row3_col7\" class=\"data row3 col7\" >150000</td>\n",
       "                        <td id=\"T_364e9_row3_col8\" class=\"data row3 col8\" >6</td>\n",
       "                        <td id=\"T_364e9_row3_col9\" class=\"data row3 col9\" >petrol</td>\n",
       "                        <td id=\"T_364e9_row3_col10\" class=\"data row3 col10\" >volkswagen</td>\n",
       "                        <td id=\"T_364e9_row3_col11\" class=\"data row3 col11\" >no</td>\n",
       "                        <td id=\"T_364e9_row3_col12\" class=\"data row3 col12\" >2016-03-17 00:00:00</td>\n",
       "                        <td id=\"T_364e9_row3_col13\" class=\"data row3 col13\" >0</td>\n",
       "                        <td id=\"T_364e9_row3_col14\" class=\"data row3 col14\" >91074</td>\n",
       "                        <td id=\"T_364e9_row3_col15\" class=\"data row3 col15\" >2016-03-17 17:40:17</td>\n",
       "            </tr>\n",
       "            <tr>\n",
       "                        <th id=\"T_364e9_level0_row4\" class=\"row_heading level0 row4\" >4</th>\n",
       "                        <td id=\"T_364e9_row4_col0\" class=\"data row4 col0\" >2016-03-31 17:25:20</td>\n",
       "                        <td id=\"T_364e9_row4_col1\" class=\"data row4 col1\" >3600</td>\n",
       "                        <td id=\"T_364e9_row4_col2\" class=\"data row4 col2\" >small</td>\n",
       "                        <td id=\"T_364e9_row4_col3\" class=\"data row4 col3\" >2008</td>\n",
       "                        <td id=\"T_364e9_row4_col4\" class=\"data row4 col4\" >manual</td>\n",
       "                        <td id=\"T_364e9_row4_col5\" class=\"data row4 col5\" >69</td>\n",
       "                        <td id=\"T_364e9_row4_col6\" class=\"data row4 col6\" >fabia</td>\n",
       "                        <td id=\"T_364e9_row4_col7\" class=\"data row4 col7\" >90000</td>\n",
       "                        <td id=\"T_364e9_row4_col8\" class=\"data row4 col8\" >7</td>\n",
       "                        <td id=\"T_364e9_row4_col9\" class=\"data row4 col9\" >gasoline</td>\n",
       "                        <td id=\"T_364e9_row4_col10\" class=\"data row4 col10\" >skoda</td>\n",
       "                        <td id=\"T_364e9_row4_col11\" class=\"data row4 col11\" >no</td>\n",
       "                        <td id=\"T_364e9_row4_col12\" class=\"data row4 col12\" >2016-03-31 00:00:00</td>\n",
       "                        <td id=\"T_364e9_row4_col13\" class=\"data row4 col13\" >0</td>\n",
       "                        <td id=\"T_364e9_row4_col14\" class=\"data row4 col14\" >60437</td>\n",
       "                        <td id=\"T_364e9_row4_col15\" class=\"data row4 col15\" >2016-04-06 10:17:21</td>\n",
       "            </tr>\n",
       "    </tbody></table>"
      ],
      "text/plain": [
       "<pandas.io.formats.style.Styler at 0x7f56102b7fd0>"
      ]
     },
     "metadata": {},
     "output_type": "display_data"
    }
   ],
   "source": [
    "def pretty_display(df, title=\"Таблица\"):\n",
    "    styled_df = df.head(5).style \\\n",
    "        .set_table_styles(\n",
    "            [{'selector': 'th', 'props': [('text-align', 'center')]}]\n",
    "        ) \\\n",
    "        .set_properties(**{'text-align': 'center'}) \\\n",
    "        .highlight_null(null_color='lightgray') \\\n",
    "        .set_caption(title)\n",
    "    \n",
    "    display(styled_df)\n",
    "\n",
    "pretty_display(autos_data, \"Первые 5 строк оригинальной таблицы\")"
   ]
  },
  {
   "cell_type": "code",
   "execution_count": 5,
   "metadata": {},
   "outputs": [
    {
     "name": "stdout",
     "output_type": "stream",
     "text": [
      "<class 'pandas.core.frame.DataFrame'>\n",
      "RangeIndex: 354369 entries, 0 to 354368\n",
      "Data columns (total 16 columns):\n",
      " #   Column             Non-Null Count   Dtype \n",
      "---  ------             --------------   ----- \n",
      " 0   DateCrawled        354369 non-null  object\n",
      " 1   Price              354369 non-null  int64 \n",
      " 2   VehicleType        316879 non-null  object\n",
      " 3   RegistrationYear   354369 non-null  int64 \n",
      " 4   Gearbox            334536 non-null  object\n",
      " 5   Power              354369 non-null  int64 \n",
      " 6   Model              334664 non-null  object\n",
      " 7   Kilometer          354369 non-null  int64 \n",
      " 8   RegistrationMonth  354369 non-null  int64 \n",
      " 9   FuelType           321474 non-null  object\n",
      " 10  Brand              354369 non-null  object\n",
      " 11  Repaired           283215 non-null  object\n",
      " 12  DateCreated        354369 non-null  object\n",
      " 13  NumberOfPictures   354369 non-null  int64 \n",
      " 14  PostalCode         354369 non-null  int64 \n",
      " 15  LastSeen           354369 non-null  object\n",
      "dtypes: int64(7), object(9)\n",
      "memory usage: 43.3+ MB\n"
     ]
    },
    {
     "data": {
      "text/plain": [
       "None"
      ]
     },
     "metadata": {},
     "output_type": "display_data"
    }
   ],
   "source": [
    "display(autos_data.info())"
   ]
  },
  {
   "cell_type": "markdown",
   "metadata": {},
   "source": [
    "Типы данных не нарушены, стоит переименовать столбцы и привести их в нижний регистр."
   ]
  },
  {
   "cell_type": "code",
   "execution_count": 6,
   "metadata": {},
   "outputs": [
    {
     "data": {
      "text/plain": [
       "Index(['date_crawled', 'price', 'vehicle_type', 'registration_year', 'gearbox',\n",
       "       'power', 'model', 'kilometer', 'registration_month', 'fuel_type',\n",
       "       'brand', 'repaired', 'date_created', 'number_of_pictures',\n",
       "       'postal_code', 'last_seen'],\n",
       "      dtype='object')"
      ]
     },
     "execution_count": 6,
     "metadata": {},
     "output_type": "execute_result"
    }
   ],
   "source": [
    "autos_data.columns = (\n",
    "    autos_data.columns\n",
    "    .str.replace(r\"([A-Z])\", r\" \\1\", regex=True)  # теперь явно\n",
    "    .str.lower()\n",
    "    .str.replace(' ', '_')\n",
    "    .str[1:]\n",
    ")\n",
    "autos_data.columns"
   ]
  },
  {
   "cell_type": "code",
   "execution_count": 7,
   "metadata": {},
   "outputs": [
    {
     "data": {
      "text/plain": [
       "4"
      ]
     },
     "execution_count": 7,
     "metadata": {},
     "output_type": "execute_result"
    }
   ],
   "source": [
    "autos_data.duplicated().sum()"
   ]
  },
  {
   "cell_type": "code",
   "execution_count": 8,
   "metadata": {},
   "outputs": [
    {
     "data": {
      "text/plain": [
       "0"
      ]
     },
     "execution_count": 8,
     "metadata": {},
     "output_type": "execute_result"
    }
   ],
   "source": [
    "autos_data = autos_data.drop_duplicates()\n",
    "autos_data.duplicated().sum()"
   ]
  },
  {
   "cell_type": "markdown",
   "metadata": {},
   "source": [
    "Столбцы были преведены в нижний регист. Также были удалены дубликаты."
   ]
  },
  {
   "cell_type": "code",
   "execution_count": 9,
   "metadata": {},
   "outputs": [
    {
     "data": {
      "text/html": [
       "<div>\n",
       "<style scoped>\n",
       "    .dataframe tbody tr th:only-of-type {\n",
       "        vertical-align: middle;\n",
       "    }\n",
       "\n",
       "    .dataframe tbody tr th {\n",
       "        vertical-align: top;\n",
       "    }\n",
       "\n",
       "    .dataframe thead th {\n",
       "        text-align: right;\n",
       "    }\n",
       "</style>\n",
       "<table border=\"1\" class=\"dataframe\">\n",
       "  <thead>\n",
       "    <tr style=\"text-align: right;\">\n",
       "      <th></th>\n",
       "      <th>Признак</th>\n",
       "      <th>Уникальных значений</th>\n",
       "      <th>Доля уникальных</th>\n",
       "      <th>Корреляция с price</th>\n",
       "    </tr>\n",
       "  </thead>\n",
       "  <tbody>\n",
       "    <tr>\n",
       "      <th>0</th>\n",
       "      <td>date_crawled</td>\n",
       "      <td>271174</td>\n",
       "      <td>76.52%</td>\n",
       "      <td>0.014923</td>\n",
       "    </tr>\n",
       "    <tr>\n",
       "      <th>1</th>\n",
       "      <td>price</td>\n",
       "      <td>3731</td>\n",
       "      <td>1.05%</td>\n",
       "      <td>1.000000</td>\n",
       "    </tr>\n",
       "    <tr>\n",
       "      <th>2</th>\n",
       "      <td>vehicle_type</td>\n",
       "      <td>8</td>\n",
       "      <td>0.00%</td>\n",
       "      <td>0.031139</td>\n",
       "    </tr>\n",
       "    <tr>\n",
       "      <th>3</th>\n",
       "      <td>registration_year</td>\n",
       "      <td>151</td>\n",
       "      <td>0.04%</td>\n",
       "      <td>0.026916</td>\n",
       "    </tr>\n",
       "    <tr>\n",
       "      <th>4</th>\n",
       "      <td>gearbox</td>\n",
       "      <td>2</td>\n",
       "      <td>0.00%</td>\n",
       "      <td>-0.080581</td>\n",
       "    </tr>\n",
       "    <tr>\n",
       "      <th>5</th>\n",
       "      <td>power</td>\n",
       "      <td>712</td>\n",
       "      <td>0.20%</td>\n",
       "      <td>0.158872</td>\n",
       "    </tr>\n",
       "    <tr>\n",
       "      <th>6</th>\n",
       "      <td>model</td>\n",
       "      <td>250</td>\n",
       "      <td>0.07%</td>\n",
       "      <td>0.005955</td>\n",
       "    </tr>\n",
       "    <tr>\n",
       "      <th>7</th>\n",
       "      <td>kilometer</td>\n",
       "      <td>13</td>\n",
       "      <td>0.00%</td>\n",
       "      <td>-0.333207</td>\n",
       "    </tr>\n",
       "    <tr>\n",
       "      <th>8</th>\n",
       "      <td>registration_month</td>\n",
       "      <td>13</td>\n",
       "      <td>0.00%</td>\n",
       "      <td>0.110580</td>\n",
       "    </tr>\n",
       "    <tr>\n",
       "      <th>9</th>\n",
       "      <td>fuel_type</td>\n",
       "      <td>7</td>\n",
       "      <td>0.00%</td>\n",
       "      <td>-0.097126</td>\n",
       "    </tr>\n",
       "    <tr>\n",
       "      <th>10</th>\n",
       "      <td>brand</td>\n",
       "      <td>40</td>\n",
       "      <td>0.01%</td>\n",
       "      <td>-0.105314</td>\n",
       "    </tr>\n",
       "    <tr>\n",
       "      <th>11</th>\n",
       "      <td>repaired</td>\n",
       "      <td>2</td>\n",
       "      <td>0.00%</td>\n",
       "      <td>0.043012</td>\n",
       "    </tr>\n",
       "    <tr>\n",
       "      <th>12</th>\n",
       "      <td>date_created</td>\n",
       "      <td>109</td>\n",
       "      <td>0.03%</td>\n",
       "      <td>0.011055</td>\n",
       "    </tr>\n",
       "    <tr>\n",
       "      <th>13</th>\n",
       "      <td>number_of_pictures</td>\n",
       "      <td>1</td>\n",
       "      <td>0.00%</td>\n",
       "      <td>NaN</td>\n",
       "    </tr>\n",
       "    <tr>\n",
       "      <th>14</th>\n",
       "      <td>postal_code</td>\n",
       "      <td>8143</td>\n",
       "      <td>2.30%</td>\n",
       "      <td>0.076058</td>\n",
       "    </tr>\n",
       "    <tr>\n",
       "      <th>15</th>\n",
       "      <td>last_seen</td>\n",
       "      <td>179150</td>\n",
       "      <td>50.56%</td>\n",
       "      <td>0.155918</td>\n",
       "    </tr>\n",
       "  </tbody>\n",
       "</table>\n",
       "</div>"
      ],
      "text/plain": [
       "               Признак  Уникальных значений Доля уникальных  \\\n",
       "0         date_crawled               271174          76.52%   \n",
       "1                price                 3731           1.05%   \n",
       "2         vehicle_type                    8           0.00%   \n",
       "3    registration_year                  151           0.04%   \n",
       "4              gearbox                    2           0.00%   \n",
       "5                power                  712           0.20%   \n",
       "6                model                  250           0.07%   \n",
       "7            kilometer                   13           0.00%   \n",
       "8   registration_month                   13           0.00%   \n",
       "9            fuel_type                    7           0.00%   \n",
       "10               brand                   40           0.01%   \n",
       "11            repaired                    2           0.00%   \n",
       "12        date_created                  109           0.03%   \n",
       "13  number_of_pictures                    1           0.00%   \n",
       "14         postal_code                 8143           2.30%   \n",
       "15           last_seen               179150          50.56%   \n",
       "\n",
       "    Корреляция с price  \n",
       "0             0.014923  \n",
       "1             1.000000  \n",
       "2             0.031139  \n",
       "3             0.026916  \n",
       "4            -0.080581  \n",
       "5             0.158872  \n",
       "6             0.005955  \n",
       "7            -0.333207  \n",
       "8             0.110580  \n",
       "9            -0.097126  \n",
       "10           -0.105314  \n",
       "11            0.043012  \n",
       "12            0.011055  \n",
       "13                 NaN  \n",
       "14            0.076058  \n",
       "15            0.155918  "
      ]
     },
     "execution_count": 9,
     "metadata": {},
     "output_type": "execute_result"
    }
   ],
   "source": [
    "bad_features = ['date_crawled', 'price', 'vehicle_type', 'registration_year', 'gearbox',\n",
    "       'power', 'model', 'kilometer', 'registration_month', 'fuel_type',\n",
    "       'brand', 'repaired', 'date_created', 'number_of_pictures',\n",
    "       'postal_code', 'last_seen']\n",
    "report = []\n",
    "\n",
    "for col in bad_features:\n",
    "    unique_vals = autos_data[col].nunique()\n",
    "    total_vals = autos_data[col].shape[0]\n",
    "    unique_ratio = unique_vals / total_vals\n",
    "\n",
    "    if autos_data[col].dtype in ['int64', 'float64']:\n",
    "        corr = autos_data[['price', col]].corr().iloc[0, 1]\n",
    "    else:\n",
    "        codes = autos_data[col].astype('category').cat.codes.rename(col + \"_codes\")\n",
    "        corr = autos_data[['price']].join(codes).corr().iloc[0, 1]\n",
    "\n",
    "    report.append([col, unique_vals, f\"{unique_ratio:.2%}\", corr])\n",
    "\n",
    "df_report = pd.DataFrame(report, columns=['Признак', 'Уникальных значений', 'Доля уникальных', 'Корреляция с price'])\n",
    "df_report\n"
   ]
  },
  {
   "cell_type": "code",
   "execution_count": 10,
   "metadata": {},
   "outputs": [
    {
     "name": "stdout",
     "output_type": "stream",
     "text": [
      "<class 'pandas.core.frame.DataFrame'>\n",
      "Int64Index: 354365 entries, 0 to 354368\n",
      "Data columns (total 11 columns):\n",
      " #   Column              Non-Null Count   Dtype \n",
      "---  ------              --------------   ----- \n",
      " 0   price               354365 non-null  int64 \n",
      " 1   vehicle_type        316875 non-null  object\n",
      " 2   registration_year   354365 non-null  int64 \n",
      " 3   gearbox             334532 non-null  object\n",
      " 4   power               354365 non-null  int64 \n",
      " 5   model               334660 non-null  object\n",
      " 6   kilometer           354365 non-null  int64 \n",
      " 7   registration_month  354365 non-null  int64 \n",
      " 8   fuel_type           321470 non-null  object\n",
      " 9   brand               354365 non-null  object\n",
      " 10  repaired            283211 non-null  object\n",
      "dtypes: int64(5), object(6)\n",
      "memory usage: 40.5+ MB\n"
     ]
    },
    {
     "data": {
      "text/plain": [
       "None"
      ]
     },
     "metadata": {},
     "output_type": "display_data"
    }
   ],
   "source": [
    "autos_data.drop(\n",
    "    ['date_crawled', 'date_created', 'postal_code', 'number_of_pictures', 'last_seen'],\n",
    "    axis=1,\n",
    "    inplace=True\n",
    ")\n",
    "display(autos_data.info())"
   ]
  },
  {
   "cell_type": "code",
   "execution_count": 11,
   "metadata": {},
   "outputs": [
    {
     "data": {
      "text/plain": [
       "27539"
      ]
     },
     "execution_count": 11,
     "metadata": {},
     "output_type": "execute_result"
    }
   ],
   "source": [
    "autos_data.duplicated().sum()"
   ]
  },
  {
   "cell_type": "code",
   "execution_count": 12,
   "metadata": {},
   "outputs": [
    {
     "data": {
      "text/plain": [
       "0"
      ]
     },
     "execution_count": 12,
     "metadata": {},
     "output_type": "execute_result"
    }
   ],
   "source": [
    "autos_data = autos_data.drop_duplicates()\n",
    "autos_data.duplicated().sum()"
   ]
  },
  {
   "cell_type": "markdown",
   "metadata": {},
   "source": [
    "Была проведена повторая проверка на дубликаты, были удалены 27.5 тыс дубликатов."
   ]
  },
  {
   "cell_type": "markdown",
   "metadata": {},
   "source": [
    "Данные были очищены от ненужных признаков, так как они не коррелируют с целевым признаком:\n",
    "- DateCrawled — дата скачивания анкеты из базы\n",
    "- DateCreated — дата создания анкеты\n",
    "- PostalCode — почтовый индекс владельца анкеты (пользователя)\n",
    "- NumberOfPictures — количество фотографий автомобиля\n",
    "- last_seen - время последнего просмотра объявления\n",
    "\n",
    "Данные признаки едва ли как либо коррелируют с целевым признаком Price — цена (евро)."
   ]
  },
  {
   "cell_type": "code",
   "execution_count": 13,
   "metadata": {},
   "outputs": [
    {
     "data": {
      "image/png": "[encoded data removed]",
      "text/plain": [
       "<Figure size 1008x360 with 2 Axes>"
      ]
     },
     "metadata": {
      "needs_background": "light"
     },
     "output_type": "display_data"
    }
   ],
   "source": [
    "fig, axes = plt.subplots(1, 2, figsize=(14, 5))\n",
    "\n",
    "autos_data_raw = autos_data.copy() \n",
    "axes[0].hist(autos_data_raw['price'], bins=50, color='steelblue', edgecolor='black')\n",
    "axes[0].set_title(\"Распределение цен (до очистки)\")\n",
    "axes[0].set_xlabel(\"Цена\")\n",
    "axes[0].set_ylabel(\"Количество\")\n",
    "\n",
    "autos_data = autos_data_raw[autos_data_raw['price'] > 100]\n",
    "axes[1].hist(autos_data['price'], bins=50, color='seagreen', edgecolor='black')\n",
    "axes[1].set_title(\"Распределение цен (после удаления < 100$)\")\n",
    "axes[1].set_xlabel(\"Цена\")\n",
    "axes[1].set_ylabel(\"Количество\")\n",
    "\n",
    "plt.tight_layout()\n",
    "plt.show()"
   ]
  },
  {
   "cell_type": "markdown",
   "metadata": {},
   "source": [
    "Были удалены значения меньше 100 долларов в целевом признаке. Для анализа данных стоит оставить только самые правдоподобные данные. "
   ]
  },
  {
   "cell_type": "code",
   "execution_count": 14,
   "metadata": {},
   "outputs": [
    {
     "data": {
      "text/plain": [
       "price                     0\n",
       "vehicle_type          30815\n",
       "registration_year         0\n",
       "gearbox               14539\n",
       "power                     0\n",
       "model                 16208\n",
       "kilometer                 0\n",
       "registration_month        0\n",
       "fuel_type             26996\n",
       "brand                     0\n",
       "repaired              60097\n",
       "dtype: int64"
      ]
     },
     "execution_count": 14,
     "metadata": {},
     "output_type": "execute_result"
    }
   ],
   "source": [
    "autos_data.isna().sum()"
   ]
  },
  {
   "cell_type": "code",
   "execution_count": 15,
   "metadata": {},
   "outputs": [],
   "source": [
    "def fillna_and_unique(df, columns, fill_value=\"unknown\"):\n",
    "    result = {}\n",
    "    for col in columns:\n",
    "        df[col].fillna(fill_value, inplace=True)\n",
    "        result[col] = df[col].unique()\n",
    "    return result"
   ]
  },
  {
   "cell_type": "code",
   "execution_count": 16,
   "metadata": {},
   "outputs": [
    {
     "name": "stdout",
     "output_type": "stream",
     "text": [
      "vehicle_type: ['unknown' 'coupe' 'suv' 'small' 'sedan' 'convertible' 'bus' 'wagon'\n",
      " 'other']\n",
      "gearbox: ['manual' 'auto' 'unknown']\n",
      "model: ['golf' 'unknown' 'grand' 'fabia' '3er' '2_reihe' 'c_max' '3_reihe'\n",
      " 'passat' 'navara' 'ka' 'polo' 'twingo' 'a_klasse' 'scirocco' '5er'\n",
      " 'meriva' 'arosa' 'other' 'c4' 'civic' 'transporter' 'punto' 'e_klasse'\n",
      " 'clio' 'kadett' 'kangoo' 'one' 'fortwo' '1er' 'b_klasse' 'signum' 'astra'\n",
      " 'a8' 'jetta' 'fiesta' 'c_klasse' 'micra' 'vito' 'sprinter' '156' 'escort'\n",
      " 'forester' 'xc_reihe' 'scenic' 'a4' 'a1' 'insignia' 'combo' 'focus' 'tt'\n",
      " 'corsa' 'a6' 'jazz' 'omega' 'slk' '7er' '80' '147' '100' 'z_reihe'\n",
      " 'sportage' 'sorento' 'v40' 'ibiza' 'mustang' 'eos' 'touran' 'getz' 'a3'\n",
      " 'almera' 'megane' 'lupo' 'r19' 'zafira' 'caddy' 'mondeo' 'cordoba' 'colt'\n",
      " 'impreza' 'vectra' 'berlingo' 'tiguan' 'i_reihe' 'espace' 'sharan'\n",
      " '6_reihe' 'panda' 'up' 'seicento' 'ceed' '5_reihe' 'yeti' 'octavia' 'mii'\n",
      " 'rx_reihe' '6er' 'modus' 'fox' 'matiz' 'beetle' 'c1' 'rio' 'touareg'\n",
      " 'logan' 'spider' 'cuore' 's_max' 'a2' 'galaxy' 'c3' 'viano' 's_klasse'\n",
      " '1_reihe' 'avensis' 'roomster' 'sl' 'kaefer' 'santa' 'cooper' 'leon'\n",
      " '4_reihe' 'a5' '500' 'laguna' 'ptcruiser' 'clk' 'primera' 'x_reihe'\n",
      " 'exeo' '159' 'transit' 'juke' 'qashqai' 'carisma' 'accord' 'corolla'\n",
      " 'lanos' 'phaeton' 'verso' 'swift' 'rav' 'picanto' 'boxster' 'kalos'\n",
      " 'superb' 'stilo' 'alhambra' 'roadster' 'ypsilon' 'cayenne' 'galant'\n",
      " 'justy' '90' 'sirion' 'crossfire' 'agila' 'duster' 'cr_reihe' 'v50'\n",
      " 'mx_reihe' 'c_reihe' 'v_klasse' 'm_klasse' 'yaris' 'c5' 'aygo' 'cc'\n",
      " 'carnival' 'fusion' '911' 'bora' 'forfour' 'cl' 'tigra' '300c' 'spark'\n",
      " 'v70' 'kuga' 'x_type' 'ducato' 's_type' 'x_trail' 'toledo' 'altea'\n",
      " 'voyager' 'calibra' 'bravo' 'antara' 'tucson' 'citigo' 'jimny' 'wrangler'\n",
      " 'lybra' 'q7' 'lancer' 'captiva' 'c2' 'discovery' 'freelander' 'sandero'\n",
      " 'note' '900' 'cherokee' 'clubman' 'samara' 'defender' '601' 'cx_reihe'\n",
      " 'legacy' 'pajero' 'auris' 'niva' 's60' 'm_reihe' 'nubira' 'vivaro'\n",
      " 'g_klasse' 'lodgy' '850' 'range_rover' 'q3' 'serie_2' 'glk' 'charade'\n",
      " 'croma' 'outlander' 'doblo' 'musa' 'move' '9000' 'v60' 'aveo' '200' '145'\n",
      " 'b_max' 'range_rover_sport' 'terios' 'rangerover' 'q5'\n",
      " 'range_rover_evoque' 'materia' 'delta' 'gl' 'kalina' 'amarok'\n",
      " 'elefantino' 'i3' 'kappa' 'serie_3' 'serie_1']\n",
      "fuel_type: ['petrol' 'gasoline' 'unknown' 'lpg' 'other' 'hybrid' 'cng' 'electric']\n",
      "repaired: ['unknown' 'yes' 'no']\n"
     ]
    },
    {
     "name": "stderr",
     "output_type": "stream",
     "text": [
      "/opt/conda/lib/python3.9/site-packages/pandas/core/series.py:4463: SettingWithCopyWarning: \n",
      "A value is trying to be set on a copy of a slice from a DataFrame\n",
      "\n",
      "See the caveats in the documentation: https://pandas.pydata.org/pandas-docs/stable/user_guide/indexing.html#returning-a-view-versus-a-copy\n",
      "  return super().fillna(\n"
     ]
    }
   ],
   "source": [
    "cols = ['vehicle_type', 'gearbox', 'model', 'fuel_type', 'repaired']\n",
    "unique_values = fillna_and_unique(autos_data, cols)\n",
    "\n",
    "for col, vals in unique_values.items():\n",
    "    print(f\"{col}: {vals}\")"
   ]
  },
  {
   "cell_type": "code",
   "execution_count": 17,
   "metadata": {},
   "outputs": [
    {
     "data": {
      "text/plain": [
       "price                 0\n",
       "vehicle_type          0\n",
       "registration_year     0\n",
       "gearbox               0\n",
       "power                 0\n",
       "model                 0\n",
       "kilometer             0\n",
       "registration_month    0\n",
       "fuel_type             0\n",
       "brand                 0\n",
       "repaired              0\n",
       "dtype: int64"
      ]
     },
     "execution_count": 17,
     "metadata": {},
     "output_type": "execute_result"
    }
   ],
   "source": [
    "autos_data.isna().sum()"
   ]
  },
  {
   "cell_type": "markdown",
   "metadata": {},
   "source": [
    "Столбцы которые имели пропуски были заполнены значение \"unknown\", \n",
    "    <b>['vehicle_type', 'gearbox', 'model', 'fuel_type', 'repaired']</b>. Так как это категориальные признаки, заполнить данные медианой не представляется возможным."
   ]
  },
  {
   "cell_type": "code",
   "execution_count": 18,
   "metadata": {},
   "outputs": [
    {
     "data": {
      "text/plain": [
       "array([1993, 2011, 2004, 2001, 2008, 1995, 2014, 1998, 2005, 1910, 2016,\n",
       "       2007, 2009, 2002, 2018, 1997, 1990, 2017, 1981, 2003, 1994, 1991,\n",
       "       1984, 2006, 1999, 2012, 2010, 2000, 1992, 2013, 1996, 1985, 1989,\n",
       "       2015, 1982, 1976, 1983, 1973, 1969, 1971, 1987, 1986, 1988, 1980,\n",
       "       1970, 1965, 1945, 1925, 1974, 1979, 1955, 1978, 1972, 1968, 1977,\n",
       "       1961, 1966, 1975, 1963, 1964, 1960, 1958, 1967, 1956, 3200, 1000,\n",
       "       1941, 9999, 8888, 1500, 2200, 4100, 1962, 1929, 1957, 1940, 3000,\n",
       "       2066, 1949, 2019, 1937, 1951, 1800, 1959, 1953, 1954, 1234, 5300,\n",
       "       9000, 2900, 6000, 5900, 5911, 1400, 5000, 1950, 4000, 1948, 1952,\n",
       "       8500, 1932, 3700, 3800, 4800, 1942, 7000, 1935, 1933, 1936, 1923,\n",
       "       2290, 1930, 1001, 9450, 1944, 2500, 1943, 1938, 1934, 1928, 5555,\n",
       "       5600, 1600, 1111, 1039, 1300, 2800, 1931, 4500, 1602, 7800, 1947,\n",
       "       1927, 7100, 8200, 1946])"
      ]
     },
     "execution_count": 18,
     "metadata": {},
     "output_type": "execute_result"
    }
   ],
   "source": [
    "autos_data['registration_year'].unique()"
   ]
  },
  {
   "cell_type": "code",
   "execution_count": 19,
   "metadata": {},
   "outputs": [
    {
     "data": {
      "image/png": "[encoded data removed]",
      "text/plain": [
       "<Figure size 864x432 with 1 Axes>"
      ]
     },
     "metadata": {
      "needs_background": "light"
     },
     "output_type": "display_data"
    }
   ],
   "source": [
    "autos_year = autos_data[autos_data['registration_year'].between(1900, 2025)]\n",
    "\n",
    "plt.figure(figsize=(12,6))\n",
    "sns.histplot(autos_year['registration_year'], bins=40, kde=False)\n",
    "\n",
    "plt.title(\"Распределение по годам регистрации автомобилей\", fontsize=14)\n",
    "plt.xlabel(\"Год регистрации\", fontsize=12)\n",
    "plt.ylabel(\"Количество объявлений\", fontsize=12)\n",
    "plt.grid(True, linestyle='--', alpha=0.7)\n",
    "\n",
    "plt.show()\n"
   ]
  },
  {
   "cell_type": "markdown",
   "metadata": {},
   "source": [
    "Следует оставить записи с 1990 по 2016 год, так как вывод уникальных значений показал неправдоподобные данные, которые могут значительно снизить качество модели."
   ]
  },
  {
   "cell_type": "code",
   "execution_count": 20,
   "metadata": {},
   "outputs": [
    {
     "data": {
      "text/plain": [
       "array([1993, 2011, 2004, 2001, 2008, 1995, 2014, 1998, 2005, 2016, 2007,\n",
       "       2009, 2002, 1997, 1990, 2003, 1994, 1991, 2006, 1999, 2012, 2010,\n",
       "       2000, 1992, 2013, 1996, 2015])"
      ]
     },
     "execution_count": 20,
     "metadata": {},
     "output_type": "execute_result"
    }
   ],
   "source": [
    "autos_data = autos_data.query('1990 <= registration_year <= 2016')\n",
    "autos_data['registration_year'].unique()"
   ]
  },
  {
   "cell_type": "code",
   "execution_count": 21,
   "metadata": {},
   "outputs": [
    {
     "data": {
      "text/plain": [
       "count    292670.000000\n",
       "mean        113.259237\n",
       "std         188.255468\n",
       "min           0.000000\n",
       "25%          75.000000\n",
       "50%         105.000000\n",
       "75%         143.000000\n",
       "max       20000.000000\n",
       "Name: power, dtype: float64"
      ]
     },
     "execution_count": 21,
     "metadata": {},
     "output_type": "execute_result"
    }
   ],
   "source": [
    "autos_data.power.describe()"
   ]
  },
  {
   "cell_type": "code",
   "execution_count": 22,
   "metadata": {},
   "outputs": [
    {
     "name": "stdout",
     "output_type": "stream",
     "text": [
      "count    264274.000000\n",
      "mean        120.820206\n",
      "std          52.162331\n",
      "min          40.000000\n",
      "25%          80.000000\n",
      "50%         113.000000\n",
      "75%         150.000000\n",
      "max         400.000000\n",
      "Name: power, dtype: float64\n"
     ]
    }
   ],
   "source": [
    "autos_data = autos_data[(autos_data['power'] >= 40) & (autos_data['power'] <= 400)]\n",
    "\n",
    "print(autos_data['power'].describe())"
   ]
  },
  {
   "cell_type": "markdown",
   "metadata": {},
   "source": [
    "Столбец мощность двигателя следует удалить максимальные и минимальные значения, двигатель с 0 лс и 2000 лс выглядят неправдоподобно."
   ]
  },
  {
   "cell_type": "code",
   "execution_count": 23,
   "metadata": {},
   "outputs": [
    {
     "data": {
      "image/png": "[encoded data removed]",
      "text/plain": [
       "<Figure size 864x432 with 1 Axes>"
      ]
     },
     "metadata": {
      "needs_background": "light"
     },
     "output_type": "display_data"
    }
   ],
   "source": [
    "km_counts = autos_data['kilometer'].value_counts().sort_index()\n",
    "\n",
    "plt.figure(figsize=(12,6))\n",
    "sns.barplot(x=km_counts.index, y=km_counts.values, color=\"skyblue\")\n",
    "\n",
    "plt.title(\"Распределение автомобилей по пробегу\", fontsize=14)\n",
    "plt.xlabel(\"Пробег (км)\", fontsize=12)\n",
    "plt.ylabel(\"Количество объявлений\", fontsize=12)\n",
    "\n",
    "plt.xticks(rotation=45)\n",
    "\n",
    "plt.show()"
   ]
  },
  {
   "cell_type": "markdown",
   "metadata": {},
   "source": [
    "Максимальные и минимальные значения в пробеге автомобилей не могут являтся ошибкой, данные признак стоит оставить как есть. Пробег сильно влияет на целевойпризнак."
   ]
  },
  {
   "cell_type": "code",
   "execution_count": 24,
   "metadata": {},
   "outputs": [
    {
     "data": {
      "image/png": "[encoded data removed]",
      "text/plain": [
       "<Figure size 720x432 with 1 Axes>"
      ]
     },
     "metadata": {
      "needs_background": "light"
     },
     "output_type": "display_data"
    }
   ],
   "source": [
    "fuel_counts = autos_data['fuel_type'].value_counts()\n",
    "\n",
    "plt.figure(figsize=(10,6))\n",
    "sns.barplot(x=fuel_counts.index, y=fuel_counts.values, palette=\"Set2\")\n",
    "\n",
    "plt.title(\"Распределение автомобилей по типу топлива\", fontsize=14)\n",
    "plt.xlabel(\"Тип топлива\", fontsize=12)\n",
    "plt.ylabel(\"Количество объявлений\", fontsize=12)\n",
    "\n",
    "for i, v in enumerate(fuel_counts.values):\n",
    "    plt.text(i, v + 1000, str(v), ha='center', fontsize=10)\n",
    "\n",
    "plt.show()"
   ]
  },
  {
   "cell_type": "markdown",
   "metadata": {},
   "source": [
    "В признаке fuel_type, тип топлива не обнаружено ошибок."
   ]
  },
  {
   "cell_type": "code",
   "execution_count": 25,
   "metadata": {},
   "outputs": [
    {
     "data": {
      "text/html": [
       "<div>\n",
       "<style scoped>\n",
       "    .dataframe tbody tr th:only-of-type {\n",
       "        vertical-align: middle;\n",
       "    }\n",
       "\n",
       "    .dataframe tbody tr th {\n",
       "        vertical-align: top;\n",
       "    }\n",
       "\n",
       "    .dataframe thead th {\n",
       "        text-align: right;\n",
       "    }\n",
       "</style>\n",
       "<table border=\"1\" class=\"dataframe\">\n",
       "  <thead>\n",
       "    <tr style=\"text-align: right;\">\n",
       "      <th></th>\n",
       "      <th>price</th>\n",
       "      <th>vehicle_type</th>\n",
       "      <th>registration_year</th>\n",
       "      <th>gearbox</th>\n",
       "      <th>power</th>\n",
       "      <th>model</th>\n",
       "      <th>kilometer</th>\n",
       "      <th>registration_month</th>\n",
       "      <th>fuel_type</th>\n",
       "      <th>brand</th>\n",
       "      <th>repaired</th>\n",
       "    </tr>\n",
       "  </thead>\n",
       "  <tbody>\n",
       "    <tr>\n",
       "      <th>1</th>\n",
       "      <td>18300</td>\n",
       "      <td>coupe</td>\n",
       "      <td>2011</td>\n",
       "      <td>manual</td>\n",
       "      <td>190</td>\n",
       "      <td>unknown</td>\n",
       "      <td>125000</td>\n",
       "      <td>5</td>\n",
       "      <td>gasoline</td>\n",
       "      <td>audi</td>\n",
       "      <td>yes</td>\n",
       "    </tr>\n",
       "    <tr>\n",
       "      <th>2</th>\n",
       "      <td>9800</td>\n",
       "      <td>suv</td>\n",
       "      <td>2004</td>\n",
       "      <td>auto</td>\n",
       "      <td>163</td>\n",
       "      <td>grand</td>\n",
       "      <td>125000</td>\n",
       "      <td>8</td>\n",
       "      <td>gasoline</td>\n",
       "      <td>jeep</td>\n",
       "      <td>unknown</td>\n",
       "    </tr>\n",
       "    <tr>\n",
       "      <th>3</th>\n",
       "      <td>1500</td>\n",
       "      <td>small</td>\n",
       "      <td>2001</td>\n",
       "      <td>manual</td>\n",
       "      <td>75</td>\n",
       "      <td>golf</td>\n",
       "      <td>150000</td>\n",
       "      <td>6</td>\n",
       "      <td>petrol</td>\n",
       "      <td>volkswagen</td>\n",
       "      <td>no</td>\n",
       "    </tr>\n",
       "    <tr>\n",
       "      <th>4</th>\n",
       "      <td>3600</td>\n",
       "      <td>small</td>\n",
       "      <td>2008</td>\n",
       "      <td>manual</td>\n",
       "      <td>69</td>\n",
       "      <td>fabia</td>\n",
       "      <td>90000</td>\n",
       "      <td>7</td>\n",
       "      <td>gasoline</td>\n",
       "      <td>skoda</td>\n",
       "      <td>no</td>\n",
       "    </tr>\n",
       "    <tr>\n",
       "      <th>5</th>\n",
       "      <td>650</td>\n",
       "      <td>sedan</td>\n",
       "      <td>1995</td>\n",
       "      <td>manual</td>\n",
       "      <td>102</td>\n",
       "      <td>3er</td>\n",
       "      <td>150000</td>\n",
       "      <td>10</td>\n",
       "      <td>petrol</td>\n",
       "      <td>bmw</td>\n",
       "      <td>yes</td>\n",
       "    </tr>\n",
       "  </tbody>\n",
       "</table>\n",
       "</div>"
      ],
      "text/plain": [
       "   price vehicle_type  registration_year gearbox  power    model  kilometer  \\\n",
       "1  18300        coupe               2011  manual    190  unknown     125000   \n",
       "2   9800          suv               2004    auto    163    grand     125000   \n",
       "3   1500        small               2001  manual     75     golf     150000   \n",
       "4   3600        small               2008  manual     69    fabia      90000   \n",
       "5    650        sedan               1995  manual    102      3er     150000   \n",
       "\n",
       "   registration_month fuel_type       brand repaired  \n",
       "1                   5  gasoline        audi      yes  \n",
       "2                   8  gasoline        jeep  unknown  \n",
       "3                   6    petrol  volkswagen       no  \n",
       "4                   7  gasoline       skoda       no  \n",
       "5                  10    petrol         bmw      yes  "
      ]
     },
     "execution_count": 25,
     "metadata": {},
     "output_type": "execute_result"
    }
   ],
   "source": [
    "autos_data.head()"
   ]
  },
  {
   "cell_type": "markdown",
   "metadata": {},
   "source": [
    "<b>Вывод по предобработке данных</b>\n",
    "- Была проведена очистка данных от дубликатов и пропусков.\n",
    "- Удалены лишние значения\n",
    "- Данные были очищены от неактуальной информации и выбросов\n",
    "- Название столбцов переведенов нижний регистр."
   ]
  },
  {
   "cell_type": "markdown",
   "metadata": {},
   "source": [
    "## Обучение моделей"
   ]
  },
  {
   "cell_type": "code",
   "execution_count": 26,
   "metadata": {},
   "outputs": [],
   "source": [
    "X = autos_data.drop(columns=['price'])\n",
    "y = autos_data['price']\n",
    "\n",
    "X_train, X_test, y_train, y_test = train_test_split(X, y, test_size=0.2, random_state=42)\n",
    "\n",
    "cat_cols = ['vehicle_type', 'gearbox', 'model', 'fuel_type', 'brand', 'repaired']\n",
    "num_cols = ['registration_year', 'power', 'kilometer', 'registration_month']\n",
    "\n",
    "X_train = pd.get_dummies(X_train, columns=cat_cols, drop_first=True)\n",
    "X_test  = pd.get_dummies(X_test, columns=cat_cols, drop_first=True)\n",
    "\n",
    "X_train, X_test = X_train.align(X_test, join='left', axis=1, fill_value=0)\n",
    "\n",
    "scaler = StandardScaler()\n",
    "X_train[num_cols] = scaler.fit_transform(X_train[num_cols])\n",
    "X_test[num_cols]  = scaler.transform(X_test[num_cols])\n",
    "\n",
    "def rmse(y_true, y_pred):\n",
    "    return np.sqrt(mean_squared_error(y_true, y_pred))"
   ]
  },
  {
   "cell_type": "code",
   "execution_count": 27,
   "metadata": {},
   "outputs": [],
   "source": [
    "results = {}\n",
    "\n",
    "param_grid = {\"fit_intercept\": [True, False]}\n",
    "grid = GridSearchCV(\n",
    "    LinearRegression(),\n",
    "    param_grid,\n",
    "    scoring='neg_root_mean_squared_error',\n",
    "    cv=5\n",
    ")\n",
    "grid.fit(X_train, y_train)\n",
    "\n",
    "best_lr = grid.best_estimator_\n",
    "best_rmse = -grid.best_score_\n",
    "\n",
    "start_fit = time.time()\n",
    "best_lr.fit(X_train, y_train)\n",
    "end_fit = time.time()\n",
    "\n",
    "start_pred = time.time()\n",
    "_ = best_lr.predict(X_train)\n",
    "end_pred = time.time()\n",
    "\n",
    "results[\"LinearRegression\"] = {\n",
    "    \"CV_RMSE\": best_rmse,\n",
    "    \"Train_time\": round(end_fit - start_fit, 4),\n",
    "    \"Pred_time\": round(end_pred - start_pred, 6),\n",
    "    \"model\": best_lr\n",
    "}"
   ]
  },
  {
   "cell_type": "code",
   "execution_count": 28,
   "metadata": {},
   "outputs": [],
   "source": [
    "hgb = HistGradientBoostingRegressor(\n",
    "    max_depth=15,\n",
    "    learning_rate=0.1,\n",
    "    random_state=42\n",
    ")\n",
    "\n",
    "scores = cross_val_score(\n",
    "    hgb, X_train, y_train,\n",
    "    scoring='neg_root_mean_squared_error',\n",
    "    cv=5, n_jobs=-1\n",
    ")\n",
    "\n",
    "start_fit = time.time()\n",
    "hgb.fit(X_train, y_train)\n",
    "end_fit = time.time()\n",
    "\n",
    "start_pred = time.time()\n",
    "_ = hgb.predict(X_train)\n",
    "end_pred = time.time()\n",
    "\n",
    "results[\"HistGradientBoosting\"] = {\n",
    "    \"CV_RMSE\": -scores.mean(),\n",
    "    \"Train_time\": round(end_fit - start_fit, 4),\n",
    "    \"Pred_time\": round(end_pred - start_pred, 6),\n",
    "    \"model\": hgb\n",
    "}"
   ]
  },
  {
   "cell_type": "code",
   "execution_count": 29,
   "metadata": {},
   "outputs": [],
   "source": [
    "lgbm = LGBMRegressor(\n",
    "    n_estimators=500,\n",
    "    learning_rate=0.05,\n",
    "    max_depth=-1,\n",
    "    random_state=42,\n",
    "    n_jobs=-1\n",
    ")\n",
    "\n",
    "scores = cross_val_score(\n",
    "    lgbm, X_train, y_train,\n",
    "    scoring='neg_root_mean_squared_error',\n",
    "    cv=5, n_jobs=-1\n",
    ")\n",
    "\n",
    "start_fit = time.time()\n",
    "lgbm.fit(X_train, y_train)\n",
    "end_fit = time.time()\n",
    "\n",
    "start_pred = time.time()\n",
    "_ = lgbm.predict(X_train)\n",
    "end_pred = time.time()\n",
    "\n",
    "results[\"LightGBM\"] = {\n",
    "    \"CV_RMSE\": -scores.mean(),\n",
    "    \"Train_time\": round(end_fit - start_fit, 4),\n",
    "    \"Pred_time\": round(end_pred - start_pred, 6),\n",
    "    \"model\": lgbm\n",
    "}"
   ]
  },
  {
   "cell_type": "code",
   "execution_count": 30,
   "metadata": {},
   "outputs": [
    {
     "name": "stdout",
     "output_type": "stream",
     "text": [
      "\n",
      " Результаты промежуточной оценки (CV):\n",
      "LinearRegression: RMSE=2277.40, Train=18.8001 сек, Pred=0.397809 сек\n",
      "HistGradientBoosting: RMSE=1566.92, Train=51.3684 сек, Pred=2.966975 сек\n",
      "LightGBM: RMSE=1511.04, Train=21.2117 сек, Pred=9.819398 сек\n",
      "\n",
      " Лучшая модель: LightGBM\n",
      "Финальный тест RMSE: 1518.21\n"
     ]
    }
   ],
   "source": [
    "best_model_name = min(results, key=lambda x: results[x][\"CV_RMSE\"])\n",
    "best_model = results[best_model_name][\"model\"]\n",
    "\n",
    "print(\"\\n Результаты промежуточной оценки (CV):\")\n",
    "for name, res in results.items():\n",
    "    print(f\"{name}: RMSE={res['CV_RMSE']:.2f}, \"\n",
    "          f\"Train={res['Train_time']} сек, \"\n",
    "          f\"Pred={res['Pred_time']} сек\")\n",
    "\n",
    "\n",
    "y_pred = best_model.predict(X_test)\n",
    "final_rmse = np.sqrt(((y_test - y_pred) ** 2).mean())\n",
    "\n",
    "print(f\"\\n Лучшая модель: {best_model_name}\")\n",
    "print(\"Финальный тест RMSE:\", round(final_rmse, 2))\n"
   ]
  },
  {
   "cell_type": "markdown",
   "metadata": {},
   "source": [
    "## Анализ моделей"
   ]
  },
  {
   "cell_type": "markdown",
   "metadata": {},
   "source": [
    "- Наиболее сбалансированной себя показала модель LGBMRegressor, почти не уступая во времени обучения LinearRegression она в отличии от нее показала RMSE 1550 баллов против 2300 у LinearRegression.\n",
    "- ExtraTreesRegressor - тоже показала себя отлично, но обучение данной модели заняло больше времени, если клиенту важна скорость и точность, его выбор это LGBMRegressor."
   ]
  }
 ],
 "metadata": {
  "ExecuteTimeLog": [
   {
    "duration": 52,
    "start_time": "2025-09-30T07:34:00.883Z"
   },
   {
    "duration": 1761,
    "start_time": "2025-09-30T07:34:04.360Z"
   },
   {
    "duration": 995,
    "start_time": "2025-09-30T07:34:06.124Z"
   },
   {
    "duration": 125,
    "start_time": "2025-09-30T07:36:04.323Z"
   },
   {
    "duration": 970,
    "start_time": "2025-09-30T07:36:15.119Z"
   },
   {
    "duration": 18,
    "start_time": "2025-09-30T07:36:16.091Z"
   },
   {
    "duration": 44,
    "start_time": "2025-09-30T07:38:19.833Z"
   },
   {
    "duration": 175,
    "start_time": "2025-09-30T07:43:18.942Z"
   },
   {
    "duration": 7,
    "start_time": "2025-09-30T07:52:27.242Z"
   },
   {
    "duration": 4,
    "start_time": "2025-09-30T07:53:42.694Z"
   },
   {
    "duration": 6,
    "start_time": "2025-09-30T07:53:52.717Z"
   },
   {
    "duration": 6,
    "start_time": "2025-09-30T07:54:04.783Z"
   },
   {
    "duration": 7,
    "start_time": "2025-09-30T07:54:08.421Z"
   },
   {
    "duration": 1564,
    "start_time": "2025-09-30T07:54:13.669Z"
   },
   {
    "duration": 1072,
    "start_time": "2025-09-30T07:54:15.235Z"
   },
   {
    "duration": 87,
    "start_time": "2025-09-30T07:54:16.309Z"
   },
   {
    "duration": 187,
    "start_time": "2025-09-30T07:54:16.398Z"
   },
   {
    "duration": 7,
    "start_time": "2025-09-30T07:54:16.587Z"
   },
   {
    "duration": 169,
    "start_time": "2025-09-30T07:56:26.434Z"
   },
   {
    "duration": 612,
    "start_time": "2025-09-30T08:07:49.594Z"
   },
   {
    "duration": 1288,
    "start_time": "2025-09-30T08:08:16.312Z"
   },
   {
    "duration": 175,
    "start_time": "2025-09-30T08:16:24.378Z"
   },
   {
    "duration": 43,
    "start_time": "2025-09-30T08:16:33.687Z"
   },
   {
    "duration": 1238,
    "start_time": "2025-09-30T08:16:36.350Z"
   },
   {
    "duration": 50,
    "start_time": "2025-09-30T08:16:39.795Z"
   },
   {
    "duration": 49,
    "start_time": "2025-09-30T08:17:01.154Z"
   },
   {
    "duration": 17,
    "start_time": "2025-09-30T08:17:22.250Z"
   },
   {
    "duration": 17,
    "start_time": "2025-09-30T08:18:10.452Z"
   },
   {
    "duration": 10,
    "start_time": "2025-09-30T08:18:39.312Z"
   },
   {
    "duration": 11,
    "start_time": "2025-09-30T08:21:15.436Z"
   },
   {
    "duration": 15,
    "start_time": "2025-09-30T08:21:25.351Z"
   },
   {
    "duration": 10,
    "start_time": "2025-09-30T08:21:40.482Z"
   },
   {
    "duration": 1791,
    "start_time": "2025-09-30T08:21:46.790Z"
   },
   {
    "duration": 1101,
    "start_time": "2025-09-30T08:21:48.586Z"
   },
   {
    "duration": 98,
    "start_time": "2025-09-30T08:21:49.689Z"
   },
   {
    "duration": 197,
    "start_time": "2025-09-30T08:21:49.789Z"
   },
   {
    "duration": 7,
    "start_time": "2025-09-30T08:21:49.988Z"
   },
   {
    "duration": 627,
    "start_time": "2025-09-30T08:21:49.996Z"
   },
   {
    "duration": 1209,
    "start_time": "2025-09-30T08:21:50.625Z"
   },
   {
    "duration": 61,
    "start_time": "2025-09-30T08:21:51.835Z"
   },
   {
    "duration": 156,
    "start_time": "2025-09-30T08:22:03.122Z"
   },
   {
    "duration": 1699,
    "start_time": "2025-09-30T08:22:07.685Z"
   },
   {
    "duration": 1078,
    "start_time": "2025-09-30T08:22:09.387Z"
   },
   {
    "duration": 85,
    "start_time": "2025-09-30T08:22:10.467Z"
   },
   {
    "duration": 192,
    "start_time": "2025-09-30T08:22:10.554Z"
   },
   {
    "duration": 24,
    "start_time": "2025-09-30T08:22:10.749Z"
   },
   {
    "duration": 609,
    "start_time": "2025-09-30T08:22:10.781Z"
   },
   {
    "duration": 1297,
    "start_time": "2025-09-30T08:22:11.392Z"
   },
   {
    "duration": 184,
    "start_time": "2025-09-30T08:22:12.690Z"
   },
   {
    "duration": 136,
    "start_time": "2025-09-30T08:24:27.277Z"
   },
   {
    "duration": 16,
    "start_time": "2025-09-30T08:24:35.923Z"
   },
   {
    "duration": 575,
    "start_time": "2025-09-30T08:25:21.936Z"
   },
   {
    "duration": 21,
    "start_time": "2025-09-30T08:25:49.554Z"
   },
   {
    "duration": 19,
    "start_time": "2025-09-30T08:27:39.251Z"
   },
   {
    "duration": 13,
    "start_time": "2025-09-30T08:28:00.538Z"
   },
   {
    "duration": 3884,
    "start_time": "2025-09-30T08:28:17.747Z"
   },
   {
    "duration": 2987,
    "start_time": "2025-09-30T08:28:35.444Z"
   },
   {
    "duration": 1700,
    "start_time": "2025-09-30T08:28:38.433Z"
   },
   {
    "duration": 1089,
    "start_time": "2025-09-30T08:28:40.135Z"
   },
   {
    "duration": 98,
    "start_time": "2025-09-30T08:28:41.226Z"
   },
   {
    "duration": 185,
    "start_time": "2025-09-30T08:28:41.326Z"
   },
   {
    "duration": 7,
    "start_time": "2025-09-30T08:28:41.513Z"
   },
   {
    "duration": 600,
    "start_time": "2025-09-30T08:28:41.521Z"
   },
   {
    "duration": 1215,
    "start_time": "2025-09-30T08:28:42.122Z"
   },
   {
    "duration": 60,
    "start_time": "2025-09-30T08:28:58.863Z"
   },
   {
    "duration": 3741,
    "start_time": "2025-09-30T08:29:04.581Z"
   },
   {
    "duration": 1964,
    "start_time": "2025-09-30T08:29:08.325Z"
   },
   {
    "duration": 1074,
    "start_time": "2025-09-30T08:29:10.291Z"
   },
   {
    "duration": 85,
    "start_time": "2025-09-30T08:29:11.378Z"
   },
   {
    "duration": 177,
    "start_time": "2025-09-30T08:29:11.470Z"
   },
   {
    "duration": 18,
    "start_time": "2025-09-30T08:29:11.657Z"
   },
   {
    "duration": 617,
    "start_time": "2025-09-30T08:29:11.682Z"
   },
   {
    "duration": 1219,
    "start_time": "2025-09-30T08:29:12.302Z"
   },
   {
    "duration": 53,
    "start_time": "2025-09-30T08:29:39.388Z"
   },
   {
    "duration": 2939,
    "start_time": "2025-09-30T08:30:17.277Z"
   },
   {
    "duration": 1733,
    "start_time": "2025-09-30T08:30:20.218Z"
   },
   {
    "duration": 1054,
    "start_time": "2025-09-30T08:30:21.953Z"
   },
   {
    "duration": 92,
    "start_time": "2025-09-30T08:30:23.009Z"
   },
   {
    "duration": 193,
    "start_time": "2025-09-30T08:30:23.103Z"
   },
   {
    "duration": 7,
    "start_time": "2025-09-30T08:30:23.299Z"
   },
   {
    "duration": 600,
    "start_time": "2025-09-30T08:30:23.308Z"
   },
   {
    "duration": 1198,
    "start_time": "2025-09-30T08:30:23.910Z"
   },
   {
    "duration": 65,
    "start_time": "2025-09-30T08:30:44.522Z"
   },
   {
    "duration": 8,
    "start_time": "2025-09-30T08:30:46.210Z"
   },
   {
    "duration": 3018,
    "start_time": "2025-09-30T08:30:51.346Z"
   },
   {
    "duration": 1779,
    "start_time": "2025-09-30T08:30:54.371Z"
   },
   {
    "duration": 1062,
    "start_time": "2025-09-30T08:30:56.151Z"
   },
   {
    "duration": 95,
    "start_time": "2025-09-30T08:30:57.215Z"
   },
   {
    "duration": 185,
    "start_time": "2025-09-30T08:30:57.313Z"
   },
   {
    "duration": 18,
    "start_time": "2025-09-30T08:30:57.499Z"
   },
   {
    "duration": 571,
    "start_time": "2025-09-30T08:30:57.519Z"
   },
   {
    "duration": 1155,
    "start_time": "2025-09-30T08:30:58.091Z"
   },
   {
    "duration": 56,
    "start_time": "2025-09-30T08:33:51.610Z"
   },
   {
    "duration": 5024,
    "start_time": "2025-09-30T08:33:58.559Z"
   },
   {
    "duration": 2919,
    "start_time": "2025-09-30T08:34:03.586Z"
   },
   {
    "duration": 1062,
    "start_time": "2025-09-30T08:34:06.507Z"
   },
   {
    "duration": 98,
    "start_time": "2025-09-30T08:34:07.571Z"
   },
   {
    "duration": 184,
    "start_time": "2025-09-30T08:34:07.681Z"
   },
   {
    "duration": 12,
    "start_time": "2025-09-30T08:34:07.871Z"
   },
   {
    "duration": 601,
    "start_time": "2025-09-30T08:34:07.885Z"
   },
   {
    "duration": 1194,
    "start_time": "2025-09-30T08:34:08.488Z"
   },
   {
    "duration": 1083,
    "start_time": "2025-09-30T08:34:09.685Z"
   },
   {
    "duration": 0,
    "start_time": "2025-09-30T08:34:10.770Z"
   },
   {
    "duration": 1813,
    "start_time": "2025-09-30T08:34:46.701Z"
   },
   {
    "duration": 1715,
    "start_time": "2025-09-30T08:35:04.022Z"
   },
   {
    "duration": 178,
    "start_time": "2025-09-30T08:35:56.590Z"
   },
   {
    "duration": 1658,
    "start_time": "2025-09-30T12:05:01.392Z"
   },
   {
    "duration": 18,
    "start_time": "2025-09-30T12:05:03.206Z"
   },
   {
    "duration": 2830,
    "start_time": "2025-09-30T12:05:16.205Z"
   },
   {
    "duration": 1621,
    "start_time": "2025-09-30T12:05:19.037Z"
   },
   {
    "duration": 998,
    "start_time": "2025-09-30T12:05:20.660Z"
   },
   {
    "duration": 82,
    "start_time": "2025-09-30T12:05:21.659Z"
   },
   {
    "duration": 179,
    "start_time": "2025-09-30T12:05:21.743Z"
   },
   {
    "duration": 13,
    "start_time": "2025-09-30T12:05:21.924Z"
   },
   {
    "duration": 582,
    "start_time": "2025-09-30T12:05:21.939Z"
   },
   {
    "duration": 1097,
    "start_time": "2025-09-30T12:05:22.523Z"
   },
   {
    "duration": 1612,
    "start_time": "2025-09-30T12:05:23.622Z"
   },
   {
    "duration": 157,
    "start_time": "2025-09-30T12:05:25.235Z"
   },
   {
    "duration": 1726,
    "start_time": "2025-09-30T12:09:12.835Z"
   },
   {
    "duration": 2663,
    "start_time": "2025-09-30T12:09:22.833Z"
   },
   {
    "duration": 1540,
    "start_time": "2025-09-30T12:09:25.499Z"
   },
   {
    "duration": 937,
    "start_time": "2025-09-30T12:09:27.041Z"
   },
   {
    "duration": 92,
    "start_time": "2025-09-30T12:09:27.980Z"
   },
   {
    "duration": 173,
    "start_time": "2025-09-30T12:09:28.074Z"
   },
   {
    "duration": 17,
    "start_time": "2025-09-30T12:09:28.249Z"
   },
   {
    "duration": 539,
    "start_time": "2025-09-30T12:09:28.268Z"
   },
   {
    "duration": 1071,
    "start_time": "2025-09-30T12:09:28.808Z"
   },
   {
    "duration": 2190,
    "start_time": "2025-09-30T12:09:29.881Z"
   },
   {
    "duration": 184,
    "start_time": "2025-09-30T12:09:32.073Z"
   },
   {
    "duration": 2138,
    "start_time": "2025-09-30T12:11:13.345Z"
   },
   {
    "duration": 2758,
    "start_time": "2025-09-30T12:11:22.143Z"
   },
   {
    "duration": 1504,
    "start_time": "2025-09-30T12:11:24.904Z"
   },
   {
    "duration": 965,
    "start_time": "2025-09-30T12:11:26.410Z"
   },
   {
    "duration": 82,
    "start_time": "2025-09-30T12:11:27.377Z"
   },
   {
    "duration": 162,
    "start_time": "2025-09-30T12:11:27.460Z"
   },
   {
    "duration": 18,
    "start_time": "2025-09-30T12:11:27.624Z"
   },
   {
    "duration": 522,
    "start_time": "2025-09-30T12:11:27.644Z"
   },
   {
    "duration": 1032,
    "start_time": "2025-09-30T12:11:28.168Z"
   },
   {
    "duration": 2113,
    "start_time": "2025-09-30T12:11:29.201Z"
   },
   {
    "duration": 151,
    "start_time": "2025-09-30T12:11:31.317Z"
   },
   {
    "duration": 1606,
    "start_time": "2025-09-30T12:12:40.284Z"
   },
   {
    "duration": 2717,
    "start_time": "2025-09-30T12:12:45.109Z"
   },
   {
    "duration": 1840,
    "start_time": "2025-09-30T12:12:47.829Z"
   },
   {
    "duration": 939,
    "start_time": "2025-09-30T12:12:49.671Z"
   },
   {
    "duration": 89,
    "start_time": "2025-09-30T12:12:50.612Z"
   },
   {
    "duration": 162,
    "start_time": "2025-09-30T12:12:50.703Z"
   },
   {
    "duration": 7,
    "start_time": "2025-09-30T12:12:50.866Z"
   },
   {
    "duration": 524,
    "start_time": "2025-09-30T12:12:50.874Z"
   },
   {
    "duration": 1063,
    "start_time": "2025-09-30T12:12:51.400Z"
   },
   {
    "duration": 1567,
    "start_time": "2025-09-30T12:12:52.465Z"
   },
   {
    "duration": 146,
    "start_time": "2025-09-30T12:12:54.034Z"
   },
   {
    "duration": 2812,
    "start_time": "2025-09-30T12:13:24.909Z"
   },
   {
    "duration": 1588,
    "start_time": "2025-09-30T12:13:27.724Z"
   },
   {
    "duration": 954,
    "start_time": "2025-09-30T12:13:29.314Z"
   },
   {
    "duration": 98,
    "start_time": "2025-09-30T12:13:30.270Z"
   },
   {
    "duration": 162,
    "start_time": "2025-09-30T12:13:30.371Z"
   },
   {
    "duration": 22,
    "start_time": "2025-09-30T12:13:30.536Z"
   },
   {
    "duration": 538,
    "start_time": "2025-09-30T12:13:30.560Z"
   },
   {
    "duration": 1085,
    "start_time": "2025-09-30T12:13:31.100Z"
   },
   {
    "duration": 2198,
    "start_time": "2025-09-30T12:13:32.188Z"
   },
   {
    "duration": 153,
    "start_time": "2025-09-30T12:13:34.387Z"
   },
   {
    "duration": 2754,
    "start_time": "2025-09-30T12:13:43.335Z"
   },
   {
    "duration": 1591,
    "start_time": "2025-09-30T12:13:46.092Z"
   },
   {
    "duration": 986,
    "start_time": "2025-09-30T12:13:47.684Z"
   },
   {
    "duration": 87,
    "start_time": "2025-09-30T12:13:48.671Z"
   },
   {
    "duration": 166,
    "start_time": "2025-09-30T12:13:48.761Z"
   },
   {
    "duration": 8,
    "start_time": "2025-09-30T12:13:48.929Z"
   },
   {
    "duration": 547,
    "start_time": "2025-09-30T12:13:48.938Z"
   },
   {
    "duration": 1059,
    "start_time": "2025-09-30T12:13:49.487Z"
   },
   {
    "duration": 2131,
    "start_time": "2025-09-30T12:13:50.548Z"
   },
   {
    "duration": 148,
    "start_time": "2025-09-30T12:13:52.681Z"
   },
   {
    "duration": 1624,
    "start_time": "2025-09-30T12:14:53.566Z"
   },
   {
    "duration": 2784,
    "start_time": "2025-09-30T12:14:59.800Z"
   },
   {
    "duration": 1573,
    "start_time": "2025-09-30T12:15:02.587Z"
   },
   {
    "duration": 958,
    "start_time": "2025-09-30T12:15:04.162Z"
   },
   {
    "duration": 91,
    "start_time": "2025-09-30T12:15:05.122Z"
   },
   {
    "duration": 175,
    "start_time": "2025-09-30T12:15:05.215Z"
   },
   {
    "duration": 7,
    "start_time": "2025-09-30T12:15:05.392Z"
   },
   {
    "duration": 583,
    "start_time": "2025-09-30T12:15:05.401Z"
   },
   {
    "duration": 1084,
    "start_time": "2025-09-30T12:15:05.986Z"
   },
   {
    "duration": 1621,
    "start_time": "2025-09-30T12:15:07.071Z"
   },
   {
    "duration": 148,
    "start_time": "2025-09-30T12:15:08.693Z"
   },
   {
    "duration": 2733,
    "start_time": "2025-09-30T12:16:26.647Z"
   },
   {
    "duration": 1619,
    "start_time": "2025-09-30T12:16:29.383Z"
   },
   {
    "duration": 983,
    "start_time": "2025-09-30T12:16:31.004Z"
   },
   {
    "duration": 92,
    "start_time": "2025-09-30T12:16:31.989Z"
   },
   {
    "duration": 189,
    "start_time": "2025-09-30T12:16:32.083Z"
   },
   {
    "duration": 6,
    "start_time": "2025-09-30T12:16:32.274Z"
   },
   {
    "duration": 543,
    "start_time": "2025-09-30T12:16:32.282Z"
   },
   {
    "duration": 1081,
    "start_time": "2025-09-30T12:16:32.827Z"
   },
   {
    "duration": 976,
    "start_time": "2025-09-30T12:16:33.910Z"
   },
   {
    "duration": 175,
    "start_time": "2025-09-30T12:16:34.888Z"
   },
   {
    "duration": 134,
    "start_time": "2025-09-30T12:17:16.251Z"
   },
   {
    "duration": 53,
    "start_time": "2025-09-30T12:17:33.943Z"
   },
   {
    "duration": 2710,
    "start_time": "2025-09-30T12:17:38.064Z"
   },
   {
    "duration": 1562,
    "start_time": "2025-09-30T12:17:40.777Z"
   },
   {
    "duration": 979,
    "start_time": "2025-09-30T12:17:42.341Z"
   },
   {
    "duration": 84,
    "start_time": "2025-09-30T12:17:43.322Z"
   },
   {
    "duration": 169,
    "start_time": "2025-09-30T12:17:43.408Z"
   },
   {
    "duration": 8,
    "start_time": "2025-09-30T12:17:43.579Z"
   },
   {
    "duration": 568,
    "start_time": "2025-09-30T12:17:43.589Z"
   },
   {
    "duration": 1141,
    "start_time": "2025-09-30T12:17:44.159Z"
   },
   {
    "duration": 1087,
    "start_time": "2025-09-30T12:17:45.302Z"
   },
   {
    "duration": 188,
    "start_time": "2025-09-30T12:17:46.391Z"
   },
   {
    "duration": 2675,
    "start_time": "2025-09-30T12:28:45.654Z"
   },
   {
    "duration": 1872,
    "start_time": "2025-09-30T12:28:48.332Z"
   },
   {
    "duration": 977,
    "start_time": "2025-09-30T12:28:50.206Z"
   },
   {
    "duration": 88,
    "start_time": "2025-09-30T12:28:51.184Z"
   },
   {
    "duration": 162,
    "start_time": "2025-09-30T12:28:51.275Z"
   },
   {
    "duration": 19,
    "start_time": "2025-09-30T12:28:51.439Z"
   },
   {
    "duration": 544,
    "start_time": "2025-09-30T12:28:51.460Z"
   },
   {
    "duration": 1137,
    "start_time": "2025-09-30T12:28:52.006Z"
   },
   {
    "duration": 2252,
    "start_time": "2025-09-30T12:28:53.145Z"
   },
   {
    "duration": 184,
    "start_time": "2025-09-30T12:28:55.399Z"
   },
   {
    "duration": 1772,
    "start_time": "2025-09-30T12:30:50.356Z"
   },
   {
    "duration": 2695,
    "start_time": "2025-09-30T12:30:56.075Z"
   },
   {
    "duration": 1563,
    "start_time": "2025-09-30T12:30:58.773Z"
   },
   {
    "duration": 992,
    "start_time": "2025-09-30T12:31:00.337Z"
   },
   {
    "duration": 89,
    "start_time": "2025-09-30T12:31:01.331Z"
   },
   {
    "duration": 163,
    "start_time": "2025-09-30T12:31:01.422Z"
   },
   {
    "duration": 7,
    "start_time": "2025-09-30T12:31:01.587Z"
   },
   {
    "duration": 568,
    "start_time": "2025-09-30T12:31:01.596Z"
   },
   {
    "duration": 1111,
    "start_time": "2025-09-30T12:31:02.167Z"
   },
   {
    "duration": 974,
    "start_time": "2025-09-30T12:31:03.280Z"
   },
   {
    "duration": 0,
    "start_time": "2025-09-30T12:31:04.257Z"
   },
   {
    "duration": 2687,
    "start_time": "2025-09-30T12:31:25.479Z"
   },
   {
    "duration": 1583,
    "start_time": "2025-09-30T12:31:28.168Z"
   },
   {
    "duration": 965,
    "start_time": "2025-09-30T12:31:29.753Z"
   },
   {
    "duration": 89,
    "start_time": "2025-09-30T12:31:30.719Z"
   },
   {
    "duration": 177,
    "start_time": "2025-09-30T12:31:30.810Z"
   },
   {
    "duration": 6,
    "start_time": "2025-09-30T12:31:30.989Z"
   },
   {
    "duration": 582,
    "start_time": "2025-09-30T12:31:30.997Z"
   },
   {
    "duration": 1148,
    "start_time": "2025-09-30T12:31:31.581Z"
   },
   {
    "duration": 1014,
    "start_time": "2025-09-30T12:31:32.731Z"
   },
   {
    "duration": 0,
    "start_time": "2025-09-30T12:31:33.747Z"
   },
   {
    "duration": 2721,
    "start_time": "2025-09-30T12:31:57.407Z"
   },
   {
    "duration": 1616,
    "start_time": "2025-09-30T12:32:00.131Z"
   },
   {
    "duration": 1009,
    "start_time": "2025-09-30T12:32:01.749Z"
   },
   {
    "duration": 80,
    "start_time": "2025-09-30T12:32:02.760Z"
   },
   {
    "duration": 176,
    "start_time": "2025-09-30T12:32:02.842Z"
   },
   {
    "duration": 7,
    "start_time": "2025-09-30T12:32:03.020Z"
   },
   {
    "duration": 569,
    "start_time": "2025-09-30T12:32:03.028Z"
   },
   {
    "duration": 1114,
    "start_time": "2025-09-30T12:32:03.599Z"
   },
   {
    "duration": 2201,
    "start_time": "2025-09-30T12:32:04.714Z"
   },
   {
    "duration": 177,
    "start_time": "2025-09-30T12:32:06.917Z"
   },
   {
    "duration": 1666,
    "start_time": "2025-09-30T12:32:45.369Z"
   },
   {
    "duration": 2666,
    "start_time": "2025-09-30T12:32:54.241Z"
   },
   {
    "duration": 1534,
    "start_time": "2025-09-30T12:32:56.910Z"
   },
   {
    "duration": 962,
    "start_time": "2025-09-30T12:32:58.446Z"
   },
   {
    "duration": 87,
    "start_time": "2025-09-30T12:32:59.410Z"
   },
   {
    "duration": 166,
    "start_time": "2025-09-30T12:32:59.499Z"
   },
   {
    "duration": 7,
    "start_time": "2025-09-30T12:32:59.666Z"
   },
   {
    "duration": 557,
    "start_time": "2025-09-30T12:32:59.675Z"
   },
   {
    "duration": 1124,
    "start_time": "2025-09-30T12:33:00.234Z"
   },
   {
    "duration": 2220,
    "start_time": "2025-09-30T12:33:01.360Z"
   },
   {
    "duration": 175,
    "start_time": "2025-09-30T12:33:03.582Z"
   },
   {
    "duration": 3054,
    "start_time": "2025-09-30T12:34:13.105Z"
   },
   {
    "duration": 1601,
    "start_time": "2025-09-30T12:34:16.162Z"
   },
   {
    "duration": 945,
    "start_time": "2025-09-30T12:34:17.765Z"
   },
   {
    "duration": 87,
    "start_time": "2025-09-30T12:34:18.712Z"
   },
   {
    "duration": 170,
    "start_time": "2025-09-30T12:34:18.802Z"
   },
   {
    "duration": 7,
    "start_time": "2025-09-30T12:34:18.974Z"
   },
   {
    "duration": 559,
    "start_time": "2025-09-30T12:34:18.983Z"
   },
   {
    "duration": 1103,
    "start_time": "2025-09-30T12:34:19.544Z"
   },
   {
    "duration": 2194,
    "start_time": "2025-09-30T12:34:20.649Z"
   },
   {
    "duration": 170,
    "start_time": "2025-09-30T12:34:22.845Z"
   },
   {
    "duration": 1713,
    "start_time": "2025-09-30T12:34:59.038Z"
   },
   {
    "duration": 2714,
    "start_time": "2025-09-30T12:35:05.631Z"
   },
   {
    "duration": 1582,
    "start_time": "2025-09-30T12:35:08.348Z"
   },
   {
    "duration": 947,
    "start_time": "2025-09-30T12:35:09.931Z"
   },
   {
    "duration": 83,
    "start_time": "2025-09-30T12:35:10.880Z"
   },
   {
    "duration": 161,
    "start_time": "2025-09-30T12:35:10.965Z"
   },
   {
    "duration": 7,
    "start_time": "2025-09-30T12:35:11.128Z"
   },
   {
    "duration": 527,
    "start_time": "2025-09-30T12:35:11.157Z"
   },
   {
    "duration": 1089,
    "start_time": "2025-09-30T12:35:11.686Z"
   },
   {
    "duration": 2113,
    "start_time": "2025-09-30T12:35:12.777Z"
   },
   {
    "duration": 173,
    "start_time": "2025-09-30T12:35:14.892Z"
   },
   {
    "duration": 115,
    "start_time": "2025-09-30T12:39:01.908Z"
   },
   {
    "duration": 48,
    "start_time": "2025-09-30T12:41:36.517Z"
   },
   {
    "duration": 757,
    "start_time": "2025-09-30T12:42:25.373Z"
   },
   {
    "duration": 2747,
    "start_time": "2025-09-30T12:42:39.886Z"
   },
   {
    "duration": 1646,
    "start_time": "2025-09-30T12:42:42.636Z"
   },
   {
    "duration": 996,
    "start_time": "2025-09-30T12:42:44.284Z"
   },
   {
    "duration": 103,
    "start_time": "2025-09-30T12:42:45.282Z"
   },
   {
    "duration": 176,
    "start_time": "2025-09-30T12:42:45.388Z"
   },
   {
    "duration": 8,
    "start_time": "2025-09-30T12:42:45.566Z"
   },
   {
    "duration": 567,
    "start_time": "2025-09-30T12:42:45.577Z"
   },
   {
    "duration": 1161,
    "start_time": "2025-09-30T12:42:46.146Z"
   },
   {
    "duration": 2263,
    "start_time": "2025-09-30T12:42:47.310Z"
   },
   {
    "duration": 183,
    "start_time": "2025-09-30T12:42:49.575Z"
   },
   {
    "duration": 806,
    "start_time": "2025-09-30T12:42:49.760Z"
   },
   {
    "duration": 118,
    "start_time": "2025-09-30T12:44:59.496Z"
   },
   {
    "duration": 24,
    "start_time": "2025-09-30T12:54:40.822Z"
   },
   {
    "duration": 4006,
    "start_time": "2025-09-30T15:09:21.536Z"
   },
   {
    "duration": 1879,
    "start_time": "2025-09-30T15:09:25.545Z"
   },
   {
    "duration": 973,
    "start_time": "2025-09-30T15:09:27.426Z"
   },
   {
    "duration": 88,
    "start_time": "2025-09-30T15:09:28.401Z"
   },
   {
    "duration": 166,
    "start_time": "2025-09-30T15:09:28.490Z"
   },
   {
    "duration": 16,
    "start_time": "2025-09-30T15:09:28.657Z"
   },
   {
    "duration": 517,
    "start_time": "2025-09-30T15:09:28.674Z"
   },
   {
    "duration": 1053,
    "start_time": "2025-09-30T15:09:29.192Z"
   },
   {
    "duration": 2174,
    "start_time": "2025-09-30T15:09:30.247Z"
   },
   {
    "duration": 171,
    "start_time": "2025-09-30T15:09:32.424Z"
   },
   {
    "duration": 808,
    "start_time": "2025-09-30T15:09:32.597Z"
   },
   {
    "duration": 122,
    "start_time": "2025-09-30T15:09:33.407Z"
   },
   {
    "duration": 36,
    "start_time": "2025-09-30T15:09:33.531Z"
   },
   {
    "duration": 827,
    "start_time": "2025-09-30T15:10:38.724Z"
   },
   {
    "duration": 113,
    "start_time": "2025-09-30T15:10:46.170Z"
   },
   {
    "duration": 121,
    "start_time": "2025-09-30T15:16:21.444Z"
   },
   {
    "duration": 22,
    "start_time": "2025-09-30T15:16:42.779Z"
   },
   {
    "duration": 20,
    "start_time": "2025-09-30T15:17:18.933Z"
   },
   {
    "duration": 41,
    "start_time": "2025-09-30T15:17:30.451Z"
   },
   {
    "duration": 25,
    "start_time": "2025-09-30T15:17:34.080Z"
   },
   {
    "duration": 42,
    "start_time": "2025-09-30T15:17:34.818Z"
   },
   {
    "duration": 23,
    "start_time": "2025-09-30T15:18:00.865Z"
   },
   {
    "duration": 40,
    "start_time": "2025-09-30T15:18:01.675Z"
   },
   {
    "duration": 23,
    "start_time": "2025-09-30T15:18:59.081Z"
   },
   {
    "duration": 24,
    "start_time": "2025-09-30T15:20:07.361Z"
   },
   {
    "duration": 46,
    "start_time": "2025-09-30T15:20:52.219Z"
   },
   {
    "duration": 1549,
    "start_time": "2025-09-30T15:21:29.062Z"
   },
   {
    "duration": 999,
    "start_time": "2025-09-30T15:21:30.612Z"
   },
   {
    "duration": 84,
    "start_time": "2025-09-30T15:21:31.614Z"
   },
   {
    "duration": 194,
    "start_time": "2025-09-30T15:21:31.700Z"
   },
   {
    "duration": 7,
    "start_time": "2025-09-30T15:21:31.897Z"
   },
   {
    "duration": 589,
    "start_time": "2025-09-30T15:21:31.906Z"
   },
   {
    "duration": 1155,
    "start_time": "2025-09-30T15:21:32.497Z"
   },
   {
    "duration": 2355,
    "start_time": "2025-09-30T15:21:33.654Z"
   },
   {
    "duration": 178,
    "start_time": "2025-09-30T15:21:36.015Z"
   },
   {
    "duration": 593,
    "start_time": "2025-09-30T15:21:36.195Z"
   },
   {
    "duration": 0,
    "start_time": "2025-09-30T15:21:36.790Z"
   },
   {
    "duration": 0,
    "start_time": "2025-09-30T15:21:36.792Z"
   },
   {
    "duration": 0,
    "start_time": "2025-09-30T15:21:36.793Z"
   },
   {
    "duration": 0,
    "start_time": "2025-09-30T15:21:36.795Z"
   },
   {
    "duration": 0,
    "start_time": "2025-09-30T15:21:36.797Z"
   },
   {
    "duration": 0,
    "start_time": "2025-09-30T15:21:36.814Z"
   },
   {
    "duration": 820,
    "start_time": "2025-09-30T15:21:56.124Z"
   },
   {
    "duration": 695,
    "start_time": "2025-09-30T15:22:16.073Z"
   },
   {
    "duration": 393,
    "start_time": "2025-09-30T15:22:24.548Z"
   },
   {
    "duration": 712,
    "start_time": "2025-09-30T15:22:36.159Z"
   },
   {
    "duration": 712,
    "start_time": "2025-09-30T15:22:43.763Z"
   },
   {
    "duration": 1549,
    "start_time": "2025-09-30T15:22:50.145Z"
   },
   {
    "duration": 1028,
    "start_time": "2025-09-30T15:22:51.696Z"
   },
   {
    "duration": 90,
    "start_time": "2025-09-30T15:22:52.726Z"
   },
   {
    "duration": 183,
    "start_time": "2025-09-30T15:22:52.817Z"
   },
   {
    "duration": 14,
    "start_time": "2025-09-30T15:22:53.002Z"
   },
   {
    "duration": 605,
    "start_time": "2025-09-30T15:22:53.018Z"
   },
   {
    "duration": 1128,
    "start_time": "2025-09-30T15:22:53.625Z"
   },
   {
    "duration": 2288,
    "start_time": "2025-09-30T15:22:54.755Z"
   },
   {
    "duration": 177,
    "start_time": "2025-09-30T15:22:57.044Z"
   },
   {
    "duration": 743,
    "start_time": "2025-09-30T15:22:57.223Z"
   },
   {
    "duration": 123,
    "start_time": "2025-09-30T15:22:57.968Z"
   },
   {
    "duration": 45,
    "start_time": "2025-09-30T15:22:58.093Z"
   },
   {
    "duration": 74,
    "start_time": "2025-09-30T15:22:58.140Z"
   },
   {
    "duration": 23,
    "start_time": "2025-09-30T15:22:58.217Z"
   },
   {
    "duration": 52,
    "start_time": "2025-09-30T15:22:58.242Z"
   },
   {
    "duration": 71,
    "start_time": "2025-09-30T15:22:58.296Z"
   },
   {
    "duration": 800,
    "start_time": "2025-09-30T15:23:48.871Z"
   },
   {
    "duration": 41,
    "start_time": "2025-09-30T15:24:59.758Z"
   },
   {
    "duration": 1543,
    "start_time": "2025-09-30T15:25:08.674Z"
   },
   {
    "duration": 980,
    "start_time": "2025-09-30T15:25:10.219Z"
   },
   {
    "duration": 85,
    "start_time": "2025-09-30T15:25:11.201Z"
   },
   {
    "duration": 179,
    "start_time": "2025-09-30T15:25:11.287Z"
   },
   {
    "duration": 7,
    "start_time": "2025-09-30T15:25:11.469Z"
   },
   {
    "duration": 561,
    "start_time": "2025-09-30T15:25:11.478Z"
   },
   {
    "duration": 1106,
    "start_time": "2025-09-30T15:25:12.041Z"
   },
   {
    "duration": 2257,
    "start_time": "2025-09-30T15:25:13.149Z"
   },
   {
    "duration": 172,
    "start_time": "2025-09-30T15:25:15.409Z"
   },
   {
    "duration": 774,
    "start_time": "2025-09-30T15:25:15.582Z"
   },
   {
    "duration": 124,
    "start_time": "2025-09-30T15:25:16.357Z"
   },
   {
    "duration": 101,
    "start_time": "2025-09-30T15:25:16.483Z"
   },
   {
    "duration": 54,
    "start_time": "2025-09-30T15:25:16.586Z"
   },
   {
    "duration": 22,
    "start_time": "2025-09-30T15:25:16.643Z"
   },
   {
    "duration": 55,
    "start_time": "2025-09-30T15:25:16.667Z"
   },
   {
    "duration": 25,
    "start_time": "2025-09-30T15:25:16.724Z"
   },
   {
    "duration": 68,
    "start_time": "2025-09-30T15:25:16.750Z"
   },
   {
    "duration": 41,
    "start_time": "2025-09-30T15:25:27.814Z"
   },
   {
    "duration": 4,
    "start_time": "2025-09-30T15:28:13.255Z"
   },
   {
    "duration": 109,
    "start_time": "2025-09-30T15:28:13.762Z"
   },
   {
    "duration": 4,
    "start_time": "2025-09-30T15:28:44.602Z"
   },
   {
    "duration": 115,
    "start_time": "2025-09-30T15:28:45.383Z"
   },
   {
    "duration": 5,
    "start_time": "2025-09-30T15:30:21.988Z"
   },
   {
    "duration": 201,
    "start_time": "2025-09-30T15:30:22.570Z"
   },
   {
    "duration": 118,
    "start_time": "2025-09-30T15:31:31.496Z"
   },
   {
    "duration": 5,
    "start_time": "2025-09-30T15:42:09.399Z"
   },
   {
    "duration": 121,
    "start_time": "2025-09-30T15:42:09.940Z"
   },
   {
    "duration": 13905,
    "start_time": "2025-09-30T15:42:21.576Z"
   },
   {
    "duration": 2455,
    "start_time": "2025-09-30T15:42:59.965Z"
   },
   {
    "duration": 2064,
    "start_time": "2025-09-30T15:46:17.799Z"
   },
   {
    "duration": 1782,
    "start_time": "2025-10-01T11:43:47.800Z"
   },
   {
    "duration": 0,
    "start_time": "2025-10-01T11:43:49.584Z"
   },
   {
    "duration": 0,
    "start_time": "2025-10-01T11:43:49.585Z"
   },
   {
    "duration": 0,
    "start_time": "2025-10-01T11:43:49.586Z"
   },
   {
    "duration": 0,
    "start_time": "2025-10-01T11:43:49.587Z"
   },
   {
    "duration": 0,
    "start_time": "2025-10-01T11:43:49.588Z"
   },
   {
    "duration": 0,
    "start_time": "2025-10-01T11:43:49.589Z"
   },
   {
    "duration": 0,
    "start_time": "2025-10-01T11:43:49.591Z"
   },
   {
    "duration": 0,
    "start_time": "2025-10-01T11:43:49.591Z"
   },
   {
    "duration": 0,
    "start_time": "2025-10-01T11:43:49.593Z"
   },
   {
    "duration": 0,
    "start_time": "2025-10-01T11:43:49.594Z"
   },
   {
    "duration": 0,
    "start_time": "2025-10-01T11:43:49.595Z"
   },
   {
    "duration": 0,
    "start_time": "2025-10-01T11:43:49.596Z"
   },
   {
    "duration": 0,
    "start_time": "2025-10-01T11:43:49.596Z"
   },
   {
    "duration": 1505,
    "start_time": "2025-10-01T11:44:15.269Z"
   },
   {
    "duration": 922,
    "start_time": "2025-10-01T11:44:16.776Z"
   },
   {
    "duration": 84,
    "start_time": "2025-10-01T11:44:17.699Z"
   },
   {
    "duration": 170,
    "start_time": "2025-10-01T11:44:17.785Z"
   },
   {
    "duration": 7,
    "start_time": "2025-10-01T11:44:17.957Z"
   },
   {
    "duration": 504,
    "start_time": "2025-10-01T11:44:17.966Z"
   },
   {
    "duration": 1023,
    "start_time": "2025-10-01T11:44:18.472Z"
   },
   {
    "duration": 1943,
    "start_time": "2025-10-01T11:44:19.497Z"
   },
   {
    "duration": 179,
    "start_time": "2025-10-01T11:44:21.442Z"
   },
   {
    "duration": 769,
    "start_time": "2025-10-01T11:44:21.631Z"
   },
   {
    "duration": 115,
    "start_time": "2025-10-01T11:44:22.402Z"
   },
   {
    "duration": 11,
    "start_time": "2025-10-01T11:44:22.519Z"
   },
   {
    "duration": 213,
    "start_time": "2025-10-01T11:44:22.532Z"
   },
   {
    "duration": 115,
    "start_time": "2025-10-01T11:44:22.748Z"
   },
   {
    "duration": 123,
    "start_time": "2025-10-01T11:46:06.597Z"
   },
   {
    "duration": 174,
    "start_time": "2025-10-01T11:46:16.025Z"
   },
   {
    "duration": 78,
    "start_time": "2025-10-01T11:46:28.475Z"
   },
   {
    "duration": 1525,
    "start_time": "2025-10-01T11:46:34.335Z"
   },
   {
    "duration": 934,
    "start_time": "2025-10-01T11:46:35.862Z"
   },
   {
    "duration": 85,
    "start_time": "2025-10-01T11:46:36.798Z"
   },
   {
    "duration": 171,
    "start_time": "2025-10-01T11:46:36.885Z"
   },
   {
    "duration": 7,
    "start_time": "2025-10-01T11:46:37.058Z"
   },
   {
    "duration": 505,
    "start_time": "2025-10-01T11:46:37.066Z"
   },
   {
    "duration": 1006,
    "start_time": "2025-10-01T11:46:37.573Z"
   },
   {
    "duration": 1881,
    "start_time": "2025-10-01T11:46:38.580Z"
   },
   {
    "duration": 168,
    "start_time": "2025-10-01T11:46:40.463Z"
   },
   {
    "duration": 741,
    "start_time": "2025-10-01T11:46:40.633Z"
   },
   {
    "duration": 160,
    "start_time": "2025-10-01T11:46:41.375Z"
   },
   {
    "duration": 118,
    "start_time": "2025-10-01T11:46:41.537Z"
   },
   {
    "duration": 3,
    "start_time": "2025-10-01T11:46:41.657Z"
   },
   {
    "duration": 195,
    "start_time": "2025-10-01T11:46:41.662Z"
   },
   {
    "duration": 117,
    "start_time": "2025-10-01T11:46:41.859Z"
   },
   {
    "duration": 211,
    "start_time": "2025-10-01T11:51:57.861Z"
   },
   {
    "duration": 392,
    "start_time": "2025-10-01T11:53:22.567Z"
   },
   {
    "duration": 6,
    "start_time": "2025-10-01T11:55:48.760Z"
   },
   {
    "duration": 7,
    "start_time": "2025-10-01T11:56:40.251Z"
   },
   {
    "duration": 46,
    "start_time": "2025-10-01T12:00:28.344Z"
   },
   {
    "duration": 505,
    "start_time": "2025-10-01T12:03:57.604Z"
   },
   {
    "duration": 242,
    "start_time": "2025-10-01T12:05:24.039Z"
   },
   {
    "duration": 17,
    "start_time": "2025-10-01T12:05:51.145Z"
   },
   {
    "duration": 10,
    "start_time": "2025-10-01T12:11:12.918Z"
   },
   {
    "duration": 41,
    "start_time": "2025-10-01T12:11:19.299Z"
   },
   {
    "duration": 17,
    "start_time": "2025-10-01T12:11:24.640Z"
   },
   {
    "duration": 51,
    "start_time": "2025-10-01T12:11:25.616Z"
   },
   {
    "duration": 17,
    "start_time": "2025-10-01T12:11:44.432Z"
   },
   {
    "duration": 40,
    "start_time": "2025-10-01T12:12:30.692Z"
   },
   {
    "duration": 16,
    "start_time": "2025-10-01T12:12:42.055Z"
   },
   {
    "duration": 1436,
    "start_time": "2025-10-01T12:12:50.490Z"
   },
   {
    "duration": 896,
    "start_time": "2025-10-01T12:12:51.928Z"
   },
   {
    "duration": 83,
    "start_time": "2025-10-01T12:12:52.826Z"
   },
   {
    "duration": 175,
    "start_time": "2025-10-01T12:12:52.911Z"
   },
   {
    "duration": 7,
    "start_time": "2025-10-01T12:12:53.088Z"
   },
   {
    "duration": 504,
    "start_time": "2025-10-01T12:12:53.097Z"
   },
   {
    "duration": 1017,
    "start_time": "2025-10-01T12:12:53.603Z"
   },
   {
    "duration": 1863,
    "start_time": "2025-10-01T12:12:54.622Z"
   },
   {
    "duration": 175,
    "start_time": "2025-10-01T12:12:56.487Z"
   },
   {
    "duration": 749,
    "start_time": "2025-10-01T12:12:56.664Z"
   },
   {
    "duration": 119,
    "start_time": "2025-10-01T12:12:57.415Z"
   },
   {
    "duration": 3,
    "start_time": "2025-10-01T12:12:57.536Z"
   },
   {
    "duration": 195,
    "start_time": "2025-10-01T12:12:57.541Z"
   },
   {
    "duration": 119,
    "start_time": "2025-10-01T12:12:57.739Z"
   },
   {
    "duration": 31,
    "start_time": "2025-10-01T12:12:57.859Z"
   },
   {
    "duration": 461,
    "start_time": "2025-10-01T12:12:57.891Z"
   },
   {
    "duration": 49,
    "start_time": "2025-10-01T12:12:58.354Z"
   },
   {
    "duration": 37,
    "start_time": "2025-10-01T12:12:58.404Z"
   },
   {
    "duration": 40,
    "start_time": "2025-10-01T12:12:58.443Z"
   },
   {
    "duration": 1541,
    "start_time": "2025-10-01T12:16:06.942Z"
   },
   {
    "duration": 1468,
    "start_time": "2025-10-01T12:16:17.163Z"
   },
   {
    "duration": 901,
    "start_time": "2025-10-01T12:16:18.633Z"
   },
   {
    "duration": 77,
    "start_time": "2025-10-01T12:16:19.536Z"
   },
   {
    "duration": 180,
    "start_time": "2025-10-01T12:16:19.614Z"
   },
   {
    "duration": 7,
    "start_time": "2025-10-01T12:16:19.796Z"
   },
   {
    "duration": 540,
    "start_time": "2025-10-01T12:16:19.805Z"
   },
   {
    "duration": 1065,
    "start_time": "2025-10-01T12:16:20.347Z"
   },
   {
    "duration": 1890,
    "start_time": "2025-10-01T12:16:21.414Z"
   },
   {
    "duration": 166,
    "start_time": "2025-10-01T12:16:23.306Z"
   },
   {
    "duration": 786,
    "start_time": "2025-10-01T12:16:23.474Z"
   },
   {
    "duration": 117,
    "start_time": "2025-10-01T12:16:24.262Z"
   },
   {
    "duration": 3,
    "start_time": "2025-10-01T12:16:24.381Z"
   },
   {
    "duration": 189,
    "start_time": "2025-10-01T12:16:24.386Z"
   },
   {
    "duration": 121,
    "start_time": "2025-10-01T12:16:24.578Z"
   },
   {
    "duration": 7,
    "start_time": "2025-10-01T12:16:24.700Z"
   },
   {
    "duration": 482,
    "start_time": "2025-10-01T12:16:24.708Z"
   },
   {
    "duration": 59,
    "start_time": "2025-10-01T12:16:25.192Z"
   },
   {
    "duration": 16,
    "start_time": "2025-10-01T12:16:25.253Z"
   },
   {
    "duration": 41,
    "start_time": "2025-10-01T12:16:25.271Z"
   },
   {
    "duration": 156,
    "start_time": "2025-10-01T12:20:46.587Z"
   },
   {
    "duration": 79,
    "start_time": "2025-10-01T12:21:23.691Z"
   },
   {
    "duration": 81,
    "start_time": "2025-10-01T12:21:34.702Z"
   },
   {
    "duration": 9,
    "start_time": "2025-10-01T12:25:14.943Z"
   },
   {
    "duration": 228,
    "start_time": "2025-10-01T12:26:06.001Z"
   },
   {
    "duration": 242,
    "start_time": "2025-10-01T12:30:58.290Z"
   },
   {
    "duration": 104,
    "start_time": "2025-10-01T12:33:47.193Z"
   },
   {
    "duration": 1792,
    "start_time": "2025-10-01T16:14:11.683Z"
   },
   {
    "duration": 966,
    "start_time": "2025-10-01T16:14:13.477Z"
   },
   {
    "duration": 92,
    "start_time": "2025-10-01T16:14:14.445Z"
   },
   {
    "duration": 161,
    "start_time": "2025-10-01T16:14:14.539Z"
   },
   {
    "duration": 15,
    "start_time": "2025-10-01T16:14:14.702Z"
   },
   {
    "duration": 575,
    "start_time": "2025-10-01T16:14:14.719Z"
   },
   {
    "duration": 1118,
    "start_time": "2025-10-01T16:14:15.297Z"
   },
   {
    "duration": 2046,
    "start_time": "2025-10-01T16:14:16.418Z"
   },
   {
    "duration": 172,
    "start_time": "2025-10-01T16:14:18.466Z"
   },
   {
    "duration": 831,
    "start_time": "2025-10-01T16:14:18.640Z"
   },
   {
    "duration": 119,
    "start_time": "2025-10-01T16:14:19.473Z"
   },
   {
    "duration": 3,
    "start_time": "2025-10-01T16:14:19.594Z"
   },
   {
    "duration": 190,
    "start_time": "2025-10-01T16:14:19.613Z"
   },
   {
    "duration": 124,
    "start_time": "2025-10-01T16:14:19.806Z"
   },
   {
    "duration": 15,
    "start_time": "2025-10-01T16:14:19.932Z"
   },
   {
    "duration": 497,
    "start_time": "2025-10-01T16:14:19.948Z"
   },
   {
    "duration": 68,
    "start_time": "2025-10-01T16:14:20.446Z"
   },
   {
    "duration": 17,
    "start_time": "2025-10-01T16:14:20.516Z"
   },
   {
    "duration": 44,
    "start_time": "2025-10-01T16:14:20.535Z"
   },
   {
    "duration": 260,
    "start_time": "2025-10-01T16:14:20.580Z"
   },
   {
    "duration": 259,
    "start_time": "2025-10-01T16:14:20.841Z"
   },
   {
    "duration": 117,
    "start_time": "2025-10-01T16:14:21.102Z"
   },
   {
    "duration": 14,
    "start_time": "2025-10-01T16:17:04.621Z"
   },
   {
    "duration": 1631,
    "start_time": "2025-10-01T16:29:59.801Z"
   },
   {
    "duration": 1423,
    "start_time": "2025-10-01T16:30:01.434Z"
   },
   {
    "duration": 83,
    "start_time": "2025-10-01T16:30:02.859Z"
   },
   {
    "duration": 195,
    "start_time": "2025-10-01T16:30:02.944Z"
   },
   {
    "duration": 7,
    "start_time": "2025-10-01T16:30:03.142Z"
   },
   {
    "duration": 615,
    "start_time": "2025-10-01T16:30:03.151Z"
   },
   {
    "duration": 1155,
    "start_time": "2025-10-01T16:30:03.768Z"
   },
   {
    "duration": 2193,
    "start_time": "2025-10-01T16:30:04.925Z"
   },
   {
    "duration": 182,
    "start_time": "2025-10-01T16:30:07.120Z"
   },
   {
    "duration": 761,
    "start_time": "2025-10-01T16:30:07.304Z"
   },
   {
    "duration": 119,
    "start_time": "2025-10-01T16:30:08.066Z"
   },
   {
    "duration": 3,
    "start_time": "2025-10-01T16:30:08.187Z"
   },
   {
    "duration": 223,
    "start_time": "2025-10-01T16:30:08.192Z"
   },
   {
    "duration": 123,
    "start_time": "2025-10-01T16:30:08.418Z"
   },
   {
    "duration": 25,
    "start_time": "2025-10-01T16:30:08.543Z"
   },
   {
    "duration": 524,
    "start_time": "2025-10-01T16:30:08.570Z"
   },
   {
    "duration": 63,
    "start_time": "2025-10-01T16:30:09.097Z"
   },
   {
    "duration": 19,
    "start_time": "2025-10-01T16:30:09.163Z"
   },
   {
    "duration": 74,
    "start_time": "2025-10-01T16:30:09.184Z"
   },
   {
    "duration": 244,
    "start_time": "2025-10-01T16:30:09.259Z"
   },
   {
    "duration": 249,
    "start_time": "2025-10-01T16:30:09.505Z"
   },
   {
    "duration": 14,
    "start_time": "2025-10-01T16:30:09.756Z"
   },
   {
    "duration": 53,
    "start_time": "2025-10-01T16:30:20.277Z"
   },
   {
    "duration": 7,
    "start_time": "2025-10-01T16:30:27.486Z"
   },
   {
    "duration": 1533,
    "start_time": "2025-10-01T16:30:31.456Z"
   },
   {
    "duration": 1380,
    "start_time": "2025-10-01T16:30:32.991Z"
   },
   {
    "duration": 85,
    "start_time": "2025-10-01T16:30:34.372Z"
   },
   {
    "duration": 174,
    "start_time": "2025-10-01T16:30:34.460Z"
   },
   {
    "duration": 7,
    "start_time": "2025-10-01T16:30:34.637Z"
   },
   {
    "duration": 595,
    "start_time": "2025-10-01T16:30:34.646Z"
   },
   {
    "duration": 1172,
    "start_time": "2025-10-01T16:30:35.243Z"
   },
   {
    "duration": 2155,
    "start_time": "2025-10-01T16:30:36.417Z"
   },
   {
    "duration": 184,
    "start_time": "2025-10-01T16:30:38.574Z"
   },
   {
    "duration": 768,
    "start_time": "2025-10-01T16:30:38.760Z"
   },
   {
    "duration": 120,
    "start_time": "2025-10-01T16:30:39.530Z"
   },
   {
    "duration": 3,
    "start_time": "2025-10-01T16:30:39.652Z"
   },
   {
    "duration": 200,
    "start_time": "2025-10-01T16:30:39.657Z"
   },
   {
    "duration": 119,
    "start_time": "2025-10-01T16:30:39.860Z"
   },
   {
    "duration": 22,
    "start_time": "2025-10-01T16:30:39.981Z"
   },
   {
    "duration": 547,
    "start_time": "2025-10-01T16:30:40.005Z"
   },
   {
    "duration": 64,
    "start_time": "2025-10-01T16:30:40.554Z"
   },
   {
    "duration": 18,
    "start_time": "2025-10-01T16:30:40.620Z"
   },
   {
    "duration": 45,
    "start_time": "2025-10-01T16:30:40.640Z"
   },
   {
    "duration": 259,
    "start_time": "2025-10-01T16:30:40.687Z"
   },
   {
    "duration": 256,
    "start_time": "2025-10-01T16:30:40.947Z"
   },
   {
    "duration": 19,
    "start_time": "2025-10-01T16:30:41.204Z"
   },
   {
    "duration": 54,
    "start_time": "2025-10-01T16:31:44.483Z"
   },
   {
    "duration": 1592,
    "start_time": "2025-10-01T16:31:57.625Z"
   },
   {
    "duration": 1376,
    "start_time": "2025-10-01T16:31:59.219Z"
   },
   {
    "duration": 83,
    "start_time": "2025-10-01T16:32:00.597Z"
   },
   {
    "duration": 172,
    "start_time": "2025-10-01T16:32:00.682Z"
   },
   {
    "duration": 6,
    "start_time": "2025-10-01T16:32:00.857Z"
   },
   {
    "duration": 581,
    "start_time": "2025-10-01T16:32:00.865Z"
   },
   {
    "duration": 1171,
    "start_time": "2025-10-01T16:32:01.448Z"
   },
   {
    "duration": 2112,
    "start_time": "2025-10-01T16:32:02.620Z"
   },
   {
    "duration": 183,
    "start_time": "2025-10-01T16:32:04.734Z"
   },
   {
    "duration": 762,
    "start_time": "2025-10-01T16:32:04.919Z"
   },
   {
    "duration": 120,
    "start_time": "2025-10-01T16:32:05.682Z"
   },
   {
    "duration": 66,
    "start_time": "2025-10-01T16:32:05.804Z"
   },
   {
    "duration": 246,
    "start_time": "2025-10-01T16:32:05.871Z"
   },
   {
    "duration": 121,
    "start_time": "2025-10-01T16:32:06.120Z"
   },
   {
    "duration": 7,
    "start_time": "2025-10-01T16:32:06.243Z"
   },
   {
    "duration": 516,
    "start_time": "2025-10-01T16:32:06.251Z"
   },
   {
    "duration": 68,
    "start_time": "2025-10-01T16:32:06.769Z"
   },
   {
    "duration": 19,
    "start_time": "2025-10-01T16:32:06.839Z"
   },
   {
    "duration": 61,
    "start_time": "2025-10-01T16:32:06.860Z"
   },
   {
    "duration": 241,
    "start_time": "2025-10-01T16:32:06.923Z"
   },
   {
    "duration": 247,
    "start_time": "2025-10-01T16:32:07.166Z"
   },
   {
    "duration": 14,
    "start_time": "2025-10-01T16:32:07.415Z"
   },
   {
    "duration": 1561,
    "start_time": "2025-10-01T16:32:41.532Z"
   },
   {
    "duration": 1373,
    "start_time": "2025-10-01T16:32:43.095Z"
   },
   {
    "duration": 81,
    "start_time": "2025-10-01T16:32:44.470Z"
   },
   {
    "duration": 177,
    "start_time": "2025-10-01T16:32:44.553Z"
   },
   {
    "duration": 7,
    "start_time": "2025-10-01T16:32:44.732Z"
   },
   {
    "duration": 589,
    "start_time": "2025-10-01T16:32:44.741Z"
   },
   {
    "duration": 1154,
    "start_time": "2025-10-01T16:32:45.332Z"
   },
   {
    "duration": 2102,
    "start_time": "2025-10-01T16:32:46.488Z"
   },
   {
    "duration": 187,
    "start_time": "2025-10-01T16:32:48.591Z"
   },
   {
    "duration": 768,
    "start_time": "2025-10-01T16:32:48.780Z"
   },
   {
    "duration": 119,
    "start_time": "2025-10-01T16:32:49.550Z"
   },
   {
    "duration": 6,
    "start_time": "2025-10-01T16:32:49.671Z"
   },
   {
    "duration": 199,
    "start_time": "2025-10-01T16:32:49.679Z"
   },
   {
    "duration": 120,
    "start_time": "2025-10-01T16:32:49.881Z"
   },
   {
    "duration": 20,
    "start_time": "2025-10-01T16:32:50.003Z"
   },
   {
    "duration": 498,
    "start_time": "2025-10-01T16:32:50.025Z"
   },
   {
    "duration": 52,
    "start_time": "2025-10-01T16:32:50.525Z"
   },
   {
    "duration": 36,
    "start_time": "2025-10-01T16:32:50.578Z"
   },
   {
    "duration": 45,
    "start_time": "2025-10-01T16:32:50.616Z"
   },
   {
    "duration": 245,
    "start_time": "2025-10-01T16:32:50.663Z"
   },
   {
    "duration": 246,
    "start_time": "2025-10-01T16:32:50.909Z"
   },
   {
    "duration": 17,
    "start_time": "2025-10-01T16:32:51.157Z"
   },
   {
    "duration": 54,
    "start_time": "2025-10-01T16:33:30.284Z"
   },
   {
    "duration": 1569,
    "start_time": "2025-10-01T16:33:37.940Z"
   },
   {
    "duration": 1371,
    "start_time": "2025-10-01T16:33:39.513Z"
   },
   {
    "duration": 80,
    "start_time": "2025-10-01T16:33:40.886Z"
   },
   {
    "duration": 165,
    "start_time": "2025-10-01T16:33:40.968Z"
   },
   {
    "duration": 8,
    "start_time": "2025-10-01T16:33:41.135Z"
   },
   {
    "duration": 583,
    "start_time": "2025-10-01T16:33:41.144Z"
   },
   {
    "duration": 1157,
    "start_time": "2025-10-01T16:33:41.728Z"
   },
   {
    "duration": 2106,
    "start_time": "2025-10-01T16:33:42.887Z"
   },
   {
    "duration": 190,
    "start_time": "2025-10-01T16:33:44.995Z"
   },
   {
    "duration": 789,
    "start_time": "2025-10-01T16:33:45.188Z"
   },
   {
    "duration": 117,
    "start_time": "2025-10-01T16:33:45.979Z"
   },
   {
    "duration": 17,
    "start_time": "2025-10-01T16:33:46.098Z"
   },
   {
    "duration": 192,
    "start_time": "2025-10-01T16:33:46.116Z"
   },
   {
    "duration": 119,
    "start_time": "2025-10-01T16:33:46.311Z"
   },
   {
    "duration": 25,
    "start_time": "2025-10-01T16:33:46.432Z"
   },
   {
    "duration": 495,
    "start_time": "2025-10-01T16:33:46.459Z"
   },
   {
    "duration": 65,
    "start_time": "2025-10-01T16:33:46.956Z"
   },
   {
    "duration": 17,
    "start_time": "2025-10-01T16:33:47.023Z"
   },
   {
    "duration": 53,
    "start_time": "2025-10-01T16:33:47.042Z"
   },
   {
    "duration": 253,
    "start_time": "2025-10-01T16:33:47.098Z"
   },
   {
    "duration": 255,
    "start_time": "2025-10-01T16:33:47.353Z"
   },
   {
    "duration": 15,
    "start_time": "2025-10-01T16:33:47.610Z"
   },
   {
    "duration": 53,
    "start_time": "2025-10-01T16:35:02.261Z"
   },
   {
    "duration": 1594,
    "start_time": "2025-10-01T16:35:15.972Z"
   },
   {
    "duration": 1397,
    "start_time": "2025-10-01T16:35:17.568Z"
   },
   {
    "duration": 82,
    "start_time": "2025-10-01T16:35:18.967Z"
   },
   {
    "duration": 176,
    "start_time": "2025-10-01T16:35:19.051Z"
   },
   {
    "duration": 8,
    "start_time": "2025-10-01T16:35:19.229Z"
   },
   {
    "duration": 583,
    "start_time": "2025-10-01T16:35:19.239Z"
   },
   {
    "duration": 1153,
    "start_time": "2025-10-01T16:35:19.824Z"
   },
   {
    "duration": 2193,
    "start_time": "2025-10-01T16:35:20.979Z"
   },
   {
    "duration": 187,
    "start_time": "2025-10-01T16:35:23.174Z"
   },
   {
    "duration": 785,
    "start_time": "2025-10-01T16:35:23.363Z"
   },
   {
    "duration": 121,
    "start_time": "2025-10-01T16:35:24.150Z"
   },
   {
    "duration": 5,
    "start_time": "2025-10-01T16:35:24.272Z"
   },
   {
    "duration": 204,
    "start_time": "2025-10-01T16:35:24.278Z"
   },
   {
    "duration": 119,
    "start_time": "2025-10-01T16:35:24.486Z"
   },
   {
    "duration": 24,
    "start_time": "2025-10-01T16:35:24.607Z"
   },
   {
    "duration": 509,
    "start_time": "2025-10-01T16:35:24.632Z"
   },
   {
    "duration": 73,
    "start_time": "2025-10-01T16:35:25.143Z"
   },
   {
    "duration": 23,
    "start_time": "2025-10-01T16:35:25.219Z"
   },
   {
    "duration": 48,
    "start_time": "2025-10-01T16:35:25.244Z"
   },
   {
    "duration": 266,
    "start_time": "2025-10-01T16:35:25.315Z"
   },
   {
    "duration": 247,
    "start_time": "2025-10-01T16:35:25.583Z"
   },
   {
    "duration": 14,
    "start_time": "2025-10-01T16:35:25.832Z"
   },
   {
    "duration": 61,
    "start_time": "2025-10-01T16:36:02.120Z"
   },
   {
    "duration": 1597,
    "start_time": "2025-10-01T16:36:11.792Z"
   },
   {
    "duration": 1368,
    "start_time": "2025-10-01T16:36:13.391Z"
   },
   {
    "duration": 81,
    "start_time": "2025-10-01T16:36:14.761Z"
   },
   {
    "duration": 172,
    "start_time": "2025-10-01T16:36:14.844Z"
   },
   {
    "duration": 8,
    "start_time": "2025-10-01T16:36:15.020Z"
   },
   {
    "duration": 656,
    "start_time": "2025-10-01T16:36:15.030Z"
   },
   {
    "duration": 1173,
    "start_time": "2025-10-01T16:36:15.688Z"
   },
   {
    "duration": 2138,
    "start_time": "2025-10-01T16:36:16.864Z"
   },
   {
    "duration": 180,
    "start_time": "2025-10-01T16:36:19.004Z"
   },
   {
    "duration": 780,
    "start_time": "2025-10-01T16:36:19.186Z"
   },
   {
    "duration": 121,
    "start_time": "2025-10-01T16:36:19.968Z"
   },
   {
    "duration": 27,
    "start_time": "2025-10-01T16:36:20.091Z"
   },
   {
    "duration": 207,
    "start_time": "2025-10-01T16:36:20.120Z"
   },
   {
    "duration": 116,
    "start_time": "2025-10-01T16:36:20.330Z"
   },
   {
    "duration": 46,
    "start_time": "2025-10-01T16:36:20.448Z"
   },
   {
    "duration": 507,
    "start_time": "2025-10-01T16:36:20.495Z"
   },
   {
    "duration": 57,
    "start_time": "2025-10-01T16:36:21.003Z"
   },
   {
    "duration": 17,
    "start_time": "2025-10-01T16:36:21.062Z"
   },
   {
    "duration": 64,
    "start_time": "2025-10-01T16:36:21.081Z"
   },
   {
    "duration": 251,
    "start_time": "2025-10-01T16:36:21.146Z"
   },
   {
    "duration": 249,
    "start_time": "2025-10-01T16:36:21.398Z"
   },
   {
    "duration": 14,
    "start_time": "2025-10-01T16:36:21.649Z"
   },
   {
    "duration": 44,
    "start_time": "2025-10-01T16:36:21.665Z"
   },
   {
    "duration": 1616,
    "start_time": "2025-10-01T16:40:38.586Z"
   },
   {
    "duration": 2044,
    "start_time": "2025-10-01T16:40:47.139Z"
   },
   {
    "duration": 1412,
    "start_time": "2025-10-01T16:40:49.185Z"
   },
   {
    "duration": 86,
    "start_time": "2025-10-01T16:40:50.599Z"
   },
   {
    "duration": 163,
    "start_time": "2025-10-01T16:40:50.687Z"
   },
   {
    "duration": 27,
    "start_time": "2025-10-01T16:40:50.852Z"
   },
   {
    "duration": 564,
    "start_time": "2025-10-01T16:40:50.881Z"
   },
   {
    "duration": 1150,
    "start_time": "2025-10-01T16:40:51.448Z"
   },
   {
    "duration": 2115,
    "start_time": "2025-10-01T16:40:52.600Z"
   },
   {
    "duration": 179,
    "start_time": "2025-10-01T16:40:54.717Z"
   },
   {
    "duration": 776,
    "start_time": "2025-10-01T16:40:54.899Z"
   },
   {
    "duration": 118,
    "start_time": "2025-10-01T16:40:55.678Z"
   },
   {
    "duration": 4,
    "start_time": "2025-10-01T16:40:55.798Z"
   },
   {
    "duration": 195,
    "start_time": "2025-10-01T16:40:55.815Z"
   },
   {
    "duration": 122,
    "start_time": "2025-10-01T16:40:56.012Z"
   },
   {
    "duration": 8,
    "start_time": "2025-10-01T16:40:56.136Z"
   },
   {
    "duration": 512,
    "start_time": "2025-10-01T16:40:56.146Z"
   },
   {
    "duration": 66,
    "start_time": "2025-10-01T16:40:56.660Z"
   },
   {
    "duration": 19,
    "start_time": "2025-10-01T16:40:56.728Z"
   },
   {
    "duration": 66,
    "start_time": "2025-10-01T16:40:56.749Z"
   },
   {
    "duration": 249,
    "start_time": "2025-10-01T16:40:56.818Z"
   },
   {
    "duration": 249,
    "start_time": "2025-10-01T16:40:57.070Z"
   },
   {
    "duration": 15,
    "start_time": "2025-10-01T16:40:57.322Z"
   },
   {
    "duration": 1564,
    "start_time": "2025-10-01T16:44:28.087Z"
   },
   {
    "duration": 989,
    "start_time": "2025-10-01T16:44:29.654Z"
   },
   {
    "duration": 91,
    "start_time": "2025-10-01T16:44:30.645Z"
   },
   {
    "duration": 180,
    "start_time": "2025-10-01T16:44:30.737Z"
   },
   {
    "duration": 7,
    "start_time": "2025-10-01T16:44:30.920Z"
   },
   {
    "duration": 601,
    "start_time": "2025-10-01T16:44:30.928Z"
   },
   {
    "duration": 1137,
    "start_time": "2025-10-01T16:44:31.531Z"
   },
   {
    "duration": 2086,
    "start_time": "2025-10-01T16:44:32.669Z"
   },
   {
    "duration": 176,
    "start_time": "2025-10-01T16:44:34.756Z"
   },
   {
    "duration": 766,
    "start_time": "2025-10-01T16:44:34.933Z"
   },
   {
    "duration": 121,
    "start_time": "2025-10-01T16:44:35.700Z"
   },
   {
    "duration": 15,
    "start_time": "2025-10-01T16:44:35.823Z"
   },
   {
    "duration": 264,
    "start_time": "2025-10-01T16:44:35.840Z"
   },
   {
    "duration": 116,
    "start_time": "2025-10-01T16:44:36.107Z"
   },
   {
    "duration": 16,
    "start_time": "2025-10-01T16:44:36.224Z"
   },
   {
    "duration": 509,
    "start_time": "2025-10-01T16:44:36.241Z"
   },
   {
    "duration": 63,
    "start_time": "2025-10-01T16:44:36.752Z"
   },
   {
    "duration": 18,
    "start_time": "2025-10-01T16:44:36.817Z"
   },
   {
    "duration": 77,
    "start_time": "2025-10-01T16:44:36.837Z"
   },
   {
    "duration": 246,
    "start_time": "2025-10-01T16:44:36.916Z"
   },
   {
    "duration": 253,
    "start_time": "2025-10-01T16:44:37.164Z"
   },
   {
    "duration": 17,
    "start_time": "2025-10-01T16:44:37.419Z"
   },
   {
    "duration": 1370,
    "start_time": "2025-10-01T16:44:37.438Z"
   },
   {
    "duration": 1240,
    "start_time": "2025-10-01T16:45:22.508Z"
   },
   {
    "duration": 1222,
    "start_time": "2025-10-01T16:48:00.061Z"
   },
   {
    "duration": 1575,
    "start_time": "2025-10-01T16:48:24.299Z"
   },
   {
    "duration": 960,
    "start_time": "2025-10-01T16:48:25.876Z"
   },
   {
    "duration": 91,
    "start_time": "2025-10-01T16:48:26.838Z"
   },
   {
    "duration": 163,
    "start_time": "2025-10-01T16:48:26.931Z"
   },
   {
    "duration": 20,
    "start_time": "2025-10-01T16:48:27.097Z"
   },
   {
    "duration": 596,
    "start_time": "2025-10-01T16:48:27.119Z"
   },
   {
    "duration": 1085,
    "start_time": "2025-10-01T16:48:27.717Z"
   },
   {
    "duration": 2056,
    "start_time": "2025-10-01T16:48:28.804Z"
   },
   {
    "duration": 183,
    "start_time": "2025-10-01T16:48:30.862Z"
   },
   {
    "duration": 755,
    "start_time": "2025-10-01T16:48:31.047Z"
   },
   {
    "duration": 123,
    "start_time": "2025-10-01T16:48:31.805Z"
   },
   {
    "duration": 16,
    "start_time": "2025-10-01T16:48:31.930Z"
   },
   {
    "duration": 217,
    "start_time": "2025-10-01T16:48:31.948Z"
   },
   {
    "duration": 117,
    "start_time": "2025-10-01T16:48:32.168Z"
   },
   {
    "duration": 37,
    "start_time": "2025-10-01T16:48:32.287Z"
   },
   {
    "duration": 507,
    "start_time": "2025-10-01T16:48:32.326Z"
   },
   {
    "duration": 52,
    "start_time": "2025-10-01T16:48:32.835Z"
   },
   {
    "duration": 39,
    "start_time": "2025-10-01T16:48:32.889Z"
   },
   {
    "duration": 46,
    "start_time": "2025-10-01T16:48:32.930Z"
   },
   {
    "duration": 260,
    "start_time": "2025-10-01T16:48:32.978Z"
   },
   {
    "duration": 261,
    "start_time": "2025-10-01T16:48:33.240Z"
   },
   {
    "duration": 19,
    "start_time": "2025-10-01T16:48:33.503Z"
   },
   {
    "duration": 1523,
    "start_time": "2025-10-01T16:50:28.143Z"
   },
   {
    "duration": 1031,
    "start_time": "2025-10-01T16:50:29.668Z"
   },
   {
    "duration": 87,
    "start_time": "2025-10-01T16:50:30.701Z"
   },
   {
    "duration": 181,
    "start_time": "2025-10-01T16:50:30.790Z"
   },
   {
    "duration": 8,
    "start_time": "2025-10-01T16:50:30.973Z"
   },
   {
    "duration": 579,
    "start_time": "2025-10-01T16:50:30.983Z"
   },
   {
    "duration": 1170,
    "start_time": "2025-10-01T16:50:31.564Z"
   },
   {
    "duration": 2127,
    "start_time": "2025-10-01T16:50:32.736Z"
   },
   {
    "duration": 184,
    "start_time": "2025-10-01T16:50:34.864Z"
   },
   {
    "duration": 804,
    "start_time": "2025-10-01T16:50:35.050Z"
   },
   {
    "duration": 119,
    "start_time": "2025-10-01T16:50:35.856Z"
   },
   {
    "duration": 3,
    "start_time": "2025-10-01T16:50:35.977Z"
   },
   {
    "duration": 233,
    "start_time": "2025-10-01T16:50:35.982Z"
   },
   {
    "duration": 119,
    "start_time": "2025-10-01T16:50:36.219Z"
   },
   {
    "duration": 46,
    "start_time": "2025-10-01T16:50:36.340Z"
   },
   {
    "duration": 536,
    "start_time": "2025-10-01T16:50:36.388Z"
   },
   {
    "duration": 53,
    "start_time": "2025-10-01T16:50:36.926Z"
   },
   {
    "duration": 35,
    "start_time": "2025-10-01T16:50:36.981Z"
   },
   {
    "duration": 48,
    "start_time": "2025-10-01T16:50:37.018Z"
   },
   {
    "duration": 260,
    "start_time": "2025-10-01T16:50:37.068Z"
   },
   {
    "duration": 264,
    "start_time": "2025-10-01T16:50:37.330Z"
   },
   {
    "duration": 27,
    "start_time": "2025-10-01T16:50:37.596Z"
   },
   {
    "duration": 1303,
    "start_time": "2025-10-01T16:50:37.626Z"
   },
   {
    "duration": 1548,
    "start_time": "2025-10-01T16:52:24.956Z"
   },
   {
    "duration": 990,
    "start_time": "2025-10-01T16:52:26.506Z"
   },
   {
    "duration": 131,
    "start_time": "2025-10-01T16:52:27.497Z"
   },
   {
    "duration": 194,
    "start_time": "2025-10-01T16:52:27.630Z"
   },
   {
    "duration": 7,
    "start_time": "2025-10-01T16:52:27.827Z"
   },
   {
    "duration": 567,
    "start_time": "2025-10-01T16:52:27.836Z"
   },
   {
    "duration": 1154,
    "start_time": "2025-10-01T16:52:28.405Z"
   },
   {
    "duration": 2287,
    "start_time": "2025-10-01T16:52:29.561Z"
   },
   {
    "duration": 180,
    "start_time": "2025-10-01T16:52:31.850Z"
   },
   {
    "duration": 838,
    "start_time": "2025-10-01T16:52:32.033Z"
   },
   {
    "duration": 127,
    "start_time": "2025-10-01T16:52:32.873Z"
   },
   {
    "duration": 12,
    "start_time": "2025-10-01T16:52:33.002Z"
   },
   {
    "duration": 198,
    "start_time": "2025-10-01T16:52:33.016Z"
   },
   {
    "duration": 122,
    "start_time": "2025-10-01T16:52:33.218Z"
   },
   {
    "duration": 99,
    "start_time": "2025-10-01T16:52:33.341Z"
   },
   {
    "duration": 623,
    "start_time": "2025-10-01T16:52:33.442Z"
   },
   {
    "duration": 59,
    "start_time": "2025-10-01T16:52:34.067Z"
   },
   {
    "duration": 17,
    "start_time": "2025-10-01T16:52:34.128Z"
   },
   {
    "duration": 56,
    "start_time": "2025-10-01T16:52:34.146Z"
   },
   {
    "duration": 257,
    "start_time": "2025-10-01T16:52:34.203Z"
   },
   {
    "duration": 254,
    "start_time": "2025-10-01T16:52:34.462Z"
   },
   {
    "duration": 14,
    "start_time": "2025-10-01T16:52:34.718Z"
   },
   {
    "duration": 224,
    "start_time": "2025-10-01T16:52:34.734Z"
   },
   {
    "duration": 1598,
    "start_time": "2025-10-01T16:53:18.374Z"
   },
   {
    "duration": 967,
    "start_time": "2025-10-01T16:53:19.974Z"
   },
   {
    "duration": 88,
    "start_time": "2025-10-01T16:53:20.943Z"
   },
   {
    "duration": 155,
    "start_time": "2025-10-01T16:53:21.033Z"
   },
   {
    "duration": 6,
    "start_time": "2025-10-01T16:53:21.191Z"
   },
   {
    "duration": 534,
    "start_time": "2025-10-01T16:53:21.215Z"
   },
   {
    "duration": 1102,
    "start_time": "2025-10-01T16:53:21.750Z"
   },
   {
    "duration": 2186,
    "start_time": "2025-10-01T16:53:22.853Z"
   },
   {
    "duration": 208,
    "start_time": "2025-10-01T16:53:25.041Z"
   },
   {
    "duration": 814,
    "start_time": "2025-10-01T16:53:25.251Z"
   },
   {
    "duration": 124,
    "start_time": "2025-10-01T16:53:26.066Z"
   },
   {
    "duration": 20,
    "start_time": "2025-10-01T16:53:26.192Z"
   },
   {
    "duration": 215,
    "start_time": "2025-10-01T16:53:26.213Z"
   },
   {
    "duration": 121,
    "start_time": "2025-10-01T16:53:26.431Z"
   },
   {
    "duration": 46,
    "start_time": "2025-10-01T16:53:26.554Z"
   },
   {
    "duration": 497,
    "start_time": "2025-10-01T16:53:26.602Z"
   },
   {
    "duration": 58,
    "start_time": "2025-10-01T16:53:27.101Z"
   },
   {
    "duration": 18,
    "start_time": "2025-10-01T16:53:27.161Z"
   },
   {
    "duration": 66,
    "start_time": "2025-10-01T16:53:27.180Z"
   },
   {
    "duration": 234,
    "start_time": "2025-10-01T16:53:27.247Z"
   },
   {
    "duration": 272,
    "start_time": "2025-10-01T16:53:27.483Z"
   },
   {
    "duration": 14,
    "start_time": "2025-10-01T16:53:27.756Z"
   },
   {
    "duration": 1238,
    "start_time": "2025-10-01T16:53:27.771Z"
   },
   {
    "duration": 28,
    "start_time": "2025-10-01T16:54:02.899Z"
   },
   {
    "duration": 382,
    "start_time": "2025-10-01T16:54:25.861Z"
   },
   {
    "duration": 285,
    "start_time": "2025-10-01T16:54:47.374Z"
   },
   {
    "duration": 391,
    "start_time": "2025-10-01T16:54:54.018Z"
   },
   {
    "duration": 0,
    "start_time": "2025-10-01T16:54:54.412Z"
   },
   {
    "duration": 0,
    "start_time": "2025-10-01T16:54:54.412Z"
   },
   {
    "duration": 0,
    "start_time": "2025-10-01T16:54:54.414Z"
   },
   {
    "duration": 0,
    "start_time": "2025-10-01T16:54:54.416Z"
   },
   {
    "duration": 0,
    "start_time": "2025-10-01T16:54:54.419Z"
   },
   {
    "duration": 0,
    "start_time": "2025-10-01T16:54:54.420Z"
   },
   {
    "duration": 0,
    "start_time": "2025-10-01T16:54:54.422Z"
   },
   {
    "duration": 0,
    "start_time": "2025-10-01T16:54:54.423Z"
   },
   {
    "duration": 0,
    "start_time": "2025-10-01T16:54:54.424Z"
   },
   {
    "duration": 0,
    "start_time": "2025-10-01T16:54:54.426Z"
   },
   {
    "duration": 0,
    "start_time": "2025-10-01T16:54:54.427Z"
   },
   {
    "duration": 0,
    "start_time": "2025-10-01T16:54:54.428Z"
   },
   {
    "duration": 0,
    "start_time": "2025-10-01T16:54:54.429Z"
   },
   {
    "duration": 0,
    "start_time": "2025-10-01T16:54:54.430Z"
   },
   {
    "duration": 0,
    "start_time": "2025-10-01T16:54:54.431Z"
   },
   {
    "duration": 0,
    "start_time": "2025-10-01T16:54:54.432Z"
   },
   {
    "duration": 0,
    "start_time": "2025-10-01T16:54:54.433Z"
   },
   {
    "duration": 0,
    "start_time": "2025-10-01T16:54:54.435Z"
   },
   {
    "duration": 0,
    "start_time": "2025-10-01T16:54:54.436Z"
   },
   {
    "duration": 0,
    "start_time": "2025-10-01T16:54:54.437Z"
   },
   {
    "duration": 0,
    "start_time": "2025-10-01T16:54:54.438Z"
   },
   {
    "duration": 0,
    "start_time": "2025-10-01T16:54:54.439Z"
   },
   {
    "duration": 0,
    "start_time": "2025-10-01T16:54:54.440Z"
   },
   {
    "duration": 0,
    "start_time": "2025-10-01T16:54:54.441Z"
   },
   {
    "duration": 1982,
    "start_time": "2025-10-01T16:55:16.336Z"
   },
   {
    "duration": 989,
    "start_time": "2025-10-01T16:55:18.321Z"
   },
   {
    "duration": 84,
    "start_time": "2025-10-01T16:55:19.311Z"
   },
   {
    "duration": 188,
    "start_time": "2025-10-01T16:55:19.397Z"
   },
   {
    "duration": 19,
    "start_time": "2025-10-01T16:55:19.587Z"
   },
   {
    "duration": 571,
    "start_time": "2025-10-01T16:55:19.608Z"
   },
   {
    "duration": 1145,
    "start_time": "2025-10-01T16:55:20.181Z"
   },
   {
    "duration": 2287,
    "start_time": "2025-10-01T16:55:21.327Z"
   },
   {
    "duration": 199,
    "start_time": "2025-10-01T16:55:23.616Z"
   },
   {
    "duration": 766,
    "start_time": "2025-10-01T16:55:23.817Z"
   },
   {
    "duration": 130,
    "start_time": "2025-10-01T16:55:24.585Z"
   },
   {
    "duration": 4,
    "start_time": "2025-10-01T16:55:24.716Z"
   },
   {
    "duration": 214,
    "start_time": "2025-10-01T16:55:24.722Z"
   },
   {
    "duration": 123,
    "start_time": "2025-10-01T16:55:24.939Z"
   },
   {
    "duration": 7,
    "start_time": "2025-10-01T16:55:25.064Z"
   },
   {
    "duration": 608,
    "start_time": "2025-10-01T16:55:25.073Z"
   },
   {
    "duration": 63,
    "start_time": "2025-10-01T16:55:25.683Z"
   },
   {
    "duration": 17,
    "start_time": "2025-10-01T16:55:25.748Z"
   },
   {
    "duration": 60,
    "start_time": "2025-10-01T16:55:25.767Z"
   },
   {
    "duration": 244,
    "start_time": "2025-10-01T16:55:25.829Z"
   },
   {
    "duration": 243,
    "start_time": "2025-10-01T16:55:26.075Z"
   },
   {
    "duration": 14,
    "start_time": "2025-10-01T16:55:26.319Z"
   },
   {
    "duration": 1282,
    "start_time": "2025-10-01T16:55:26.335Z"
   },
   {
    "duration": 0,
    "start_time": "2025-10-01T16:55:27.619Z"
   },
   {
    "duration": 28,
    "start_time": "2025-10-01T16:55:34.255Z"
   },
   {
    "duration": 1260,
    "start_time": "2025-10-01T16:57:02.345Z"
   },
   {
    "duration": 1595,
    "start_time": "2025-10-01T17:05:05.696Z"
   },
   {
    "duration": 1046,
    "start_time": "2025-10-01T17:05:07.293Z"
   },
   {
    "duration": 114,
    "start_time": "2025-10-01T17:05:08.341Z"
   },
   {
    "duration": 183,
    "start_time": "2025-10-01T17:05:08.457Z"
   },
   {
    "duration": 105,
    "start_time": "2025-10-01T17:05:08.643Z"
   },
   {
    "duration": 551,
    "start_time": "2025-10-01T17:05:08.750Z"
   },
   {
    "duration": 1122,
    "start_time": "2025-10-01T17:05:09.304Z"
   },
   {
    "duration": 2286,
    "start_time": "2025-10-01T17:05:10.428Z"
   },
   {
    "duration": 180,
    "start_time": "2025-10-01T17:05:12.716Z"
   },
   {
    "duration": 775,
    "start_time": "2025-10-01T17:05:12.898Z"
   },
   {
    "duration": 124,
    "start_time": "2025-10-01T17:05:13.675Z"
   },
   {
    "duration": 15,
    "start_time": "2025-10-01T17:05:13.801Z"
   },
   {
    "duration": 198,
    "start_time": "2025-10-01T17:05:13.817Z"
   },
   {
    "duration": 122,
    "start_time": "2025-10-01T17:05:14.018Z"
   },
   {
    "duration": 7,
    "start_time": "2025-10-01T17:05:14.142Z"
   },
   {
    "duration": 531,
    "start_time": "2025-10-01T17:05:14.151Z"
   },
   {
    "duration": 61,
    "start_time": "2025-10-01T17:05:14.684Z"
   },
   {
    "duration": 17,
    "start_time": "2025-10-01T17:05:14.746Z"
   },
   {
    "duration": 62,
    "start_time": "2025-10-01T17:05:14.765Z"
   },
   {
    "duration": 264,
    "start_time": "2025-10-01T17:05:14.829Z"
   },
   {
    "duration": 332,
    "start_time": "2025-10-01T17:05:15.096Z"
   },
   {
    "duration": 15,
    "start_time": "2025-10-01T17:05:15.432Z"
   },
   {
    "duration": 1291,
    "start_time": "2025-10-01T17:05:15.449Z"
   },
   {
    "duration": 0,
    "start_time": "2025-10-01T17:05:16.741Z"
   },
   {
    "duration": 1579,
    "start_time": "2025-10-02T07:11:29.984Z"
   },
   {
    "duration": 2011,
    "start_time": "2025-10-02T07:11:31.565Z"
   },
   {
    "duration": 77,
    "start_time": "2025-10-02T07:11:33.578Z"
   },
   {
    "duration": 153,
    "start_time": "2025-10-02T07:11:33.656Z"
   },
   {
    "duration": 6,
    "start_time": "2025-10-02T07:11:33.811Z"
   },
   {
    "duration": 514,
    "start_time": "2025-10-02T07:11:33.819Z"
   },
   {
    "duration": 1059,
    "start_time": "2025-10-02T07:11:34.335Z"
   },
   {
    "duration": 1966,
    "start_time": "2025-10-02T07:11:35.396Z"
   },
   {
    "duration": 160,
    "start_time": "2025-10-02T07:11:37.364Z"
   },
   {
    "duration": 767,
    "start_time": "2025-10-02T07:11:37.525Z"
   },
   {
    "duration": 106,
    "start_time": "2025-10-02T07:11:38.294Z"
   },
   {
    "duration": 27,
    "start_time": "2025-10-02T07:11:38.401Z"
   },
   {
    "duration": 164,
    "start_time": "2025-10-02T07:11:38.430Z"
   },
   {
    "duration": 106,
    "start_time": "2025-10-02T07:11:38.597Z"
   },
   {
    "duration": 5,
    "start_time": "2025-10-02T07:11:38.705Z"
   },
   {
    "duration": 466,
    "start_time": "2025-10-02T07:11:38.712Z"
   },
   {
    "duration": 46,
    "start_time": "2025-10-02T07:11:39.180Z"
   },
   {
    "duration": 33,
    "start_time": "2025-10-02T07:11:39.227Z"
   },
   {
    "duration": 78,
    "start_time": "2025-10-02T07:11:39.261Z"
   },
   {
    "duration": 205,
    "start_time": "2025-10-02T07:11:39.341Z"
   },
   {
    "duration": 216,
    "start_time": "2025-10-02T07:11:39.547Z"
   },
   {
    "duration": 12,
    "start_time": "2025-10-02T07:11:39.765Z"
   },
   {
    "duration": 1144,
    "start_time": "2025-10-02T07:11:39.779Z"
   },
   {
    "duration": 0,
    "start_time": "2025-10-02T07:11:40.925Z"
   },
   {
    "duration": 1331,
    "start_time": "2025-10-02T07:13:04.696Z"
   },
   {
    "duration": 860,
    "start_time": "2025-10-02T07:13:06.029Z"
   },
   {
    "duration": 93,
    "start_time": "2025-10-02T07:13:06.890Z"
   },
   {
    "duration": 182,
    "start_time": "2025-10-02T07:13:06.985Z"
   },
   {
    "duration": 6,
    "start_time": "2025-10-02T07:13:07.170Z"
   },
   {
    "duration": 643,
    "start_time": "2025-10-02T07:13:07.178Z"
   },
   {
    "duration": 1302,
    "start_time": "2025-10-02T07:13:07.823Z"
   },
   {
    "duration": 2152,
    "start_time": "2025-10-02T07:13:09.126Z"
   },
   {
    "duration": 153,
    "start_time": "2025-10-02T07:13:11.279Z"
   },
   {
    "duration": 704,
    "start_time": "2025-10-02T07:13:11.433Z"
   },
   {
    "duration": 111,
    "start_time": "2025-10-02T07:13:12.139Z"
   },
   {
    "duration": 4,
    "start_time": "2025-10-02T07:13:12.252Z"
   },
   {
    "duration": 171,
    "start_time": "2025-10-02T07:13:12.257Z"
   },
   {
    "duration": 108,
    "start_time": "2025-10-02T07:13:12.431Z"
   },
   {
    "duration": 10,
    "start_time": "2025-10-02T07:13:12.541Z"
   },
   {
    "duration": 461,
    "start_time": "2025-10-02T07:13:12.552Z"
   },
   {
    "duration": 50,
    "start_time": "2025-10-02T07:13:13.014Z"
   },
   {
    "duration": 16,
    "start_time": "2025-10-02T07:13:13.065Z"
   },
   {
    "duration": 41,
    "start_time": "2025-10-02T07:13:13.083Z"
   },
   {
    "duration": 224,
    "start_time": "2025-10-02T07:13:13.126Z"
   },
   {
    "duration": 241,
    "start_time": "2025-10-02T07:13:13.352Z"
   },
   {
    "duration": 13,
    "start_time": "2025-10-02T07:13:13.594Z"
   },
   {
    "duration": 1102,
    "start_time": "2025-10-02T07:13:13.609Z"
   },
   {
    "duration": 4,
    "start_time": "2025-10-02T07:13:14.712Z"
   },
   {
    "duration": 0,
    "start_time": "2025-10-02T07:13:14.717Z"
   },
   {
    "duration": 0,
    "start_time": "2025-10-02T07:13:14.719Z"
   },
   {
    "duration": 0,
    "start_time": "2025-10-02T07:13:14.720Z"
   },
   {
    "duration": 0,
    "start_time": "2025-10-02T07:13:14.721Z"
   },
   {
    "duration": 1369,
    "start_time": "2025-10-02T07:15:40.152Z"
   },
   {
    "duration": 869,
    "start_time": "2025-10-02T07:15:41.523Z"
   },
   {
    "duration": 82,
    "start_time": "2025-10-02T07:15:42.394Z"
   },
   {
    "duration": 149,
    "start_time": "2025-10-02T07:15:42.477Z"
   },
   {
    "duration": 6,
    "start_time": "2025-10-02T07:15:42.628Z"
   },
   {
    "duration": 471,
    "start_time": "2025-10-02T07:15:42.635Z"
   },
   {
    "duration": 947,
    "start_time": "2025-10-02T07:15:43.107Z"
   },
   {
    "duration": 1974,
    "start_time": "2025-10-02T07:15:44.055Z"
   },
   {
    "duration": 168,
    "start_time": "2025-10-02T07:15:46.030Z"
   },
   {
    "duration": 682,
    "start_time": "2025-10-02T07:15:46.199Z"
   },
   {
    "duration": 116,
    "start_time": "2025-10-02T07:15:46.883Z"
   },
   {
    "duration": 3,
    "start_time": "2025-10-02T07:15:47.001Z"
   },
   {
    "duration": 171,
    "start_time": "2025-10-02T07:15:47.005Z"
   },
   {
    "duration": 107,
    "start_time": "2025-10-02T07:15:47.178Z"
   },
   {
    "duration": 41,
    "start_time": "2025-10-02T07:15:47.286Z"
   },
   {
    "duration": 425,
    "start_time": "2025-10-02T07:15:47.328Z"
   },
   {
    "duration": 45,
    "start_time": "2025-10-02T07:15:47.754Z"
   },
   {
    "duration": 14,
    "start_time": "2025-10-02T07:15:47.801Z"
   },
   {
    "duration": 58,
    "start_time": "2025-10-02T07:15:47.817Z"
   },
   {
    "duration": 200,
    "start_time": "2025-10-02T07:15:47.876Z"
   },
   {
    "duration": 205,
    "start_time": "2025-10-02T07:15:48.078Z"
   },
   {
    "duration": 11,
    "start_time": "2025-10-02T07:15:48.285Z"
   },
   {
    "duration": 1052,
    "start_time": "2025-10-02T07:15:48.298Z"
   },
   {
    "duration": 1339,
    "start_time": "2025-10-02T07:16:14.588Z"
   },
   {
    "duration": 850,
    "start_time": "2025-10-02T07:16:15.929Z"
   },
   {
    "duration": 72,
    "start_time": "2025-10-02T07:16:16.781Z"
   },
   {
    "duration": 143,
    "start_time": "2025-10-02T07:16:16.854Z"
   },
   {
    "duration": 6,
    "start_time": "2025-10-02T07:16:17.000Z"
   },
   {
    "duration": 461,
    "start_time": "2025-10-02T07:16:17.007Z"
   },
   {
    "duration": 939,
    "start_time": "2025-10-02T07:16:17.470Z"
   },
   {
    "duration": 1896,
    "start_time": "2025-10-02T07:16:18.411Z"
   },
   {
    "duration": 181,
    "start_time": "2025-10-02T07:16:20.308Z"
   },
   {
    "duration": 765,
    "start_time": "2025-10-02T07:16:20.491Z"
   },
   {
    "duration": 105,
    "start_time": "2025-10-02T07:16:21.257Z"
   },
   {
    "duration": 3,
    "start_time": "2025-10-02T07:16:21.364Z"
   },
   {
    "duration": 177,
    "start_time": "2025-10-02T07:16:21.368Z"
   },
   {
    "duration": 103,
    "start_time": "2025-10-02T07:16:21.552Z"
   },
   {
    "duration": 47,
    "start_time": "2025-10-02T07:16:21.656Z"
   },
   {
    "duration": 451,
    "start_time": "2025-10-02T07:16:21.704Z"
   },
   {
    "duration": 47,
    "start_time": "2025-10-02T07:16:22.157Z"
   },
   {
    "duration": 17,
    "start_time": "2025-10-02T07:16:22.205Z"
   },
   {
    "duration": 59,
    "start_time": "2025-10-02T07:16:22.223Z"
   },
   {
    "duration": 205,
    "start_time": "2025-10-02T07:16:22.284Z"
   },
   {
    "duration": 212,
    "start_time": "2025-10-02T07:16:22.491Z"
   },
   {
    "duration": 12,
    "start_time": "2025-10-02T07:16:22.705Z"
   },
   {
    "duration": 1043,
    "start_time": "2025-10-02T07:16:22.718Z"
   },
   {
    "duration": 139500,
    "start_time": "2025-10-02T07:16:23.762Z"
   },
   {
    "duration": 1422,
    "start_time": "2025-10-02T07:19:57.992Z"
   },
   {
    "duration": 841,
    "start_time": "2025-10-02T07:19:59.415Z"
   },
   {
    "duration": 72,
    "start_time": "2025-10-02T07:20:00.258Z"
   },
   {
    "duration": 149,
    "start_time": "2025-10-02T07:20:00.331Z"
   },
   {
    "duration": 125,
    "start_time": "2025-10-02T07:20:00.482Z"
   },
   {
    "duration": 492,
    "start_time": "2025-10-02T07:20:00.609Z"
   },
   {
    "duration": 977,
    "start_time": "2025-10-02T07:20:01.104Z"
   },
   {
    "duration": 1924,
    "start_time": "2025-10-02T07:20:02.083Z"
   },
   {
    "duration": 165,
    "start_time": "2025-10-02T07:20:04.008Z"
   },
   {
    "duration": 676,
    "start_time": "2025-10-02T07:20:04.174Z"
   },
   {
    "duration": 112,
    "start_time": "2025-10-02T07:20:04.852Z"
   },
   {
    "duration": 10,
    "start_time": "2025-10-02T07:20:04.965Z"
   },
   {
    "duration": 179,
    "start_time": "2025-10-02T07:20:04.976Z"
   },
   {
    "duration": 115,
    "start_time": "2025-10-02T07:20:05.158Z"
   },
   {
    "duration": 72,
    "start_time": "2025-10-02T07:20:05.275Z"
   },
   {
    "duration": 533,
    "start_time": "2025-10-02T07:20:05.348Z"
   },
   {
    "duration": 53,
    "start_time": "2025-10-02T07:20:05.883Z"
   },
   {
    "duration": 18,
    "start_time": "2025-10-02T07:20:05.951Z"
   },
   {
    "duration": 86,
    "start_time": "2025-10-02T07:20:05.971Z"
   },
   {
    "duration": 234,
    "start_time": "2025-10-02T07:20:06.060Z"
   },
   {
    "duration": 236,
    "start_time": "2025-10-02T07:20:06.296Z"
   },
   {
    "duration": 24,
    "start_time": "2025-10-02T07:20:06.533Z"
   },
   {
    "duration": 151,
    "start_time": "2025-10-02T07:20:06.559Z"
   },
   {
    "duration": 253,
    "start_time": "2025-10-02T07:20:06.711Z"
   },
   {
    "duration": 82,
    "start_time": "2025-10-02T07:23:18.718Z"
   },
   {
    "duration": 1389,
    "start_time": "2025-10-02T07:23:25.186Z"
   },
   {
    "duration": 874,
    "start_time": "2025-10-02T07:23:26.577Z"
   },
   {
    "duration": 74,
    "start_time": "2025-10-02T07:23:27.452Z"
   },
   {
    "duration": 156,
    "start_time": "2025-10-02T07:23:27.528Z"
   },
   {
    "duration": 7,
    "start_time": "2025-10-02T07:23:27.686Z"
   },
   {
    "duration": 483,
    "start_time": "2025-10-02T07:23:27.694Z"
   },
   {
    "duration": 982,
    "start_time": "2025-10-02T07:23:28.178Z"
   },
   {
    "duration": 1907,
    "start_time": "2025-10-02T07:23:29.162Z"
   },
   {
    "duration": 164,
    "start_time": "2025-10-02T07:23:31.070Z"
   },
   {
    "duration": 685,
    "start_time": "2025-10-02T07:23:31.235Z"
   },
   {
    "duration": 109,
    "start_time": "2025-10-02T07:23:31.921Z"
   },
   {
    "duration": 3,
    "start_time": "2025-10-02T07:23:32.032Z"
   },
   {
    "duration": 176,
    "start_time": "2025-10-02T07:23:32.036Z"
   },
   {
    "duration": 106,
    "start_time": "2025-10-02T07:23:32.214Z"
   },
   {
    "duration": 20,
    "start_time": "2025-10-02T07:23:32.321Z"
   },
   {
    "duration": 461,
    "start_time": "2025-10-02T07:23:32.342Z"
   },
   {
    "duration": 59,
    "start_time": "2025-10-02T07:23:32.805Z"
   },
   {
    "duration": 17,
    "start_time": "2025-10-02T07:23:32.866Z"
   },
   {
    "duration": 52,
    "start_time": "2025-10-02T07:23:32.884Z"
   },
   {
    "duration": 218,
    "start_time": "2025-10-02T07:23:32.938Z"
   },
   {
    "duration": 216,
    "start_time": "2025-10-02T07:23:33.157Z"
   },
   {
    "duration": 12,
    "start_time": "2025-10-02T07:23:33.374Z"
   },
   {
    "duration": 1041,
    "start_time": "2025-10-02T07:23:33.388Z"
   },
   {
    "duration": 2150,
    "start_time": "2025-10-02T07:23:34.431Z"
   },
   {
    "duration": 1303,
    "start_time": "2025-10-02T07:25:47.911Z"
   },
   {
    "duration": 823,
    "start_time": "2025-10-02T07:25:49.216Z"
   },
   {
    "duration": 68,
    "start_time": "2025-10-02T07:25:50.040Z"
   },
   {
    "duration": 148,
    "start_time": "2025-10-02T07:25:50.110Z"
   },
   {
    "duration": 6,
    "start_time": "2025-10-02T07:25:50.260Z"
   },
   {
    "duration": 486,
    "start_time": "2025-10-02T07:25:50.268Z"
   },
   {
    "duration": 949,
    "start_time": "2025-10-02T07:25:50.755Z"
   },
   {
    "duration": 1778,
    "start_time": "2025-10-02T07:25:51.706Z"
   },
   {
    "duration": 137,
    "start_time": "2025-10-02T07:25:53.486Z"
   },
   {
    "duration": 687,
    "start_time": "2025-10-02T07:25:53.624Z"
   },
   {
    "duration": 95,
    "start_time": "2025-10-02T07:25:54.313Z"
   },
   {
    "duration": 3,
    "start_time": "2025-10-02T07:25:54.410Z"
   },
   {
    "duration": 215,
    "start_time": "2025-10-02T07:25:54.415Z"
   },
   {
    "duration": 92,
    "start_time": "2025-10-02T07:25:54.633Z"
   },
   {
    "duration": 8,
    "start_time": "2025-10-02T07:25:54.726Z"
   },
   {
    "duration": 427,
    "start_time": "2025-10-02T07:25:54.751Z"
   },
   {
    "duration": 37,
    "start_time": "2025-10-02T07:25:55.179Z"
   },
   {
    "duration": 53,
    "start_time": "2025-10-02T07:25:55.217Z"
   },
   {
    "duration": 32,
    "start_time": "2025-10-02T07:25:55.272Z"
   },
   {
    "duration": 245,
    "start_time": "2025-10-02T07:25:55.306Z"
   },
   {
    "duration": 212,
    "start_time": "2025-10-02T07:25:55.553Z"
   },
   {
    "duration": 12,
    "start_time": "2025-10-02T07:25:55.767Z"
   },
   {
    "duration": 950,
    "start_time": "2025-10-02T07:25:55.780Z"
   },
   {
    "duration": 22928,
    "start_time": "2025-10-02T07:25:56.731Z"
   },
   {
    "duration": 1306,
    "start_time": "2025-10-02T07:27:13.202Z"
   },
   {
    "duration": 881,
    "start_time": "2025-10-02T07:27:14.510Z"
   },
   {
    "duration": 93,
    "start_time": "2025-10-02T07:27:15.393Z"
   },
   {
    "duration": 142,
    "start_time": "2025-10-02T07:27:15.488Z"
   },
   {
    "duration": 18,
    "start_time": "2025-10-02T07:27:15.632Z"
   },
   {
    "duration": 490,
    "start_time": "2025-10-02T07:27:15.652Z"
   },
   {
    "duration": 950,
    "start_time": "2025-10-02T07:27:16.143Z"
   },
   {
    "duration": 1823,
    "start_time": "2025-10-02T07:27:17.094Z"
   },
   {
    "duration": 138,
    "start_time": "2025-10-02T07:27:18.918Z"
   },
   {
    "duration": 695,
    "start_time": "2025-10-02T07:27:19.058Z"
   },
   {
    "duration": 97,
    "start_time": "2025-10-02T07:27:19.754Z"
   },
   {
    "duration": 3,
    "start_time": "2025-10-02T07:27:19.853Z"
   },
   {
    "duration": 192,
    "start_time": "2025-10-02T07:27:19.858Z"
   },
   {
    "duration": 98,
    "start_time": "2025-10-02T07:27:20.053Z"
   },
   {
    "duration": 6,
    "start_time": "2025-10-02T07:27:20.153Z"
   },
   {
    "duration": 497,
    "start_time": "2025-10-02T07:27:20.160Z"
   },
   {
    "duration": 40,
    "start_time": "2025-10-02T07:27:20.659Z"
   },
   {
    "duration": 16,
    "start_time": "2025-10-02T07:27:20.700Z"
   },
   {
    "duration": 63,
    "start_time": "2025-10-02T07:27:20.718Z"
   },
   {
    "duration": 212,
    "start_time": "2025-10-02T07:27:20.783Z"
   },
   {
    "duration": 214,
    "start_time": "2025-10-02T07:27:20.997Z"
   },
   {
    "duration": 12,
    "start_time": "2025-10-02T07:27:21.213Z"
   },
   {
    "duration": 963,
    "start_time": "2025-10-02T07:27:21.227Z"
   },
   {
    "duration": 20564,
    "start_time": "2025-10-02T07:27:22.192Z"
   },
   {
    "duration": 1500,
    "start_time": "2025-10-02T07:30:25.536Z"
   },
   {
    "duration": 856,
    "start_time": "2025-10-02T07:30:27.038Z"
   },
   {
    "duration": 82,
    "start_time": "2025-10-02T07:30:27.895Z"
   },
   {
    "duration": 157,
    "start_time": "2025-10-02T07:30:27.979Z"
   },
   {
    "duration": 7,
    "start_time": "2025-10-02T07:30:28.150Z"
   },
   {
    "duration": 550,
    "start_time": "2025-10-02T07:30:28.159Z"
   },
   {
    "duration": 972,
    "start_time": "2025-10-02T07:30:28.711Z"
   },
   {
    "duration": 1938,
    "start_time": "2025-10-02T07:30:29.685Z"
   },
   {
    "duration": 148,
    "start_time": "2025-10-02T07:30:31.625Z"
   },
   {
    "duration": 681,
    "start_time": "2025-10-02T07:30:31.774Z"
   },
   {
    "duration": 101,
    "start_time": "2025-10-02T07:30:32.456Z"
   },
   {
    "duration": 12,
    "start_time": "2025-10-02T07:30:32.559Z"
   },
   {
    "duration": 170,
    "start_time": "2025-10-02T07:30:32.572Z"
   },
   {
    "duration": 100,
    "start_time": "2025-10-02T07:30:32.744Z"
   },
   {
    "duration": 5,
    "start_time": "2025-10-02T07:30:32.846Z"
   },
   {
    "duration": 470,
    "start_time": "2025-10-02T07:30:32.853Z"
   },
   {
    "duration": 43,
    "start_time": "2025-10-02T07:30:33.324Z"
   },
   {
    "duration": 26,
    "start_time": "2025-10-02T07:30:33.369Z"
   },
   {
    "duration": 35,
    "start_time": "2025-10-02T07:30:33.396Z"
   },
   {
    "duration": 225,
    "start_time": "2025-10-02T07:30:33.433Z"
   },
   {
    "duration": 225,
    "start_time": "2025-10-02T07:30:33.660Z"
   },
   {
    "duration": 12,
    "start_time": "2025-10-02T07:30:33.887Z"
   },
   {
    "duration": 954,
    "start_time": "2025-10-02T07:30:33.900Z"
   },
   {
    "duration": 20810,
    "start_time": "2025-10-02T07:30:34.855Z"
   },
   {
    "duration": 1598,
    "start_time": "2025-10-02T07:34:36.247Z"
   },
   {
    "duration": 821,
    "start_time": "2025-10-02T07:34:37.846Z"
   },
   {
    "duration": 70,
    "start_time": "2025-10-02T07:34:38.668Z"
   },
   {
    "duration": 155,
    "start_time": "2025-10-02T07:34:38.740Z"
   },
   {
    "duration": 5,
    "start_time": "2025-10-02T07:34:38.897Z"
   },
   {
    "duration": 481,
    "start_time": "2025-10-02T07:34:38.904Z"
   },
   {
    "duration": 916,
    "start_time": "2025-10-02T07:34:39.387Z"
   },
   {
    "duration": 1793,
    "start_time": "2025-10-02T07:34:40.305Z"
   },
   {
    "duration": 129,
    "start_time": "2025-10-02T07:34:42.100Z"
   },
   {
    "duration": 689,
    "start_time": "2025-10-02T07:34:42.231Z"
   },
   {
    "duration": 96,
    "start_time": "2025-10-02T07:34:42.921Z"
   },
   {
    "duration": 57,
    "start_time": "2025-10-02T07:34:43.018Z"
   },
   {
    "duration": 170,
    "start_time": "2025-10-02T07:34:43.076Z"
   },
   {
    "duration": 82,
    "start_time": "2025-10-02T07:34:43.249Z"
   },
   {
    "duration": 19,
    "start_time": "2025-10-02T07:34:43.332Z"
   },
   {
    "duration": 465,
    "start_time": "2025-10-02T07:34:43.352Z"
   },
   {
    "duration": 43,
    "start_time": "2025-10-02T07:34:43.818Z"
   },
   {
    "duration": 14,
    "start_time": "2025-10-02T07:34:43.862Z"
   },
   {
    "duration": 30,
    "start_time": "2025-10-02T07:34:43.877Z"
   },
   {
    "duration": 207,
    "start_time": "2025-10-02T07:34:43.909Z"
   },
   {
    "duration": 208,
    "start_time": "2025-10-02T07:34:44.118Z"
   },
   {
    "duration": 13,
    "start_time": "2025-10-02T07:34:44.328Z"
   },
   {
    "duration": 908,
    "start_time": "2025-10-02T07:34:44.351Z"
   },
   {
    "duration": 19895,
    "start_time": "2025-10-02T07:34:45.261Z"
   },
   {
    "duration": 1935,
    "start_time": "2025-10-02T07:37:36.951Z"
   },
   {
    "duration": 857,
    "start_time": "2025-10-02T07:37:38.888Z"
   },
   {
    "duration": 72,
    "start_time": "2025-10-02T07:37:39.750Z"
   },
   {
    "duration": 154,
    "start_time": "2025-10-02T07:37:39.823Z"
   },
   {
    "duration": 5,
    "start_time": "2025-10-02T07:37:39.980Z"
   },
   {
    "duration": 497,
    "start_time": "2025-10-02T07:37:39.987Z"
   },
   {
    "duration": 974,
    "start_time": "2025-10-02T07:37:40.485Z"
   },
   {
    "duration": 1903,
    "start_time": "2025-10-02T07:37:41.461Z"
   },
   {
    "duration": 143,
    "start_time": "2025-10-02T07:37:43.366Z"
   },
   {
    "duration": 758,
    "start_time": "2025-10-02T07:37:43.510Z"
   },
   {
    "duration": 104,
    "start_time": "2025-10-02T07:37:44.270Z"
   },
   {
    "duration": 4,
    "start_time": "2025-10-02T07:37:44.375Z"
   },
   {
    "duration": 192,
    "start_time": "2025-10-02T07:37:44.381Z"
   },
   {
    "duration": 91,
    "start_time": "2025-10-02T07:37:44.575Z"
   },
   {
    "duration": 6,
    "start_time": "2025-10-02T07:37:44.667Z"
   },
   {
    "duration": 469,
    "start_time": "2025-10-02T07:37:44.675Z"
   },
   {
    "duration": 37,
    "start_time": "2025-10-02T07:37:45.150Z"
   },
   {
    "duration": 15,
    "start_time": "2025-10-02T07:37:45.189Z"
   },
   {
    "duration": 54,
    "start_time": "2025-10-02T07:37:45.205Z"
   },
   {
    "duration": 205,
    "start_time": "2025-10-02T07:37:45.260Z"
   },
   {
    "duration": 222,
    "start_time": "2025-10-02T07:37:45.467Z"
   },
   {
    "duration": 14,
    "start_time": "2025-10-02T07:37:45.691Z"
   },
   {
    "duration": 962,
    "start_time": "2025-10-02T07:37:45.707Z"
   },
   {
    "duration": 21981,
    "start_time": "2025-10-02T07:37:46.671Z"
   },
   {
    "duration": 711861,
    "start_time": "2025-10-02T07:38:08.654Z"
   },
   {
    "duration": 194,
    "start_time": "2025-10-02T07:50:00.517Z"
   },
   {
    "duration": 4,
    "start_time": "2025-10-02T07:50:52.275Z"
   },
   {
    "duration": 1552,
    "start_time": "2025-10-02T07:51:02.333Z"
   },
   {
    "duration": 797,
    "start_time": "2025-10-02T07:51:03.887Z"
   },
   {
    "duration": 75,
    "start_time": "2025-10-02T07:51:04.686Z"
   },
   {
    "duration": 137,
    "start_time": "2025-10-02T07:51:04.762Z"
   },
   {
    "duration": 6,
    "start_time": "2025-10-02T07:51:04.901Z"
   },
   {
    "duration": 493,
    "start_time": "2025-10-02T07:51:04.909Z"
   },
   {
    "duration": 943,
    "start_time": "2025-10-02T07:51:05.403Z"
   },
   {
    "duration": 1742,
    "start_time": "2025-10-02T07:51:06.351Z"
   },
   {
    "duration": 134,
    "start_time": "2025-10-02T07:51:08.094Z"
   },
   {
    "duration": 678,
    "start_time": "2025-10-02T07:51:08.229Z"
   },
   {
    "duration": 100,
    "start_time": "2025-10-02T07:51:08.909Z"
   },
   {
    "duration": 4,
    "start_time": "2025-10-02T07:51:09.010Z"
   },
   {
    "duration": 202,
    "start_time": "2025-10-02T07:51:09.015Z"
   },
   {
    "duration": 93,
    "start_time": "2025-10-02T07:51:09.220Z"
   },
   {
    "duration": 125,
    "start_time": "2025-10-02T07:51:09.315Z"
   },
   {
    "duration": 417,
    "start_time": "2025-10-02T07:51:09.441Z"
   },
   {
    "duration": 35,
    "start_time": "2025-10-02T07:51:09.859Z"
   },
   {
    "duration": 15,
    "start_time": "2025-10-02T07:51:09.895Z"
   },
   {
    "duration": 50,
    "start_time": "2025-10-02T07:51:09.912Z"
   },
   {
    "duration": 210,
    "start_time": "2025-10-02T07:51:09.963Z"
   },
   {
    "duration": 210,
    "start_time": "2025-10-02T07:51:10.175Z"
   },
   {
    "duration": 12,
    "start_time": "2025-10-02T07:51:10.387Z"
   },
   {
    "duration": 935,
    "start_time": "2025-10-02T07:51:10.400Z"
   },
   {
    "duration": 25521,
    "start_time": "2025-10-02T07:51:11.336Z"
   },
   {
    "duration": 702927,
    "start_time": "2025-10-02T07:51:36.859Z"
   },
   {
    "duration": 24576,
    "start_time": "2025-10-02T08:03:19.787Z"
   },
   {
    "duration": 103,
    "start_time": "2025-10-02T12:09:52.066Z"
   },
   {
    "duration": 2340,
    "start_time": "2025-10-02T12:10:02.011Z"
   },
   {
    "duration": 6,
    "start_time": "2025-10-02T12:11:06.057Z"
   },
   {
    "duration": 1356,
    "start_time": "2025-10-02T12:11:51.936Z"
   },
   {
    "duration": 790,
    "start_time": "2025-10-02T12:11:53.294Z"
   },
   {
    "duration": 75,
    "start_time": "2025-10-02T12:11:54.086Z"
   },
   {
    "duration": 147,
    "start_time": "2025-10-02T12:11:54.162Z"
   },
   {
    "duration": 6,
    "start_time": "2025-10-02T12:11:54.311Z"
   },
   {
    "duration": 455,
    "start_time": "2025-10-02T12:11:54.319Z"
   },
   {
    "duration": 932,
    "start_time": "2025-10-02T12:11:54.776Z"
   },
   {
    "duration": 2352,
    "start_time": "2025-10-02T12:11:55.709Z"
   },
   {
    "duration": 166,
    "start_time": "2025-10-02T12:11:58.064Z"
   },
   {
    "duration": 689,
    "start_time": "2025-10-02T12:11:58.233Z"
   },
   {
    "duration": 90,
    "start_time": "2025-10-02T12:11:58.924Z"
   },
   {
    "duration": 18,
    "start_time": "2025-10-02T12:11:59.016Z"
   },
   {
    "duration": 180,
    "start_time": "2025-10-02T12:11:59.035Z"
   },
   {
    "duration": 84,
    "start_time": "2025-10-02T12:11:59.217Z"
   },
   {
    "duration": 9,
    "start_time": "2025-10-02T12:11:59.302Z"
   },
   {
    "duration": 432,
    "start_time": "2025-10-02T12:11:59.313Z"
   },
   {
    "duration": 37,
    "start_time": "2025-10-02T12:11:59.750Z"
   },
   {
    "duration": 15,
    "start_time": "2025-10-02T12:11:59.788Z"
   },
   {
    "duration": 49,
    "start_time": "2025-10-02T12:11:59.804Z"
   },
   {
    "duration": 217,
    "start_time": "2025-10-02T12:11:59.855Z"
   },
   {
    "duration": 211,
    "start_time": "2025-10-02T12:12:00.074Z"
   },
   {
    "duration": 11,
    "start_time": "2025-10-02T12:12:00.287Z"
   },
   {
    "duration": 950,
    "start_time": "2025-10-02T12:12:00.300Z"
   },
   {
    "duration": 21468,
    "start_time": "2025-10-02T12:12:01.252Z"
   },
   {
    "duration": 1348,
    "start_time": "2025-10-02T12:14:01.159Z"
   },
   {
    "duration": 827,
    "start_time": "2025-10-02T12:14:02.508Z"
   },
   {
    "duration": 75,
    "start_time": "2025-10-02T12:14:03.337Z"
   },
   {
    "duration": 150,
    "start_time": "2025-10-02T12:14:03.414Z"
   },
   {
    "duration": 6,
    "start_time": "2025-10-02T12:14:03.567Z"
   },
   {
    "duration": 460,
    "start_time": "2025-10-02T12:14:03.574Z"
   },
   {
    "duration": 894,
    "start_time": "2025-10-02T12:14:04.035Z"
   },
   {
    "duration": 1807,
    "start_time": "2025-10-02T12:14:04.931Z"
   },
   {
    "duration": 136,
    "start_time": "2025-10-02T12:14:06.740Z"
   },
   {
    "duration": 652,
    "start_time": "2025-10-02T12:14:06.879Z"
   },
   {
    "duration": 88,
    "start_time": "2025-10-02T12:14:07.533Z"
   },
   {
    "duration": 15,
    "start_time": "2025-10-02T12:14:07.622Z"
   },
   {
    "duration": 239,
    "start_time": "2025-10-02T12:14:07.638Z"
   },
   {
    "duration": 93,
    "start_time": "2025-10-02T12:14:07.879Z"
   },
   {
    "duration": 91,
    "start_time": "2025-10-02T12:14:07.973Z"
   },
   {
    "duration": 405,
    "start_time": "2025-10-02T12:14:08.066Z"
   },
   {
    "duration": 36,
    "start_time": "2025-10-02T12:14:08.473Z"
   },
   {
    "duration": 15,
    "start_time": "2025-10-02T12:14:08.510Z"
   },
   {
    "duration": 52,
    "start_time": "2025-10-02T12:14:08.527Z"
   },
   {
    "duration": 206,
    "start_time": "2025-10-02T12:14:08.580Z"
   },
   {
    "duration": 214,
    "start_time": "2025-10-02T12:14:08.788Z"
   },
   {
    "duration": 12,
    "start_time": "2025-10-02T12:14:09.004Z"
   },
   {
    "duration": 908,
    "start_time": "2025-10-02T12:14:09.017Z"
   },
   {
    "duration": 20029,
    "start_time": "2025-10-02T12:14:09.927Z"
   },
   {
    "duration": 1454,
    "start_time": "2025-10-02T12:17:45.648Z"
   },
   {
    "duration": 800,
    "start_time": "2025-10-02T12:17:47.104Z"
   },
   {
    "duration": 74,
    "start_time": "2025-10-02T12:17:47.905Z"
   },
   {
    "duration": 137,
    "start_time": "2025-10-02T12:17:47.980Z"
   },
   {
    "duration": 6,
    "start_time": "2025-10-02T12:17:48.119Z"
   },
   {
    "duration": 465,
    "start_time": "2025-10-02T12:17:48.126Z"
   },
   {
    "duration": 904,
    "start_time": "2025-10-02T12:17:48.592Z"
   },
   {
    "duration": 1797,
    "start_time": "2025-10-02T12:17:49.498Z"
   },
   {
    "duration": 134,
    "start_time": "2025-10-02T12:17:51.297Z"
   },
   {
    "duration": 708,
    "start_time": "2025-10-02T12:17:51.432Z"
   },
   {
    "duration": 87,
    "start_time": "2025-10-02T12:17:52.142Z"
   },
   {
    "duration": 3,
    "start_time": "2025-10-02T12:17:52.231Z"
   },
   {
    "duration": 178,
    "start_time": "2025-10-02T12:17:52.250Z"
   },
   {
    "duration": 87,
    "start_time": "2025-10-02T12:17:52.431Z"
   },
   {
    "duration": 11,
    "start_time": "2025-10-02T12:17:52.519Z"
   },
   {
    "duration": 457,
    "start_time": "2025-10-02T12:17:52.532Z"
   },
   {
    "duration": 36,
    "start_time": "2025-10-02T12:17:52.990Z"
   },
   {
    "duration": 26,
    "start_time": "2025-10-02T12:17:53.028Z"
   },
   {
    "duration": 42,
    "start_time": "2025-10-02T12:17:53.056Z"
   },
   {
    "duration": 194,
    "start_time": "2025-10-02T12:17:53.100Z"
   },
   {
    "duration": 199,
    "start_time": "2025-10-02T12:17:53.295Z"
   },
   {
    "duration": 10,
    "start_time": "2025-10-02T12:17:53.496Z"
   },
   {
    "duration": 895,
    "start_time": "2025-10-02T12:17:53.508Z"
   },
   {
    "duration": 20247,
    "start_time": "2025-10-02T12:17:54.405Z"
   },
   {
    "duration": 1276,
    "start_time": "2025-10-02T12:19:36.209Z"
   },
   {
    "duration": 800,
    "start_time": "2025-10-02T12:19:37.487Z"
   },
   {
    "duration": 71,
    "start_time": "2025-10-02T12:19:38.289Z"
   },
   {
    "duration": 159,
    "start_time": "2025-10-02T12:19:38.362Z"
   },
   {
    "duration": 5,
    "start_time": "2025-10-02T12:19:38.523Z"
   },
   {
    "duration": 486,
    "start_time": "2025-10-02T12:19:38.529Z"
   },
   {
    "duration": 987,
    "start_time": "2025-10-02T12:19:39.017Z"
   },
   {
    "duration": 1849,
    "start_time": "2025-10-02T12:19:40.006Z"
   },
   {
    "duration": 137,
    "start_time": "2025-10-02T12:19:41.856Z"
   },
   {
    "duration": 649,
    "start_time": "2025-10-02T12:19:41.995Z"
   },
   {
    "duration": 88,
    "start_time": "2025-10-02T12:19:42.646Z"
   },
   {
    "duration": 9,
    "start_time": "2025-10-02T12:19:42.735Z"
   },
   {
    "duration": 194,
    "start_time": "2025-10-02T12:19:42.751Z"
   },
   {
    "duration": 83,
    "start_time": "2025-10-02T12:19:42.951Z"
   },
   {
    "duration": 16,
    "start_time": "2025-10-02T12:19:43.035Z"
   },
   {
    "duration": 425,
    "start_time": "2025-10-02T12:19:43.052Z"
   },
   {
    "duration": 37,
    "start_time": "2025-10-02T12:19:43.478Z"
   },
   {
    "duration": 15,
    "start_time": "2025-10-02T12:19:43.516Z"
   },
   {
    "duration": 33,
    "start_time": "2025-10-02T12:19:43.550Z"
   },
   {
    "duration": 202,
    "start_time": "2025-10-02T12:19:43.584Z"
   },
   {
    "duration": 210,
    "start_time": "2025-10-02T12:19:43.788Z"
   },
   {
    "duration": 12,
    "start_time": "2025-10-02T12:19:43.999Z"
   },
   {
    "duration": 923,
    "start_time": "2025-10-02T12:19:44.012Z"
   },
   {
    "duration": 19720,
    "start_time": "2025-10-02T12:19:44.936Z"
   },
   {
    "duration": 669918,
    "start_time": "2025-10-02T12:20:04.660Z"
   },
   {
    "duration": 24771,
    "start_time": "2025-10-02T12:31:14.580Z"
   },
   {
    "duration": 2307,
    "start_time": "2025-10-02T12:31:39.352Z"
   },
   {
    "duration": 24871,
    "start_time": "2025-10-02T12:31:50.502Z"
   },
   {
    "duration": 1767,
    "start_time": "2025-10-02T16:12:40.454Z"
   },
   {
    "duration": 1452,
    "start_time": "2025-10-02T16:12:42.223Z"
   },
   {
    "duration": 84,
    "start_time": "2025-10-02T16:12:43.677Z"
   },
   {
    "duration": 184,
    "start_time": "2025-10-02T16:12:43.763Z"
   },
   {
    "duration": 10,
    "start_time": "2025-10-02T16:12:43.950Z"
   },
   {
    "duration": 538,
    "start_time": "2025-10-02T16:12:43.961Z"
   },
   {
    "duration": 1190,
    "start_time": "2025-10-02T16:12:44.501Z"
   },
   {
    "duration": 2230,
    "start_time": "2025-10-02T16:12:45.693Z"
   },
   {
    "duration": 160,
    "start_time": "2025-10-02T16:12:47.925Z"
   },
   {
    "duration": 884,
    "start_time": "2025-10-02T16:12:48.087Z"
   },
   {
    "duration": 109,
    "start_time": "2025-10-02T16:12:48.973Z"
   },
   {
    "duration": 14,
    "start_time": "2025-10-02T16:12:49.083Z"
   },
   {
    "duration": 210,
    "start_time": "2025-10-02T16:12:49.099Z"
   },
   {
    "duration": 106,
    "start_time": "2025-10-02T16:12:49.312Z"
   },
   {
    "duration": 43,
    "start_time": "2025-10-02T16:12:49.420Z"
   },
   {
    "duration": 522,
    "start_time": "2025-10-02T16:12:49.465Z"
   },
   {
    "duration": 40,
    "start_time": "2025-10-02T16:12:49.989Z"
   },
   {
    "duration": 21,
    "start_time": "2025-10-02T16:12:50.043Z"
   },
   {
    "duration": 36,
    "start_time": "2025-10-02T16:12:50.066Z"
   },
   {
    "duration": 274,
    "start_time": "2025-10-02T16:12:50.104Z"
   },
   {
    "duration": 270,
    "start_time": "2025-10-02T16:12:50.380Z"
   },
   {
    "duration": 17,
    "start_time": "2025-10-02T16:12:50.657Z"
   },
   {
    "duration": 1086,
    "start_time": "2025-10-02T16:12:50.676Z"
   },
   {
    "duration": 33585,
    "start_time": "2025-10-02T16:12:51.765Z"
   },
   {
    "duration": 785149,
    "start_time": "2025-10-02T16:13:25.352Z"
   },
   {
    "duration": 29682,
    "start_time": "2025-10-02T16:31:13.470Z"
   },
   {
    "duration": 55,
    "start_time": "2025-10-03T03:57:13.918Z"
   },
   {
    "duration": 1738,
    "start_time": "2025-10-03T03:57:20.383Z"
   },
   {
    "duration": 951,
    "start_time": "2025-10-03T03:57:22.123Z"
   },
   {
    "duration": 87,
    "start_time": "2025-10-03T03:57:23.075Z"
   },
   {
    "duration": 173,
    "start_time": "2025-10-03T03:57:23.164Z"
   },
   {
    "duration": 21,
    "start_time": "2025-10-03T03:57:23.340Z"
   },
   {
    "duration": 533,
    "start_time": "2025-10-03T03:57:23.362Z"
   },
   {
    "duration": 1067,
    "start_time": "2025-10-03T03:57:23.897Z"
   },
   {
    "duration": 2181,
    "start_time": "2025-10-03T03:57:24.966Z"
   },
   {
    "duration": 149,
    "start_time": "2025-10-03T03:57:27.148Z"
   },
   {
    "duration": 816,
    "start_time": "2025-10-03T03:57:27.298Z"
   },
   {
    "duration": 102,
    "start_time": "2025-10-03T03:57:28.116Z"
   },
   {
    "duration": 4,
    "start_time": "2025-10-03T03:57:28.221Z"
   },
   {
    "duration": 200,
    "start_time": "2025-10-03T03:57:28.227Z"
   },
   {
    "duration": 98,
    "start_time": "2025-10-03T03:57:28.430Z"
   },
   {
    "duration": 7,
    "start_time": "2025-10-03T03:57:28.530Z"
   },
   {
    "duration": 496,
    "start_time": "2025-10-03T03:57:28.539Z"
   },
   {
    "duration": 49,
    "start_time": "2025-10-03T03:57:29.037Z"
   },
   {
    "duration": 18,
    "start_time": "2025-10-03T03:57:29.088Z"
   },
   {
    "duration": 55,
    "start_time": "2025-10-03T03:57:29.108Z"
   },
   {
    "duration": 231,
    "start_time": "2025-10-03T03:57:29.165Z"
   },
   {
    "duration": 235,
    "start_time": "2025-10-03T03:57:29.398Z"
   },
   {
    "duration": 11,
    "start_time": "2025-10-03T03:57:29.635Z"
   },
   {
    "duration": 1079,
    "start_time": "2025-10-03T03:57:29.648Z"
   },
   {
    "duration": 24430,
    "start_time": "2025-10-03T03:57:30.729Z"
   },
   {
    "duration": 142,
    "start_time": "2025-10-03T07:30:24.061Z"
   },
   {
    "duration": 1814,
    "start_time": "2025-10-03T07:30:29.729Z"
   },
   {
    "duration": 1001,
    "start_time": "2025-10-03T07:30:31.545Z"
   },
   {
    "duration": 86,
    "start_time": "2025-10-03T07:30:32.548Z"
   },
   {
    "duration": 180,
    "start_time": "2025-10-03T07:30:32.635Z"
   },
   {
    "duration": 8,
    "start_time": "2025-10-03T07:30:32.818Z"
   },
   {
    "duration": 626,
    "start_time": "2025-10-03T07:30:32.827Z"
   },
   {
    "duration": 1147,
    "start_time": "2025-10-03T07:30:33.457Z"
   },
   {
    "duration": 2327,
    "start_time": "2025-10-03T07:30:34.606Z"
   },
   {
    "duration": 156,
    "start_time": "2025-10-03T07:30:36.934Z"
   },
   {
    "duration": 861,
    "start_time": "2025-10-03T07:30:37.092Z"
   },
   {
    "duration": 111,
    "start_time": "2025-10-03T07:30:37.955Z"
   },
   {
    "duration": 3,
    "start_time": "2025-10-03T07:30:38.068Z"
   },
   {
    "duration": 199,
    "start_time": "2025-10-03T07:30:38.073Z"
   },
   {
    "duration": 106,
    "start_time": "2025-10-03T07:30:38.274Z"
   },
   {
    "duration": 6,
    "start_time": "2025-10-03T07:30:38.381Z"
   },
   {
    "duration": 522,
    "start_time": "2025-10-03T07:30:38.389Z"
   },
   {
    "duration": 55,
    "start_time": "2025-10-03T07:30:38.912Z"
   },
   {
    "duration": 18,
    "start_time": "2025-10-03T07:30:38.969Z"
   },
   {
    "duration": 65,
    "start_time": "2025-10-03T07:30:38.988Z"
   },
   {
    "duration": 246,
    "start_time": "2025-10-03T07:30:39.055Z"
   },
   {
    "duration": 253,
    "start_time": "2025-10-03T07:30:39.303Z"
   },
   {
    "duration": 13,
    "start_time": "2025-10-03T07:30:39.558Z"
   },
   {
    "duration": 1161,
    "start_time": "2025-10-03T07:30:39.573Z"
   },
   {
    "duration": 28522,
    "start_time": "2025-10-03T07:30:40.736Z"
   },
   {
    "duration": 1532,
    "start_time": "2025-10-03T07:34:41.686Z"
   },
   {
    "duration": 972,
    "start_time": "2025-10-03T07:34:43.220Z"
   },
   {
    "duration": 88,
    "start_time": "2025-10-03T07:34:44.194Z"
   },
   {
    "duration": 172,
    "start_time": "2025-10-03T07:34:44.284Z"
   },
   {
    "duration": 8,
    "start_time": "2025-10-03T07:34:44.458Z"
   },
   {
    "duration": 600,
    "start_time": "2025-10-03T07:34:44.467Z"
   },
   {
    "duration": 1156,
    "start_time": "2025-10-03T07:34:45.069Z"
   },
   {
    "duration": 2324,
    "start_time": "2025-10-03T07:34:46.227Z"
   },
   {
    "duration": 156,
    "start_time": "2025-10-03T07:34:48.552Z"
   },
   {
    "duration": 772,
    "start_time": "2025-10-03T07:34:48.710Z"
   },
   {
    "duration": 102,
    "start_time": "2025-10-03T07:34:49.484Z"
   },
   {
    "duration": 49,
    "start_time": "2025-10-03T07:34:49.588Z"
   },
   {
    "duration": 192,
    "start_time": "2025-10-03T07:34:49.640Z"
   },
   {
    "duration": 97,
    "start_time": "2025-10-03T07:34:49.835Z"
   },
   {
    "duration": 19,
    "start_time": "2025-10-03T07:34:49.934Z"
   },
   {
    "duration": 498,
    "start_time": "2025-10-03T07:34:49.957Z"
   },
   {
    "duration": 41,
    "start_time": "2025-10-03T07:34:50.457Z"
   },
   {
    "duration": 21,
    "start_time": "2025-10-03T07:34:50.500Z"
   },
   {
    "duration": 53,
    "start_time": "2025-10-03T07:34:50.523Z"
   },
   {
    "duration": 242,
    "start_time": "2025-10-03T07:34:50.578Z"
   },
   {
    "duration": 243,
    "start_time": "2025-10-03T07:34:50.822Z"
   },
   {
    "duration": 12,
    "start_time": "2025-10-03T07:34:51.067Z"
   },
   {
    "duration": 1190,
    "start_time": "2025-10-03T07:34:51.081Z"
   },
   {
    "duration": 181,
    "start_time": "2025-10-03T07:34:52.273Z"
   },
   {
    "duration": 1590,
    "start_time": "2025-10-03T07:35:23.329Z"
   },
   {
    "duration": 986,
    "start_time": "2025-10-03T07:35:24.921Z"
   },
   {
    "duration": 84,
    "start_time": "2025-10-03T07:35:25.909Z"
   },
   {
    "duration": 176,
    "start_time": "2025-10-03T07:35:25.995Z"
   },
   {
    "duration": 7,
    "start_time": "2025-10-03T07:35:26.173Z"
   },
   {
    "duration": 567,
    "start_time": "2025-10-03T07:35:26.181Z"
   },
   {
    "duration": 1170,
    "start_time": "2025-10-03T07:35:26.749Z"
   },
   {
    "duration": 2294,
    "start_time": "2025-10-03T07:35:27.920Z"
   },
   {
    "duration": 156,
    "start_time": "2025-10-03T07:35:30.215Z"
   },
   {
    "duration": 774,
    "start_time": "2025-10-03T07:35:30.373Z"
   },
   {
    "duration": 104,
    "start_time": "2025-10-03T07:35:31.157Z"
   },
   {
    "duration": 3,
    "start_time": "2025-10-03T07:35:31.263Z"
   },
   {
    "duration": 211,
    "start_time": "2025-10-03T07:35:31.268Z"
   },
   {
    "duration": 100,
    "start_time": "2025-10-03T07:35:31.482Z"
   },
   {
    "duration": 55,
    "start_time": "2025-10-03T07:35:31.584Z"
   },
   {
    "duration": 622,
    "start_time": "2025-10-03T07:35:31.641Z"
   },
   {
    "duration": 40,
    "start_time": "2025-10-03T07:35:32.265Z"
   },
   {
    "duration": 126,
    "start_time": "2025-10-03T07:35:32.307Z"
   },
   {
    "duration": 48,
    "start_time": "2025-10-03T07:35:32.434Z"
   },
   {
    "duration": 231,
    "start_time": "2025-10-03T07:35:32.484Z"
   },
   {
    "duration": 256,
    "start_time": "2025-10-03T07:35:32.717Z"
   },
   {
    "duration": 14,
    "start_time": "2025-10-03T07:35:32.975Z"
   },
   {
    "duration": 1233,
    "start_time": "2025-10-03T07:35:32.990Z"
   },
   {
    "duration": 144954,
    "start_time": "2025-10-03T07:35:34.225Z"
   },
   {
    "duration": 802176,
    "start_time": "2025-10-03T07:37:59.182Z"
   },
   {
    "duration": 1726,
    "start_time": "2025-10-03T07:54:19.616Z"
   },
   {
    "duration": 1023,
    "start_time": "2025-10-03T07:54:21.346Z"
   },
   {
    "duration": 90,
    "start_time": "2025-10-03T07:54:22.371Z"
   },
   {
    "duration": 164,
    "start_time": "2025-10-03T07:54:22.463Z"
   },
   {
    "duration": 7,
    "start_time": "2025-10-03T07:54:22.629Z"
   },
   {
    "duration": 556,
    "start_time": "2025-10-03T07:54:22.638Z"
   },
   {
    "duration": 1100,
    "start_time": "2025-10-03T07:54:23.196Z"
   },
   {
    "duration": 2178,
    "start_time": "2025-10-03T07:54:24.298Z"
   },
   {
    "duration": 152,
    "start_time": "2025-10-03T07:54:26.477Z"
   },
   {
    "duration": 775,
    "start_time": "2025-10-03T07:54:26.630Z"
   },
   {
    "duration": 102,
    "start_time": "2025-10-03T07:54:27.407Z"
   },
   {
    "duration": 4,
    "start_time": "2025-10-03T07:54:27.511Z"
   },
   {
    "duration": 220,
    "start_time": "2025-10-03T07:54:27.516Z"
   },
   {
    "duration": 102,
    "start_time": "2025-10-03T07:54:27.739Z"
   },
   {
    "duration": 16,
    "start_time": "2025-10-03T07:54:27.843Z"
   },
   {
    "duration": 523,
    "start_time": "2025-10-03T07:54:27.861Z"
   },
   {
    "duration": 41,
    "start_time": "2025-10-03T07:54:28.386Z"
   },
   {
    "duration": 34,
    "start_time": "2025-10-03T07:54:28.429Z"
   },
   {
    "duration": 77,
    "start_time": "2025-10-03T07:54:28.465Z"
   },
   {
    "duration": 236,
    "start_time": "2025-10-03T07:54:28.543Z"
   },
   {
    "duration": 245,
    "start_time": "2025-10-03T07:54:28.781Z"
   },
   {
    "duration": 12,
    "start_time": "2025-10-03T07:54:29.028Z"
   },
   {
    "duration": 1225,
    "start_time": "2025-10-03T07:54:29.042Z"
   },
   {
    "duration": 147096,
    "start_time": "2025-10-03T07:54:30.269Z"
   },
   {
    "duration": 1576,
    "start_time": "2025-10-03T08:28:47.445Z"
   },
   {
    "duration": 1009,
    "start_time": "2025-10-03T08:28:49.023Z"
   },
   {
    "duration": 91,
    "start_time": "2025-10-03T08:28:50.033Z"
   },
   {
    "duration": 161,
    "start_time": "2025-10-03T08:28:50.126Z"
   },
   {
    "duration": 7,
    "start_time": "2025-10-03T08:28:50.289Z"
   },
   {
    "duration": 603,
    "start_time": "2025-10-03T08:28:50.297Z"
   },
   {
    "duration": 1136,
    "start_time": "2025-10-03T08:28:50.901Z"
   },
   {
    "duration": 2339,
    "start_time": "2025-10-03T08:28:52.039Z"
   },
   {
    "duration": 150,
    "start_time": "2025-10-03T08:28:54.380Z"
   },
   {
    "duration": 770,
    "start_time": "2025-10-03T08:28:54.532Z"
   },
   {
    "duration": 106,
    "start_time": "2025-10-03T08:28:55.304Z"
   },
   {
    "duration": 3,
    "start_time": "2025-10-03T08:28:55.412Z"
   },
   {
    "duration": 194,
    "start_time": "2025-10-03T08:28:55.417Z"
   },
   {
    "duration": 101,
    "start_time": "2025-10-03T08:28:55.614Z"
   },
   {
    "duration": 8,
    "start_time": "2025-10-03T08:28:55.717Z"
   },
   {
    "duration": 547,
    "start_time": "2025-10-03T08:28:55.727Z"
   },
   {
    "duration": 40,
    "start_time": "2025-10-03T08:28:56.276Z"
   },
   {
    "duration": 18,
    "start_time": "2025-10-03T08:28:56.318Z"
   },
   {
    "duration": 37,
    "start_time": "2025-10-03T08:28:56.357Z"
   },
   {
    "duration": 249,
    "start_time": "2025-10-03T08:28:56.396Z"
   },
   {
    "duration": 251,
    "start_time": "2025-10-03T08:28:56.647Z"
   },
   {
    "duration": 12,
    "start_time": "2025-10-03T08:28:56.900Z"
   },
   {
    "duration": 1139,
    "start_time": "2025-10-03T08:28:56.913Z"
   },
   {
    "duration": 147422,
    "start_time": "2025-10-03T08:28:58.057Z"
   },
   {
    "duration": 1919,
    "start_time": "2025-10-03T09:20:34.446Z"
   },
   {
    "duration": 1048,
    "start_time": "2025-10-03T09:20:36.367Z"
   },
   {
    "duration": 95,
    "start_time": "2025-10-03T09:20:37.417Z"
   },
   {
    "duration": 188,
    "start_time": "2025-10-03T09:20:37.513Z"
   },
   {
    "duration": 7,
    "start_time": "2025-10-03T09:20:37.703Z"
   },
   {
    "duration": 598,
    "start_time": "2025-10-03T09:20:37.711Z"
   },
   {
    "duration": 1200,
    "start_time": "2025-10-03T09:20:38.310Z"
   },
   {
    "duration": 2310,
    "start_time": "2025-10-03T09:20:39.512Z"
   },
   {
    "duration": 152,
    "start_time": "2025-10-03T09:20:41.823Z"
   },
   {
    "duration": 758,
    "start_time": "2025-10-03T09:20:41.977Z"
   },
   {
    "duration": 103,
    "start_time": "2025-10-03T09:20:42.737Z"
   },
   {
    "duration": 17,
    "start_time": "2025-10-03T09:20:42.843Z"
   },
   {
    "duration": 222,
    "start_time": "2025-10-03T09:20:42.862Z"
   },
   {
    "duration": 102,
    "start_time": "2025-10-03T09:20:43.087Z"
   },
   {
    "duration": 18,
    "start_time": "2025-10-03T09:20:43.191Z"
   },
   {
    "duration": 519,
    "start_time": "2025-10-03T09:20:43.211Z"
   },
   {
    "duration": 55,
    "start_time": "2025-10-03T09:20:43.732Z"
   },
   {
    "duration": 24,
    "start_time": "2025-10-03T09:20:43.789Z"
   },
   {
    "duration": 86,
    "start_time": "2025-10-03T09:20:43.815Z"
   },
   {
    "duration": 230,
    "start_time": "2025-10-03T09:20:43.903Z"
   },
   {
    "duration": 249,
    "start_time": "2025-10-03T09:20:44.136Z"
   },
   {
    "duration": 12,
    "start_time": "2025-10-03T09:20:44.387Z"
   },
   {
    "duration": 1256,
    "start_time": "2025-10-03T09:20:44.402Z"
   },
   {
    "duration": 138904,
    "start_time": "2025-10-03T09:20:45.660Z"
   },
   {
    "duration": 59,
    "start_time": "2025-10-03T09:46:44.684Z"
   },
   {
    "duration": 0,
    "start_time": "2025-10-03T09:46:44.746Z"
   },
   {
    "duration": 0,
    "start_time": "2025-10-03T09:46:44.748Z"
   },
   {
    "duration": 0,
    "start_time": "2025-10-03T09:46:44.749Z"
   },
   {
    "duration": 0,
    "start_time": "2025-10-03T09:46:44.751Z"
   },
   {
    "duration": 0,
    "start_time": "2025-10-03T09:46:44.753Z"
   },
   {
    "duration": 0,
    "start_time": "2025-10-03T09:46:44.754Z"
   },
   {
    "duration": 0,
    "start_time": "2025-10-03T09:46:44.756Z"
   },
   {
    "duration": 0,
    "start_time": "2025-10-03T09:46:44.758Z"
   },
   {
    "duration": 0,
    "start_time": "2025-10-03T09:46:44.760Z"
   },
   {
    "duration": 0,
    "start_time": "2025-10-03T09:46:44.762Z"
   },
   {
    "duration": 0,
    "start_time": "2025-10-03T09:46:44.764Z"
   },
   {
    "duration": 0,
    "start_time": "2025-10-03T09:46:44.765Z"
   },
   {
    "duration": 0,
    "start_time": "2025-10-03T09:46:44.767Z"
   },
   {
    "duration": 0,
    "start_time": "2025-10-03T09:46:44.768Z"
   },
   {
    "duration": 0,
    "start_time": "2025-10-03T09:46:44.770Z"
   },
   {
    "duration": 0,
    "start_time": "2025-10-03T09:46:44.771Z"
   },
   {
    "duration": 0,
    "start_time": "2025-10-03T09:46:44.773Z"
   },
   {
    "duration": 0,
    "start_time": "2025-10-03T09:46:44.774Z"
   },
   {
    "duration": 0,
    "start_time": "2025-10-03T09:46:44.776Z"
   },
   {
    "duration": 0,
    "start_time": "2025-10-03T09:46:44.778Z"
   },
   {
    "duration": 0,
    "start_time": "2025-10-03T09:46:44.780Z"
   },
   {
    "duration": 0,
    "start_time": "2025-10-03T09:46:44.781Z"
   },
   {
    "duration": 0,
    "start_time": "2025-10-03T09:46:44.785Z"
   },
   {
    "duration": 138,
    "start_time": "2025-10-03T09:46:44.788Z"
   },
   {
    "duration": 62,
    "start_time": "2025-10-03T09:46:44.928Z"
   },
   {
    "duration": 71,
    "start_time": "2025-10-03T09:47:13.069Z"
   },
   {
    "duration": 0,
    "start_time": "2025-10-03T09:47:13.144Z"
   },
   {
    "duration": 0,
    "start_time": "2025-10-03T09:47:13.146Z"
   },
   {
    "duration": 0,
    "start_time": "2025-10-03T09:47:13.148Z"
   },
   {
    "duration": 0,
    "start_time": "2025-10-03T09:47:13.150Z"
   },
   {
    "duration": 0,
    "start_time": "2025-10-03T09:47:13.152Z"
   },
   {
    "duration": 0,
    "start_time": "2025-10-03T09:47:13.153Z"
   },
   {
    "duration": 0,
    "start_time": "2025-10-03T09:47:13.154Z"
   },
   {
    "duration": 0,
    "start_time": "2025-10-03T09:47:13.155Z"
   },
   {
    "duration": 0,
    "start_time": "2025-10-03T09:47:13.157Z"
   },
   {
    "duration": 0,
    "start_time": "2025-10-03T09:47:13.159Z"
   },
   {
    "duration": 0,
    "start_time": "2025-10-03T09:47:13.161Z"
   },
   {
    "duration": 0,
    "start_time": "2025-10-03T09:47:13.164Z"
   },
   {
    "duration": 0,
    "start_time": "2025-10-03T09:47:13.165Z"
   },
   {
    "duration": 0,
    "start_time": "2025-10-03T09:47:13.167Z"
   },
   {
    "duration": 0,
    "start_time": "2025-10-03T09:47:13.169Z"
   },
   {
    "duration": 0,
    "start_time": "2025-10-03T09:47:13.170Z"
   },
   {
    "duration": 0,
    "start_time": "2025-10-03T09:47:13.172Z"
   },
   {
    "duration": 0,
    "start_time": "2025-10-03T09:47:13.174Z"
   },
   {
    "duration": 0,
    "start_time": "2025-10-03T09:47:13.176Z"
   },
   {
    "duration": 1,
    "start_time": "2025-10-03T09:47:13.177Z"
   },
   {
    "duration": 0,
    "start_time": "2025-10-03T09:47:13.179Z"
   },
   {
    "duration": 0,
    "start_time": "2025-10-03T09:47:13.181Z"
   },
   {
    "duration": 0,
    "start_time": "2025-10-03T09:47:13.182Z"
   },
   {
    "duration": 0,
    "start_time": "2025-10-03T09:47:13.184Z"
   },
   {
    "duration": 0,
    "start_time": "2025-10-03T09:47:13.185Z"
   },
   {
    "duration": 1851,
    "start_time": "2025-10-03T09:47:37.638Z"
   },
   {
    "duration": 1031,
    "start_time": "2025-10-03T09:47:39.491Z"
   },
   {
    "duration": 97,
    "start_time": "2025-10-03T09:47:40.524Z"
   },
   {
    "duration": 186,
    "start_time": "2025-10-03T09:47:40.623Z"
   },
   {
    "duration": 7,
    "start_time": "2025-10-03T09:47:40.812Z"
   },
   {
    "duration": 621,
    "start_time": "2025-10-03T09:47:40.822Z"
   },
   {
    "duration": 1181,
    "start_time": "2025-10-03T09:47:41.445Z"
   },
   {
    "duration": 2342,
    "start_time": "2025-10-03T09:47:42.628Z"
   },
   {
    "duration": 170,
    "start_time": "2025-10-03T09:47:44.973Z"
   },
   {
    "duration": 814,
    "start_time": "2025-10-03T09:47:45.145Z"
   },
   {
    "duration": 110,
    "start_time": "2025-10-03T09:47:45.961Z"
   },
   {
    "duration": 13,
    "start_time": "2025-10-03T09:47:46.073Z"
   },
   {
    "duration": 202,
    "start_time": "2025-10-03T09:47:46.088Z"
   },
   {
    "duration": 112,
    "start_time": "2025-10-03T09:47:46.294Z"
   },
   {
    "duration": 9,
    "start_time": "2025-10-03T09:47:46.408Z"
   },
   {
    "duration": 537,
    "start_time": "2025-10-03T09:47:46.419Z"
   },
   {
    "duration": 42,
    "start_time": "2025-10-03T09:47:46.959Z"
   },
   {
    "duration": 19,
    "start_time": "2025-10-03T09:47:47.003Z"
   },
   {
    "duration": 62,
    "start_time": "2025-10-03T09:47:47.024Z"
   },
   {
    "duration": 256,
    "start_time": "2025-10-03T09:47:47.088Z"
   },
   {
    "duration": 304,
    "start_time": "2025-10-03T09:47:47.347Z"
   },
   {
    "duration": 14,
    "start_time": "2025-10-03T09:47:47.658Z"
   },
   {
    "duration": 1302,
    "start_time": "2025-10-03T09:47:47.674Z"
   },
   {
    "duration": 306481,
    "start_time": "2025-10-03T09:47:48.978Z"
   },
   {
    "duration": 1769,
    "start_time": "2025-10-03T10:11:04.356Z"
   },
   {
    "duration": 1034,
    "start_time": "2025-10-03T10:11:06.127Z"
   },
   {
    "duration": 95,
    "start_time": "2025-10-03T10:11:07.163Z"
   },
   {
    "duration": 167,
    "start_time": "2025-10-03T10:11:07.260Z"
   },
   {
    "duration": 7,
    "start_time": "2025-10-03T10:11:07.430Z"
   },
   {
    "duration": 579,
    "start_time": "2025-10-03T10:11:07.456Z"
   },
   {
    "duration": 1191,
    "start_time": "2025-10-03T10:11:08.037Z"
   },
   {
    "duration": 2312,
    "start_time": "2025-10-03T10:11:09.230Z"
   },
   {
    "duration": 151,
    "start_time": "2025-10-03T10:11:11.544Z"
   },
   {
    "duration": 831,
    "start_time": "2025-10-03T10:11:11.697Z"
   },
   {
    "duration": 113,
    "start_time": "2025-10-03T10:11:12.530Z"
   },
   {
    "duration": 42,
    "start_time": "2025-10-03T10:11:12.645Z"
   },
   {
    "duration": 192,
    "start_time": "2025-10-03T10:11:12.689Z"
   },
   {
    "duration": 106,
    "start_time": "2025-10-03T10:11:12.884Z"
   },
   {
    "duration": 93,
    "start_time": "2025-10-03T10:11:12.992Z"
   },
   {
    "duration": 521,
    "start_time": "2025-10-03T10:11:13.087Z"
   },
   {
    "duration": 56,
    "start_time": "2025-10-03T10:11:13.610Z"
   },
   {
    "duration": 49,
    "start_time": "2025-10-03T10:11:13.669Z"
   },
   {
    "duration": 37,
    "start_time": "2025-10-03T10:11:13.720Z"
   },
   {
    "duration": 247,
    "start_time": "2025-10-03T10:11:13.759Z"
   },
   {
    "duration": 251,
    "start_time": "2025-10-03T10:11:14.008Z"
   },
   {
    "duration": 13,
    "start_time": "2025-10-03T10:11:14.261Z"
   },
   {
    "duration": 1292,
    "start_time": "2025-10-03T10:11:14.276Z"
   },
   {
    "duration": 289288,
    "start_time": "2025-10-03T10:11:15.570Z"
   },
   {
    "duration": 1552,
    "start_time": "2025-10-03T11:07:41.154Z"
   },
   {
    "duration": 1024,
    "start_time": "2025-10-03T11:07:42.709Z"
   },
   {
    "duration": 92,
    "start_time": "2025-10-03T11:07:43.735Z"
   },
   {
    "duration": 171,
    "start_time": "2025-10-03T11:07:43.829Z"
   },
   {
    "duration": 8,
    "start_time": "2025-10-03T11:07:44.002Z"
   },
   {
    "duration": 580,
    "start_time": "2025-10-03T11:07:44.012Z"
   },
   {
    "duration": 1131,
    "start_time": "2025-10-03T11:07:44.594Z"
   },
   {
    "duration": 2343,
    "start_time": "2025-10-03T11:07:45.729Z"
   },
   {
    "duration": 160,
    "start_time": "2025-10-03T11:07:48.075Z"
   },
   {
    "duration": 799,
    "start_time": "2025-10-03T11:07:48.237Z"
   },
   {
    "duration": 107,
    "start_time": "2025-10-03T11:07:49.039Z"
   },
   {
    "duration": 3,
    "start_time": "2025-10-03T11:07:49.157Z"
   },
   {
    "duration": 212,
    "start_time": "2025-10-03T11:07:49.162Z"
   },
   {
    "duration": 105,
    "start_time": "2025-10-03T11:07:49.377Z"
   },
   {
    "duration": 8,
    "start_time": "2025-10-03T11:07:49.484Z"
   },
   {
    "duration": 539,
    "start_time": "2025-10-03T11:07:49.494Z"
   },
   {
    "duration": 58,
    "start_time": "2025-10-03T11:07:50.036Z"
   },
   {
    "duration": 19,
    "start_time": "2025-10-03T11:07:50.096Z"
   },
   {
    "duration": 61,
    "start_time": "2025-10-03T11:07:50.117Z"
   },
   {
    "duration": 248,
    "start_time": "2025-10-03T11:07:50.180Z"
   },
   {
    "duration": 269,
    "start_time": "2025-10-03T11:07:50.429Z"
   },
   {
    "duration": 13,
    "start_time": "2025-10-03T11:07:50.700Z"
   },
   {
    "duration": 1311,
    "start_time": "2025-10-03T11:07:50.715Z"
   },
   {
    "duration": 298134,
    "start_time": "2025-10-03T11:07:52.028Z"
   },
   {
    "duration": 1648,
    "start_time": "2025-10-03T11:36:10.632Z"
   },
   {
    "duration": 1036,
    "start_time": "2025-10-03T11:36:12.285Z"
   },
   {
    "duration": 96,
    "start_time": "2025-10-03T11:36:13.323Z"
   },
   {
    "duration": 187,
    "start_time": "2025-10-03T11:36:13.420Z"
   },
   {
    "duration": 7,
    "start_time": "2025-10-03T11:36:13.610Z"
   },
   {
    "duration": 624,
    "start_time": "2025-10-03T11:36:13.619Z"
   },
   {
    "duration": 1191,
    "start_time": "2025-10-03T11:36:14.245Z"
   },
   {
    "duration": 2477,
    "start_time": "2025-10-03T11:36:15.439Z"
   },
   {
    "duration": 199,
    "start_time": "2025-10-03T11:36:17.918Z"
   },
   {
    "duration": 805,
    "start_time": "2025-10-03T11:36:18.119Z"
   },
   {
    "duration": 123,
    "start_time": "2025-10-03T11:36:18.927Z"
   },
   {
    "duration": 21,
    "start_time": "2025-10-03T11:36:19.058Z"
   },
   {
    "duration": 225,
    "start_time": "2025-10-03T11:36:19.082Z"
   },
   {
    "duration": 105,
    "start_time": "2025-10-03T11:36:19.310Z"
   },
   {
    "duration": 6,
    "start_time": "2025-10-03T11:36:19.417Z"
   },
   {
    "duration": 551,
    "start_time": "2025-10-03T11:36:19.425Z"
   },
   {
    "duration": 41,
    "start_time": "2025-10-03T11:36:19.978Z"
   },
   {
    "duration": 17,
    "start_time": "2025-10-03T11:36:20.021Z"
   },
   {
    "duration": 99,
    "start_time": "2025-10-03T11:36:20.056Z"
   },
   {
    "duration": 254,
    "start_time": "2025-10-03T11:36:20.161Z"
   },
   {
    "duration": 256,
    "start_time": "2025-10-03T11:36:20.416Z"
   },
   {
    "duration": 12,
    "start_time": "2025-10-03T11:36:20.675Z"
   },
   {
    "duration": 1259,
    "start_time": "2025-10-03T11:36:20.688Z"
   },
   {
    "duration": 1546,
    "start_time": "2025-10-03T11:41:38.689Z"
   },
   {
    "duration": 964,
    "start_time": "2025-10-03T11:41:40.237Z"
   },
   {
    "duration": 89,
    "start_time": "2025-10-03T11:41:41.203Z"
   },
   {
    "duration": 163,
    "start_time": "2025-10-03T11:41:41.294Z"
   },
   {
    "duration": 7,
    "start_time": "2025-10-03T11:41:41.459Z"
   },
   {
    "duration": 522,
    "start_time": "2025-10-03T11:41:41.467Z"
   },
   {
    "duration": 1048,
    "start_time": "2025-10-03T11:41:41.991Z"
   },
   {
    "duration": 2092,
    "start_time": "2025-10-03T11:41:43.041Z"
   },
   {
    "duration": 150,
    "start_time": "2025-10-03T11:41:45.135Z"
   },
   {
    "duration": 782,
    "start_time": "2025-10-03T11:41:45.286Z"
   },
   {
    "duration": 106,
    "start_time": "2025-10-03T11:41:46.070Z"
   },
   {
    "duration": 9,
    "start_time": "2025-10-03T11:41:46.177Z"
   },
   {
    "duration": 199,
    "start_time": "2025-10-03T11:41:46.188Z"
   },
   {
    "duration": 105,
    "start_time": "2025-10-03T11:41:46.390Z"
   },
   {
    "duration": 25,
    "start_time": "2025-10-03T11:41:46.497Z"
   },
   {
    "duration": 505,
    "start_time": "2025-10-03T11:41:46.524Z"
   },
   {
    "duration": 48,
    "start_time": "2025-10-03T11:41:47.031Z"
   },
   {
    "duration": 17,
    "start_time": "2025-10-03T11:41:47.081Z"
   },
   {
    "duration": 59,
    "start_time": "2025-10-03T11:41:47.100Z"
   },
   {
    "duration": 243,
    "start_time": "2025-10-03T11:41:47.161Z"
   },
   {
    "duration": 254,
    "start_time": "2025-10-03T11:41:47.405Z"
   },
   {
    "duration": 12,
    "start_time": "2025-10-03T11:41:47.661Z"
   },
   {
    "duration": 1193,
    "start_time": "2025-10-03T11:41:47.675Z"
   },
   {
    "duration": 1528,
    "start_time": "2025-10-03T12:24:06.202Z"
   },
   {
    "duration": 1043,
    "start_time": "2025-10-03T12:24:07.732Z"
   },
   {
    "duration": 93,
    "start_time": "2025-10-03T12:24:08.777Z"
   },
   {
    "duration": 179,
    "start_time": "2025-10-03T12:24:08.872Z"
   },
   {
    "duration": 14,
    "start_time": "2025-10-03T12:24:09.058Z"
   },
   {
    "duration": 582,
    "start_time": "2025-10-03T12:24:09.074Z"
   },
   {
    "duration": 1164,
    "start_time": "2025-10-03T12:24:09.669Z"
   },
   {
    "duration": 2267,
    "start_time": "2025-10-03T12:24:10.835Z"
   },
   {
    "duration": 166,
    "start_time": "2025-10-03T12:24:13.104Z"
   },
   {
    "duration": 777,
    "start_time": "2025-10-03T12:24:13.272Z"
   },
   {
    "duration": 119,
    "start_time": "2025-10-03T12:24:14.050Z"
   },
   {
    "duration": 4,
    "start_time": "2025-10-03T12:24:14.171Z"
   },
   {
    "duration": 201,
    "start_time": "2025-10-03T12:24:14.177Z"
   },
   {
    "duration": 108,
    "start_time": "2025-10-03T12:24:14.381Z"
   },
   {
    "duration": 6,
    "start_time": "2025-10-03T12:24:14.491Z"
   },
   {
    "duration": 528,
    "start_time": "2025-10-03T12:24:14.499Z"
   },
   {
    "duration": 52,
    "start_time": "2025-10-03T12:24:15.029Z"
   },
   {
    "duration": 21,
    "start_time": "2025-10-03T12:24:15.082Z"
   },
   {
    "duration": 48,
    "start_time": "2025-10-03T12:24:15.104Z"
   },
   {
    "duration": 256,
    "start_time": "2025-10-03T12:24:15.156Z"
   },
   {
    "duration": 257,
    "start_time": "2025-10-03T12:24:15.414Z"
   },
   {
    "duration": 13,
    "start_time": "2025-10-03T12:24:15.673Z"
   },
   {
    "duration": 1171,
    "start_time": "2025-10-03T12:24:15.688Z"
   },
   {
    "duration": 1650,
    "start_time": "2025-10-03T12:26:35.343Z"
   },
   {
    "duration": 1027,
    "start_time": "2025-10-03T12:26:36.995Z"
   },
   {
    "duration": 94,
    "start_time": "2025-10-03T12:26:38.024Z"
   },
   {
    "duration": 189,
    "start_time": "2025-10-03T12:26:38.120Z"
   },
   {
    "duration": 7,
    "start_time": "2025-10-03T12:26:38.311Z"
   },
   {
    "duration": 676,
    "start_time": "2025-10-03T12:26:38.320Z"
   },
   {
    "duration": 1187,
    "start_time": "2025-10-03T12:26:38.997Z"
   },
   {
    "duration": 2357,
    "start_time": "2025-10-03T12:26:40.185Z"
   },
   {
    "duration": 164,
    "start_time": "2025-10-03T12:26:42.543Z"
   },
   {
    "duration": 790,
    "start_time": "2025-10-03T12:26:42.709Z"
   },
   {
    "duration": 108,
    "start_time": "2025-10-03T12:26:43.501Z"
   },
   {
    "duration": 19,
    "start_time": "2025-10-03T12:26:43.611Z"
   },
   {
    "duration": 205,
    "start_time": "2025-10-03T12:26:43.632Z"
   },
   {
    "duration": 106,
    "start_time": "2025-10-03T12:26:43.840Z"
   },
   {
    "duration": 14,
    "start_time": "2025-10-03T12:26:43.957Z"
   },
   {
    "duration": 530,
    "start_time": "2025-10-03T12:26:43.973Z"
   },
   {
    "duration": 58,
    "start_time": "2025-10-03T12:26:44.505Z"
   },
   {
    "duration": 19,
    "start_time": "2025-10-03T12:26:44.565Z"
   },
   {
    "duration": 37,
    "start_time": "2025-10-03T12:26:44.586Z"
   },
   {
    "duration": 269,
    "start_time": "2025-10-03T12:26:44.625Z"
   },
   {
    "duration": 246,
    "start_time": "2025-10-03T12:26:44.895Z"
   },
   {
    "duration": 20,
    "start_time": "2025-10-03T12:26:45.143Z"
   },
   {
    "duration": 1226,
    "start_time": "2025-10-03T12:26:45.165Z"
   },
   {
    "duration": 1709,
    "start_time": "2025-10-03T15:26:14.779Z"
   },
   {
    "duration": 942,
    "start_time": "2025-10-03T15:26:16.490Z"
   },
   {
    "duration": 82,
    "start_time": "2025-10-03T15:26:17.433Z"
   },
   {
    "duration": 171,
    "start_time": "2025-10-03T15:26:17.529Z"
   },
   {
    "duration": 7,
    "start_time": "2025-10-03T15:26:17.704Z"
   },
   {
    "duration": 535,
    "start_time": "2025-10-03T15:26:17.713Z"
   },
   {
    "duration": 1087,
    "start_time": "2025-10-03T15:26:18.250Z"
   },
   {
    "duration": 2030,
    "start_time": "2025-10-03T15:26:19.338Z"
   },
   {
    "duration": 154,
    "start_time": "2025-10-03T15:26:21.369Z"
   },
   {
    "duration": 789,
    "start_time": "2025-10-03T15:26:21.529Z"
   },
   {
    "duration": 119,
    "start_time": "2025-10-03T15:26:22.320Z"
   },
   {
    "duration": 4,
    "start_time": "2025-10-03T15:26:22.440Z"
   },
   {
    "duration": 207,
    "start_time": "2025-10-03T15:26:22.445Z"
   },
   {
    "duration": 106,
    "start_time": "2025-10-03T15:26:22.655Z"
   },
   {
    "duration": 43,
    "start_time": "2025-10-03T15:26:22.762Z"
   },
   {
    "duration": 490,
    "start_time": "2025-10-03T15:26:22.807Z"
   },
   {
    "duration": 50,
    "start_time": "2025-10-03T15:26:23.299Z"
   },
   {
    "duration": 16,
    "start_time": "2025-10-03T15:26:23.351Z"
   },
   {
    "duration": 34,
    "start_time": "2025-10-03T15:26:23.369Z"
   },
   {
    "duration": 256,
    "start_time": "2025-10-03T15:26:23.404Z"
   },
   {
    "duration": 259,
    "start_time": "2025-10-03T15:26:23.662Z"
   },
   {
    "duration": 16,
    "start_time": "2025-10-03T15:26:23.923Z"
   },
   {
    "duration": 1030,
    "start_time": "2025-10-03T15:26:23.941Z"
   },
   {
    "duration": 1560,
    "start_time": "2025-10-04T10:58:29.449Z"
   },
   {
    "duration": 774,
    "start_time": "2025-10-04T10:58:31.012Z"
   },
   {
    "duration": 74,
    "start_time": "2025-10-04T10:58:31.787Z"
   },
   {
    "duration": 153,
    "start_time": "2025-10-04T10:58:31.863Z"
   },
   {
    "duration": 6,
    "start_time": "2025-10-04T10:58:32.018Z"
   },
   {
    "duration": 455,
    "start_time": "2025-10-04T10:58:32.025Z"
   },
   {
    "duration": 880,
    "start_time": "2025-10-04T10:58:32.482Z"
   },
   {
    "duration": 1664,
    "start_time": "2025-10-04T10:58:33.363Z"
   },
   {
    "duration": 129,
    "start_time": "2025-10-04T10:58:35.028Z"
   },
   {
    "duration": 704,
    "start_time": "2025-10-04T10:58:35.158Z"
   },
   {
    "duration": 94,
    "start_time": "2025-10-04T10:58:35.863Z"
   },
   {
    "duration": 8,
    "start_time": "2025-10-04T10:58:35.959Z"
   },
   {
    "duration": 187,
    "start_time": "2025-10-04T10:58:35.968Z"
   },
   {
    "duration": 94,
    "start_time": "2025-10-04T10:58:36.157Z"
   },
   {
    "duration": 58,
    "start_time": "2025-10-04T10:58:36.252Z"
   },
   {
    "duration": 411,
    "start_time": "2025-10-04T10:58:36.312Z"
   },
   {
    "duration": 47,
    "start_time": "2025-10-04T10:58:36.725Z"
   },
   {
    "duration": 15,
    "start_time": "2025-10-04T10:58:36.774Z"
   },
   {
    "duration": 30,
    "start_time": "2025-10-04T10:58:36.791Z"
   },
   {
    "duration": 210,
    "start_time": "2025-10-04T10:58:36.823Z"
   },
   {
    "duration": 208,
    "start_time": "2025-10-04T10:58:37.035Z"
   },
   {
    "duration": 14,
    "start_time": "2025-10-04T10:58:37.245Z"
   },
   {
    "duration": 907,
    "start_time": "2025-10-04T10:58:37.260Z"
   },
   {
    "duration": 1467,
    "start_time": "2025-10-04T11:12:40.847Z"
   },
   {
    "duration": 905,
    "start_time": "2025-10-04T11:12:42.317Z"
   },
   {
    "duration": 82,
    "start_time": "2025-10-04T11:12:43.223Z"
   },
   {
    "duration": 179,
    "start_time": "2025-10-04T11:12:43.307Z"
   },
   {
    "duration": 6,
    "start_time": "2025-10-04T11:12:43.488Z"
   },
   {
    "duration": 573,
    "start_time": "2025-10-04T11:12:43.495Z"
   },
   {
    "duration": 1095,
    "start_time": "2025-10-04T11:12:44.070Z"
   },
   {
    "duration": 2157,
    "start_time": "2025-10-04T11:12:45.167Z"
   },
   {
    "duration": 155,
    "start_time": "2025-10-04T11:12:47.325Z"
   },
   {
    "duration": 214,
    "start_time": "2025-10-04T11:12:47.482Z"
   },
   {
    "duration": 672,
    "start_time": "2025-10-04T11:12:47.698Z"
   },
   {
    "duration": 100,
    "start_time": "2025-10-04T11:12:48.372Z"
   },
   {
    "duration": 3,
    "start_time": "2025-10-04T11:12:48.473Z"
   },
   {
    "duration": 187,
    "start_time": "2025-10-04T11:12:48.478Z"
   },
   {
    "duration": 113,
    "start_time": "2025-10-04T11:12:48.667Z"
   },
   {
    "duration": 6,
    "start_time": "2025-10-04T11:12:48.781Z"
   },
   {
    "duration": 475,
    "start_time": "2025-10-04T11:12:48.788Z"
   },
   {
    "duration": 35,
    "start_time": "2025-10-04T11:12:49.265Z"
   },
   {
    "duration": 15,
    "start_time": "2025-10-04T11:12:49.302Z"
   },
   {
    "duration": 56,
    "start_time": "2025-10-04T11:12:49.318Z"
   },
   {
    "duration": 238,
    "start_time": "2025-10-04T11:12:49.376Z"
   },
   {
    "duration": 255,
    "start_time": "2025-10-04T11:12:49.616Z"
   },
   {
    "duration": 11,
    "start_time": "2025-10-04T11:12:49.873Z"
   },
   {
    "duration": 1016,
    "start_time": "2025-10-04T11:12:49.886Z"
   },
   {
    "duration": 1530,
    "start_time": "2025-10-04T11:13:19.766Z"
   },
   {
    "duration": 921,
    "start_time": "2025-10-04T11:13:21.297Z"
   },
   {
    "duration": 83,
    "start_time": "2025-10-04T11:13:22.219Z"
   },
   {
    "duration": 196,
    "start_time": "2025-10-04T11:13:22.304Z"
   },
   {
    "duration": 7,
    "start_time": "2025-10-04T11:13:22.502Z"
   },
   {
    "duration": 524,
    "start_time": "2025-10-04T11:13:22.510Z"
   },
   {
    "duration": 1029,
    "start_time": "2025-10-04T11:13:23.036Z"
   },
   {
    "duration": 2110,
    "start_time": "2025-10-04T11:13:24.067Z"
   },
   {
    "duration": 147,
    "start_time": "2025-10-04T11:13:26.179Z"
   },
   {
    "duration": 212,
    "start_time": "2025-10-04T11:13:26.328Z"
   },
   {
    "duration": 386,
    "start_time": "2025-10-04T11:13:26.542Z"
   },
   {
    "duration": 673,
    "start_time": "2025-10-04T11:13:26.930Z"
   },
   {
    "duration": 98,
    "start_time": "2025-10-04T11:13:27.605Z"
   },
   {
    "duration": 3,
    "start_time": "2025-10-04T11:13:27.705Z"
   },
   {
    "duration": 195,
    "start_time": "2025-10-04T11:13:27.710Z"
   },
   {
    "duration": 106,
    "start_time": "2025-10-04T11:13:27.907Z"
   },
   {
    "duration": 7,
    "start_time": "2025-10-04T11:13:28.014Z"
   },
   {
    "duration": 483,
    "start_time": "2025-10-04T11:13:28.023Z"
   },
   {
    "duration": 54,
    "start_time": "2025-10-04T11:13:28.508Z"
   },
   {
    "duration": 16,
    "start_time": "2025-10-04T11:13:28.567Z"
   },
   {
    "duration": 31,
    "start_time": "2025-10-04T11:13:28.585Z"
   },
   {
    "duration": 244,
    "start_time": "2025-10-04T11:13:28.618Z"
   },
   {
    "duration": 233,
    "start_time": "2025-10-04T11:13:28.864Z"
   },
   {
    "duration": 11,
    "start_time": "2025-10-04T11:13:29.098Z"
   },
   {
    "duration": 1164,
    "start_time": "2025-10-04T11:13:29.111Z"
   },
   {
    "duration": 1707,
    "start_time": "2025-10-04T11:17:09.674Z"
   },
   {
    "duration": 1123,
    "start_time": "2025-10-04T11:17:11.383Z"
   },
   {
    "duration": 101,
    "start_time": "2025-10-04T11:17:12.508Z"
   },
   {
    "duration": 205,
    "start_time": "2025-10-04T11:17:12.611Z"
   },
   {
    "duration": 8,
    "start_time": "2025-10-04T11:17:12.818Z"
   },
   {
    "duration": 629,
    "start_time": "2025-10-04T11:17:12.828Z"
   },
   {
    "duration": 1273,
    "start_time": "2025-10-04T11:17:13.461Z"
   },
   {
    "duration": 2217,
    "start_time": "2025-10-04T11:17:14.736Z"
   },
   {
    "duration": 138,
    "start_time": "2025-10-04T11:17:16.955Z"
   },
   {
    "duration": 209,
    "start_time": "2025-10-04T11:17:17.095Z"
   },
   {
    "duration": 388,
    "start_time": "2025-10-04T11:17:17.305Z"
   },
   {
    "duration": 734,
    "start_time": "2025-10-04T11:17:17.694Z"
   },
   {
    "duration": 91,
    "start_time": "2025-10-04T11:17:18.430Z"
   },
   {
    "duration": 3,
    "start_time": "2025-10-04T11:17:18.522Z"
   },
   {
    "duration": 211,
    "start_time": "2025-10-04T11:17:18.527Z"
   },
   {
    "duration": 102,
    "start_time": "2025-10-04T11:17:18.739Z"
   },
   {
    "duration": 16,
    "start_time": "2025-10-04T11:17:18.851Z"
   },
   {
    "duration": 475,
    "start_time": "2025-10-04T11:17:18.869Z"
   },
   {
    "duration": 42,
    "start_time": "2025-10-04T11:17:19.345Z"
   },
   {
    "duration": 15,
    "start_time": "2025-10-04T11:17:19.389Z"
   },
   {
    "duration": 53,
    "start_time": "2025-10-04T11:17:19.405Z"
   },
   {
    "duration": 236,
    "start_time": "2025-10-04T11:17:19.460Z"
   },
   {
    "duration": 290,
    "start_time": "2025-10-04T11:17:19.698Z"
   },
   {
    "duration": 16,
    "start_time": "2025-10-04T11:17:19.990Z"
   },
   {
    "duration": 916,
    "start_time": "2025-10-04T11:17:20.008Z"
   },
   {
    "duration": 54,
    "start_time": "2025-10-04T12:07:53.920Z"
   },
   {
    "duration": 1426,
    "start_time": "2025-10-04T12:07:58.011Z"
   },
   {
    "duration": 852,
    "start_time": "2025-10-04T12:07:59.439Z"
   },
   {
    "duration": 86,
    "start_time": "2025-10-04T12:08:00.293Z"
   },
   {
    "duration": 146,
    "start_time": "2025-10-04T12:08:00.380Z"
   },
   {
    "duration": 73,
    "start_time": "2025-10-04T12:08:00.529Z"
   },
   {
    "duration": 507,
    "start_time": "2025-10-04T12:08:00.604Z"
   },
   {
    "duration": 1058,
    "start_time": "2025-10-04T12:08:01.113Z"
   },
   {
    "duration": 2091,
    "start_time": "2025-10-04T12:08:02.173Z"
   },
   {
    "duration": 142,
    "start_time": "2025-10-04T12:08:04.266Z"
   },
   {
    "duration": 203,
    "start_time": "2025-10-04T12:08:04.409Z"
   },
   {
    "duration": 420,
    "start_time": "2025-10-04T12:08:04.613Z"
   },
   {
    "duration": 629,
    "start_time": "2025-10-04T12:08:05.034Z"
   },
   {
    "duration": 86,
    "start_time": "2025-10-04T12:08:05.664Z"
   },
   {
    "duration": 42,
    "start_time": "2025-10-04T12:08:05.753Z"
   },
   {
    "duration": 151,
    "start_time": "2025-10-04T12:08:05.796Z"
   },
   {
    "duration": 80,
    "start_time": "2025-10-04T12:08:05.949Z"
   },
   {
    "duration": 50,
    "start_time": "2025-10-04T12:08:06.031Z"
   },
   {
    "duration": 469,
    "start_time": "2025-10-04T12:08:06.084Z"
   },
   {
    "duration": 36,
    "start_time": "2025-10-04T12:08:06.555Z"
   },
   {
    "duration": 16,
    "start_time": "2025-10-04T12:08:06.592Z"
   },
   {
    "duration": 50,
    "start_time": "2025-10-04T12:08:06.610Z"
   },
   {
    "duration": 236,
    "start_time": "2025-10-04T12:08:06.661Z"
   },
   {
    "duration": 227,
    "start_time": "2025-10-04T12:08:06.898Z"
   },
   {
    "duration": 11,
    "start_time": "2025-10-04T12:08:07.126Z"
   },
   {
    "duration": 863,
    "start_time": "2025-10-04T12:08:07.138Z"
   },
   {
    "duration": 185052,
    "start_time": "2025-10-04T12:08:08.004Z"
   },
   {
    "duration": 1332,
    "start_time": "2025-10-04T12:30:24.066Z"
   },
   {
    "duration": 814,
    "start_time": "2025-10-04T12:30:25.400Z"
   },
   {
    "duration": 72,
    "start_time": "2025-10-04T12:30:26.215Z"
   },
   {
    "duration": 149,
    "start_time": "2025-10-04T12:30:26.288Z"
   },
   {
    "duration": 12,
    "start_time": "2025-10-04T12:30:26.439Z"
   },
   {
    "duration": 439,
    "start_time": "2025-10-04T12:30:26.452Z"
   },
   {
    "duration": 906,
    "start_time": "2025-10-04T12:30:26.893Z"
   },
   {
    "duration": 1714,
    "start_time": "2025-10-04T12:30:27.801Z"
   },
   {
    "duration": 135,
    "start_time": "2025-10-04T12:30:29.516Z"
   },
   {
    "duration": 189,
    "start_time": "2025-10-04T12:30:29.652Z"
   },
   {
    "duration": 362,
    "start_time": "2025-10-04T12:30:29.842Z"
   },
   {
    "duration": 618,
    "start_time": "2025-10-04T12:30:30.206Z"
   },
   {
    "duration": 80,
    "start_time": "2025-10-04T12:30:30.825Z"
   },
   {
    "duration": 66,
    "start_time": "2025-10-04T12:30:30.908Z"
   },
   {
    "duration": 153,
    "start_time": "2025-10-04T12:30:30.975Z"
   },
   {
    "duration": 87,
    "start_time": "2025-10-04T12:30:31.129Z"
   },
   {
    "duration": 10,
    "start_time": "2025-10-04T12:30:31.218Z"
   },
   {
    "duration": 416,
    "start_time": "2025-10-04T12:30:31.229Z"
   },
   {
    "duration": 35,
    "start_time": "2025-10-04T12:30:31.650Z"
   },
   {
    "duration": 15,
    "start_time": "2025-10-04T12:30:31.687Z"
   },
   {
    "duration": 47,
    "start_time": "2025-10-04T12:30:31.704Z"
   },
   {
    "duration": 198,
    "start_time": "2025-10-04T12:30:31.752Z"
   },
   {
    "duration": 206,
    "start_time": "2025-10-04T12:30:31.952Z"
   },
   {
    "duration": 10,
    "start_time": "2025-10-04T12:30:32.160Z"
   },
   {
    "duration": 786,
    "start_time": "2025-10-04T12:30:32.172Z"
   },
   {
    "duration": 1369,
    "start_time": "2025-10-04T12:32:24.850Z"
   },
   {
    "duration": 777,
    "start_time": "2025-10-04T12:32:26.221Z"
   },
   {
    "duration": 85,
    "start_time": "2025-10-04T12:32:27.000Z"
   },
   {
    "duration": 154,
    "start_time": "2025-10-04T12:32:27.086Z"
   },
   {
    "duration": 5,
    "start_time": "2025-10-04T12:32:27.250Z"
   },
   {
    "duration": 450,
    "start_time": "2025-10-04T12:32:27.257Z"
   },
   {
    "duration": 915,
    "start_time": "2025-10-04T12:32:27.710Z"
   },
   {
    "duration": 1739,
    "start_time": "2025-10-04T12:32:28.626Z"
   },
   {
    "duration": 133,
    "start_time": "2025-10-04T12:32:30.366Z"
   },
   {
    "duration": 207,
    "start_time": "2025-10-04T12:32:30.501Z"
   },
   {
    "duration": 351,
    "start_time": "2025-10-04T12:32:30.710Z"
   },
   {
    "duration": 645,
    "start_time": "2025-10-04T12:32:31.062Z"
   },
   {
    "duration": 89,
    "start_time": "2025-10-04T12:32:31.709Z"
   },
   {
    "duration": 3,
    "start_time": "2025-10-04T12:32:31.802Z"
   },
   {
    "duration": 238,
    "start_time": "2025-10-04T12:32:31.806Z"
   },
   {
    "duration": 76,
    "start_time": "2025-10-04T12:32:32.046Z"
   },
   {
    "duration": 67,
    "start_time": "2025-10-04T12:32:32.124Z"
   },
   {
    "duration": 401,
    "start_time": "2025-10-04T12:32:32.193Z"
   },
   {
    "duration": 36,
    "start_time": "2025-10-04T12:32:32.596Z"
   },
   {
    "duration": 74,
    "start_time": "2025-10-04T12:32:32.634Z"
   },
   {
    "duration": 31,
    "start_time": "2025-10-04T12:32:32.710Z"
   },
   {
    "duration": 198,
    "start_time": "2025-10-04T12:32:32.742Z"
   },
   {
    "duration": 209,
    "start_time": "2025-10-04T12:32:32.942Z"
   },
   {
    "duration": 10,
    "start_time": "2025-10-04T12:32:33.152Z"
   },
   {
    "duration": 797,
    "start_time": "2025-10-04T12:32:33.164Z"
   },
   {
    "duration": 173088,
    "start_time": "2025-10-04T12:32:33.963Z"
   },
   {
    "duration": 1480,
    "start_time": "2025-10-04T12:56:59.425Z"
   },
   {
    "duration": 0,
    "start_time": "2025-10-04T12:57:00.907Z"
   },
   {
    "duration": 0,
    "start_time": "2025-10-04T12:57:00.908Z"
   },
   {
    "duration": 0,
    "start_time": "2025-10-04T12:57:00.909Z"
   },
   {
    "duration": 0,
    "start_time": "2025-10-04T12:57:00.910Z"
   },
   {
    "duration": 0,
    "start_time": "2025-10-04T12:57:00.911Z"
   },
   {
    "duration": 0,
    "start_time": "2025-10-04T12:57:00.912Z"
   },
   {
    "duration": 0,
    "start_time": "2025-10-04T12:57:00.913Z"
   },
   {
    "duration": 0,
    "start_time": "2025-10-04T12:57:00.914Z"
   },
   {
    "duration": 0,
    "start_time": "2025-10-04T12:57:00.915Z"
   },
   {
    "duration": 0,
    "start_time": "2025-10-04T12:57:00.917Z"
   },
   {
    "duration": 0,
    "start_time": "2025-10-04T12:57:00.918Z"
   },
   {
    "duration": 0,
    "start_time": "2025-10-04T12:57:00.919Z"
   },
   {
    "duration": 0,
    "start_time": "2025-10-04T12:57:00.920Z"
   },
   {
    "duration": 0,
    "start_time": "2025-10-04T12:57:00.921Z"
   },
   {
    "duration": 0,
    "start_time": "2025-10-04T12:57:00.922Z"
   },
   {
    "duration": 0,
    "start_time": "2025-10-04T12:57:00.923Z"
   },
   {
    "duration": 0,
    "start_time": "2025-10-04T12:57:00.924Z"
   },
   {
    "duration": 0,
    "start_time": "2025-10-04T12:57:00.925Z"
   },
   {
    "duration": 0,
    "start_time": "2025-10-04T12:57:00.951Z"
   },
   {
    "duration": 0,
    "start_time": "2025-10-04T12:57:00.953Z"
   },
   {
    "duration": 0,
    "start_time": "2025-10-04T12:57:00.955Z"
   },
   {
    "duration": 0,
    "start_time": "2025-10-04T12:57:00.956Z"
   },
   {
    "duration": 0,
    "start_time": "2025-10-04T12:57:00.958Z"
   },
   {
    "duration": 0,
    "start_time": "2025-10-04T12:57:00.959Z"
   },
   {
    "duration": 0,
    "start_time": "2025-10-04T12:57:00.960Z"
   },
   {
    "duration": 0,
    "start_time": "2025-10-04T12:57:00.961Z"
   },
   {
    "duration": 0,
    "start_time": "2025-10-04T12:57:00.963Z"
   },
   {
    "duration": 0,
    "start_time": "2025-10-04T12:57:00.964Z"
   },
   {
    "duration": 12,
    "start_time": "2025-10-04T12:58:11.610Z"
   },
   {
    "duration": 10,
    "start_time": "2025-10-04T12:58:44.141Z"
   },
   {
    "duration": 13,
    "start_time": "2025-10-04T12:59:04.533Z"
   },
   {
    "duration": 6250,
    "start_time": "2025-10-04T12:59:41.096Z"
   },
   {
    "duration": 2816,
    "start_time": "2025-10-04T12:59:57.048Z"
   },
   {
    "duration": 1239,
    "start_time": "2025-10-04T12:59:59.866Z"
   },
   {
    "duration": 830,
    "start_time": "2025-10-04T13:00:01.107Z"
   },
   {
    "duration": 79,
    "start_time": "2025-10-04T13:00:01.939Z"
   },
   {
    "duration": 162,
    "start_time": "2025-10-04T13:00:02.021Z"
   },
   {
    "duration": 7,
    "start_time": "2025-10-04T13:00:02.185Z"
   },
   {
    "duration": 486,
    "start_time": "2025-10-04T13:00:02.193Z"
   },
   {
    "duration": 926,
    "start_time": "2025-10-04T13:00:02.681Z"
   },
   {
    "duration": 1775,
    "start_time": "2025-10-04T13:00:03.609Z"
   },
   {
    "duration": 133,
    "start_time": "2025-10-04T13:00:05.385Z"
   },
   {
    "duration": 192,
    "start_time": "2025-10-04T13:00:05.520Z"
   },
   {
    "duration": 356,
    "start_time": "2025-10-04T13:00:05.713Z"
   },
   {
    "duration": 647,
    "start_time": "2025-10-04T13:00:06.071Z"
   },
   {
    "duration": 79,
    "start_time": "2025-10-04T13:00:06.721Z"
   },
   {
    "duration": 3,
    "start_time": "2025-10-04T13:00:06.802Z"
   },
   {
    "duration": 159,
    "start_time": "2025-10-04T13:00:06.806Z"
   },
   {
    "duration": 89,
    "start_time": "2025-10-04T13:00:06.966Z"
   },
   {
    "duration": 61,
    "start_time": "2025-10-04T13:00:07.056Z"
   },
   {
    "duration": 405,
    "start_time": "2025-10-04T13:00:07.118Z"
   },
   {
    "duration": 41,
    "start_time": "2025-10-04T13:00:07.525Z"
   },
   {
    "duration": 14,
    "start_time": "2025-10-04T13:00:07.568Z"
   },
   {
    "duration": 28,
    "start_time": "2025-10-04T13:00:07.584Z"
   },
   {
    "duration": 209,
    "start_time": "2025-10-04T13:00:07.614Z"
   },
   {
    "duration": 205,
    "start_time": "2025-10-04T13:00:07.825Z"
   },
   {
    "duration": 19,
    "start_time": "2025-10-04T13:00:08.032Z"
   },
   {
    "duration": 762,
    "start_time": "2025-10-04T13:00:08.052Z"
   },
   {
    "duration": 292643,
    "start_time": "2025-10-04T13:00:08.815Z"
   },
   {
    "duration": 233516,
    "start_time": "2025-10-04T13:05:01.460Z"
   },
   {
    "duration": 7497,
    "start_time": "2025-10-06T16:08:53.215Z"
   },
   {
    "duration": 1654,
    "start_time": "2025-10-06T16:09:00.715Z"
   },
   {
    "duration": 1011,
    "start_time": "2025-10-06T16:09:02.371Z"
   },
   {
    "duration": 92,
    "start_time": "2025-10-06T16:09:03.384Z"
   },
   {
    "duration": 182,
    "start_time": "2025-10-06T16:09:03.479Z"
   },
   {
    "duration": 8,
    "start_time": "2025-10-06T16:09:03.663Z"
   },
   {
    "duration": 567,
    "start_time": "2025-10-06T16:09:03.672Z"
   },
   {
    "duration": 1130,
    "start_time": "2025-10-06T16:09:04.240Z"
   },
   {
    "duration": 2284,
    "start_time": "2025-10-06T16:09:05.372Z"
   },
   {
    "duration": 155,
    "start_time": "2025-10-06T16:09:07.658Z"
   },
   {
    "duration": 230,
    "start_time": "2025-10-06T16:09:07.815Z"
   },
   {
    "duration": 410,
    "start_time": "2025-10-06T16:09:08.047Z"
   },
   {
    "duration": 763,
    "start_time": "2025-10-06T16:09:08.459Z"
   },
   {
    "duration": 95,
    "start_time": "2025-10-06T16:09:09.225Z"
   },
   {
    "duration": 20,
    "start_time": "2025-10-06T16:09:09.322Z"
   },
   {
    "duration": 178,
    "start_time": "2025-10-06T16:09:09.344Z"
   },
   {
    "duration": 101,
    "start_time": "2025-10-06T16:09:09.524Z"
   },
   {
    "duration": 6,
    "start_time": "2025-10-06T16:09:09.626Z"
   },
   {
    "duration": 507,
    "start_time": "2025-10-06T16:09:09.634Z"
   },
   {
    "duration": 43,
    "start_time": "2025-10-06T16:09:10.143Z"
   },
   {
    "duration": 31,
    "start_time": "2025-10-06T16:09:10.187Z"
   },
   {
    "duration": 34,
    "start_time": "2025-10-06T16:09:10.220Z"
   },
   {
    "duration": 252,
    "start_time": "2025-10-06T16:09:10.257Z"
   },
   {
    "duration": 247,
    "start_time": "2025-10-06T16:09:10.512Z"
   },
   {
    "duration": 12,
    "start_time": "2025-10-06T16:09:10.761Z"
   },
   {
    "duration": 908,
    "start_time": "2025-10-06T16:09:10.776Z"
   },
   {
    "duration": 187028,
    "start_time": "2025-10-06T16:09:11.686Z"
   },
   {
    "duration": 265108,
    "start_time": "2025-10-06T16:12:18.808Z"
   },
   {
    "duration": 136328,
    "start_time": "2025-10-06T16:16:43.918Z"
   },
   {
    "duration": 2489,
    "start_time": "2025-10-06T16:19:00.247Z"
   }
  ],
  "kernelspec": {
   "display_name": "Python 3 (ipykernel)",
   "language": "python",
   "name": "python3"
  },
  "language_info": {
   "codemirror_mode": {
    "name": "ipython",
    "version": 3
   },
   "file_extension": ".py",
   "mimetype": "text/x-python",
   "name": "python",
   "nbconvert_exporter": "python",
   "pygments_lexer": "ipython3",
   "version": "3.9.5"
  },
  "toc": {
   "base_numbering": 1,
   "nav_menu": {},
   "number_sections": true,
   "sideBar": true,
   "skip_h1_title": true,
   "title_cell": "Table of Contents",
   "title_sidebar": "Contents",
   "toc_cell": false,
   "toc_position": {},
   "toc_section_display": true,
   "toc_window_display": false
  }
 },
 "nbformat": 4,
 "nbformat_minor": 2
}
