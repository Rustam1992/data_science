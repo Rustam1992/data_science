{
 "cells": [
  {
   "cell_type": "markdown",
   "metadata": {},
   "source": [
    "# Выбор локации для скважины"
   ]
  },
  {
   "cell_type": "markdown",
   "metadata": {},
   "source": [
    "Допустим, вы работаете в добывающей компании «ГлавРосГосНефть». Нужно решить, где бурить новую скважину.\n",
    "\n",
    "Вам предоставлены пробы нефти в трёх регионах: в каждом 100 000 месторождений, где измерили качество нефти и объём её запасов. Постройте модель машинного обучения, которая поможет определить регион, где добыча принесёт наибольшую прибыль. Проанализируйте возможную прибыль и риски техникой *Bootstrap.*\n",
    "\n",
    "Шаги для выбора локации:\n",
    "\n",
    "- В избранном регионе ищут месторождения, для каждого определяют значения признаков;\n",
    "- Строят модель и оценивают объём запасов;\n",
    "- Выбирают месторождения с самым высокими оценками значений. Количество месторождений зависит от бюджета компании и стоимости разработки одной скважины;\n",
    "- Прибыль равна суммарной прибыли отобранных месторождений."
   ]
  },
  {
   "cell_type": "markdown",
   "metadata": {},
   "source": [
    "## Загрузка и подготовка данных"
   ]
  },
  {
   "cell_type": "code",
   "execution_count": 1,
   "metadata": {},
   "outputs": [],
   "source": [
    "import pandas as pd\n",
    "import numpy as np\n",
    "import matplotlib.pyplot as plt\n",
    "import seaborn as sns\n",
    "from sklearn.model_selection import train_test_split\n",
    "from sklearn.compose import ColumnTransformer\n",
    "from sklearn.metrics import mean_squared_error\n",
    "from sklearn.linear_model import LinearRegression\n",
    "from sklearn.preprocessing import StandardScaler"
   ]
  },
  {
   "cell_type": "code",
   "execution_count": 2,
   "metadata": {},
   "outputs": [],
   "source": [
    "geo_data_0 = pd.read_csv('/datasets/geo_data_0.csv')\n",
    "geo_data_1 = pd.read_csv('/datasets/geo_data_1.csv')\n",
    "geo_data_2 = pd.read_csv('/datasets/geo_data_2.csv')"
   ]
  },
  {
   "cell_type": "code",
   "execution_count": 3,
   "metadata": {},
   "outputs": [],
   "source": [
    "def pretty_display(df, title=\"Таблица\"):\n",
    "    styled_df = df.head(5).style \\\n",
    "        .set_table_styles(\n",
    "            [{'selector': 'th', 'props': [('text-align', 'center')]}]\n",
    "        ) \\\n",
    "        .set_properties(**{'text-align': 'center'}) \\\n",
    "        .highlight_null(null_color='lightgray') \\\n",
    "        .set_caption(title)\n",
    "    \n",
    "    display(styled_df)"
   ]
  },
  {
   "cell_type": "code",
   "execution_count": 4,
   "metadata": {},
   "outputs": [
    {
     "data": {
      "text/html": [
       "<style  type=\"text/css\" >\n",
       "    #T_d8b0d_ th {\n",
       "          text-align: center;\n",
       "    }#T_d8b0d_row0_col0,#T_d8b0d_row0_col1,#T_d8b0d_row0_col2,#T_d8b0d_row0_col3,#T_d8b0d_row0_col4,#T_d8b0d_row1_col0,#T_d8b0d_row1_col1,#T_d8b0d_row1_col2,#T_d8b0d_row1_col3,#T_d8b0d_row1_col4,#T_d8b0d_row2_col0,#T_d8b0d_row2_col1,#T_d8b0d_row2_col2,#T_d8b0d_row2_col3,#T_d8b0d_row2_col4,#T_d8b0d_row3_col0,#T_d8b0d_row3_col1,#T_d8b0d_row3_col2,#T_d8b0d_row3_col3,#T_d8b0d_row3_col4,#T_d8b0d_row4_col0,#T_d8b0d_row4_col1,#T_d8b0d_row4_col2,#T_d8b0d_row4_col3,#T_d8b0d_row4_col4{\n",
       "            text-align:  center;\n",
       "        }</style><table id=\"T_d8b0d_\" ><caption>Первые 5 строк таблицы geo_data_0</caption><thead>    <tr>        <th class=\"blank level0\" ></th>        <th class=\"col_heading level0 col0\" >id</th>        <th class=\"col_heading level0 col1\" >f0</th>        <th class=\"col_heading level0 col2\" >f1</th>        <th class=\"col_heading level0 col3\" >f2</th>        <th class=\"col_heading level0 col4\" >product</th>    </tr></thead><tbody>\n",
       "                <tr>\n",
       "                        <th id=\"T_d8b0d_level0_row0\" class=\"row_heading level0 row0\" >0</th>\n",
       "                        <td id=\"T_d8b0d_row0_col0\" class=\"data row0 col0\" >txEyH</td>\n",
       "                        <td id=\"T_d8b0d_row0_col1\" class=\"data row0 col1\" >0.705745</td>\n",
       "                        <td id=\"T_d8b0d_row0_col2\" class=\"data row0 col2\" >-0.497823</td>\n",
       "                        <td id=\"T_d8b0d_row0_col3\" class=\"data row0 col3\" >1.221170</td>\n",
       "                        <td id=\"T_d8b0d_row0_col4\" class=\"data row0 col4\" >105.280062</td>\n",
       "            </tr>\n",
       "            <tr>\n",
       "                        <th id=\"T_d8b0d_level0_row1\" class=\"row_heading level0 row1\" >1</th>\n",
       "                        <td id=\"T_d8b0d_row1_col0\" class=\"data row1 col0\" >2acmU</td>\n",
       "                        <td id=\"T_d8b0d_row1_col1\" class=\"data row1 col1\" >1.334711</td>\n",
       "                        <td id=\"T_d8b0d_row1_col2\" class=\"data row1 col2\" >-0.340164</td>\n",
       "                        <td id=\"T_d8b0d_row1_col3\" class=\"data row1 col3\" >4.365080</td>\n",
       "                        <td id=\"T_d8b0d_row1_col4\" class=\"data row1 col4\" >73.037750</td>\n",
       "            </tr>\n",
       "            <tr>\n",
       "                        <th id=\"T_d8b0d_level0_row2\" class=\"row_heading level0 row2\" >2</th>\n",
       "                        <td id=\"T_d8b0d_row2_col0\" class=\"data row2 col0\" >409Wp</td>\n",
       "                        <td id=\"T_d8b0d_row2_col1\" class=\"data row2 col1\" >1.022732</td>\n",
       "                        <td id=\"T_d8b0d_row2_col2\" class=\"data row2 col2\" >0.151990</td>\n",
       "                        <td id=\"T_d8b0d_row2_col3\" class=\"data row2 col3\" >1.419926</td>\n",
       "                        <td id=\"T_d8b0d_row2_col4\" class=\"data row2 col4\" >85.265647</td>\n",
       "            </tr>\n",
       "            <tr>\n",
       "                        <th id=\"T_d8b0d_level0_row3\" class=\"row_heading level0 row3\" >3</th>\n",
       "                        <td id=\"T_d8b0d_row3_col0\" class=\"data row3 col0\" >iJLyR</td>\n",
       "                        <td id=\"T_d8b0d_row3_col1\" class=\"data row3 col1\" >-0.032172</td>\n",
       "                        <td id=\"T_d8b0d_row3_col2\" class=\"data row3 col2\" >0.139033</td>\n",
       "                        <td id=\"T_d8b0d_row3_col3\" class=\"data row3 col3\" >2.978566</td>\n",
       "                        <td id=\"T_d8b0d_row3_col4\" class=\"data row3 col4\" >168.620776</td>\n",
       "            </tr>\n",
       "            <tr>\n",
       "                        <th id=\"T_d8b0d_level0_row4\" class=\"row_heading level0 row4\" >4</th>\n",
       "                        <td id=\"T_d8b0d_row4_col0\" class=\"data row4 col0\" >Xdl7t</td>\n",
       "                        <td id=\"T_d8b0d_row4_col1\" class=\"data row4 col1\" >1.988431</td>\n",
       "                        <td id=\"T_d8b0d_row4_col2\" class=\"data row4 col2\" >0.155413</td>\n",
       "                        <td id=\"T_d8b0d_row4_col3\" class=\"data row4 col3\" >4.751769</td>\n",
       "                        <td id=\"T_d8b0d_row4_col4\" class=\"data row4 col4\" >154.036647</td>\n",
       "            </tr>\n",
       "    </tbody></table>"
      ],
      "text/plain": [
       "<pandas.io.formats.style.Styler at 0x7f6d2b26bb50>"
      ]
     },
     "metadata": {},
     "output_type": "display_data"
    },
    {
     "data": {
      "text/html": [
       "<style  type=\"text/css\" >\n",
       "    #T_4d872_ th {\n",
       "          text-align: center;\n",
       "    }#T_4d872_row0_col0,#T_4d872_row0_col1,#T_4d872_row0_col2,#T_4d872_row0_col3,#T_4d872_row0_col4,#T_4d872_row1_col0,#T_4d872_row1_col1,#T_4d872_row1_col2,#T_4d872_row1_col3,#T_4d872_row1_col4,#T_4d872_row2_col0,#T_4d872_row2_col1,#T_4d872_row2_col2,#T_4d872_row2_col3,#T_4d872_row2_col4,#T_4d872_row3_col0,#T_4d872_row3_col1,#T_4d872_row3_col2,#T_4d872_row3_col3,#T_4d872_row3_col4,#T_4d872_row4_col0,#T_4d872_row4_col1,#T_4d872_row4_col2,#T_4d872_row4_col3,#T_4d872_row4_col4{\n",
       "            text-align:  center;\n",
       "        }</style><table id=\"T_4d872_\" ><caption>Первые 5 строк таблицы geo_data_1</caption><thead>    <tr>        <th class=\"blank level0\" ></th>        <th class=\"col_heading level0 col0\" >id</th>        <th class=\"col_heading level0 col1\" >f0</th>        <th class=\"col_heading level0 col2\" >f1</th>        <th class=\"col_heading level0 col3\" >f2</th>        <th class=\"col_heading level0 col4\" >product</th>    </tr></thead><tbody>\n",
       "                <tr>\n",
       "                        <th id=\"T_4d872_level0_row0\" class=\"row_heading level0 row0\" >0</th>\n",
       "                        <td id=\"T_4d872_row0_col0\" class=\"data row0 col0\" >kBEdx</td>\n",
       "                        <td id=\"T_4d872_row0_col1\" class=\"data row0 col1\" >-15.001348</td>\n",
       "                        <td id=\"T_4d872_row0_col2\" class=\"data row0 col2\" >-8.276000</td>\n",
       "                        <td id=\"T_4d872_row0_col3\" class=\"data row0 col3\" >-0.005876</td>\n",
       "                        <td id=\"T_4d872_row0_col4\" class=\"data row0 col4\" >3.179103</td>\n",
       "            </tr>\n",
       "            <tr>\n",
       "                        <th id=\"T_4d872_level0_row1\" class=\"row_heading level0 row1\" >1</th>\n",
       "                        <td id=\"T_4d872_row1_col0\" class=\"data row1 col0\" >62mP7</td>\n",
       "                        <td id=\"T_4d872_row1_col1\" class=\"data row1 col1\" >14.272088</td>\n",
       "                        <td id=\"T_4d872_row1_col2\" class=\"data row1 col2\" >-3.475083</td>\n",
       "                        <td id=\"T_4d872_row1_col3\" class=\"data row1 col3\" >0.999183</td>\n",
       "                        <td id=\"T_4d872_row1_col4\" class=\"data row1 col4\" >26.953261</td>\n",
       "            </tr>\n",
       "            <tr>\n",
       "                        <th id=\"T_4d872_level0_row2\" class=\"row_heading level0 row2\" >2</th>\n",
       "                        <td id=\"T_4d872_row2_col0\" class=\"data row2 col0\" >vyE1P</td>\n",
       "                        <td id=\"T_4d872_row2_col1\" class=\"data row2 col1\" >6.263187</td>\n",
       "                        <td id=\"T_4d872_row2_col2\" class=\"data row2 col2\" >-5.948386</td>\n",
       "                        <td id=\"T_4d872_row2_col3\" class=\"data row2 col3\" >5.001160</td>\n",
       "                        <td id=\"T_4d872_row2_col4\" class=\"data row2 col4\" >134.766305</td>\n",
       "            </tr>\n",
       "            <tr>\n",
       "                        <th id=\"T_4d872_level0_row3\" class=\"row_heading level0 row3\" >3</th>\n",
       "                        <td id=\"T_4d872_row3_col0\" class=\"data row3 col0\" >KcrkZ</td>\n",
       "                        <td id=\"T_4d872_row3_col1\" class=\"data row3 col1\" >-13.081196</td>\n",
       "                        <td id=\"T_4d872_row3_col2\" class=\"data row3 col2\" >-11.506057</td>\n",
       "                        <td id=\"T_4d872_row3_col3\" class=\"data row3 col3\" >4.999415</td>\n",
       "                        <td id=\"T_4d872_row3_col4\" class=\"data row3 col4\" >137.945408</td>\n",
       "            </tr>\n",
       "            <tr>\n",
       "                        <th id=\"T_4d872_level0_row4\" class=\"row_heading level0 row4\" >4</th>\n",
       "                        <td id=\"T_4d872_row4_col0\" class=\"data row4 col0\" >AHL4O</td>\n",
       "                        <td id=\"T_4d872_row4_col1\" class=\"data row4 col1\" >12.702195</td>\n",
       "                        <td id=\"T_4d872_row4_col2\" class=\"data row4 col2\" >-8.147433</td>\n",
       "                        <td id=\"T_4d872_row4_col3\" class=\"data row4 col3\" >5.004363</td>\n",
       "                        <td id=\"T_4d872_row4_col4\" class=\"data row4 col4\" >134.766305</td>\n",
       "            </tr>\n",
       "    </tbody></table>"
      ],
      "text/plain": [
       "<pandas.io.formats.style.Styler at 0x7f6d2b26beb0>"
      ]
     },
     "metadata": {},
     "output_type": "display_data"
    },
    {
     "data": {
      "text/html": [
       "<style  type=\"text/css\" >\n",
       "    #T_4a275_ th {\n",
       "          text-align: center;\n",
       "    }#T_4a275_row0_col0,#T_4a275_row0_col1,#T_4a275_row0_col2,#T_4a275_row0_col3,#T_4a275_row0_col4,#T_4a275_row1_col0,#T_4a275_row1_col1,#T_4a275_row1_col2,#T_4a275_row1_col3,#T_4a275_row1_col4,#T_4a275_row2_col0,#T_4a275_row2_col1,#T_4a275_row2_col2,#T_4a275_row2_col3,#T_4a275_row2_col4,#T_4a275_row3_col0,#T_4a275_row3_col1,#T_4a275_row3_col2,#T_4a275_row3_col3,#T_4a275_row3_col4,#T_4a275_row4_col0,#T_4a275_row4_col1,#T_4a275_row4_col2,#T_4a275_row4_col3,#T_4a275_row4_col4{\n",
       "            text-align:  center;\n",
       "        }</style><table id=\"T_4a275_\" ><caption>Первые 5 строк таблицы geo_data_2</caption><thead>    <tr>        <th class=\"blank level0\" ></th>        <th class=\"col_heading level0 col0\" >id</th>        <th class=\"col_heading level0 col1\" >f0</th>        <th class=\"col_heading level0 col2\" >f1</th>        <th class=\"col_heading level0 col3\" >f2</th>        <th class=\"col_heading level0 col4\" >product</th>    </tr></thead><tbody>\n",
       "                <tr>\n",
       "                        <th id=\"T_4a275_level0_row0\" class=\"row_heading level0 row0\" >0</th>\n",
       "                        <td id=\"T_4a275_row0_col0\" class=\"data row0 col0\" >fwXo0</td>\n",
       "                        <td id=\"T_4a275_row0_col1\" class=\"data row0 col1\" >-1.146987</td>\n",
       "                        <td id=\"T_4a275_row0_col2\" class=\"data row0 col2\" >0.963328</td>\n",
       "                        <td id=\"T_4a275_row0_col3\" class=\"data row0 col3\" >-0.828965</td>\n",
       "                        <td id=\"T_4a275_row0_col4\" class=\"data row0 col4\" >27.758673</td>\n",
       "            </tr>\n",
       "            <tr>\n",
       "                        <th id=\"T_4a275_level0_row1\" class=\"row_heading level0 row1\" >1</th>\n",
       "                        <td id=\"T_4a275_row1_col0\" class=\"data row1 col0\" >WJtFt</td>\n",
       "                        <td id=\"T_4a275_row1_col1\" class=\"data row1 col1\" >0.262778</td>\n",
       "                        <td id=\"T_4a275_row1_col2\" class=\"data row1 col2\" >0.269839</td>\n",
       "                        <td id=\"T_4a275_row1_col3\" class=\"data row1 col3\" >-2.530187</td>\n",
       "                        <td id=\"T_4a275_row1_col4\" class=\"data row1 col4\" >56.069697</td>\n",
       "            </tr>\n",
       "            <tr>\n",
       "                        <th id=\"T_4a275_level0_row2\" class=\"row_heading level0 row2\" >2</th>\n",
       "                        <td id=\"T_4a275_row2_col0\" class=\"data row2 col0\" >ovLUW</td>\n",
       "                        <td id=\"T_4a275_row2_col1\" class=\"data row2 col1\" >0.194587</td>\n",
       "                        <td id=\"T_4a275_row2_col2\" class=\"data row2 col2\" >0.289035</td>\n",
       "                        <td id=\"T_4a275_row2_col3\" class=\"data row2 col3\" >-5.586433</td>\n",
       "                        <td id=\"T_4a275_row2_col4\" class=\"data row2 col4\" >62.871910</td>\n",
       "            </tr>\n",
       "            <tr>\n",
       "                        <th id=\"T_4a275_level0_row3\" class=\"row_heading level0 row3\" >3</th>\n",
       "                        <td id=\"T_4a275_row3_col0\" class=\"data row3 col0\" >q6cA6</td>\n",
       "                        <td id=\"T_4a275_row3_col1\" class=\"data row3 col1\" >2.236060</td>\n",
       "                        <td id=\"T_4a275_row3_col2\" class=\"data row3 col2\" >-0.553760</td>\n",
       "                        <td id=\"T_4a275_row3_col3\" class=\"data row3 col3\" >0.930038</td>\n",
       "                        <td id=\"T_4a275_row3_col4\" class=\"data row3 col4\" >114.572842</td>\n",
       "            </tr>\n",
       "            <tr>\n",
       "                        <th id=\"T_4a275_level0_row4\" class=\"row_heading level0 row4\" >4</th>\n",
       "                        <td id=\"T_4a275_row4_col0\" class=\"data row4 col0\" >WPMUX</td>\n",
       "                        <td id=\"T_4a275_row4_col1\" class=\"data row4 col1\" >-0.515993</td>\n",
       "                        <td id=\"T_4a275_row4_col2\" class=\"data row4 col2\" >1.716266</td>\n",
       "                        <td id=\"T_4a275_row4_col3\" class=\"data row4 col3\" >5.899011</td>\n",
       "                        <td id=\"T_4a275_row4_col4\" class=\"data row4 col4\" >149.600746</td>\n",
       "            </tr>\n",
       "    </tbody></table>"
      ],
      "text/plain": [
       "<pandas.io.formats.style.Styler at 0x7f6d29c91940>"
      ]
     },
     "metadata": {},
     "output_type": "display_data"
    }
   ],
   "source": [
    "pretty_display(geo_data_0, \"Первые 5 строк таблицы geo_data_0\")\n",
    "pretty_display(geo_data_1, \"Первые 5 строк таблицы geo_data_1\")\n",
    "pretty_display(geo_data_2, \"Первые 5 строк таблицы geo_data_2\")"
   ]
  },
  {
   "cell_type": "code",
   "execution_count": 5,
   "metadata": {},
   "outputs": [
    {
     "name": "stdout",
     "output_type": "stream",
     "text": [
      "<class 'pandas.core.frame.DataFrame'>\n",
      "RangeIndex: 100000 entries, 0 to 99999\n",
      "Data columns (total 5 columns):\n",
      " #   Column   Non-Null Count   Dtype  \n",
      "---  ------   --------------   -----  \n",
      " 0   id       100000 non-null  object \n",
      " 1   f0       100000 non-null  float64\n",
      " 2   f1       100000 non-null  float64\n",
      " 3   f2       100000 non-null  float64\n",
      " 4   product  100000 non-null  float64\n",
      "dtypes: float64(4), object(1)\n",
      "memory usage: 3.8+ MB\n"
     ]
    },
    {
     "data": {
      "text/plain": [
       "None"
      ]
     },
     "metadata": {},
     "output_type": "display_data"
    },
    {
     "name": "stdout",
     "output_type": "stream",
     "text": [
      "<class 'pandas.core.frame.DataFrame'>\n",
      "RangeIndex: 100000 entries, 0 to 99999\n",
      "Data columns (total 5 columns):\n",
      " #   Column   Non-Null Count   Dtype  \n",
      "---  ------   --------------   -----  \n",
      " 0   id       100000 non-null  object \n",
      " 1   f0       100000 non-null  float64\n",
      " 2   f1       100000 non-null  float64\n",
      " 3   f2       100000 non-null  float64\n",
      " 4   product  100000 non-null  float64\n",
      "dtypes: float64(4), object(1)\n",
      "memory usage: 3.8+ MB\n"
     ]
    },
    {
     "data": {
      "text/plain": [
       "None"
      ]
     },
     "metadata": {},
     "output_type": "display_data"
    },
    {
     "name": "stdout",
     "output_type": "stream",
     "text": [
      "<class 'pandas.core.frame.DataFrame'>\n",
      "RangeIndex: 100000 entries, 0 to 99999\n",
      "Data columns (total 5 columns):\n",
      " #   Column   Non-Null Count   Dtype  \n",
      "---  ------   --------------   -----  \n",
      " 0   id       100000 non-null  object \n",
      " 1   f0       100000 non-null  float64\n",
      " 2   f1       100000 non-null  float64\n",
      " 3   f2       100000 non-null  float64\n",
      " 4   product  100000 non-null  float64\n",
      "dtypes: float64(4), object(1)\n",
      "memory usage: 3.8+ MB\n"
     ]
    },
    {
     "data": {
      "text/plain": [
       "None"
      ]
     },
     "metadata": {},
     "output_type": "display_data"
    }
   ],
   "source": [
    "display(geo_data_0.info())\n",
    "display(geo_data_1.info())\n",
    "display(geo_data_2.info())"
   ]
  },
  {
   "cell_type": "code",
   "execution_count": 6,
   "metadata": {},
   "outputs": [],
   "source": [
    "def check_duplicates(df, name):\n",
    "    dup_count = df.duplicated().sum()\n",
    "    print(f\"В {name}: {dup_count} дубликатов\")\n",
    "    if dup_count > 0:\n",
    "        print(df[df.duplicated()].head())\n",
    "    print('-' * 50)"
   ]
  },
  {
   "cell_type": "code",
   "execution_count": 7,
   "metadata": {},
   "outputs": [
    {
     "name": "stdout",
     "output_type": "stream",
     "text": [
      "В geo_data_0: 0 дубликатов\n",
      "--------------------------------------------------\n"
     ]
    }
   ],
   "source": [
    "missing_values = geo_data_0.isnull().sum()\n",
    "missing_values = missing_values[missing_values > 0].sort_values(ascending=False)\n",
    "missing_values\n",
    "check_duplicates(geo_data_0, \"geo_data_0\")\n",
    "geo_data_0 = geo_data_0.drop_duplicates().reset_index(drop=True)"
   ]
  },
  {
   "cell_type": "code",
   "execution_count": 8,
   "metadata": {},
   "outputs": [
    {
     "name": "stdout",
     "output_type": "stream",
     "text": [
      "В geo_data_1: 0 дубликатов\n",
      "--------------------------------------------------\n"
     ]
    }
   ],
   "source": [
    "missing_values = geo_data_1.isnull().sum()\n",
    "missing_values = missing_values[missing_values > 0].sort_values(ascending=False)\n",
    "missing_values\n",
    "check_duplicates(geo_data_1, \"geo_data_1\")\n",
    "geo_data_1 = geo_data_1.drop_duplicates().reset_index(drop=True)"
   ]
  },
  {
   "cell_type": "code",
   "execution_count": 9,
   "metadata": {},
   "outputs": [
    {
     "name": "stdout",
     "output_type": "stream",
     "text": [
      "В geo_data_2: 0 дубликатов\n",
      "--------------------------------------------------\n"
     ]
    }
   ],
   "source": [
    "missing_values = geo_data_2.isnull().sum()\n",
    "missing_values = missing_values[missing_values > 0].sort_values(ascending=False)\n",
    "missing_values\n",
    "check_duplicates(geo_data_2, \"geo_data_2\")\n",
    "geo_data_2 = geo_data_2.drop_duplicates().reset_index(drop=True)"
   ]
  },
  {
   "cell_type": "code",
   "execution_count": 10,
   "metadata": {},
   "outputs": [
    {
     "name": "stdout",
     "output_type": "stream",
     "text": [
      "id         0\n",
      "f0         0\n",
      "f1         0\n",
      "f2         0\n",
      "product    0\n",
      "dtype: int64\n",
      "id         0\n",
      "f0         0\n",
      "f1         0\n",
      "f2         0\n",
      "product    0\n",
      "dtype: int64\n",
      "id         0\n",
      "f0         0\n",
      "f1         0\n",
      "f2         0\n",
      "product    0\n",
      "dtype: int64\n"
     ]
    }
   ],
   "source": [
    "print(geo_data_0.isnull().sum())\n",
    "print(geo_data_1.isnull().sum())\n",
    "print(geo_data_2.isnull().sum())"
   ]
  },
  {
   "cell_type": "markdown",
   "metadata": {},
   "source": [
    "Первичный анализ показал что данные имеют одинаковую структуру, все три файла имеют следующие столбцы:\n",
    "\n",
    "- id — уникальный идентификатор скважины;\n",
    "\n",
    "- f0, f1, f2 — три признака точек (неважно, что они означают, но сами признаки значимы);\n",
    "\n",
    "- product — объём запасов в скважине (тыс. баррелей).\n",
    "\n",
    "В файлах не обнаружено дубликатов и пропусков."
   ]
  },
  {
   "cell_type": "markdown",
   "metadata": {},
   "source": [
    "<b>Исследовательский анализ данных</b>"
   ]
  },
  {
   "cell_type": "code",
   "execution_count": 11,
   "metadata": {},
   "outputs": [],
   "source": [
    "def plot_numeric_features(df, features=None, bins=30):\n",
    "  \n",
    "    if features is None:\n",
    "        features = df.select_dtypes(include='number').columns\n",
    "    \n",
    "    for col in features:\n",
    "        plt.figure(figsize=(12, 5))\n",
    "        \n",
    "        plt.subplot(1, 2, 1)\n",
    "        sns.histplot(df[col].dropna(), bins=bins, kde=True, color='skyblue')\n",
    "        plt.title(f'Распределение признака: {col}')\n",
    "        plt.xlabel(col)\n",
    "        plt.ylabel('Частота')\n",
    "        \n",
    "        plt.subplot(1, 2, 2)\n",
    "        sns.boxplot(x=df[col], color='lightgreen')\n",
    "        plt.title(f'Boxplot признака: {col}')\n",
    "        plt.xlabel(col)\n",
    "\n",
    "        plt.tight_layout()\n",
    "        plt.show()"
   ]
  },
  {
   "cell_type": "code",
   "execution_count": 12,
   "metadata": {},
   "outputs": [
    {
     "data": {
      "image/png": "[encoded data removed]",
      "text/plain": [
       "<Figure size 864x360 with 2 Axes>"
      ]
     },
     "metadata": {
      "needs_background": "light"
     },
     "output_type": "display_data"
    },
    {
     "data": {
      "image/png": "[encoded data removed]",
      "text/plain": [
       "<Figure size 864x360 with 2 Axes>"
      ]
     },
     "metadata": {
      "needs_background": "light"
     },
     "output_type": "display_data"
    },
    {
     "data": {
      "image/png": "[encoded data removed]",
      "text/plain": [
       "<Figure size 864x360 with 2 Axes>"
      ]
     },
     "metadata": {
      "needs_background": "light"
     },
     "output_type": "display_data"
    },
    {
     "data": {
      "image/png": "[encoded data removed]",
      "text/plain": [
       "<Figure size 864x360 with 2 Axes>"
      ]
     },
     "metadata": {
      "needs_background": "light"
     },
     "output_type": "display_data"
    }
   ],
   "source": [
    "geo_data_0_with_no_id = geo_data_0.drop(['id'], axis=1)\n",
    "\n",
    "plot_numeric_features(geo_data_0_with_no_id)"
   ]
  },
  {
   "cell_type": "code",
   "execution_count": 13,
   "metadata": {},
   "outputs": [
    {
     "data": {
      "image/png": "[encoded data removed]",
      "text/plain": [
       "<Figure size 864x360 with 2 Axes>"
      ]
     },
     "metadata": {
      "needs_background": "light"
     },
     "output_type": "display_data"
    },
    {
     "data": {
      "image/png": "[encoded data removed]",
      "text/plain": [
       "<Figure size 864x360 with 2 Axes>"
      ]
     },
     "metadata": {
      "needs_background": "light"
     },
     "output_type": "display_data"
    },
    {
     "data": {
      "image/png": "[encoded data removed]",
      "text/plain": [
       "<Figure size 864x360 with 2 Axes>"
      ]
     },
     "metadata": {
      "needs_background": "light"
     },
     "output_type": "display_data"
    },
    {
     "data": {
      "image/png": "[encoded data removed]",
      "text/plain": [
       "<Figure size 864x360 with 2 Axes>"
      ]
     },
     "metadata": {
      "needs_background": "light"
     },
     "output_type": "display_data"
    }
   ],
   "source": [
    "geo_data_1_with_no_id = geo_data_1.drop(['id'], axis=1)\n",
    "\n",
    "plot_numeric_features(geo_data_1_with_no_id)"
   ]
  },
  {
   "cell_type": "code",
   "execution_count": 14,
   "metadata": {},
   "outputs": [
    {
     "data": {
      "image/png": "[encoded data removed]",
      "text/plain": [
       "<Figure size 864x360 with 2 Axes>"
      ]
     },
     "metadata": {
      "needs_background": "light"
     },
     "output_type": "display_data"
    },
    {
     "data": {
      "image/png": "[encoded data removed]",
      "text/plain": [
       "<Figure size 864x360 with 2 Axes>"
      ]
     },
     "metadata": {
      "needs_background": "light"
     },
     "output_type": "display_data"
    },
    {
     "data": {
      "image/png": "[encoded data removed]",
      "text/plain": [
       "<Figure size 864x360 with 2 Axes>"
      ]
     },
     "metadata": {
      "needs_background": "light"
     },
     "output_type": "display_data"
    },
    {
     "data": {
      "image/png": "[encoded data removed]",
      "text/plain": [
       "<Figure size 864x360 with 2 Axes>"
      ]
     },
     "metadata": {
      "needs_background": "light"
     },
     "output_type": "display_data"
    }
   ],
   "source": [
    "geo_data_2_with_no_id = geo_data_2.drop(['id'], axis=1)\n",
    "\n",
    "plot_numeric_features(geo_data_2_with_no_id)"
   ]
  },
  {
   "cell_type": "markdown",
   "metadata": {},
   "source": [
    "Визуализация признаков показала что средняя продуктивность скважин находиться на уровне:\n",
    "- на первом участке - 90 бареллей. \n",
    "- на втором - 58 бареллей. \n",
    "- на третьем 90 бареллей.\n",
    "\n",
    "Стоит отметить что распределение признаков на втором участке дискретны, в сравнении с первым и третьим участком."
   ]
  },
  {
   "cell_type": "markdown",
   "metadata": {},
   "source": [
    "## Обучение и проверка модели"
   ]
  },
  {
   "cell_type": "code",
   "execution_count": 15,
   "metadata": {},
   "outputs": [],
   "source": [
    "def predict_oil_productivity(df, target_col='product', drop_cols=['id'], test_size=0.25, random_state=42):\n",
    "    \n",
    "    # Отделяем признаки и целевую переменную\n",
    "    X = df.drop(columns=drop_cols + [target_col])\n",
    "    y = df[target_col]\n",
    "\n",
    "    # Разделение на обучающую и валидационную выборки\n",
    "    X_train, X_valid, y_train, y_valid = train_test_split(\n",
    "        X, y, test_size=test_size, random_state=random_state\n",
    "    )\n",
    "\n",
    "    # Масштабирование признаков\n",
    "    scaler = StandardScaler()\n",
    "    X_train_scaled = scaler.fit_transform(X_train)\n",
    "    X_valid_scaled = scaler.transform(X_valid)\n",
    "\n",
    "    # Обучение модели\n",
    "    model = LinearRegression()\n",
    "    model.fit(X_train_scaled, y_train)\n",
    "\n",
    "    # Предсказания\n",
    "    y_pred = model.predict(X_valid_scaled)\n",
    "\n",
    "    # Результаты и метрики\n",
    "    results = pd.DataFrame({\n",
    "        'real_product': y_valid.values,\n",
    "        'predicted_product': y_pred\n",
    "    })\n",
    "\n",
    "    rmse = mean_squared_error(y_valid, y_pred) ** 0.5\n",
    "    mean_pred = y_pred.mean()\n",
    "    total_pred = y_pred.sum()\n",
    "\n",
    "    return results, rmse, mean_pred, total_pred, model"
   ]
  },
  {
   "cell_type": "code",
   "execution_count": 16,
   "metadata": {},
   "outputs": [
    {
     "name": "stdout",
     "output_type": "stream",
     "text": [
      "RMSE: 37.75660035026169\n",
      "Среднее предсказание сырья: 92.39879990657768\n",
      "Суммарный объём нефти (предсказанный): 2309969.997664442\n",
      "   real_product  predicted_product\n",
      "0    122.073350         101.901017\n",
      "1     48.738540          78.217774\n",
      "2    131.338088         115.266901\n",
      "3     88.327757         105.618618\n",
      "4     36.959266          97.980185\n"
     ]
    }
   ],
   "source": [
    "results_0, rmse_0, mean_pred_0, total_pred_0, model_0 = predict_oil_productivity(geo_data_0)\n",
    "\n",
    "print(\"RMSE:\", rmse_0)\n",
    "print(\"Среднее предсказание сырья:\", mean_pred_0)\n",
    "print(\"Суммарный объём нефти (предсказанный):\", total_pred_0)\n",
    "print(results_0.head())"
   ]
  },
  {
   "cell_type": "code",
   "execution_count": 17,
   "metadata": {},
   "outputs": [
    {
     "name": "stdout",
     "output_type": "stream",
     "text": [
      "RMSE: 0.8902801001028846\n",
      "Среднее предсказание сырья: 68.7128780391376\n",
      "Суммарный объём нефти (предсказанный): 1717821.9509784402\n",
      "   real_product  predicted_product\n",
      "0      0.000000           0.844738\n",
      "1     53.906522          52.921612\n",
      "2    134.766305         135.110385\n",
      "3    107.813044         109.494863\n",
      "4      0.000000          -0.047292\n"
     ]
    }
   ],
   "source": [
    "results_1, rmse_1, mean_pred_1, total_pred_1, model_1 = predict_oil_productivity(geo_data_1)\n",
    "\n",
    "print(\"RMSE:\", rmse_1)\n",
    "print(\"Среднее предсказание сырья:\", mean_pred_1)\n",
    "print(\"Суммарный объём нефти (предсказанный):\", total_pred_1)\n",
    "print(results_1.head())"
   ]
  },
  {
   "cell_type": "code",
   "execution_count": 18,
   "metadata": {},
   "outputs": [
    {
     "name": "stdout",
     "output_type": "stream",
     "text": [
      "RMSE: 40.145872311342174\n",
      "Среднее предсказание сырья: 94.77102387765939\n",
      "Суммарный объём нефти (предсказанный): 2369275.5969414846\n",
      "   real_product  predicted_product\n",
      "0    117.441301          98.301916\n",
      "1     47.841249         101.592461\n",
      "2     45.883483          52.449099\n",
      "3    139.014608         109.922127\n",
      "4     84.004276          72.411847\n"
     ]
    }
   ],
   "source": [
    "results_2, rmse_2, mean_pred_2, total_pred_2, model_2 = predict_oil_productivity(geo_data_2)\n",
    "\n",
    "print(\"RMSE:\", rmse_2)\n",
    "print(\"Среднее предсказание сырья:\", mean_pred_2)\n",
    "print(\"Суммарный объём нефти (предсказанный):\", total_pred_2)\n",
    "print(results_2.head())"
   ]
  },
  {
   "cell_type": "markdown",
   "metadata": {},
   "source": [
    "Анализ RMSE показал что масштабирование не влияет на качество модели, между признаками f0, f1, f2 и целевым признаком нет сильной корреляции. На втором участке RMSE (0.89) модель показывает очень плохие результаты, распределение признаков там имеет дискретные характеристики."
   ]
  },
  {
   "cell_type": "markdown",
   "metadata": {},
   "source": [
    "## Подготовка к расчёту прибыли"
   ]
  },
  {
   "cell_type": "code",
   "execution_count": 19,
   "metadata": {},
   "outputs": [],
   "source": [
    "total_budget = 10_000_000_000\n",
    "best_well = 200\n",
    "revenue_gross = 450_000"
   ]
  },
  {
   "cell_type": "code",
   "execution_count": 20,
   "metadata": {},
   "outputs": [
    {
     "name": "stdout",
     "output_type": "stream",
     "text": [
      "Точка безубыточности: 22,222 тыс. баррелей\n",
      "Точка безубыточности: тыс. баррелей 112.0\n"
     ]
    }
   ],
   "source": [
    "n = total_budget/ revenue_gross\n",
    "print(f'Точка безубыточности: {int(n):,} тыс. баррелей')\n",
    "print(f'Точка безубыточности: тыс. баррелей', np.ceil(n/best_well))"
   ]
  },
  {
   "cell_type": "code",
   "execution_count": 21,
   "metadata": {},
   "outputs": [
    {
     "name": "stdout",
     "output_type": "stream",
     "text": [
      "Средний объем нефти на скважину в первом участке 92.50000000000001\n",
      "Средний объем нефти во втором участве 68.82500000000002\n",
      "Средний объем нефти в третьем участке 95.00000000000004\n"
     ]
    }
   ],
   "source": [
    "print('Средний объем нефти на скважину в первом участке', geo_data_0['product'].mean())\n",
    "print('Средний объем нефти во втором участве', geo_data_1['product'].mean())\n",
    "print('Средний объем нефти в третьем участке', geo_data_2['product'].mean())"
   ]
  },
  {
   "cell_type": "markdown",
   "metadata": {},
   "source": [
    "Расчеты показали что для того что бы скважина себя окупила требуется 112 тыс баррелей нефти со скважины, к сожалениею среднее значение продуктивности по всем трем участкам ниже, особенно на втором участке."
   ]
  },
  {
   "cell_type": "markdown",
   "metadata": {},
   "source": [
    "## Расчёт прибыли и рисков "
   ]
  },
  {
   "cell_type": "code",
   "execution_count": 22,
   "metadata": {},
   "outputs": [],
   "source": [
    "state = np.random.RandomState(42)\n",
    "\n",
    "def revenue(probabilities, target):\n",
    "    probs_sorted = probabilities.sort_values(ascending=False)\n",
    "    selected = target[probs_sorted.index][:200]\n",
    "    revenue = selected.sum() * revenue_gross\n",
    "    return revenue - total_budget"
   ]
  },
  {
   "cell_type": "code",
   "execution_count": 23,
   "metadata": {},
   "outputs": [],
   "source": [
    "def bootstrap(target, probs):\n",
    "    values=[]\n",
    "    lost = 0\n",
    "    for i in range(1000):\n",
    "        target_sample = target.sample(replace=True, random_state=state, n=500)\n",
    "        probs_sample = probs[target_sample.index]\n",
    "        profit = revenue(probs_sample, target)\n",
    "        if profit < 0:\n",
    "            lost +=1\n",
    "        values.append(profit)\n",
    "    \n",
    "    values = pd.Series(values)\n",
    "    lower = values.quantile(0.025)\n",
    "    upper = values.quantile(0.975)\n",
    "    average = values.mean()\n",
    "    risk = lost / 1000\n",
    "    return average, lower, upper, risk"
   ]
  },
  {
   "cell_type": "code",
   "execution_count": 24,
   "metadata": {},
   "outputs": [
    {
     "name": "stdout",
     "output_type": "stream",
     "text": [
      "Средняя прибыль по региону = 399575478.05 тыс.руб.\n",
      "95% доверительный интервал от -110467895.33 до 897460327.72 тыс.руб.\n",
      "Процент риска 6.00%\n"
     ]
    }
   ],
   "source": [
    "avg_0, low_0, upper_0, risk_val_0 = bootstrap(results_0['real_product'], results_0['predicted_product'])\n",
    "\n",
    "print('Средняя прибыль по региону = {:.2f} тыс.руб.'.format(avg_0))\n",
    "print('95% доверительный интервал от {:.2f} до {:.2f} тыс.руб.'.format(low_0, upper_0))\n",
    "print('Процент риска {:.2%}'.format(risk_val_0))"
   ]
  },
  {
   "cell_type": "code",
   "execution_count": 25,
   "metadata": {},
   "outputs": [
    {
     "name": "stdout",
     "output_type": "stream",
     "text": [
      "Средняя прибыль по региону = 452576594.29 тыс.руб.\n",
      "95% доверительный интервал от 52309409.80 до 830146313.26 тыс.руб.\n",
      "Процент риска 0.90%\n"
     ]
    }
   ],
   "source": [
    "avg_1, low_1, upper_1, risk_val_1 = bootstrap(results_1['real_product'], results_1['predicted_product'])\n",
    "\n",
    "print('Средняя прибыль по региону = {:.2f} тыс.руб.'.format(avg_1))\n",
    "print('95% доверительный интервал от {:.2f} до {:.2f} тыс.руб.'.format(low_1, upper_1))\n",
    "print('Процент риска {:.2%}'.format(risk_val_1))"
   ]
  },
  {
   "cell_type": "code",
   "execution_count": 26,
   "metadata": {},
   "outputs": [
    {
     "name": "stdout",
     "output_type": "stream",
     "text": [
      "Средняя прибыль по региону = 378705903.66 тыс.руб.\n",
      "95% доверительный интервал от -127779434.99 до 907923483.22 тыс.руб.\n",
      "Процент риска 7.50%\n"
     ]
    }
   ],
   "source": [
    "avg_2, low_2, upper_2, risk_val_2 = bootstrap(results_2['real_product'], results_2['predicted_product'])\n",
    "\n",
    "print('Средняя прибыль по региону = {:.2f} тыс.руб.'.format(avg_2))\n",
    "print('95% доверительный интервал от {:.2f} до {:.2f} тыс.руб.'.format(low_2, upper_2))\n",
    "print('Процент риска {:.2%}'.format(risk_val_2))"
   ]
  },
  {
   "cell_type": "markdown",
   "metadata": {},
   "source": [
    "Наиболее подходящим регионом для бурения скважин является регион №2, несмотря на среднее значение закасов в скважинах, и некоторую дискретность данных. Анализ показал что наиболее перспективные точки находятся в данном регионе."
   ]
  }
 ],
 "metadata": {
  "ExecuteTimeLog": [
   {
    "duration": 12,
    "start_time": "2025-03-28T16:34:30.916Z"
   },
   {
    "duration": 1698,
    "start_time": "2025-08-02T12:11:12.697Z"
   },
   {
    "duration": 476,
    "start_time": "2025-08-02T12:12:51.351Z"
   },
   {
    "duration": 4,
    "start_time": "2025-08-02T12:21:17.383Z"
   },
   {
    "duration": 89,
    "start_time": "2025-08-02T12:21:17.918Z"
   },
   {
    "duration": 45,
    "start_time": "2025-08-02T12:21:57.036Z"
   },
   {
    "duration": 120,
    "start_time": "2025-08-02T12:25:31.379Z"
   },
   {
    "duration": 4,
    "start_time": "2025-08-02T12:25:35.565Z"
   },
   {
    "duration": 66,
    "start_time": "2025-08-02T12:25:36.211Z"
   },
   {
    "duration": 111,
    "start_time": "2025-08-02T12:25:44.117Z"
   },
   {
    "duration": 1500,
    "start_time": "2025-08-02T12:25:49.972Z"
   },
   {
    "duration": 424,
    "start_time": "2025-08-02T12:25:51.473Z"
   },
   {
    "duration": 4,
    "start_time": "2025-08-02T12:25:51.898Z"
   },
   {
    "duration": 100,
    "start_time": "2025-08-02T12:25:51.904Z"
   },
   {
    "duration": 43,
    "start_time": "2025-08-02T12:25:52.006Z"
   },
   {
    "duration": 4,
    "start_time": "2025-08-02T12:25:52.051Z"
   },
   {
    "duration": 153,
    "start_time": "2025-08-02T12:25:52.056Z"
   },
   {
    "duration": 104,
    "start_time": "2025-08-02T12:26:23.835Z"
   },
   {
    "duration": 99,
    "start_time": "2025-08-02T12:26:54.156Z"
   },
   {
    "duration": 97,
    "start_time": "2025-08-02T12:26:54.923Z"
   },
   {
    "duration": 101,
    "start_time": "2025-08-02T12:26:55.732Z"
   },
   {
    "duration": 23,
    "start_time": "2025-08-02T12:28:37.020Z"
   },
   {
    "duration": 5,
    "start_time": "2025-08-02T12:29:56.221Z"
   },
   {
    "duration": 4194,
    "start_time": "2025-08-02T12:31:00.199Z"
   },
   {
    "duration": 5,
    "start_time": "2025-08-02T12:32:36.761Z"
   },
   {
    "duration": 3912,
    "start_time": "2025-08-02T12:32:37.268Z"
   },
   {
    "duration": 51,
    "start_time": "2025-08-03T09:35:29.535Z"
   },
   {
    "duration": 1722,
    "start_time": "2025-08-03T09:35:38.416Z"
   },
   {
    "duration": 440,
    "start_time": "2025-08-03T09:35:40.140Z"
   },
   {
    "duration": 4,
    "start_time": "2025-08-03T09:35:40.581Z"
   },
   {
    "duration": 86,
    "start_time": "2025-08-03T09:35:40.598Z"
   },
   {
    "duration": 48,
    "start_time": "2025-08-03T09:35:40.698Z"
   },
   {
    "duration": 4,
    "start_time": "2025-08-03T09:35:40.748Z"
   },
   {
    "duration": 145,
    "start_time": "2025-08-03T09:35:40.753Z"
   },
   {
    "duration": 121,
    "start_time": "2025-08-03T09:35:40.900Z"
   },
   {
    "duration": 115,
    "start_time": "2025-08-03T09:35:41.023Z"
   },
   {
    "duration": 23,
    "start_time": "2025-08-03T09:35:41.140Z"
   },
   {
    "duration": 6,
    "start_time": "2025-08-03T09:35:41.164Z"
   },
   {
    "duration": 4014,
    "start_time": "2025-08-03T09:35:41.172Z"
   },
   {
    "duration": 3996,
    "start_time": "2025-08-03T09:35:45.187Z"
   },
   {
    "duration": 5,
    "start_time": "2025-08-03T09:36:02.719Z"
   },
   {
    "duration": 3856,
    "start_time": "2025-08-03T09:36:05.124Z"
   },
   {
    "duration": 3898,
    "start_time": "2025-08-03T09:36:44.970Z"
   },
   {
    "duration": 3806,
    "start_time": "2025-08-03T09:37:01.678Z"
   },
   {
    "duration": 3843,
    "start_time": "2025-08-03T09:37:20.537Z"
   },
   {
    "duration": 4094,
    "start_time": "2025-08-03T09:37:52.996Z"
   },
   {
    "duration": 4,
    "start_time": "2025-08-03T09:54:23.441Z"
   },
   {
    "duration": 120,
    "start_time": "2025-08-03T09:55:20.472Z"
   },
   {
    "duration": 11,
    "start_time": "2025-08-03T09:55:30.942Z"
   },
   {
    "duration": 10,
    "start_time": "2025-08-03T09:55:42.508Z"
   },
   {
    "duration": 10,
    "start_time": "2025-08-03T09:56:50.618Z"
   },
   {
    "duration": 9,
    "start_time": "2025-08-03T09:57:08.470Z"
   },
   {
    "duration": 3,
    "start_time": "2025-08-03T09:57:52.023Z"
   },
   {
    "duration": 3,
    "start_time": "2025-08-03T09:58:40.846Z"
   },
   {
    "duration": 9,
    "start_time": "2025-08-03T09:58:41.459Z"
   },
   {
    "duration": 3,
    "start_time": "2025-08-03T09:59:56.589Z"
   },
   {
    "duration": 11,
    "start_time": "2025-08-03T09:59:57.535Z"
   },
   {
    "duration": 10,
    "start_time": "2025-08-03T10:03:33.630Z"
   },
   {
    "duration": 3,
    "start_time": "2025-08-03T10:03:36.858Z"
   },
   {
    "duration": 28,
    "start_time": "2025-08-03T10:03:37.448Z"
   },
   {
    "duration": 4,
    "start_time": "2025-08-03T10:05:27.175Z"
   },
   {
    "duration": 39,
    "start_time": "2025-08-03T10:05:27.759Z"
   },
   {
    "duration": 4,
    "start_time": "2025-08-03T10:05:32.397Z"
   },
   {
    "duration": 32,
    "start_time": "2025-08-03T10:05:33.219Z"
   },
   {
    "duration": 3,
    "start_time": "2025-08-03T10:06:20.576Z"
   },
   {
    "duration": 19,
    "start_time": "2025-08-03T10:06:23.125Z"
   },
   {
    "duration": 20,
    "start_time": "2025-08-03T10:08:26.260Z"
   },
   {
    "duration": 21,
    "start_time": "2025-08-03T10:08:50.380Z"
   },
   {
    "duration": 10,
    "start_time": "2025-08-03T10:10:57.731Z"
   },
   {
    "duration": 6,
    "start_time": "2025-08-03T10:11:27.359Z"
   },
   {
    "duration": 12,
    "start_time": "2025-08-03T10:11:32.054Z"
   },
   {
    "duration": 31,
    "start_time": "2025-08-03T10:52:53.211Z"
   },
   {
    "duration": 25,
    "start_time": "2025-08-03T10:56:46.986Z"
   },
   {
    "duration": 28,
    "start_time": "2025-08-03T10:57:35.005Z"
   },
   {
    "duration": 22,
    "start_time": "2025-08-03T10:57:38.304Z"
   },
   {
    "duration": 39,
    "start_time": "2025-08-03T10:58:23.461Z"
   },
   {
    "duration": 3,
    "start_time": "2025-08-03T10:58:42.736Z"
   },
   {
    "duration": 14,
    "start_time": "2025-08-03T10:58:47.517Z"
   },
   {
    "duration": 3,
    "start_time": "2025-08-03T10:59:38.986Z"
   },
   {
    "duration": 14,
    "start_time": "2025-08-03T10:59:39.477Z"
   },
   {
    "duration": 28,
    "start_time": "2025-08-03T11:00:10.485Z"
   },
   {
    "duration": 16,
    "start_time": "2025-08-03T11:00:11.281Z"
   },
   {
    "duration": 12,
    "start_time": "2025-08-03T11:00:57.702Z"
   },
   {
    "duration": 47,
    "start_time": "2025-08-03T11:01:50.453Z"
   },
   {
    "duration": 29,
    "start_time": "2025-08-03T11:02:14.231Z"
   },
   {
    "duration": 24,
    "start_time": "2025-08-03T11:02:14.852Z"
   },
   {
    "duration": 44,
    "start_time": "2025-08-03T11:05:52.655Z"
   },
   {
    "duration": 50,
    "start_time": "2025-08-03T11:07:06.553Z"
   },
   {
    "duration": 38,
    "start_time": "2025-08-03T11:07:07.371Z"
   },
   {
    "duration": 25,
    "start_time": "2025-08-03T11:07:16.688Z"
   },
   {
    "duration": 112,
    "start_time": "2025-08-03T11:07:18.988Z"
   },
   {
    "duration": 73,
    "start_time": "2025-08-03T11:08:08.227Z"
   },
   {
    "duration": 1656,
    "start_time": "2025-08-03T14:21:24.854Z"
   },
   {
    "duration": 432,
    "start_time": "2025-08-03T14:21:26.512Z"
   },
   {
    "duration": 3,
    "start_time": "2025-08-03T14:21:26.946Z"
   },
   {
    "duration": 102,
    "start_time": "2025-08-03T14:21:26.951Z"
   },
   {
    "duration": 45,
    "start_time": "2025-08-03T14:21:27.055Z"
   },
   {
    "duration": 4,
    "start_time": "2025-08-03T14:21:27.101Z"
   },
   {
    "duration": 147,
    "start_time": "2025-08-03T14:21:27.107Z"
   },
   {
    "duration": 121,
    "start_time": "2025-08-03T14:21:27.256Z"
   },
   {
    "duration": 113,
    "start_time": "2025-08-03T14:21:27.379Z"
   },
   {
    "duration": 24,
    "start_time": "2025-08-03T14:21:27.493Z"
   },
   {
    "duration": 23,
    "start_time": "2025-08-03T14:21:27.519Z"
   },
   {
    "duration": 3868,
    "start_time": "2025-08-03T14:21:27.545Z"
   },
   {
    "duration": 3890,
    "start_time": "2025-08-03T14:21:31.415Z"
   },
   {
    "duration": 3895,
    "start_time": "2025-08-03T14:21:35.308Z"
   },
   {
    "duration": 4,
    "start_time": "2025-08-03T14:21:39.205Z"
   },
   {
    "duration": 35,
    "start_time": "2025-08-03T14:21:39.211Z"
   },
   {
    "duration": 22,
    "start_time": "2025-08-03T14:21:39.247Z"
   },
   {
    "duration": 20,
    "start_time": "2025-08-03T14:21:39.271Z"
   },
   {
    "duration": 51,
    "start_time": "2025-08-03T14:21:39.293Z"
   },
   {
    "duration": 97,
    "start_time": "2025-08-03T14:21:39.346Z"
   },
   {
    "duration": 293,
    "start_time": "2025-08-03T14:21:39.445Z"
   },
   {
    "duration": 201,
    "start_time": "2025-08-03T14:21:39.742Z"
   },
   {
    "duration": 1596,
    "start_time": "2025-08-03T14:50:41.523Z"
   },
   {
    "duration": 426,
    "start_time": "2025-08-03T14:50:43.121Z"
   },
   {
    "duration": 4,
    "start_time": "2025-08-03T14:50:43.549Z"
   },
   {
    "duration": 98,
    "start_time": "2025-08-03T14:50:43.554Z"
   },
   {
    "duration": 43,
    "start_time": "2025-08-03T14:50:43.654Z"
   },
   {
    "duration": 3,
    "start_time": "2025-08-03T14:50:43.698Z"
   },
   {
    "duration": 136,
    "start_time": "2025-08-03T14:50:43.703Z"
   },
   {
    "duration": 117,
    "start_time": "2025-08-03T14:50:43.841Z"
   },
   {
    "duration": 110,
    "start_time": "2025-08-03T14:50:43.959Z"
   },
   {
    "duration": 25,
    "start_time": "2025-08-03T14:50:44.071Z"
   },
   {
    "duration": 6,
    "start_time": "2025-08-03T14:50:44.098Z"
   },
   {
    "duration": 1478,
    "start_time": "2025-08-03T14:50:50.227Z"
   },
   {
    "duration": 417,
    "start_time": "2025-08-03T14:50:51.706Z"
   },
   {
    "duration": 3,
    "start_time": "2025-08-03T14:50:52.125Z"
   },
   {
    "duration": 85,
    "start_time": "2025-08-03T14:50:52.130Z"
   },
   {
    "duration": 57,
    "start_time": "2025-08-03T14:50:52.217Z"
   },
   {
    "duration": 3,
    "start_time": "2025-08-03T14:50:52.275Z"
   },
   {
    "duration": 178,
    "start_time": "2025-08-03T14:50:52.280Z"
   },
   {
    "duration": 175,
    "start_time": "2025-08-03T14:50:52.459Z"
   },
   {
    "duration": 107,
    "start_time": "2025-08-03T14:50:52.640Z"
   },
   {
    "duration": 23,
    "start_time": "2025-08-03T14:50:52.748Z"
   },
   {
    "duration": 16,
    "start_time": "2025-08-03T14:50:52.772Z"
   },
   {
    "duration": 3707,
    "start_time": "2025-08-03T14:50:52.789Z"
   },
   {
    "duration": 4002,
    "start_time": "2025-08-03T14:50:56.497Z"
   },
   {
    "duration": 3799,
    "start_time": "2025-08-03T14:51:00.502Z"
   },
   {
    "duration": 4,
    "start_time": "2025-08-03T14:51:04.302Z"
   },
   {
    "duration": 33,
    "start_time": "2025-08-03T14:51:04.307Z"
   },
   {
    "duration": 21,
    "start_time": "2025-08-03T14:51:04.341Z"
   },
   {
    "duration": 19,
    "start_time": "2025-08-03T14:51:04.364Z"
   },
   {
    "duration": 30,
    "start_time": "2025-08-03T14:51:04.384Z"
   },
   {
    "duration": 47,
    "start_time": "2025-08-03T14:51:04.416Z"
   },
   {
    "duration": 200,
    "start_time": "2025-08-03T14:51:04.540Z"
   },
   {
    "duration": 206,
    "start_time": "2025-08-03T14:51:04.742Z"
   },
   {
    "duration": 95,
    "start_time": "2025-08-03T14:51:05.045Z"
   },
   {
    "duration": 99,
    "start_time": "2025-08-03T14:51:05.142Z"
   },
   {
    "duration": 5,
    "start_time": "2025-08-03T14:57:01.888Z"
   },
   {
    "duration": 40,
    "start_time": "2025-08-03T14:57:02.506Z"
   },
   {
    "duration": 122,
    "start_time": "2025-08-03T14:57:37.424Z"
   },
   {
    "duration": 31,
    "start_time": "2025-08-03T14:58:23.517Z"
   },
   {
    "duration": 28,
    "start_time": "2025-08-03T14:58:28.657Z"
   },
   {
    "duration": 27,
    "start_time": "2025-08-03T14:58:29.583Z"
   },
   {
    "duration": 27,
    "start_time": "2025-08-03T14:58:32.356Z"
   },
   {
    "duration": 104,
    "start_time": "2025-08-04T08:03:43.200Z"
   },
   {
    "duration": 1750,
    "start_time": "2025-08-04T08:03:53.733Z"
   },
   {
    "duration": 692,
    "start_time": "2025-08-04T08:03:55.485Z"
   },
   {
    "duration": 4,
    "start_time": "2025-08-04T08:03:56.178Z"
   },
   {
    "duration": 119,
    "start_time": "2025-08-04T08:03:56.183Z"
   },
   {
    "duration": 65,
    "start_time": "2025-08-04T08:03:56.304Z"
   },
   {
    "duration": 3,
    "start_time": "2025-08-04T08:03:56.371Z"
   },
   {
    "duration": 133,
    "start_time": "2025-08-04T08:03:56.376Z"
   },
   {
    "duration": 115,
    "start_time": "2025-08-04T08:03:56.510Z"
   },
   {
    "duration": 117,
    "start_time": "2025-08-04T08:03:56.626Z"
   },
   {
    "duration": 27,
    "start_time": "2025-08-04T08:03:56.745Z"
   },
   {
    "duration": 6,
    "start_time": "2025-08-04T08:03:56.774Z"
   },
   {
    "duration": 3863,
    "start_time": "2025-08-04T08:03:56.781Z"
   },
   {
    "duration": 3995,
    "start_time": "2025-08-04T08:04:00.646Z"
   },
   {
    "duration": 4081,
    "start_time": "2025-08-04T08:04:04.644Z"
   },
   {
    "duration": 3,
    "start_time": "2025-08-04T08:04:08.727Z"
   },
   {
    "duration": 33,
    "start_time": "2025-08-04T08:04:08.731Z"
   },
   {
    "duration": 21,
    "start_time": "2025-08-04T08:04:08.765Z"
   },
   {
    "duration": 21,
    "start_time": "2025-08-04T08:04:08.787Z"
   },
   {
    "duration": 52,
    "start_time": "2025-08-04T08:04:08.809Z"
   },
   {
    "duration": 106,
    "start_time": "2025-08-04T08:04:08.862Z"
   },
   {
    "duration": 293,
    "start_time": "2025-08-04T08:04:08.971Z"
   },
   {
    "duration": 200,
    "start_time": "2025-08-04T08:04:09.266Z"
   },
   {
    "duration": 94,
    "start_time": "2025-08-04T08:04:09.469Z"
   },
   {
    "duration": 195,
    "start_time": "2025-08-04T08:04:09.567Z"
   },
   {
    "duration": 196,
    "start_time": "2025-08-04T08:04:09.765Z"
   },
   {
    "duration": 192,
    "start_time": "2025-08-04T08:04:09.970Z"
   },
   {
    "duration": 139,
    "start_time": "2025-08-04T08:04:10.165Z"
   },
   {
    "duration": 3,
    "start_time": "2025-08-04T08:05:03.896Z"
   },
   {
    "duration": 3,
    "start_time": "2025-08-04T08:45:13.790Z"
   },
   {
    "duration": 3,
    "start_time": "2025-08-04T08:45:14.414Z"
   },
   {
    "duration": 4,
    "start_time": "2025-08-04T08:58:43.330Z"
   },
   {
    "duration": 4,
    "start_time": "2025-08-04T09:01:00.793Z"
   },
   {
    "duration": 1872,
    "start_time": "2025-08-04T15:14:52.262Z"
   },
   {
    "duration": 537,
    "start_time": "2025-08-04T15:14:54.136Z"
   },
   {
    "duration": 4,
    "start_time": "2025-08-04T15:14:54.675Z"
   },
   {
    "duration": 104,
    "start_time": "2025-08-04T15:14:54.681Z"
   },
   {
    "duration": 75,
    "start_time": "2025-08-04T15:14:54.787Z"
   },
   {
    "duration": 4,
    "start_time": "2025-08-04T15:14:54.864Z"
   },
   {
    "duration": 180,
    "start_time": "2025-08-04T15:14:54.869Z"
   },
   {
    "duration": 128,
    "start_time": "2025-08-04T15:14:55.051Z"
   },
   {
    "duration": 124,
    "start_time": "2025-08-04T15:14:55.181Z"
   },
   {
    "duration": 24,
    "start_time": "2025-08-04T15:14:55.308Z"
   },
   {
    "duration": 6,
    "start_time": "2025-08-04T15:14:55.333Z"
   },
   {
    "duration": 3994,
    "start_time": "2025-08-04T15:14:55.360Z"
   },
   {
    "duration": 4000,
    "start_time": "2025-08-04T15:14:59.356Z"
   },
   {
    "duration": 4112,
    "start_time": "2025-08-04T15:15:03.357Z"
   },
   {
    "duration": 4,
    "start_time": "2025-08-04T15:15:07.471Z"
   },
   {
    "duration": 85,
    "start_time": "2025-08-04T15:15:07.477Z"
   },
   {
    "duration": 22,
    "start_time": "2025-08-04T15:15:07.564Z"
   },
   {
    "duration": 21,
    "start_time": "2025-08-04T15:15:07.588Z"
   },
   {
    "duration": 64,
    "start_time": "2025-08-04T15:15:07.611Z"
   },
   {
    "duration": 86,
    "start_time": "2025-08-04T15:15:07.677Z"
   },
   {
    "duration": 202,
    "start_time": "2025-08-04T15:15:07.765Z"
   },
   {
    "duration": 298,
    "start_time": "2025-08-04T15:15:07.969Z"
   },
   {
    "duration": 94,
    "start_time": "2025-08-04T15:15:08.270Z"
   },
   {
    "duration": 195,
    "start_time": "2025-08-04T15:15:08.367Z"
   },
   {
    "duration": 217,
    "start_time": "2025-08-04T15:15:08.564Z"
   },
   {
    "duration": 202,
    "start_time": "2025-08-04T15:15:08.863Z"
   },
   {
    "duration": 4,
    "start_time": "2025-08-04T15:15:09.068Z"
   },
   {
    "duration": 20,
    "start_time": "2025-08-04T15:15:09.163Z"
   },
   {
    "duration": 3,
    "start_time": "2025-08-04T15:20:43.733Z"
   },
   {
    "duration": 3,
    "start_time": "2025-08-04T15:20:47.034Z"
   },
   {
    "duration": 4,
    "start_time": "2025-08-04T15:20:47.528Z"
   },
   {
    "duration": 3,
    "start_time": "2025-08-04T15:21:00.719Z"
   },
   {
    "duration": 4,
    "start_time": "2025-08-04T15:21:01.255Z"
   },
   {
    "duration": 5,
    "start_time": "2025-08-04T15:21:25.084Z"
   },
   {
    "duration": 6,
    "start_time": "2025-08-04T15:21:28.978Z"
   },
   {
    "duration": 5,
    "start_time": "2025-08-04T15:21:29.483Z"
   },
   {
    "duration": 5,
    "start_time": "2025-08-04T15:21:45.984Z"
   },
   {
    "duration": 8,
    "start_time": "2025-08-04T15:23:40.236Z"
   },
   {
    "duration": 7,
    "start_time": "2025-08-04T15:25:44.736Z"
   },
   {
    "duration": 4,
    "start_time": "2025-08-04T15:29:24.513Z"
   },
   {
    "duration": 5,
    "start_time": "2025-08-04T15:34:58.489Z"
   },
   {
    "duration": 4,
    "start_time": "2025-08-04T15:34:59.905Z"
   },
   {
    "duration": 4,
    "start_time": "2025-08-04T16:09:16.915Z"
   },
   {
    "duration": 121,
    "start_time": "2025-08-04T16:09:17.359Z"
   },
   {
    "duration": 6,
    "start_time": "2025-08-04T16:11:07.387Z"
   },
   {
    "duration": 5,
    "start_time": "2025-08-04T16:11:41.726Z"
   },
   {
    "duration": 1783,
    "start_time": "2025-08-04T16:13:59.156Z"
   },
   {
    "duration": 1440,
    "start_time": "2025-08-04T16:14:17.304Z"
   },
   {
    "duration": 1325,
    "start_time": "2025-08-04T16:14:56.174Z"
   },
   {
    "duration": 1719,
    "start_time": "2025-08-04T16:15:01.436Z"
   },
   {
    "duration": 463,
    "start_time": "2025-08-04T16:15:03.160Z"
   },
   {
    "duration": 4,
    "start_time": "2025-08-04T16:15:03.625Z"
   },
   {
    "duration": 112,
    "start_time": "2025-08-04T16:15:03.632Z"
   },
   {
    "duration": 64,
    "start_time": "2025-08-04T16:15:03.746Z"
   },
   {
    "duration": 4,
    "start_time": "2025-08-04T16:15:03.813Z"
   },
   {
    "duration": 186,
    "start_time": "2025-08-04T16:15:03.819Z"
   },
   {
    "duration": 137,
    "start_time": "2025-08-04T16:15:04.007Z"
   },
   {
    "duration": 130,
    "start_time": "2025-08-04T16:15:04.146Z"
   },
   {
    "duration": 25,
    "start_time": "2025-08-04T16:15:04.278Z"
   },
   {
    "duration": 58,
    "start_time": "2025-08-04T16:15:04.305Z"
   },
   {
    "duration": 4186,
    "start_time": "2025-08-04T16:15:04.365Z"
   },
   {
    "duration": 4197,
    "start_time": "2025-08-04T16:15:08.560Z"
   },
   {
    "duration": 4431,
    "start_time": "2025-08-04T16:15:12.759Z"
   },
   {
    "duration": 3,
    "start_time": "2025-08-04T16:15:17.192Z"
   },
   {
    "duration": 115,
    "start_time": "2025-08-04T16:15:17.197Z"
   },
   {
    "duration": 22,
    "start_time": "2025-08-04T16:15:17.313Z"
   },
   {
    "duration": 53,
    "start_time": "2025-08-04T16:15:17.337Z"
   },
   {
    "duration": 33,
    "start_time": "2025-08-04T16:15:17.391Z"
   },
   {
    "duration": 151,
    "start_time": "2025-08-04T16:15:17.426Z"
   },
   {
    "duration": 182,
    "start_time": "2025-08-04T16:15:17.579Z"
   },
   {
    "duration": 194,
    "start_time": "2025-08-04T16:15:17.771Z"
   },
   {
    "duration": 90,
    "start_time": "2025-08-04T16:15:17.971Z"
   },
   {
    "duration": 117,
    "start_time": "2025-08-04T16:15:18.064Z"
   },
   {
    "duration": 184,
    "start_time": "2025-08-04T16:15:18.183Z"
   },
   {
    "duration": 116,
    "start_time": "2025-08-04T16:15:18.370Z"
   },
   {
    "duration": 83,
    "start_time": "2025-08-04T16:15:18.488Z"
   },
   {
    "duration": 84,
    "start_time": "2025-08-04T16:15:18.580Z"
   },
   {
    "duration": 16,
    "start_time": "2025-08-04T16:15:18.667Z"
   },
   {
    "duration": 6,
    "start_time": "2025-08-04T16:15:18.686Z"
   },
   {
    "duration": 12,
    "start_time": "2025-08-04T16:15:18.694Z"
   },
   {
    "duration": 1494,
    "start_time": "2025-08-04T16:15:18.707Z"
   },
   {
    "duration": 4,
    "start_time": "2025-08-04T16:16:53.080Z"
   },
   {
    "duration": 1054,
    "start_time": "2025-08-04T16:17:29.670Z"
   },
   {
    "duration": 94,
    "start_time": "2025-08-04T16:18:54.767Z"
   },
   {
    "duration": 5,
    "start_time": "2025-08-04T16:19:23.808Z"
   },
   {
    "duration": 34,
    "start_time": "2025-08-04T16:19:24.533Z"
   },
   {
    "duration": 35,
    "start_time": "2025-08-04T16:20:31.232Z"
   },
   {
    "duration": 62,
    "start_time": "2025-08-04T16:21:04.901Z"
   },
   {
    "duration": 29,
    "start_time": "2025-08-04T16:21:06.915Z"
   },
   {
    "duration": 1559,
    "start_time": "2025-08-04T16:21:45.408Z"
   },
   {
    "duration": 448,
    "start_time": "2025-08-04T16:21:46.970Z"
   },
   {
    "duration": 4,
    "start_time": "2025-08-04T16:21:47.420Z"
   },
   {
    "duration": 106,
    "start_time": "2025-08-04T16:21:47.425Z"
   },
   {
    "duration": 63,
    "start_time": "2025-08-04T16:21:47.533Z"
   },
   {
    "duration": 4,
    "start_time": "2025-08-04T16:21:47.598Z"
   },
   {
    "duration": 168,
    "start_time": "2025-08-04T16:21:47.604Z"
   },
   {
    "duration": 133,
    "start_time": "2025-08-04T16:21:47.774Z"
   },
   {
    "duration": 125,
    "start_time": "2025-08-04T16:21:47.909Z"
   },
   {
    "duration": 37,
    "start_time": "2025-08-04T16:21:48.036Z"
   },
   {
    "duration": 6,
    "start_time": "2025-08-04T16:21:48.074Z"
   },
   {
    "duration": 4115,
    "start_time": "2025-08-04T16:21:48.081Z"
   },
   {
    "duration": 4281,
    "start_time": "2025-08-04T16:21:52.197Z"
   },
   {
    "duration": 4223,
    "start_time": "2025-08-04T16:21:56.481Z"
   },
   {
    "duration": 4,
    "start_time": "2025-08-04T16:22:00.707Z"
   },
   {
    "duration": 50,
    "start_time": "2025-08-04T16:22:00.714Z"
   },
   {
    "duration": 92,
    "start_time": "2025-08-04T16:22:00.767Z"
   },
   {
    "duration": 29,
    "start_time": "2025-08-04T16:22:00.861Z"
   },
   {
    "duration": 51,
    "start_time": "2025-08-04T16:22:00.892Z"
   },
   {
    "duration": 222,
    "start_time": "2025-08-04T16:22:00.945Z"
   },
   {
    "duration": 196,
    "start_time": "2025-08-04T16:22:01.170Z"
   },
   {
    "duration": 196,
    "start_time": "2025-08-04T16:22:01.368Z"
   },
   {
    "duration": 95,
    "start_time": "2025-08-04T16:22:01.567Z"
   },
   {
    "duration": 109,
    "start_time": "2025-08-04T16:22:01.665Z"
   },
   {
    "duration": 201,
    "start_time": "2025-08-04T16:22:01.778Z"
   },
   {
    "duration": 107,
    "start_time": "2025-08-04T16:22:02.064Z"
   },
   {
    "duration": 88,
    "start_time": "2025-08-04T16:22:02.173Z"
   },
   {
    "duration": 6,
    "start_time": "2025-08-04T16:22:02.263Z"
   },
   {
    "duration": 27,
    "start_time": "2025-08-04T16:22:02.272Z"
   },
   {
    "duration": 102,
    "start_time": "2025-08-04T16:22:02.302Z"
   },
   {
    "duration": 24,
    "start_time": "2025-08-04T16:22:02.405Z"
   },
   {
    "duration": 133,
    "start_time": "2025-08-04T16:22:02.431Z"
   },
   {
    "duration": 1100,
    "start_time": "2025-08-04T16:22:29.364Z"
   },
   {
    "duration": 987,
    "start_time": "2025-08-04T16:23:09.148Z"
   },
   {
    "duration": 1655,
    "start_time": "2025-08-04T16:27:00.390Z"
   },
   {
    "duration": 480,
    "start_time": "2025-08-04T16:27:02.047Z"
   },
   {
    "duration": 5,
    "start_time": "2025-08-04T16:27:02.529Z"
   },
   {
    "duration": 111,
    "start_time": "2025-08-04T16:27:02.536Z"
   },
   {
    "duration": 53,
    "start_time": "2025-08-04T16:27:02.662Z"
   },
   {
    "duration": 4,
    "start_time": "2025-08-04T16:27:02.716Z"
   },
   {
    "duration": 166,
    "start_time": "2025-08-04T16:27:02.721Z"
   },
   {
    "duration": 128,
    "start_time": "2025-08-04T16:27:02.889Z"
   },
   {
    "duration": 129,
    "start_time": "2025-08-04T16:27:03.019Z"
   },
   {
    "duration": 36,
    "start_time": "2025-08-04T16:27:03.149Z"
   },
   {
    "duration": 35,
    "start_time": "2025-08-04T16:27:03.188Z"
   },
   {
    "duration": 4350,
    "start_time": "2025-08-04T16:27:03.225Z"
   },
   {
    "duration": 4311,
    "start_time": "2025-08-04T16:27:07.577Z"
   },
   {
    "duration": 4394,
    "start_time": "2025-08-04T16:27:11.891Z"
   },
   {
    "duration": 5,
    "start_time": "2025-08-04T16:27:16.287Z"
   },
   {
    "duration": 169,
    "start_time": "2025-08-04T16:27:16.294Z"
   },
   {
    "duration": 202,
    "start_time": "2025-08-04T16:27:16.466Z"
   },
   {
    "duration": 196,
    "start_time": "2025-08-04T16:27:16.671Z"
   },
   {
    "duration": 4,
    "start_time": "2025-08-04T16:27:16.871Z"
   },
   {
    "duration": 85,
    "start_time": "2025-08-04T16:27:16.877Z"
   },
   {
    "duration": 15,
    "start_time": "2025-08-04T16:27:16.965Z"
   },
   {
    "duration": 3,
    "start_time": "2025-08-04T16:27:16.983Z"
   },
   {
    "duration": 5,
    "start_time": "2025-08-04T16:27:16.988Z"
   },
   {
    "duration": 1053,
    "start_time": "2025-08-04T16:27:16.995Z"
   },
   {
    "duration": 6,
    "start_time": "2025-08-04T16:28:42.839Z"
   },
   {
    "duration": 328,
    "start_time": "2025-08-04T16:28:43.638Z"
   },
   {
    "duration": 6,
    "start_time": "2025-08-04T16:29:24.194Z"
   },
   {
    "duration": 90,
    "start_time": "2025-08-04T16:29:24.672Z"
   },
   {
    "duration": 75,
    "start_time": "2025-08-04T16:29:27.387Z"
   },
   {
    "duration": 3,
    "start_time": "2025-08-04T16:30:05.003Z"
   },
   {
    "duration": 4,
    "start_time": "2025-08-04T16:30:05.496Z"
   },
   {
    "duration": 13,
    "start_time": "2025-08-04T16:30:06.662Z"
   },
   {
    "duration": 5,
    "start_time": "2025-08-04T16:30:10.677Z"
   },
   {
    "duration": 7,
    "start_time": "2025-08-04T16:30:11.274Z"
   },
   {
    "duration": 997,
    "start_time": "2025-08-04T16:30:12.699Z"
   },
   {
    "duration": 961,
    "start_time": "2025-08-04T16:31:13.661Z"
   },
   {
    "duration": 1004,
    "start_time": "2025-08-04T16:31:42.236Z"
   },
   {
    "duration": 1012,
    "start_time": "2025-08-04T16:32:22.158Z"
   },
   {
    "duration": 4,
    "start_time": "2025-08-04T16:33:44.793Z"
   },
   {
    "duration": 7,
    "start_time": "2025-08-04T16:33:45.368Z"
   },
   {
    "duration": 1023,
    "start_time": "2025-08-04T16:33:46.208Z"
   },
   {
    "duration": 1658,
    "start_time": "2025-08-04T16:33:52.266Z"
   },
   {
    "duration": 479,
    "start_time": "2025-08-04T16:33:53.926Z"
   },
   {
    "duration": 4,
    "start_time": "2025-08-04T16:33:54.406Z"
   },
   {
    "duration": 112,
    "start_time": "2025-08-04T16:33:54.412Z"
   },
   {
    "duration": 71,
    "start_time": "2025-08-04T16:33:54.527Z"
   },
   {
    "duration": 4,
    "start_time": "2025-08-04T16:33:54.599Z"
   },
   {
    "duration": 157,
    "start_time": "2025-08-04T16:33:54.604Z"
   },
   {
    "duration": 132,
    "start_time": "2025-08-04T16:33:54.763Z"
   },
   {
    "duration": 129,
    "start_time": "2025-08-04T16:33:54.896Z"
   },
   {
    "duration": 41,
    "start_time": "2025-08-04T16:33:55.027Z"
   },
   {
    "duration": 7,
    "start_time": "2025-08-04T16:33:55.071Z"
   },
   {
    "duration": 4285,
    "start_time": "2025-08-04T16:33:55.080Z"
   },
   {
    "duration": 4217,
    "start_time": "2025-08-04T16:33:59.371Z"
   },
   {
    "duration": 4291,
    "start_time": "2025-08-04T16:34:03.592Z"
   },
   {
    "duration": 6,
    "start_time": "2025-08-04T16:34:07.884Z"
   },
   {
    "duration": 84,
    "start_time": "2025-08-04T16:34:07.892Z"
   },
   {
    "duration": 190,
    "start_time": "2025-08-04T16:34:07.978Z"
   },
   {
    "duration": 115,
    "start_time": "2025-08-04T16:34:08.177Z"
   },
   {
    "duration": 93,
    "start_time": "2025-08-04T16:34:08.367Z"
   },
   {
    "duration": 10,
    "start_time": "2025-08-04T16:34:08.463Z"
   },
   {
    "duration": 11,
    "start_time": "2025-08-04T16:34:08.477Z"
   },
   {
    "duration": 19,
    "start_time": "2025-08-04T16:34:08.490Z"
   },
   {
    "duration": 11,
    "start_time": "2025-08-04T16:34:08.511Z"
   },
   {
    "duration": 1066,
    "start_time": "2025-08-04T16:34:08.524Z"
   },
   {
    "duration": 1036,
    "start_time": "2025-08-04T16:34:09.591Z"
   },
   {
    "duration": 1010,
    "start_time": "2025-08-04T16:34:10.629Z"
   },
   {
    "duration": 3,
    "start_time": "2025-08-04T16:34:57.242Z"
   },
   {
    "duration": 4,
    "start_time": "2025-08-04T16:34:57.811Z"
   },
   {
    "duration": 1168,
    "start_time": "2025-08-04T16:34:58.309Z"
   },
   {
    "duration": 1049,
    "start_time": "2025-08-04T16:35:01.162Z"
   },
   {
    "duration": 1030,
    "start_time": "2025-08-04T16:35:03.233Z"
   },
   {
    "duration": 4,
    "start_time": "2025-08-04T16:37:06.489Z"
   },
   {
    "duration": 8,
    "start_time": "2025-08-04T16:37:06.973Z"
   },
   {
    "duration": 1039,
    "start_time": "2025-08-04T16:37:07.829Z"
   },
   {
    "duration": 1040,
    "start_time": "2025-08-04T16:37:09.950Z"
   },
   {
    "duration": 1079,
    "start_time": "2025-08-04T16:37:14.961Z"
   },
   {
    "duration": 1535,
    "start_time": "2025-08-04T17:00:34.957Z"
   },
   {
    "duration": 465,
    "start_time": "2025-08-04T17:00:36.494Z"
   },
   {
    "duration": 4,
    "start_time": "2025-08-04T17:00:36.961Z"
   },
   {
    "duration": 105,
    "start_time": "2025-08-04T17:00:36.967Z"
   },
   {
    "duration": 48,
    "start_time": "2025-08-04T17:00:37.074Z"
   },
   {
    "duration": 4,
    "start_time": "2025-08-04T17:00:37.123Z"
   },
   {
    "duration": 158,
    "start_time": "2025-08-04T17:00:37.129Z"
   },
   {
    "duration": 124,
    "start_time": "2025-08-04T17:00:37.288Z"
   },
   {
    "duration": 120,
    "start_time": "2025-08-04T17:00:37.414Z"
   },
   {
    "duration": 33,
    "start_time": "2025-08-04T17:00:37.536Z"
   },
   {
    "duration": 21,
    "start_time": "2025-08-04T17:00:37.571Z"
   },
   {
    "duration": 3948,
    "start_time": "2025-08-04T17:00:37.594Z"
   },
   {
    "duration": 4113,
    "start_time": "2025-08-04T17:00:41.543Z"
   },
   {
    "duration": 4087,
    "start_time": "2025-08-04T17:00:45.662Z"
   },
   {
    "duration": 10,
    "start_time": "2025-08-04T17:00:49.751Z"
   },
   {
    "duration": 99,
    "start_time": "2025-08-04T17:00:49.763Z"
   },
   {
    "duration": 196,
    "start_time": "2025-08-04T17:00:49.865Z"
   },
   {
    "duration": 201,
    "start_time": "2025-08-04T17:00:50.063Z"
   },
   {
    "duration": 94,
    "start_time": "2025-08-04T17:00:50.267Z"
   },
   {
    "duration": 4,
    "start_time": "2025-08-04T17:00:50.363Z"
   },
   {
    "duration": 19,
    "start_time": "2025-08-04T17:00:50.368Z"
   },
   {
    "duration": 15,
    "start_time": "2025-08-04T17:00:50.388Z"
   },
   {
    "duration": 5,
    "start_time": "2025-08-04T17:00:50.404Z"
   },
   {
    "duration": 988,
    "start_time": "2025-08-04T17:00:50.410Z"
   },
   {
    "duration": 961,
    "start_time": "2025-08-04T17:00:51.399Z"
   },
   {
    "duration": 964,
    "start_time": "2025-08-04T17:00:52.362Z"
   },
   {
    "duration": 98,
    "start_time": "2025-08-04T17:01:29.464Z"
   },
   {
    "duration": 89,
    "start_time": "2025-08-04T17:01:32.473Z"
   },
   {
    "duration": 3,
    "start_time": "2025-08-04T17:05:22.236Z"
   },
   {
    "duration": 4,
    "start_time": "2025-08-04T17:05:22.790Z"
   },
   {
    "duration": 7,
    "start_time": "2025-08-04T17:05:24.084Z"
   },
   {
    "duration": 6,
    "start_time": "2025-08-04T17:05:26.473Z"
   },
   {
    "duration": 5,
    "start_time": "2025-08-04T17:05:28.932Z"
   },
   {
    "duration": 1037,
    "start_time": "2025-08-04T17:05:29.671Z"
   },
   {
    "duration": 3,
    "start_time": "2025-08-04T17:08:42.053Z"
   },
   {
    "duration": 4,
    "start_time": "2025-08-04T17:09:34.328Z"
   },
   {
    "duration": 5,
    "start_time": "2025-08-04T17:09:35.083Z"
   },
   {
    "duration": 996,
    "start_time": "2025-08-04T17:09:35.774Z"
   },
   {
    "duration": 4,
    "start_time": "2025-08-04T17:18:18.904Z"
   },
   {
    "duration": 3,
    "start_time": "2025-08-04T17:22:02.290Z"
   },
   {
    "duration": 3,
    "start_time": "2025-08-04T17:22:14.388Z"
   },
   {
    "duration": 4,
    "start_time": "2025-08-04T17:22:28.089Z"
   },
   {
    "duration": 4,
    "start_time": "2025-08-04T17:22:37.375Z"
   },
   {
    "duration": 3,
    "start_time": "2025-08-04T17:23:15.127Z"
   },
   {
    "duration": 4,
    "start_time": "2025-08-04T17:23:15.657Z"
   },
   {
    "duration": 5,
    "start_time": "2025-08-04T17:24:25.127Z"
   },
   {
    "duration": 5,
    "start_time": "2025-08-04T17:24:43.470Z"
   },
   {
    "duration": 3,
    "start_time": "2025-08-04T17:29:43.374Z"
   },
   {
    "duration": 4,
    "start_time": "2025-08-04T17:29:43.901Z"
   },
   {
    "duration": 6,
    "start_time": "2025-08-04T17:29:44.785Z"
   },
   {
    "duration": 4,
    "start_time": "2025-08-04T17:29:47.169Z"
   },
   {
    "duration": 4,
    "start_time": "2025-08-04T17:32:49.519Z"
   },
   {
    "duration": 5,
    "start_time": "2025-08-04T17:35:02.345Z"
   },
   {
    "duration": 122,
    "start_time": "2025-08-04T17:35:02.630Z"
   },
   {
    "duration": 3,
    "start_time": "2025-08-04T17:36:22.102Z"
   },
   {
    "duration": 4,
    "start_time": "2025-08-04T17:36:22.619Z"
   },
   {
    "duration": 7,
    "start_time": "2025-08-04T17:36:23.410Z"
   },
   {
    "duration": 4,
    "start_time": "2025-08-04T17:36:26.185Z"
   },
   {
    "duration": 5,
    "start_time": "2025-08-04T17:38:15.674Z"
   },
   {
    "duration": 995,
    "start_time": "2025-08-04T17:38:16.266Z"
   },
   {
    "duration": 1017,
    "start_time": "2025-08-04T17:38:31.492Z"
   },
   {
    "duration": 959,
    "start_time": "2025-08-04T17:38:32.934Z"
   },
   {
    "duration": 1706,
    "start_time": "2025-08-05T04:25:41.506Z"
   },
   {
    "duration": 443,
    "start_time": "2025-08-05T04:25:43.214Z"
   },
   {
    "duration": 4,
    "start_time": "2025-08-05T04:25:43.659Z"
   },
   {
    "duration": 97,
    "start_time": "2025-08-05T04:25:43.664Z"
   },
   {
    "duration": 48,
    "start_time": "2025-08-05T04:25:43.778Z"
   },
   {
    "duration": 3,
    "start_time": "2025-08-05T04:25:43.828Z"
   },
   {
    "duration": 127,
    "start_time": "2025-08-05T04:25:43.833Z"
   },
   {
    "duration": 126,
    "start_time": "2025-08-05T04:25:43.962Z"
   },
   {
    "duration": 114,
    "start_time": "2025-08-05T04:25:44.089Z"
   },
   {
    "duration": 22,
    "start_time": "2025-08-05T04:25:44.205Z"
   },
   {
    "duration": 5,
    "start_time": "2025-08-05T04:25:44.229Z"
   },
   {
    "duration": 4014,
    "start_time": "2025-08-05T04:25:44.235Z"
   },
   {
    "duration": 4156,
    "start_time": "2025-08-05T04:25:48.251Z"
   },
   {
    "duration": 4048,
    "start_time": "2025-08-05T04:25:52.410Z"
   },
   {
    "duration": 12,
    "start_time": "2025-08-05T04:25:56.460Z"
   },
   {
    "duration": 99,
    "start_time": "2025-08-05T04:25:56.480Z"
   },
   {
    "duration": 200,
    "start_time": "2025-08-05T04:25:56.583Z"
   },
   {
    "duration": 185,
    "start_time": "2025-08-05T04:25:56.792Z"
   },
   {
    "duration": 5,
    "start_time": "2025-08-05T04:25:56.988Z"
   },
   {
    "duration": 136,
    "start_time": "2025-08-05T04:25:56.995Z"
   },
   {
    "duration": 11,
    "start_time": "2025-08-05T04:25:57.133Z"
   },
   {
    "duration": 5,
    "start_time": "2025-08-05T04:25:57.146Z"
   },
   {
    "duration": 13,
    "start_time": "2025-08-05T04:25:57.152Z"
   },
   {
    "duration": 146,
    "start_time": "2025-08-05T04:25:57.167Z"
   },
   {
    "duration": 0,
    "start_time": "2025-08-05T04:25:57.315Z"
   },
   {
    "duration": 0,
    "start_time": "2025-08-05T04:25:57.317Z"
   },
   {
    "duration": 15,
    "start_time": "2025-08-05T04:26:36.153Z"
   },
   {
    "duration": 5,
    "start_time": "2025-08-05T04:26:57.887Z"
   },
   {
    "duration": 985,
    "start_time": "2025-08-05T04:26:58.695Z"
   },
   {
    "duration": 1020,
    "start_time": "2025-08-05T04:27:02.094Z"
   },
   {
    "duration": 1022,
    "start_time": "2025-08-05T04:27:03.956Z"
   },
   {
    "duration": 1540,
    "start_time": "2025-08-05T08:22:41.784Z"
   },
   {
    "duration": 392,
    "start_time": "2025-08-05T08:22:43.326Z"
   },
   {
    "duration": 3,
    "start_time": "2025-08-05T08:22:43.720Z"
   },
   {
    "duration": 119,
    "start_time": "2025-08-05T08:22:43.724Z"
   },
   {
    "duration": 47,
    "start_time": "2025-08-05T08:22:43.846Z"
   },
   {
    "duration": 4,
    "start_time": "2025-08-05T08:22:43.895Z"
   },
   {
    "duration": 124,
    "start_time": "2025-08-05T08:22:43.901Z"
   },
   {
    "duration": 109,
    "start_time": "2025-08-05T08:22:44.027Z"
   },
   {
    "duration": 107,
    "start_time": "2025-08-05T08:22:44.138Z"
   },
   {
    "duration": 32,
    "start_time": "2025-08-05T08:22:44.247Z"
   },
   {
    "duration": 6,
    "start_time": "2025-08-05T08:22:44.281Z"
   },
   {
    "duration": 3561,
    "start_time": "2025-08-05T08:22:44.289Z"
   },
   {
    "duration": 3567,
    "start_time": "2025-08-05T08:22:47.852Z"
   },
   {
    "duration": 3560,
    "start_time": "2025-08-05T08:22:51.421Z"
   },
   {
    "duration": 4,
    "start_time": "2025-08-05T08:22:54.983Z"
   },
   {
    "duration": 82,
    "start_time": "2025-08-05T08:22:54.989Z"
   },
   {
    "duration": 110,
    "start_time": "2025-08-05T08:22:55.164Z"
   },
   {
    "duration": 206,
    "start_time": "2025-08-05T08:22:55.276Z"
   },
   {
    "duration": 2,
    "start_time": "2025-08-05T08:22:55.563Z"
   },
   {
    "duration": 148,
    "start_time": "2025-08-05T08:22:55.567Z"
   },
   {
    "duration": 12,
    "start_time": "2025-08-05T08:22:55.716Z"
   },
   {
    "duration": 13,
    "start_time": "2025-08-05T08:22:55.730Z"
   },
   {
    "duration": 6,
    "start_time": "2025-08-05T08:22:55.744Z"
   },
   {
    "duration": 953,
    "start_time": "2025-08-05T08:22:55.751Z"
   },
   {
    "duration": 824,
    "start_time": "2025-08-05T08:22:56.706Z"
   },
   {
    "duration": 844,
    "start_time": "2025-08-05T08:22:57.532Z"
   },
   {
    "duration": 843,
    "start_time": "2025-08-05T08:31:26.920Z"
   },
   {
    "duration": 1703,
    "start_time": "2025-08-05T12:02:33.086Z"
   },
   {
    "duration": 402,
    "start_time": "2025-08-05T12:02:34.792Z"
   },
   {
    "duration": 3,
    "start_time": "2025-08-05T12:02:35.196Z"
   },
   {
    "duration": 148,
    "start_time": "2025-08-05T12:02:35.201Z"
   },
   {
    "duration": 51,
    "start_time": "2025-08-05T12:02:35.352Z"
   },
   {
    "duration": 78,
    "start_time": "2025-08-05T12:02:35.404Z"
   },
   {
    "duration": 128,
    "start_time": "2025-08-05T12:02:35.484Z"
   },
   {
    "duration": 136,
    "start_time": "2025-08-05T12:02:35.614Z"
   },
   {
    "duration": 110,
    "start_time": "2025-08-05T12:02:35.752Z"
   },
   {
    "duration": 55,
    "start_time": "2025-08-05T12:02:35.863Z"
   },
   {
    "duration": 5,
    "start_time": "2025-08-05T12:02:35.919Z"
   },
   {
    "duration": 3695,
    "start_time": "2025-08-05T12:02:35.926Z"
   },
   {
    "duration": 3716,
    "start_time": "2025-08-05T12:02:39.623Z"
   },
   {
    "duration": 3700,
    "start_time": "2025-08-05T12:02:43.342Z"
   },
   {
    "duration": 6,
    "start_time": "2025-08-05T12:02:47.044Z"
   },
   {
    "duration": 128,
    "start_time": "2025-08-05T12:02:47.052Z"
   },
   {
    "duration": 196,
    "start_time": "2025-08-05T12:02:47.182Z"
   },
   {
    "duration": 198,
    "start_time": "2025-08-05T12:02:47.380Z"
   },
   {
    "duration": 158,
    "start_time": "2025-08-05T12:02:47.581Z"
   },
   {
    "duration": 67,
    "start_time": "2025-08-05T12:02:47.740Z"
   },
   {
    "duration": 66,
    "start_time": "2025-08-05T12:02:47.809Z"
   },
   {
    "duration": 88,
    "start_time": "2025-08-05T12:02:47.878Z"
   },
   {
    "duration": 52,
    "start_time": "2025-08-05T12:02:47.967Z"
   },
   {
    "duration": 949,
    "start_time": "2025-08-05T12:02:48.021Z"
   },
   {
    "duration": 916,
    "start_time": "2025-08-05T12:02:48.976Z"
   },
   {
    "duration": 902,
    "start_time": "2025-08-05T12:02:49.894Z"
   },
   {
    "duration": 7,
    "start_time": "2025-08-05T12:02:50.798Z"
   },
   {
    "duration": 1613,
    "start_time": "2025-08-05T15:41:43.919Z"
   },
   {
    "duration": 427,
    "start_time": "2025-08-05T15:41:45.534Z"
   },
   {
    "duration": 4,
    "start_time": "2025-08-05T15:41:45.962Z"
   },
   {
    "duration": 133,
    "start_time": "2025-08-05T15:41:45.967Z"
   },
   {
    "duration": 68,
    "start_time": "2025-08-05T15:41:46.103Z"
   },
   {
    "duration": 5,
    "start_time": "2025-08-05T15:41:46.173Z"
   },
   {
    "duration": 132,
    "start_time": "2025-08-05T15:41:46.180Z"
   },
   {
    "duration": 112,
    "start_time": "2025-08-05T15:41:46.313Z"
   },
   {
    "duration": 102,
    "start_time": "2025-08-05T15:41:46.427Z"
   },
   {
    "duration": 30,
    "start_time": "2025-08-05T15:41:46.531Z"
   },
   {
    "duration": 5,
    "start_time": "2025-08-05T15:41:46.563Z"
   },
   {
    "duration": 3724,
    "start_time": "2025-08-05T15:41:46.570Z"
   },
   {
    "duration": 3620,
    "start_time": "2025-08-05T15:41:50.295Z"
   },
   {
    "duration": 3613,
    "start_time": "2025-08-05T15:41:53.918Z"
   },
   {
    "duration": 11,
    "start_time": "2025-08-05T15:41:57.533Z"
   },
   {
    "duration": 95,
    "start_time": "2025-08-05T15:41:57.546Z"
   },
   {
    "duration": 120,
    "start_time": "2025-08-05T15:41:57.644Z"
   },
   {
    "duration": 198,
    "start_time": "2025-08-05T15:41:57.766Z"
   },
   {
    "duration": 172,
    "start_time": "2025-08-05T15:41:57.967Z"
   },
   {
    "duration": 21,
    "start_time": "2025-08-05T15:41:58.141Z"
   },
   {
    "duration": 26,
    "start_time": "2025-08-05T15:41:58.163Z"
   },
   {
    "duration": 4,
    "start_time": "2025-08-05T15:41:58.190Z"
   },
   {
    "duration": 5,
    "start_time": "2025-08-05T15:41:58.195Z"
   },
   {
    "duration": 881,
    "start_time": "2025-08-05T15:41:58.202Z"
   },
   {
    "duration": 929,
    "start_time": "2025-08-05T15:41:59.085Z"
   },
   {
    "duration": 938,
    "start_time": "2025-08-05T15:42:00.016Z"
   },
   {
    "duration": 11,
    "start_time": "2025-08-05T15:42:00.956Z"
   },
   {
    "duration": 2830,
    "start_time": "2025-09-28T10:53:46.479Z"
   },
   {
    "duration": 1006,
    "start_time": "2025-09-28T10:53:49.351Z"
   },
   {
    "duration": 7,
    "start_time": "2025-09-28T10:53:50.359Z"
   },
   {
    "duration": 218,
    "start_time": "2025-09-28T10:53:50.368Z"
   },
   {
    "duration": 175,
    "start_time": "2025-09-28T10:53:50.588Z"
   },
   {
    "duration": 6,
    "start_time": "2025-09-28T10:53:50.765Z"
   },
   {
    "duration": 339,
    "start_time": "2025-09-28T10:53:50.773Z"
   },
   {
    "duration": 319,
    "start_time": "2025-09-28T10:53:51.151Z"
   },
   {
    "duration": 284,
    "start_time": "2025-09-28T10:53:51.472Z"
   },
   {
    "duration": 123,
    "start_time": "2025-09-28T10:53:51.759Z"
   },
   {
    "duration": 14,
    "start_time": "2025-09-28T10:53:51.884Z"
   },
   {
    "duration": 9356,
    "start_time": "2025-09-28T10:53:51.904Z"
   },
   {
    "duration": 9490,
    "start_time": "2025-09-28T10:54:01.270Z"
   },
   {
    "duration": 8418,
    "start_time": "2025-09-28T10:54:10.771Z"
   },
   {
    "duration": 64,
    "start_time": "2025-09-28T10:54:19.195Z"
   },
   {
    "duration": 293,
    "start_time": "2025-09-28T10:54:19.261Z"
   },
   {
    "duration": 183,
    "start_time": "2025-09-28T10:54:19.571Z"
   },
   {
    "duration": 211,
    "start_time": "2025-09-28T10:54:19.767Z"
   },
   {
    "duration": 16,
    "start_time": "2025-09-28T10:54:20.050Z"
   },
   {
    "duration": 19,
    "start_time": "2025-09-28T10:54:20.073Z"
   },
   {
    "duration": 6,
    "start_time": "2025-09-28T10:54:20.093Z"
   },
   {
    "duration": 92,
    "start_time": "2025-09-28T10:54:20.100Z"
   },
   {
    "duration": 22,
    "start_time": "2025-09-28T10:54:20.193Z"
   },
   {
    "duration": 2652,
    "start_time": "2025-09-28T10:54:20.217Z"
   },
   {
    "duration": 2586,
    "start_time": "2025-09-28T10:54:22.873Z"
   },
   {
    "duration": 2712,
    "start_time": "2025-09-28T10:54:25.478Z"
   },
   {
    "duration": 63,
    "start_time": "2025-09-28T10:54:28.193Z"
   }
  ],
  "kernelspec": {
   "display_name": "Python 3 (ipykernel)",
   "language": "python",
   "name": "python3"
  },
  "language_info": {
   "codemirror_mode": {
    "name": "ipython",
    "version": 3
   },
   "file_extension": ".py",
   "mimetype": "text/x-python",
   "name": "python",
   "nbconvert_exporter": "python",
   "pygments_lexer": "ipython3",
   "version": "3.9.5"
  },
  "toc": {
   "base_numbering": 1,
   "nav_menu": {},
   "number_sections": true,
   "sideBar": true,
   "skip_h1_title": true,
   "title_cell": "Table of Contents",
   "title_sidebar": "Contents",
   "toc_cell": false,
   "toc_position": {},
   "toc_section_display": true,
   "toc_window_display": false
  }
 },
 "nbformat": 4,
 "nbformat_minor": 2
}
