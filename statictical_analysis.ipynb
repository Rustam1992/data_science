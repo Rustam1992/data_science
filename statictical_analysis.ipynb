{
 "cells": [
  {
   "cell_type": "markdown",
   "id": "5605abaa",
   "metadata": {},
   "source": [
    "# Анализ данных клиентов сервиса аренды самокатов. \n",
    "Вы аналитик популярного сервиса аренды самокатов GoFast. Вам передали данные о некоторых пользователях из нескольких городов, а также об их поездках. Проанализируйте данные и проверьте некоторые гипотезы, которые могут помочь бизнесу вырасти.\r\n",
    "Чтобы совершать поездки по городу, пользователи сервиса GoFast пользуются мобильным приложением. Сервисом можно пользоваться\n",
    "\n",
    ":\n",
    "Предоставлено три файлы описывающие поведение клиентов сервиса аренды самокатов.\n",
    "Сервис имеет два варианта аренды самокатов.\n",
    "### без подписки\n",
    "- абонентская плата отсутствует;\n",
    "- стоимость одной минуты поездки — 8 рублей;\n",
    "- стоимость старта (начала поездки) — 50 рублей;\n",
    "### с подпиской Ultra\n",
    "- абонентская плата — 199 рублей в месяц;\n",
    "- стоимость одной минуты поездки — 6 рублей;\n",
    "- стоимость старта — бесплатно.\n",
    "### Файлы\n",
    "### Пользователи — users_go.csv\n",
    "- user_id\tуникальный идентификатор пользователя\n",
    "- name\tимя пользователя\n",
    "- age\tвозраст\n",
    "- city\tгород\n",
    "- subscription_type\tтип подписки (free, ultra)\n",
    "\n",
    "### Поездки — rides_go.csv\n",
    "- user_id\tуникальный идентификатор пользователя\n",
    "- distance\tрасстояние, которое пользователь проехал в текущей сессии (в метрах)\n",
    "- duration\tпродолжительность сессии (в минутах) — время с того момента, как пользователь нажал кнопку «Начать поездку» до момента, как он нажал кнопку «Завершить поездку»\n",
    "- date\tдата совершения поездки\n",
    "\n",
    "### Подписки — subscriptions_go.csv\n",
    "- subscription_type\tтип подписки\n",
    "- minute_price\tстоимость одной минуты поездки по данной подписке\n",
    "- start_ride_price\tстоимость начала поездки\n",
    "- subscription_fee\tстоимость ежемесячного платежа"
   ]
  },
  {
   "cell_type": "code",
   "execution_count": 31,
   "id": "72576667",
   "metadata": {},
   "outputs": [],
   "source": [
    "import pandas as pd\n",
    "import matplotlib.pyplot as plt\n",
    "import seaborn as sns\n",
    "import numpy as np\n",
    "from scipy.stats import ttest_ind, ttest_1samp\n",
    "from scipy.stats import binom\n",
    "from scipy import stats as st\n",
    "from scipy.stats import norm"
   ]
  },
  {
   "cell_type": "markdown",
   "id": "c42cbe00",
   "metadata": {},
   "source": [
    "#### Шаг 1. Загрузка данных"
   ]
  },
  {
   "cell_type": "code",
   "execution_count": 32,
   "id": "eff9f206",
   "metadata": {},
   "outputs": [
    {
     "data": {
      "text/html": [
       "<div>\n",
       "<style scoped>\n",
       "    .dataframe tbody tr th:only-of-type {\n",
       "        vertical-align: middle;\n",
       "    }\n",
       "\n",
       "    .dataframe tbody tr th {\n",
       "        vertical-align: top;\n",
       "    }\n",
       "\n",
       "    .dataframe thead th {\n",
       "        text-align: right;\n",
       "    }\n",
       "</style>\n",
       "<table border=\"1\" class=\"dataframe\">\n",
       "  <thead>\n",
       "    <tr style=\"text-align: right;\">\n",
       "      <th></th>\n",
       "      <th>user_id</th>\n",
       "      <th>name</th>\n",
       "      <th>age</th>\n",
       "      <th>city</th>\n",
       "      <th>subscription_type</th>\n",
       "    </tr>\n",
       "  </thead>\n",
       "  <tbody>\n",
       "    <tr>\n",
       "      <th>0</th>\n",
       "      <td>1</td>\n",
       "      <td>Кира</td>\n",
       "      <td>22</td>\n",
       "      <td>Тюмень</td>\n",
       "      <td>ultra</td>\n",
       "    </tr>\n",
       "    <tr>\n",
       "      <th>1</th>\n",
       "      <td>2</td>\n",
       "      <td>Станислав</td>\n",
       "      <td>31</td>\n",
       "      <td>Омск</td>\n",
       "      <td>ultra</td>\n",
       "    </tr>\n",
       "    <tr>\n",
       "      <th>2</th>\n",
       "      <td>3</td>\n",
       "      <td>Алексей</td>\n",
       "      <td>20</td>\n",
       "      <td>Москва</td>\n",
       "      <td>ultra</td>\n",
       "    </tr>\n",
       "    <tr>\n",
       "      <th>3</th>\n",
       "      <td>4</td>\n",
       "      <td>Константин</td>\n",
       "      <td>26</td>\n",
       "      <td>Ростов-на-Дону</td>\n",
       "      <td>ultra</td>\n",
       "    </tr>\n",
       "    <tr>\n",
       "      <th>4</th>\n",
       "      <td>5</td>\n",
       "      <td>Адель</td>\n",
       "      <td>28</td>\n",
       "      <td>Омск</td>\n",
       "      <td>ultra</td>\n",
       "    </tr>\n",
       "  </tbody>\n",
       "</table>\n",
       "</div>"
      ],
      "text/plain": [
       "   user_id        name  age            city subscription_type\n",
       "0        1        Кира   22          Тюмень             ultra\n",
       "1        2   Станислав   31            Омск             ultra\n",
       "2        3     Алексей   20          Москва             ultra\n",
       "3        4  Константин   26  Ростов-на-Дону             ultra\n",
       "4        5       Адель   28            Омск             ultra"
      ]
     },
     "metadata": {},
     "output_type": "display_data"
    },
    {
     "data": {
      "text/html": [
       "<div>\n",
       "<style scoped>\n",
       "    .dataframe tbody tr th:only-of-type {\n",
       "        vertical-align: middle;\n",
       "    }\n",
       "\n",
       "    .dataframe tbody tr th {\n",
       "        vertical-align: top;\n",
       "    }\n",
       "\n",
       "    .dataframe thead th {\n",
       "        text-align: right;\n",
       "    }\n",
       "</style>\n",
       "<table border=\"1\" class=\"dataframe\">\n",
       "  <thead>\n",
       "    <tr style=\"text-align: right;\">\n",
       "      <th></th>\n",
       "      <th>user_id</th>\n",
       "      <th>distance</th>\n",
       "      <th>duration</th>\n",
       "      <th>date</th>\n",
       "    </tr>\n",
       "  </thead>\n",
       "  <tbody>\n",
       "    <tr>\n",
       "      <th>0</th>\n",
       "      <td>1</td>\n",
       "      <td>4409.919140</td>\n",
       "      <td>25.599769</td>\n",
       "      <td>2021-01-01</td>\n",
       "    </tr>\n",
       "    <tr>\n",
       "      <th>1</th>\n",
       "      <td>1</td>\n",
       "      <td>2617.592153</td>\n",
       "      <td>15.816871</td>\n",
       "      <td>2021-01-18</td>\n",
       "    </tr>\n",
       "    <tr>\n",
       "      <th>2</th>\n",
       "      <td>1</td>\n",
       "      <td>754.159807</td>\n",
       "      <td>6.232113</td>\n",
       "      <td>2021-04-20</td>\n",
       "    </tr>\n",
       "    <tr>\n",
       "      <th>3</th>\n",
       "      <td>1</td>\n",
       "      <td>2694.783254</td>\n",
       "      <td>18.511000</td>\n",
       "      <td>2021-08-11</td>\n",
       "    </tr>\n",
       "    <tr>\n",
       "      <th>4</th>\n",
       "      <td>1</td>\n",
       "      <td>4028.687306</td>\n",
       "      <td>26.265803</td>\n",
       "      <td>2021-08-28</td>\n",
       "    </tr>\n",
       "  </tbody>\n",
       "</table>\n",
       "</div>"
      ],
      "text/plain": [
       "   user_id     distance   duration        date\n",
       "0        1  4409.919140  25.599769  2021-01-01\n",
       "1        1  2617.592153  15.816871  2021-01-18\n",
       "2        1   754.159807   6.232113  2021-04-20\n",
       "3        1  2694.783254  18.511000  2021-08-11\n",
       "4        1  4028.687306  26.265803  2021-08-28"
      ]
     },
     "metadata": {},
     "output_type": "display_data"
    },
    {
     "data": {
      "text/html": [
       "<div>\n",
       "<style scoped>\n",
       "    .dataframe tbody tr th:only-of-type {\n",
       "        vertical-align: middle;\n",
       "    }\n",
       "\n",
       "    .dataframe tbody tr th {\n",
       "        vertical-align: top;\n",
       "    }\n",
       "\n",
       "    .dataframe thead th {\n",
       "        text-align: right;\n",
       "    }\n",
       "</style>\n",
       "<table border=\"1\" class=\"dataframe\">\n",
       "  <thead>\n",
       "    <tr style=\"text-align: right;\">\n",
       "      <th></th>\n",
       "      <th>subscription_type</th>\n",
       "      <th>minute_price</th>\n",
       "      <th>start_ride_price</th>\n",
       "      <th>subscription_fee</th>\n",
       "    </tr>\n",
       "  </thead>\n",
       "  <tbody>\n",
       "    <tr>\n",
       "      <th>0</th>\n",
       "      <td>free</td>\n",
       "      <td>8</td>\n",
       "      <td>50</td>\n",
       "      <td>0</td>\n",
       "    </tr>\n",
       "    <tr>\n",
       "      <th>1</th>\n",
       "      <td>ultra</td>\n",
       "      <td>6</td>\n",
       "      <td>0</td>\n",
       "      <td>199</td>\n",
       "    </tr>\n",
       "  </tbody>\n",
       "</table>\n",
       "</div>"
      ],
      "text/plain": [
       "  subscription_type  minute_price  start_ride_price  subscription_fee\n",
       "0              free             8                50                 0\n",
       "1             ultra             6                 0               199"
      ]
     },
     "metadata": {},
     "output_type": "display_data"
    },
    {
     "name": "stdout",
     "output_type": "stream",
     "text": [
      "<class 'pandas.core.frame.DataFrame'>\n",
      "RangeIndex: 1565 entries, 0 to 1564\n",
      "Data columns (total 5 columns):\n",
      " #   Column             Non-Null Count  Dtype \n",
      "---  ------             --------------  ----- \n",
      " 0   user_id            1565 non-null   int64 \n",
      " 1   name               1565 non-null   object\n",
      " 2   age                1565 non-null   int64 \n",
      " 3   city               1565 non-null   object\n",
      " 4   subscription_type  1565 non-null   object\n",
      "dtypes: int64(2), object(3)\n",
      "memory usage: 61.3+ KB\n",
      "<class 'pandas.core.frame.DataFrame'>\n",
      "RangeIndex: 18068 entries, 0 to 18067\n",
      "Data columns (total 4 columns):\n",
      " #   Column    Non-Null Count  Dtype  \n",
      "---  ------    --------------  -----  \n",
      " 0   user_id   18068 non-null  int64  \n",
      " 1   distance  18068 non-null  float64\n",
      " 2   duration  18068 non-null  float64\n",
      " 3   date      18068 non-null  object \n",
      "dtypes: float64(2), int64(1), object(1)\n",
      "memory usage: 564.8+ KB\n",
      "<class 'pandas.core.frame.DataFrame'>\n",
      "RangeIndex: 2 entries, 0 to 1\n",
      "Data columns (total 4 columns):\n",
      " #   Column             Non-Null Count  Dtype \n",
      "---  ------             --------------  ----- \n",
      " 0   subscription_type  2 non-null      object\n",
      " 1   minute_price       2 non-null      int64 \n",
      " 2   start_ride_price   2 non-null      int64 \n",
      " 3   subscription_fee   2 non-null      int64 \n",
      "dtypes: int64(3), object(1)\n",
      "memory usage: 192.0+ bytes\n"
     ]
    }
   ],
   "source": [
    "users_go_data = pd.read_csv('users_go.csv')\n",
    "rides_go_data = pd.read_csv('rides_go.csv')\n",
    "subscriptions_go_data = pd.read_csv('subscriptions_go.csv')\n",
    "\n",
    "display(users_go_data.head(5))\n",
    "display(rides_go_data.head(5))\n",
    "display(subscriptions_go_data.head(5))\n",
    "users_go_data.info()\n",
    "rides_go_data.info()\n",
    "subscriptions_go_data.info()"
   ]
  },
  {
   "cell_type": "markdown",
   "id": "e95ebca7",
   "metadata": {},
   "source": [
    "#### Шаг 2. Предобработка данных"
   ]
  },
  {
   "cell_type": "code",
   "execution_count": 33,
   "id": "af6d202c",
   "metadata": {},
   "outputs": [
    {
     "name": "stdout",
     "output_type": "stream",
     "text": [
      "Диапазон дат: от 2021-01-01 00:00:00 до 2021-12-30 00:00:00\n",
      "   month_number       date\n",
      "0             1 2021-01-01\n",
      "1             1 2021-01-18\n",
      "2             4 2021-04-20\n",
      "3             8 2021-08-11\n",
      "4             8 2021-08-28\n",
      "5            10 2021-10-09\n",
      "6            10 2021-10-19\n",
      "7            11 2021-11-06\n",
      "8            11 2021-11-14\n",
      "9            11 2021-11-22\n"
     ]
    }
   ],
   "source": [
    "rides_go_data['date'] = pd.to_datetime(rides_go_data['date'], errors='coerce')\n",
    "rides_go_data['month_number'] = rides_go_data['date'].dt.month\n",
    "min_date = rides_go_data['date'].min()\n",
    "max_date = rides_go_data['date'].max()\n",
    "print(f'Диапазон дат: от {min_date} до {max_date}')\n",
    "print(rides_go_data[['month_number', 'date']].head(10))"
   ]
  },
  {
   "cell_type": "markdown",
   "id": "9bf5d48f",
   "metadata": {},
   "source": [
    "Датасет включает в себя информацию за один год (2021)."
   ]
  },
  {
   "cell_type": "code",
   "execution_count": 34,
   "id": "c5a07a86",
   "metadata": {},
   "outputs": [],
   "source": [
    "def check_duplicates(df, name):\n",
    "    dup_count = df.duplicated().sum()\n",
    "    print(f\"В {name}: {dup_count} дубликатов\")\n",
    "    if dup_count > 0:\n",
    "        print(df[df.duplicated()].head())\n",
    "    print('-' * 50)"
   ]
  },
  {
   "cell_type": "code",
   "execution_count": 35,
   "id": "fde36208",
   "metadata": {},
   "outputs": [
    {
     "name": "stdout",
     "output_type": "stream",
     "text": [
      "В users_go_data: 31 дубликатов\n",
      "      user_id        name  age          city subscription_type\n",
      "1534      293       Агата   26     Краснодар             ultra\n",
      "1535       16      Амалия   27     Краснодар             ultra\n",
      "1536      909  Константин   20  Екатеринбург              free\n",
      "1537      403      Полина   19          Сочи             ultra\n",
      "1538      908      Рустам   30        Тюмень              free\n",
      "--------------------------------------------------\n"
     ]
    }
   ],
   "source": [
    "users_go_data_missing_values = users_go_data.isnull().sum()\n",
    "users_go_data_missing_values = users_go_data_missing_values[users_go_data_missing_values > 0].sort_values(ascending=False)\n",
    "users_go_data_missing_values\n",
    "check_duplicates(users_go_data, \"users_go_data\")\n",
    "users_go_data = users_go_data.drop_duplicates()"
   ]
  },
  {
   "cell_type": "markdown",
   "id": "71930c21",
   "metadata": {},
   "source": [
    "В файле users_go_data обнаружено 31 дубликат. Решено их удалить для корректного анализа данных."
   ]
  },
  {
   "cell_type": "code",
   "execution_count": 36,
   "id": "d88a82c3",
   "metadata": {},
   "outputs": [
    {
     "name": "stdout",
     "output_type": "stream",
     "text": [
      "В rides_go_data: 0 дубликатов\n",
      "--------------------------------------------------\n"
     ]
    }
   ],
   "source": [
    "rides_go_data_missing_values = rides_go_data.isnull().sum()\n",
    "rides_go_data_missing_values = rides_go_data_missing_values[rides_go_data_missing_values > 0].sort_values(ascending=False)\n",
    "rides_go_data_missing_values\n",
    "check_duplicates(rides_go_data, \"rides_go_data\")"
   ]
  },
  {
   "cell_type": "markdown",
   "id": "9b26d9eb",
   "metadata": {},
   "source": [
    "В файле rides_go_data дубликаты не найдены."
   ]
  },
  {
   "cell_type": "code",
   "execution_count": 37,
   "id": "5be89ad9",
   "metadata": {},
   "outputs": [
    {
     "name": "stdout",
     "output_type": "stream",
     "text": [
      "В subscriptions_go_data: 0 дубликатов\n",
      "--------------------------------------------------\n"
     ]
    }
   ],
   "source": [
    "subscriptions_go_data_missing_values = subscriptions_go_data.isnull().sum()\n",
    "subscriptions_go_data_missing_values = subscriptions_go_data_missing_values[subscriptions_go_data_missing_values > 0].sort_values(ascending=False)\n",
    "subscriptions_go_data_missing_values\n",
    "check_duplicates(subscriptions_go_data, \"subscriptions_go_data\")"
   ]
  },
  {
   "cell_type": "markdown",
   "id": "06fa1412",
   "metadata": {},
   "source": [
    "В файле subscriptions_go_data дубликаты не найдены."
   ]
  },
  {
   "cell_type": "markdown",
   "id": "0197bff2",
   "metadata": {},
   "source": [
    "#### Шаг 3. Исследовательский анализ данных"
   ]
  },
  {
   "cell_type": "code",
   "execution_count": 38,
   "id": "6887917e",
   "metadata": {},
   "outputs": [
    {
     "name": "stdout",
     "output_type": "stream",
     "text": [
      "city\n",
      "Пятигорск         219\n",
      "Екатеринбург      204\n",
      "Ростов-на-Дону    198\n",
      "Краснодар         193\n",
      "Сочи              189\n",
      "Омск              183\n",
      "Тюмень            180\n",
      "Москва            168\n",
      "Name: count, dtype: int64\n"
     ]
    },
    {
     "data": {
      "image/png": "[encoded data removed]",
      "text/plain": [
       "<Figure size 1200x800 with 1 Axes>"
      ]
     },
     "metadata": {},
     "output_type": "display_data"
    }
   ],
   "source": [
    "print(users_go_data['city'].value_counts(ascending=False).head(10))\n",
    "top_cities = users_go_data['city'].value_counts(ascending=False).head(10)\n",
    "plt.figure(figsize=(12, 8))\n",
    "top_cities.plot(kind='bar', color='cornflowerblue')\n",
    "plt.title('Топ городов по числу пользователей')\n",
    "plt.xlabel('Город')\n",
    "plt.ylabel('Количество')\n",
    "plt.xticks(rotation=75, ha='right')\n",
    "plt.tight_layout()\n",
    "plt.show()"
   ]
  },
  {
   "cell_type": "markdown",
   "id": "01df0d14",
   "metadata": {},
   "source": [
    "В данном разделе описаны города где представлена компания. В тройку лидеров входят Пятигорск, Екатеринбург и Ростов-на-Дону. Стоит отметить что разброс между городами незначителен и разница между лидером списка (Пятигорск) и аутсайдером (Москва) не сильно выделяется."
   ]
  },
  {
   "cell_type": "code",
   "execution_count": 39,
   "id": "2295a896",
   "metadata": {},
   "outputs": [
    {
     "data": {
      "image/png": "[encoded data removed]",
      "text/plain": [
       "<Figure size 1000x1000 with 1 Axes>"
      ]
     },
     "metadata": {},
     "output_type": "display_data"
    }
   ],
   "source": [
    "subscription_ratio = users_go_data['subscription_type'].value_counts(normalize=True)\n",
    "plt.figure(figsize=(10, 10))\n",
    "plt.pie(subscription_ratio, labels=subscription_ratio.index, autopct='%1.1f%%', startangle=140)\n",
    "plt.title('Распределение пользователей по подписке')\n",
    "plt.axis('equal')\n",
    "plt.tight_layout()\n",
    "plt.show()"
   ]
  },
  {
   "cell_type": "markdown",
   "id": "bf6a421b",
   "metadata": {},
   "source": [
    "Соотношение клиентов с подпиской и без примерно одинаковое, однако есть небольшое преобладание тез кто не покупает подписки (54,4%) против клиентов с подпиской (45,6%). Для анализа данных обе группы представлены одинаково, соответственно делать выборку что бы объективного анализа не требуется."
   ]
  },
  {
   "cell_type": "code",
   "execution_count": 40,
   "id": "345fecac",
   "metadata": {},
   "outputs": [
    {
     "name": "stdout",
     "output_type": "stream",
     "text": [
      "count    1534.000000\n",
      "mean       24.903520\n",
      "std         4.572367\n",
      "min        12.000000\n",
      "25%        22.000000\n",
      "50%        25.000000\n",
      "75%        28.000000\n",
      "max        43.000000\n",
      "Name: age, dtype: float64\n"
     ]
    },
    {
     "data": {
      "image/png": "[encoded data removed]",
      "text/plain": [
       "<Figure size 1000x1500 with 1 Axes>"
      ]
     },
     "metadata": {},
     "output_type": "display_data"
    }
   ],
   "source": [
    "print(users_go_data['age'].describe())\n",
    "users_go_data['age'].hist(figsize=(10, 15), bins=30, edgecolor='black')\n",
    "plt.xlabel('Возраст (лет)')\n",
    "plt.ylabel('Количество пользователей')\n",
    "plt.title('Расределение возрастного состава клиентов')\n",
    "plt.tight_layout()\n",
    "plt.show()"
   ]
  },
  {
   "cell_type": "markdown",
   "id": "05558fe3",
   "metadata": {},
   "source": [
    "Данная гистограмма описывает возрастной состав клиентов. Львиная доля клиентов это люди от 20 до 30 лет. Доля людей старше 30 или моложе 20 незначительна."
   ]
  },
  {
   "cell_type": "code",
   "execution_count": 41,
   "id": "aafc9735",
   "metadata": {},
   "outputs": [
    {
     "name": "stdout",
     "output_type": "stream",
     "text": [
      "count    18068.000000\n",
      "mean         3.070660\n",
      "std          1.116831\n",
      "min          0.000856\n",
      "25%          2.543226\n",
      "50%          3.133610\n",
      "75%          3.776223\n",
      "max          7.211008\n",
      "Name: distance, dtype: float64\n"
     ]
    },
    {
     "data": {
      "image/png": "[encoded data removed]",
      "text/plain": [
       "<Figure size 1000x1500 with 1 Axes>"
      ]
     },
     "metadata": {},
     "output_type": "display_data"
    }
   ],
   "source": [
    "total_distance_per_user = rides_go_data['distance'] / 1000\n",
    "print(total_distance_per_user.describe())\n",
    "total_distance_per_user.hist(figsize=(10, 15), bins=30, edgecolor='black')\n",
    "plt.xlabel('Дистанция в километрах')\n",
    "plt.ylabel('Количество пользователей')\n",
    "plt.title('Распределение общей продолжительности пройденных дистанций по пользователям')\n",
    "plt.tight_layout()\n",
    "plt.show()"
   ]
  },
  {
   "cell_type": "markdown",
   "id": "1a91ff6e",
   "metadata": {},
   "source": [
    "Гистограмма показывает что клиенты разделены на две группы, одна небольшая группа использующие самокаты на дистанции от 500 метров до 1.5 км, и те кому нужен самокат для поездок на дистанции от 2 до 5 км которые составляют большинство клиентов.  "
   ]
  },
  {
   "cell_type": "code",
   "execution_count": 42,
   "id": "85894bc9",
   "metadata": {},
   "outputs": [
    {
     "name": "stdout",
     "output_type": "stream",
     "text": [
      "count    18068.000000\n",
      "mean        17.805011\n",
      "std          6.091051\n",
      "min          0.500000\n",
      "25%         13.597563\n",
      "50%         17.678395\n",
      "75%         21.724800\n",
      "max         40.823963\n",
      "Name: duration, dtype: float64\n"
     ]
    },
    {
     "data": {
      "image/png": "[encoded data removed]",
      "text/plain": [
       "<Figure size 1000x1500 with 1 Axes>"
      ]
     },
     "metadata": {},
     "output_type": "display_data"
    }
   ],
   "source": [
    "print(rides_go_data['duration'].describe())\n",
    "rides_go_data['duration'].hist(figsize=(10, 15), bins=30, edgecolor='black')\n",
    "plt.xlabel('Суммарная продолжительность поездок (минуты)')\n",
    "plt.ylabel('Количество пользователей')\n",
    "plt.title('Распределение общей продолжительности поездок по пользователям')\n",
    "plt.tight_layout()\n",
    "plt.show()"
   ]
  },
  {
   "cell_type": "markdown",
   "id": "d99294c1",
   "metadata": {},
   "source": [
    "Среднее значение длительности поездок составило 17 минут. Большинство клиентов пользуются самокатами от 10 минут до 25 минут. "
   ]
  },
  {
   "cell_type": "markdown",
   "id": "4ef51331",
   "metadata": {},
   "source": [
    "#### Шаг 4. Объединение данных"
   ]
  },
  {
   "cell_type": "code",
   "execution_count": 43,
   "id": "6bf288b5",
   "metadata": {},
   "outputs": [
    {
     "name": "stdout",
     "output_type": "stream",
     "text": [
      "<class 'pandas.core.frame.DataFrame'>\n",
      "RangeIndex: 18068 entries, 0 to 18067\n",
      "Data columns (total 12 columns):\n",
      " #   Column             Non-Null Count  Dtype         \n",
      "---  ------             --------------  -----         \n",
      " 0   user_id            18068 non-null  int64         \n",
      " 1   name               18068 non-null  object        \n",
      " 2   age                18068 non-null  int64         \n",
      " 3   city               18068 non-null  object        \n",
      " 4   subscription_type  18068 non-null  object        \n",
      " 5   distance           18068 non-null  float64       \n",
      " 6   duration           18068 non-null  float64       \n",
      " 7   date               18068 non-null  datetime64[ns]\n",
      " 8   month_number       18068 non-null  int32         \n",
      " 9   minute_price       18068 non-null  int64         \n",
      " 10  start_ride_price   18068 non-null  int64         \n",
      " 11  subscription_fee   18068 non-null  int64         \n",
      "dtypes: datetime64[ns](1), float64(2), int32(1), int64(5), object(3)\n",
      "memory usage: 1.6+ MB\n",
      "None\n",
      "18068 Общее количество записей в датафрейме\n"
     ]
    }
   ],
   "source": [
    "merge_data = pd.merge(users_go_data, rides_go_data, on='user_id', how='outer')\n",
    "merged_data_full = pd.merge(merge_data, subscriptions_go_data, how='outer')\n",
    "print(merged_data_full.info())\n",
    "print(merged_data_full.shape[0], 'Общее количество записей в датафрейме')"
   ]
  },
  {
   "cell_type": "code",
   "execution_count": 44,
   "id": "daa4495a",
   "metadata": {},
   "outputs": [
    {
     "name": "stdout",
     "output_type": "stream",
     "text": [
      "<class 'pandas.core.frame.DataFrame'>\n",
      "Index: 6500 entries, 0 to 6499\n",
      "Data columns (total 12 columns):\n",
      " #   Column             Non-Null Count  Dtype         \n",
      "---  ------             --------------  -----         \n",
      " 0   user_id            6500 non-null   int64         \n",
      " 1   name               6500 non-null   object        \n",
      " 2   age                6500 non-null   int64         \n",
      " 3   city               6500 non-null   object        \n",
      " 4   subscription_type  6500 non-null   object        \n",
      " 5   distance           6500 non-null   float64       \n",
      " 6   duration           6500 non-null   float64       \n",
      " 7   date               6500 non-null   datetime64[ns]\n",
      " 8   month_number       6500 non-null   int32         \n",
      " 9   minute_price       6500 non-null   int64         \n",
      " 10  start_ride_price   6500 non-null   int64         \n",
      " 11  subscription_fee   6500 non-null   int64         \n",
      "dtypes: datetime64[ns](1), float64(2), int32(1), int64(5), object(3)\n",
      "memory usage: 634.8+ KB\n",
      "None\n",
      "6500 Общее клиентов с подпиской\n"
     ]
    }
   ],
   "source": [
    "clients_with_subcripion = merged_data_full[merged_data_full['subscription_type'] == 'ultra']\n",
    "print(clients_with_subcripion.info())\n",
    "print(clients_with_subcripion.shape[0], 'Общее клиентов с подпиской')"
   ]
  },
  {
   "cell_type": "code",
   "execution_count": 45,
   "id": "8dc3a373",
   "metadata": {},
   "outputs": [
    {
     "name": "stdout",
     "output_type": "stream",
     "text": [
      "<class 'pandas.core.frame.DataFrame'>\n",
      "Index: 11568 entries, 6500 to 18067\n",
      "Data columns (total 12 columns):\n",
      " #   Column             Non-Null Count  Dtype         \n",
      "---  ------             --------------  -----         \n",
      " 0   user_id            11568 non-null  int64         \n",
      " 1   name               11568 non-null  object        \n",
      " 2   age                11568 non-null  int64         \n",
      " 3   city               11568 non-null  object        \n",
      " 4   subscription_type  11568 non-null  object        \n",
      " 5   distance           11568 non-null  float64       \n",
      " 6   duration           11568 non-null  float64       \n",
      " 7   date               11568 non-null  datetime64[ns]\n",
      " 8   month_number       11568 non-null  int32         \n",
      " 9   minute_price       11568 non-null  int64         \n",
      " 10  start_ride_price   11568 non-null  int64         \n",
      " 11  subscription_fee   11568 non-null  int64         \n",
      "dtypes: datetime64[ns](1), float64(2), int32(1), int64(5), object(3)\n",
      "memory usage: 1.1+ MB\n",
      "None\n",
      "11568 Общее клиентов без подписки\n"
     ]
    }
   ],
   "source": [
    "clients_without_subcripion = merged_data_full[merged_data_full['subscription_type'] == 'free']\n",
    "print(clients_without_subcripion.info())\n",
    "print(clients_without_subcripion.shape[0], 'Общее клиентов без подписки')"
   ]
  },
  {
   "cell_type": "markdown",
   "id": "b2286476",
   "metadata": {},
   "source": [
    "Все три датасета были объедены в один файл с целью анализа данных и подтверждения гипотез. После объединения данные были отсортированы по критерию те кто оформил подписку (6.5 тыс записей) и те кто не оформил (11.5 тыс записей). Это позволит проанализировать и  визуализировать данные по переменным, пройденное расстояние и время. "
   ]
  },
  {
   "cell_type": "code",
   "execution_count": 46,
   "id": "994e1c2f",
   "metadata": {},
   "outputs": [
    {
     "name": "stderr",
     "output_type": "stream",
     "text": [
      "/opt/conda/envs/anaconda-2024.02-py310/lib/python3.10/site-packages/seaborn/_oldcore.py:1119: FutureWarning: use_inf_as_na option is deprecated and will be removed in a future version. Convert inf values to NaN before operating instead.\n",
      "  with pd.option_context('mode.use_inf_as_na', True):\n",
      "/opt/conda/envs/anaconda-2024.02-py310/lib/python3.10/site-packages/seaborn/_oldcore.py:1119: FutureWarning: use_inf_as_na option is deprecated and will be removed in a future version. Convert inf values to NaN before operating instead.\n",
      "  with pd.option_context('mode.use_inf_as_na', True):\n"
     ]
    },
    {
     "data": {
      "image/png": "[encoded data removed]",
      "text/plain": [
       "<Figure size 1000x500 with 1 Axes>"
      ]
     },
     "metadata": {},
     "output_type": "display_data"
    }
   ],
   "source": [
    "plt.figure(figsize=(10, 5))\n",
    "sns.histplot(data=clients_with_subcripion, x='distance', color='green', label='С подпиской', kde=True, stat='density', bins=50)\n",
    "sns.histplot(data=clients_without_subcripion, x='distance', color='red', label='Без подписки', kde=True, stat='density', bins=50)\n",
    "\n",
    "plt.title('Распределение расстояния поездок')\n",
    "plt.xlabel('Расстояние')\n",
    "plt.ylabel('Плотность')\n",
    "plt.legend()\n",
    "plt.tight_layout()\n",
    "plt.show()"
   ]
  },
  {
   "cell_type": "markdown",
   "id": "d9dd97e5",
   "metadata": {},
   "source": [
    "- Пользователи без подписки чаще совершают очень короткие поездки (пик плотности около 0.0008 для малых расстояний).\n",
    "- Пользователи с подпиской чаще выбирают средние дистанции (их кривая плотности более \"плоская\" и протяженная).\n",
    "\n",
    "Интерпретация:\n",
    "- Подписка, вероятно, делает длительные поездки более выгодными, поэтому пользователи реже ограничиваются короткими дистанциями.\n",
    "- Без подписки поездки, скорее всего, оплачиваются пропорционально расстоянию, что мотивирует экономить на длинных маршрутах."
   ]
  },
  {
   "cell_type": "code",
   "execution_count": 47,
   "id": "49d4c8a9",
   "metadata": {},
   "outputs": [
    {
     "name": "stderr",
     "output_type": "stream",
     "text": [
      "/opt/conda/envs/anaconda-2024.02-py310/lib/python3.10/site-packages/seaborn/_oldcore.py:1119: FutureWarning: use_inf_as_na option is deprecated and will be removed in a future version. Convert inf values to NaN before operating instead.\n",
      "  with pd.option_context('mode.use_inf_as_na', True):\n",
      "/opt/conda/envs/anaconda-2024.02-py310/lib/python3.10/site-packages/seaborn/_oldcore.py:1119: FutureWarning: use_inf_as_na option is deprecated and will be removed in a future version. Convert inf values to NaN before operating instead.\n",
      "  with pd.option_context('mode.use_inf_as_na', True):\n"
     ]
    },
    {
     "data": {
      "image/png": "[encoded data removed]",
      "text/plain": [
       "<Figure size 1000x500 with 1 Axes>"
      ]
     },
     "metadata": {},
     "output_type": "display_data"
    }
   ],
   "source": [
    "plt.figure(figsize=(10, 5))\n",
    "sns.histplot(data=clients_with_subcripion, x='duration', color='green', label='С подпиской', kde=True, stat='density', bins=50)\n",
    "sns.histplot(data=clients_without_subcripion, x='duration', color='red', label='Без подписки', kde=True, stat='density', bins=50)\n",
    "\n",
    "plt.title('Распределение длительности поездок')\n",
    "plt.xlabel('Длительность')\n",
    "plt.ylabel('Плотность')\n",
    "plt.legend()\n",
    "plt.tight_layout()\n",
    "plt.show()"
   ]
  },
  {
   "cell_type": "markdown",
   "id": "352b26d2",
   "metadata": {},
   "source": [
    "Сравнение длительности поездок двух групп показало что клиенты с подпиской пользуются самокатами значительно чаще чем клиенты без подписок."
   ]
  },
  {
   "cell_type": "markdown",
   "id": "402d620f",
   "metadata": {},
   "source": [
    "#### Шаг 5. Подсчёт выручки"
   ]
  },
  {
   "cell_type": "markdown",
   "id": "75807666",
   "metadata": {},
   "source": [
    "5.1"
   ]
  },
  {
   "cell_type": "code",
   "execution_count": 48,
   "id": "53049e0a",
   "metadata": {},
   "outputs": [
    {
     "name": "stdout",
     "output_type": "stream",
     "text": [
      "   user_id subscription_type  month_number  total_distance  total_trips  \\\n",
      "0        1             ultra             1     7027.511294            2   \n",
      "1        1             ultra             4      754.159807            1   \n",
      "2        1             ultra             8     6723.470560            2   \n",
      "3        1             ultra            10     5809.911100            2   \n",
      "4        1             ultra            11     7003.499363            3   \n",
      "\n",
      "   total_trip_time_min  \n",
      "0                 42.0  \n",
      "1                  7.0  \n",
      "2                 46.0  \n",
      "3                 32.0  \n",
      "4                 56.0  \n"
     ]
    }
   ],
   "source": [
    "merged_data_full['duration'] = np.ceil(merged_data_full['duration'])\n",
    "agregated_data = merged_data_full.groupby(['user_id', 'subscription_type', 'month_number']).agg(\n",
    "    total_distance=('distance', 'sum'),\n",
    "    total_trips=('month_number', 'count'),\n",
    "    total_trip_time_min=('duration', 'sum'),\n",
    ").reset_index()\n",
    "\n",
    "print(agregated_data.head(5))"
   ]
  },
  {
   "cell_type": "markdown",
   "id": "847d464e",
   "metadata": {},
   "source": [
    "В данном блоке был проведена группировка данных по столбцам общая пройденная дистанция (total_distance) и количество поездок в месяц (total_trips) и суммарная длительность в минутах (total_trip_time_min)."
   ]
  },
  {
   "cell_type": "markdown",
   "id": "7f90f1d0",
   "metadata": {},
   "source": [
    "5.2"
   ]
  },
  {
   "cell_type": "code",
   "execution_count": 49,
   "id": "a6d400f4",
   "metadata": {},
   "outputs": [
    {
     "name": "stdout",
     "output_type": "stream",
     "text": [
      "   user_id subscription_type  month_number  monthly_trip_revenue  \\\n",
      "0        1             ultra             1                 252.0   \n",
      "1        1             ultra             4                  42.0   \n",
      "2        1             ultra             8                 276.0   \n",
      "3        1             ultra            10                 192.0   \n",
      "4        1             ultra            11                 336.0   \n",
      "\n",
      "   total_revenue  \n",
      "0          451.0  \n",
      "1          241.0  \n",
      "2          475.0  \n",
      "3          391.0  \n",
      "4          535.0  \n"
     ]
    }
   ],
   "source": [
    "def calculate_trip_cost(row):\n",
    "    if row['subscription_type'] == 'ultra':\n",
    "        return row['total_trip_time_min'] * 6\n",
    "    else:\n",
    "        return 50 + row['total_trip_time_min'] * 8\n",
    "    \n",
    "agregated_data['trip_cost'] = agregated_data.apply(calculate_trip_cost, axis=1)\n",
    "\n",
    "agg_df = agregated_data.groupby(['user_id', 'subscription_type', 'month_number']).agg(\n",
    "    monthly_trip_revenue=('trip_cost', 'sum')\n",
    ").reset_index()\n",
    "\n",
    "agg_df['total_revenue'] = agg_df.apply(\n",
    "    lambda row: row['monthly_trip_revenue'] + 199 if row['subscription_type'] == 'ultra' \n",
    "    else row['monthly_trip_revenue'],\n",
    "    axis=1\n",
    ")\n",
    "\n",
    "print(agg_df.head(5))"
   ]
  },
  {
   "cell_type": "markdown",
   "id": "8ceb8e5a",
   "metadata": {},
   "source": [
    "Проведен рассчет выручки по двум видам подписок. если подписка ultra то к столбцу общая выручка прибавляется 199 рублей."
   ]
  },
  {
   "cell_type": "markdown",
   "id": "41545ac0",
   "metadata": {},
   "source": [
    "#### Шаг 6. Проверка гипотез"
   ]
  },
  {
   "cell_type": "markdown",
   "id": "32b17b4f",
   "metadata": {},
   "source": [
    "- Нулевая гипотеза (H₀):\n",
    "Среднее время поездки пользователей с подпиской равна среднему времени поездки пользователей без подписки.\n",
    "- Альтернативная гипотеза (H₁):\n",
    "Среднее время поездки пользователей с подпиской больше, чем у пользователей без подписки."
   ]
  },
  {
   "cell_type": "code",
   "execution_count": 50,
   "id": "37254318",
   "metadata": {},
   "outputs": [],
   "source": [
    "ultra_users = merged_data_full[merged_data_full['subscription_type'] == 'ultra']['duration']\n",
    "non_ultra_users = merged_data_full[merged_data_full['subscription_type'] != 'ultra']['duration']"
   ]
  },
  {
   "cell_type": "code",
   "execution_count": 51,
   "id": "d8ff3a52",
   "metadata": {},
   "outputs": [
    {
     "name": "stdout",
     "output_type": "stream",
     "text": [
      "p-значение: 1.1814679253701353e-36\n",
      "Отвергаем нулевую гипотезу\n"
     ]
    }
   ],
   "source": [
    "alpha = 0.05\n",
    "result = st.ttest_ind(ultra_users, non_ultra_users, equal_var=False, alternative='greater')\n",
    "print('p-значение:', result.pvalue)\n",
    "if result.pvalue < alpha:\n",
    "    print('Отвергаем нулевую гипотезу')\n",
    "else:\n",
    "    print('Не получилось отвергнуть нулевую гипотезу')\n"
   ]
  },
  {
   "cell_type": "code",
   "execution_count": 52,
   "id": "c40c6af4",
   "metadata": {},
   "outputs": [
    {
     "name": "stdout",
     "output_type": "stream",
     "text": [
      "Среднее время поездки (ultra): 19.037692307692307\n",
      "Среднее время поездки (non-ultra): 17.890992392807746\n"
     ]
    }
   ],
   "source": [
    "print(\"Среднее время поездки (ultra):\", ultra_users.mean())\n",
    "print(\"Среднее время поездки (non-ultra):\", non_ultra_users.mean())"
   ]
  },
  {
   "cell_type": "markdown",
   "id": "e5b34756",
   "metadata": {},
   "source": [
    "Альтернативная гипотеза верна: среднее время поездок пользователей с подпиской больше время поездок пользователей без подписки"
   ]
  },
  {
   "cell_type": "markdown",
   "id": "996fc9f6",
   "metadata": {},
   "source": [
    "Среднее время поездки для пользователей с подпиской составляет 19 минут.\n",
    "Среднее время поездки для пользователей без подписки составляет 17 минут.\n",
    "Разница между средними значениями составляет 2 минуты, что указывает на то, что пользователи с подпиской тратят меньше времени на поездки.\n",
    "\n",
    "- p-значение: 2.36e-36 крайне малое значение, гораздо меньше уровня значимости alpha = 0.05.\n",
    "\n",
    "Поскольку p-значение значительно меньше стандартного уровня значимости (alpha = 5%), мы отвергаем нулевую гипотезу об отсутствии различий между группами.\n",
    "\n",
    "Альтернативная гипотеза верна клиенты с подпиской тратят больше времени на поездки."
   ]
  },
  {
   "cell_type": "markdown",
   "id": "39c2796d",
   "metadata": {},
   "source": [
    "С точки зрения износа самоката поездки до 3130 метров считаются оптимальными. Требуется проверить превышают или нет данное значение клиенты сервиса с подпиской. \n",
    "- Нулевая гипотеза (H₀):\n",
    "Среднее расстояние поездки клиентов с подпиской равна 3130 метров.\n",
    "- Альтернативная гипотеза (H₁):\n",
    "Среднее расстояние поездки клиентов с подпиской меньше 3130 метров."
   ]
  },
  {
   "cell_type": "code",
   "execution_count": 53,
   "id": "11b0db58",
   "metadata": {},
   "outputs": [
    {
     "name": "stdout",
     "output_type": "stream",
     "text": [
      "p-значение: 0.08046311521502146\n",
      "Не получилось отвергнуть нулевую гипотезу\n"
     ]
    }
   ],
   "source": [
    "ultra_users = merged_data_full[merged_data_full['subscription_type'] == 'ultra']['distance']\n",
    "alpha = 0.05\n",
    "\n",
    "result = st.ttest_1samp(ultra_users, popmean=3130, alternative='less')\n",
    "\n",
    "print(\"p-значение:\", result.pvalue)\n",
    "\n",
    "if result.pvalue < alpha:\n",
    "    print('Отвергаем нулевую гипотезу')\n",
    "else:\n",
    "    print('Не получилось отвергнуть нулевую гипотезу')"
   ]
  },
  {
   "cell_type": "markdown",
   "id": "8a8add64",
   "metadata": {},
   "source": [
    "- Вывод:\n",
    "p-значение: 0.080 больше значения alpha (0.05 или 5%), следовательно у нас нет статистически значимых оснований утверждать, что среднее расстояние поездки пользователей ultra превышает 3130 метров. "
   ]
  },
  {
   "cell_type": "code",
   "execution_count": 54,
   "id": "0a4d26f9",
   "metadata": {},
   "outputs": [
    {
     "name": "stdout",
     "output_type": "stream",
     "text": [
      "Среднее расстояние поездок (ultra): 3115.4453880370247\n"
     ]
    }
   ],
   "source": [
    "ultra_users = merged_data_full[merged_data_full['subscription_type'] == 'ultra']['distance']\n",
    "print(\"Среднее расстояние поездок (ultra):\", ultra_users.mean())"
   ]
  },
  {
   "cell_type": "markdown",
   "id": "f6fdeca6",
   "metadata": {},
   "source": [
    "Средняя дистанция поездки пользователи с подпиской действительно меньше 3130 метров, следовательно нулевая гипотеза верна."
   ]
  },
  {
   "cell_type": "markdown",
   "id": "bcfe5f10",
   "metadata": {},
   "source": [
    "- Нулевая гипотеза (H₀): средняя помесячная выручка одинакова у подписчиков и у неподписчиков\n",
    "- Альтернативная гипотеза (H₁): выручка выше у подписчиков"
   ]
  },
  {
   "cell_type": "code",
   "execution_count": 55,
   "id": "72e71e93",
   "metadata": {},
   "outputs": [],
   "source": [
    "ultra_users = agg_df[agg_df['subscription_type'] == 'ultra']['total_revenue']\n",
    "non_ultra_users = agg_df[agg_df['subscription_type'] != 'ultra']['total_revenue']"
   ]
  },
  {
   "cell_type": "code",
   "execution_count": 56,
   "id": "9f88e084",
   "metadata": {},
   "outputs": [
    {
     "name": "stdout",
     "output_type": "stream",
     "text": [
      "p-значение: 1.8822802352406446e-213\n",
      "Отвергаем нулевую гипотезу\n"
     ]
    }
   ],
   "source": [
    "alpha = 0.05 \n",
    "results = st.ttest_ind(ultra_users, non_ultra_users, equal_var=False, alternative='greater')\n",
    "print('p-значение:', results.pvalue)\n",
    "\n",
    "if results.pvalue < alpha:\n",
    "    print('Отвергаем нулевую гипотезу')\n",
    "else:\n",
    "    print('Нет оснований отвергнуть нулевую гипотезу')"
   ]
  },
  {
   "cell_type": "markdown",
   "id": "b6affda4",
   "metadata": {},
   "source": [
    "p-значение намного меньше alpha (0.05 или 5%). Это означает, что разница в средней выручке между подписчиками и неподписчиками статистически значима."
   ]
  },
  {
   "cell_type": "code",
   "execution_count": 57,
   "id": "9f3f80c2",
   "metadata": {},
   "outputs": [
    {
     "name": "stdout",
     "output_type": "stream",
     "text": [
      "Средний доход клиентов с подпиской (ultra): 362.7921906022502\n",
      "Средний доход клиентов с подпиской (free): 293.5575169167402\n"
     ]
    }
   ],
   "source": [
    "print(\"Средний доход клиентов с подпиской (ultra):\", ultra_users.mean())\n",
    "print(\"Средний доход клиентов с подпиской (free):\", non_ultra_users.mean())"
   ]
  },
  {
   "cell_type": "code",
   "execution_count": 58,
   "id": "3ac3cc51",
   "metadata": {},
   "outputs": [
    {
     "data": {
      "image/png": "[encoded data removed]",
      "text/plain": [
       "<Figure size 640x480 with 1 Axes>"
      ]
     },
     "metadata": {},
     "output_type": "display_data"
    }
   ],
   "source": [
    "sns.boxplot(x='subscription_type', y='total_revenue', data=agg_df)\n",
    "plt.title('Сравнение помесячной выручки по подписке')\n",
    "plt.ylabel('Помесячная выручка')\n",
    "plt.xlabel('Тип подписки')\n",
    "plt.show()"
   ]
  },
  {
   "cell_type": "markdown",
   "id": "c6632f5a",
   "metadata": {},
   "source": [
    "### 6.4 \n",
    "- Нулевая гипотеза (H₀):\n",
    "Обновление серверов не повлияло на количество обращений — то есть среднее количество обращений не снизилось.\n",
    "- Альтернативная гипотеза (H₁):\n",
    "Обновление серверов привело к снижению количества обращений.\n",
    "\n",
    "Для проверки гипотезы до и после понадобиться paired t-test так как он проверяет, есть ли значимая разница в средних между двумя связанными выборками."
   ]
  },
  {
   "cell_type": "markdown",
   "id": "61213c5e",
   "metadata": {},
   "source": [
    "#### Шаг 7. Распределения"
   ]
  },
  {
   "cell_type": "code",
   "execution_count": 59,
   "id": "95cd1d51",
   "metadata": {},
   "outputs": [
    {
     "data": {
      "image/png": "[encoded data removed]",
      "text/plain": [
       "<Figure size 1000x500 with 1 Axes>"
      ]
     },
     "metadata": {},
     "output_type": "display_data"
    },
    {
     "data": {
      "text/plain": [
       "1161"
      ]
     },
     "execution_count": 59,
     "metadata": {},
     "output_type": "execute_result"
    }
   ],
   "source": [
    "p = 0.10  # вероятность продления подписки\n",
    "target = 100  # целевое количество продлений\n",
    "alpha = 0.05  # допустимая вероятность провала\n",
    "\n",
    "n = target\n",
    "while binom.cdf(target - 1, n, p) > alpha:\n",
    "    n += 1\n",
    "\n",
    "x = np.arange(0, 200)\n",
    "pmf = binom.pmf(x, n, p)\n",
    "\n",
    "plt.figure(figsize=(10, 5))\n",
    "plt.bar(x, pmf, color='skyblue')\n",
    "plt.axvline(target, color='red', linestyle='--', label=f'Цель: {target}')\n",
    "plt.title(f'Биномиальное распределение: n={n}, p={p}')\n",
    "plt.xlabel('Количество продлений')\n",
    "plt.ylabel('Вероятность')\n",
    "plt.legend()\n",
    "plt.grid(True)\n",
    "plt.tight_layout()\n",
    "plt.show()\n",
    "\n",
    "n"
   ]
  },
  {
   "cell_type": "markdown",
   "id": "e9484d00",
   "metadata": {},
   "source": [
    "Потребуется 1161 промокодов что бы вероятность не выполнить план составило 5% (100 новых клиентов в конце месяца) "
   ]
  },
  {
   "cell_type": "code",
   "execution_count": 60,
   "id": "da5fdc06",
   "metadata": {},
   "outputs": [
    {
     "data": {
      "image/png": "[encoded data removed]",
      "text/plain": [
       "<Figure size 1000x500 with 1 Axes>"
      ]
     },
     "metadata": {},
     "output_type": "display_data"
    },
    {
     "data": {
      "text/plain": [
       "0.15371708296369768"
      ]
     },
     "execution_count": 60,
     "metadata": {},
     "output_type": "execute_result"
    }
   ],
   "source": [
    "p = 0.40            # вероятность открытия уведомления\n",
    "n = 1_000_000       # число разосланных уведомлений\n",
    "x_crit = 399_500    # порог, интересующий отдел (не более 399.5 тыс.)\n",
    "\n",
    "mu = n * p                      # матожидание\n",
    "sigma = np.sqrt(n * p * (1 - p))  # стандартное отклонение\n",
    "\n",
    "z = (x_crit - mu) / sigma\n",
    "probability = norm.cdf(z)\n",
    "\n",
    "x_vals = np.linspace(mu - 5*sigma, mu + 5*sigma, 1000)\n",
    "y_vals = norm.pdf(x_vals, mu, sigma)\n",
    "\n",
    "plt.figure(figsize=(10, 5))\n",
    "plt.plot(x_vals, y_vals, label='Нормальное распределение', color='blue')\n",
    "plt.axvline(x_crit, color='red', linestyle='--', label='399 500 открытий')\n",
    "plt.fill_between(x_vals, y_vals, where=(x_vals <= x_crit), color='skyblue', alpha=0.5)\n",
    "plt.title('Распределение числа открытий push-уведомлений')\n",
    "plt.xlabel('Количество открытий')\n",
    "plt.ylabel('Плотность вероятности')\n",
    "plt.legend()\n",
    "plt.grid(True)\n",
    "plt.tight_layout()\n",
    "plt.show()\n",
    "\n",
    "probability\n"
   ]
  },
  {
   "cell_type": "markdown",
   "id": "daa4fa14",
   "metadata": {},
   "source": [
    "Вероятность того, что push-уведомление откроют не более 399 500 пользователей из 1 миллиона составляет примерно 15.4%."
   ]
  },
  {
   "cell_type": "markdown",
   "id": "3af2caa7",
   "metadata": {},
   "source": [
    "- Загрузка и предобработка данных.\n",
    "\n",
    "Был проведен анализ данных поездок клиентов сервиса аренды самокатов GoFast за весь 2021 год. Предоставленные три файла (users_go.csv, rides_go.csv, subscriptions_go.csv) не имели дубликатов и пропусков, кроме файла users_go_data, где были удалены 31 дубликат. В целом сырые данные были хорошо структурированы и не требовали значительных исправлений. \n",
    "\n",
    "- Исследовательский анализ данных\n",
    "\n",
    "1) Установлено 8 основных городов где был представлен сервис аренды самокатов. Самыми популярными из них оказались Пятигорск, Екатеринбург и Ростов-на-Дону. Тем не менее разрыв между городами незначителен.\n",
    "\n",
    "2) Установлено процентное соотношение между двумя видами клиентов, тех кто оформил подписку (45,6%) и без подписки (54,4%).\n",
    "\n",
    "3) Определена возрастная структура клиентов сервиса, львиная доля клиентов были в диапазоне от 20 до 30 лет, со средним значением в 25 лет.\n",
    "\n",
    "4) Выведена гистрограмма описывающая структуру поездок клиентов по расстоянию, определено что клиенты арендуют самокат на короткие до 1.5 км и на длинные дистанции до 5 км. Среднее составило 3 км.\n",
    "\n",
    "5) Выведена гистограмма описывающая длительность поездок в минутах, среднее значение составило 17 минут.\n",
    "\n",
    "- Объединение данных\n",
    "\n",
    "1) Было проведено объединение трех файлов по ID клиентов с целью дальнейшего статистического анализа данных. Из объединенного файла была проведена сортировка по типу подписки (free и ultra). Также был добавлен столбец месяц, с целью подсчет помесячной выручки.\n",
    "\n",
    "2) Выведена гистограмма описывающая распределение расстояние поездок в обеих группах.\n",
    "\n",
    "3) Выведена гистограмма описывающая распределение длительности поездок в обеих группах.\n",
    "\n",
    "- Подсчет выручки\n",
    "\n",
    "1) Был проведена агрегация данных для суммирования расстояния, количество поездок и суммарное время для каждого пользователя за каждый месяц.\n",
    "\n",
    "2) Были добавлены столбецы с рассчетом помесячной выручки и общей выручки каждого клиента.\n",
    "\n",
    "- Проверка гипотез\n",
    "\n",
    "1) Установлено что клиенты без подписки тратят на поездки в среднем на 2 минуты больше времени, то есть отвергнута нулевая гипотеза что клиенты обеих групп тратят на поездки одинаковое количество времени. \n",
    "\n",
    "2) Установлено что клиенты с подпиской проезжают в среднем 3115 метров, что меньше установленного оптимального значения 3130 метров, то есть нулевая гипотеза подтвердилась.\n",
    "\n",
    "3) Установлено что клиенты с подпиской приносят на 23% больше денег чем клиенты без подписки, 362 рубля против 293 рублей, подтвердилась альтернативная гипотеза что клиенты с подпиской для сервиса выгоднее.\n",
    "\n",
    "- Вывод:\n",
    "\n",
    "Проведенный статистический анализ данных поможет менеджерам компании в формировании маркетинговых стратегий и акций с целью увеличения клиентской базы и прибыли. Проведенный анализ также поможет в перерасчетах тарификации и внедрения более гибких тарифов для клиентов с разными потребностями.  "
   ]
  }
 ],
 "metadata": {
  "ExecuteTimeLog": [
   {
    "duration": 51,
    "start_time": "2025-04-25T12:40:22.946Z"
   },
   {
    "duration": 7,
    "start_time": "2025-04-25T12:40:42.878Z"
   },
   {
    "duration": 408,
    "start_time": "2025-04-25T12:40:57.576Z"
   },
   {
    "duration": 102,
    "start_time": "2025-04-25T12:41:00.466Z"
   },
   {
    "duration": 82,
    "start_time": "2025-04-25T12:44:50.076Z"
   },
   {
    "duration": 29,
    "start_time": "2025-04-25T12:52:56.302Z"
   },
   {
    "duration": 10,
    "start_time": "2025-04-25T12:53:04.962Z"
   },
   {
    "duration": 15,
    "start_time": "2025-04-25T12:53:28.155Z"
   },
   {
    "duration": 57,
    "start_time": "2025-04-25T12:54:16.680Z"
   },
   {
    "duration": 16,
    "start_time": "2025-04-25T13:09:13.393Z"
   },
   {
    "duration": 7,
    "start_time": "2025-04-25T13:09:28.815Z"
   },
   {
    "duration": 7,
    "start_time": "2025-04-25T13:09:42.571Z"
   },
   {
    "duration": 7,
    "start_time": "2025-04-25T13:09:56.183Z"
   },
   {
    "duration": 16,
    "start_time": "2025-04-25T13:10:12.027Z"
   },
   {
    "duration": 22,
    "start_time": "2025-04-25T14:01:47.309Z"
   },
   {
    "duration": 18,
    "start_time": "2025-04-25T14:03:19.651Z"
   },
   {
    "duration": 18,
    "start_time": "2025-04-25T14:03:29.877Z"
   },
   {
    "duration": 18,
    "start_time": "2025-04-25T14:03:38.394Z"
   },
   {
    "duration": 27,
    "start_time": "2025-04-25T14:05:35.906Z"
   },
   {
    "duration": 81,
    "start_time": "2025-04-25T14:06:28.249Z"
   },
   {
    "duration": 381,
    "start_time": "2025-04-25T15:28:18.576Z"
   },
   {
    "duration": 66,
    "start_time": "2025-04-25T15:28:18.959Z"
   },
   {
    "duration": 12,
    "start_time": "2025-04-25T15:28:19.027Z"
   },
   {
    "duration": 53,
    "start_time": "2025-04-25T15:28:19.041Z"
   },
   {
    "duration": 5,
    "start_time": "2025-04-25T15:28:19.096Z"
   },
   {
    "duration": 6,
    "start_time": "2025-04-25T15:32:30.508Z"
   },
   {
    "duration": 5,
    "start_time": "2025-04-25T15:36:17.340Z"
   },
   {
    "duration": 7,
    "start_time": "2025-04-25T15:39:09.544Z"
   },
   {
    "duration": 5,
    "start_time": "2025-04-25T15:39:38.341Z"
   },
   {
    "duration": 13,
    "start_time": "2025-04-25T15:40:52.243Z"
   },
   {
    "duration": 69,
    "start_time": "2025-04-25T15:43:41.911Z"
   },
   {
    "duration": 743,
    "start_time": "2025-04-25T15:43:48.385Z"
   },
   {
    "duration": 3,
    "start_time": "2025-04-25T15:44:09.364Z"
   },
   {
    "duration": 466,
    "start_time": "2025-04-25T15:44:14.111Z"
   },
   {
    "duration": 392,
    "start_time": "2025-04-25T15:44:32.673Z"
   },
   {
    "duration": 413,
    "start_time": "2025-04-25T15:44:46.230Z"
   },
   {
    "duration": 352,
    "start_time": "2025-04-25T15:45:15.393Z"
   },
   {
    "duration": 320,
    "start_time": "2025-04-25T15:45:22.343Z"
   },
   {
    "duration": 54,
    "start_time": "2025-04-26T08:18:02.369Z"
   },
   {
    "duration": 912,
    "start_time": "2025-04-26T08:18:08.247Z"
   },
   {
    "duration": 76,
    "start_time": "2025-04-26T08:18:09.162Z"
   },
   {
    "duration": 17,
    "start_time": "2025-04-26T08:18:09.240Z"
   },
   {
    "duration": 28,
    "start_time": "2025-04-26T08:18:09.259Z"
   },
   {
    "duration": 5,
    "start_time": "2025-04-26T08:18:09.290Z"
   },
   {
    "duration": 7,
    "start_time": "2025-04-26T08:18:09.297Z"
   },
   {
    "duration": 450,
    "start_time": "2025-04-26T08:18:09.306Z"
   },
   {
    "duration": 10,
    "start_time": "2025-04-26T08:25:35.595Z"
   },
   {
    "duration": 83,
    "start_time": "2025-04-26T08:38:25.751Z"
   },
   {
    "duration": 384,
    "start_time": "2025-04-26T08:38:52.737Z"
   },
   {
    "duration": 375,
    "start_time": "2025-04-26T08:45:21.778Z"
   },
   {
    "duration": 344,
    "start_time": "2025-04-26T08:45:27.966Z"
   },
   {
    "duration": 812,
    "start_time": "2025-04-26T08:45:34.373Z"
   },
   {
    "duration": 74,
    "start_time": "2025-04-26T08:45:35.187Z"
   },
   {
    "duration": 16,
    "start_time": "2025-04-26T08:45:35.263Z"
   },
   {
    "duration": 43,
    "start_time": "2025-04-26T08:45:35.281Z"
   },
   {
    "duration": 6,
    "start_time": "2025-04-26T08:45:35.326Z"
   },
   {
    "duration": 17,
    "start_time": "2025-04-26T08:45:35.334Z"
   },
   {
    "duration": 392,
    "start_time": "2025-04-26T08:45:35.353Z"
   },
   {
    "duration": 384,
    "start_time": "2025-04-26T08:45:35.747Z"
   },
   {
    "duration": 423,
    "start_time": "2025-04-26T08:45:57.006Z"
   },
   {
    "duration": 80,
    "start_time": "2025-04-26T09:05:12.203Z"
   },
   {
    "duration": 1308,
    "start_time": "2025-04-26T09:05:23.255Z"
   },
   {
    "duration": 1716,
    "start_time": "2025-04-26T09:05:53.374Z"
   },
   {
    "duration": 1365,
    "start_time": "2025-04-26T09:06:52.980Z"
   },
   {
    "duration": 1333,
    "start_time": "2025-04-26T09:07:00.309Z"
   },
   {
    "duration": 398,
    "start_time": "2025-04-26T09:08:02.689Z"
   },
   {
    "duration": 444,
    "start_time": "2025-04-26T09:09:45.009Z"
   },
   {
    "duration": 5,
    "start_time": "2025-04-26T10:59:45.714Z"
   },
   {
    "duration": 5,
    "start_time": "2025-04-26T10:59:57.825Z"
   },
   {
    "duration": 759,
    "start_time": "2025-04-26T11:00:08.921Z"
   },
   {
    "duration": 77,
    "start_time": "2025-04-26T11:00:09.682Z"
   },
   {
    "duration": 17,
    "start_time": "2025-04-26T11:00:09.761Z"
   },
   {
    "duration": 28,
    "start_time": "2025-04-26T11:00:09.786Z"
   },
   {
    "duration": 5,
    "start_time": "2025-04-26T11:00:09.815Z"
   },
   {
    "duration": 10,
    "start_time": "2025-04-26T11:00:09.822Z"
   },
   {
    "duration": 436,
    "start_time": "2025-04-26T11:00:09.835Z"
   },
   {
    "duration": 413,
    "start_time": "2025-04-26T11:00:10.278Z"
   },
   {
    "duration": 431,
    "start_time": "2025-04-26T11:00:10.693Z"
   },
   {
    "duration": 138,
    "start_time": "2025-04-26T11:03:00.660Z"
   },
   {
    "duration": 18,
    "start_time": "2025-04-26T11:04:23.618Z"
   },
   {
    "duration": 31,
    "start_time": "2025-04-26T11:05:48.572Z"
   },
   {
    "duration": 61,
    "start_time": "2025-04-26T11:06:14.672Z"
   },
   {
    "duration": 33,
    "start_time": "2025-04-26T11:06:35.846Z"
   },
   {
    "duration": 23,
    "start_time": "2025-04-26T11:07:16.524Z"
   },
   {
    "duration": 16,
    "start_time": "2025-04-26T11:07:57.794Z"
   },
   {
    "duration": 1310,
    "start_time": "2025-04-26T11:27:08.872Z"
   },
   {
    "duration": 39,
    "start_time": "2025-04-26T11:27:34.362Z"
   },
   {
    "duration": 41,
    "start_time": "2025-04-26T11:27:59.785Z"
   },
   {
    "duration": 42,
    "start_time": "2025-04-26T11:28:05.230Z"
   },
   {
    "duration": 36,
    "start_time": "2025-04-26T11:28:19.858Z"
   },
   {
    "duration": 25,
    "start_time": "2025-04-26T11:32:00.890Z"
   },
   {
    "duration": 42,
    "start_time": "2025-04-26T11:42:22.028Z"
   },
   {
    "duration": 105,
    "start_time": "2025-04-26T11:43:30.665Z"
   },
   {
    "duration": 13,
    "start_time": "2025-04-26T11:43:36.547Z"
   },
   {
    "duration": 272,
    "start_time": "2025-04-26T11:48:53.668Z"
   },
   {
    "duration": 221,
    "start_time": "2025-04-26T11:49:19.745Z"
   },
   {
    "duration": 12,
    "start_time": "2025-04-26T11:50:50.412Z"
   },
   {
    "duration": 498,
    "start_time": "2025-04-26T11:51:07.778Z"
   },
   {
    "duration": 45,
    "start_time": "2025-04-26T11:51:12.274Z"
   },
   {
    "duration": 13,
    "start_time": "2025-04-26T11:51:43.618Z"
   },
   {
    "duration": 18,
    "start_time": "2025-04-26T11:51:54.424Z"
   },
   {
    "duration": 245,
    "start_time": "2025-04-26T11:52:39.061Z"
   },
   {
    "duration": 159,
    "start_time": "2025-04-26T11:52:44.729Z"
   },
   {
    "duration": 17,
    "start_time": "2025-04-26T11:53:42.203Z"
   },
   {
    "duration": 17,
    "start_time": "2025-04-26T11:54:10.413Z"
   },
   {
    "duration": 2,
    "start_time": "2025-04-26T11:55:07.447Z"
   },
   {
    "duration": 15,
    "start_time": "2025-04-26T11:56:14.369Z"
   },
   {
    "duration": 1297,
    "start_time": "2025-04-26T11:56:55.078Z"
   },
   {
    "duration": 1238,
    "start_time": "2025-04-26T11:57:50.908Z"
   },
   {
    "duration": 73,
    "start_time": "2025-04-26T11:57:52.148Z"
   },
   {
    "duration": 16,
    "start_time": "2025-04-26T11:57:52.223Z"
   },
   {
    "duration": 25,
    "start_time": "2025-04-26T11:57:52.241Z"
   },
   {
    "duration": 8,
    "start_time": "2025-04-26T11:57:52.269Z"
   },
   {
    "duration": 6,
    "start_time": "2025-04-26T11:57:52.279Z"
   },
   {
    "duration": 432,
    "start_time": "2025-04-26T11:57:52.287Z"
   },
   {
    "duration": 407,
    "start_time": "2025-04-26T11:57:52.720Z"
   },
   {
    "duration": 389,
    "start_time": "2025-04-26T11:57:53.129Z"
   },
   {
    "duration": 119,
    "start_time": "2025-04-26T11:57:53.520Z"
   },
   {
    "duration": 0,
    "start_time": "2025-04-26T11:57:53.641Z"
   },
   {
    "duration": 0,
    "start_time": "2025-04-26T11:57:53.642Z"
   },
   {
    "duration": 25,
    "start_time": "2025-04-26T11:58:42.274Z"
   },
   {
    "duration": 1214,
    "start_time": "2025-04-26T11:58:57.928Z"
   },
   {
    "duration": 72,
    "start_time": "2025-04-26T11:58:59.144Z"
   },
   {
    "duration": 14,
    "start_time": "2025-04-26T11:58:59.218Z"
   },
   {
    "duration": 57,
    "start_time": "2025-04-26T11:58:59.234Z"
   },
   {
    "duration": 5,
    "start_time": "2025-04-26T11:58:59.293Z"
   },
   {
    "duration": 12,
    "start_time": "2025-04-26T11:58:59.301Z"
   },
   {
    "duration": 391,
    "start_time": "2025-04-26T11:58:59.315Z"
   },
   {
    "duration": 405,
    "start_time": "2025-04-26T11:58:59.709Z"
   },
   {
    "duration": 380,
    "start_time": "2025-04-26T11:59:00.117Z"
   },
   {
    "duration": 127,
    "start_time": "2025-04-26T11:59:00.500Z"
   },
   {
    "duration": 0,
    "start_time": "2025-04-26T11:59:00.629Z"
   },
   {
    "duration": 0,
    "start_time": "2025-04-26T11:59:00.630Z"
   },
   {
    "duration": 24,
    "start_time": "2025-04-26T11:59:40.681Z"
   },
   {
    "duration": 28,
    "start_time": "2025-04-26T11:59:50.300Z"
   },
   {
    "duration": 245,
    "start_time": "2025-04-26T11:59:53.222Z"
   },
   {
    "duration": 179,
    "start_time": "2025-04-26T12:03:27.487Z"
   },
   {
    "duration": 168,
    "start_time": "2025-04-26T12:04:30.002Z"
   },
   {
    "duration": 200,
    "start_time": "2025-04-26T12:05:02.735Z"
   },
   {
    "duration": 53,
    "start_time": "2025-04-27T11:36:12.734Z"
   },
   {
    "duration": 1471,
    "start_time": "2025-04-27T11:36:18.954Z"
   },
   {
    "duration": 83,
    "start_time": "2025-04-27T11:36:20.427Z"
   },
   {
    "duration": 53,
    "start_time": "2025-04-27T11:36:20.512Z"
   },
   {
    "duration": 35,
    "start_time": "2025-04-27T11:36:20.567Z"
   },
   {
    "duration": 5,
    "start_time": "2025-04-27T11:36:20.604Z"
   },
   {
    "duration": 10,
    "start_time": "2025-04-27T11:36:20.611Z"
   },
   {
    "duration": 414,
    "start_time": "2025-04-27T11:36:20.623Z"
   },
   {
    "duration": 360,
    "start_time": "2025-04-27T11:36:21.039Z"
   },
   {
    "duration": 384,
    "start_time": "2025-04-27T11:36:21.401Z"
   },
   {
    "duration": 28,
    "start_time": "2025-04-27T11:36:21.787Z"
   },
   {
    "duration": 216,
    "start_time": "2025-04-27T11:36:21.817Z"
   },
   {
    "duration": 184,
    "start_time": "2025-04-27T11:36:22.035Z"
   },
   {
    "duration": 9,
    "start_time": "2025-04-27T11:36:22.221Z"
   },
   {
    "duration": 1209,
    "start_time": "2025-04-27T11:50:54.919Z"
   },
   {
    "duration": 73,
    "start_time": "2025-04-27T11:50:56.130Z"
   },
   {
    "duration": 14,
    "start_time": "2025-04-27T11:50:56.205Z"
   },
   {
    "duration": 25,
    "start_time": "2025-04-27T11:50:56.221Z"
   },
   {
    "duration": 5,
    "start_time": "2025-04-27T11:50:56.248Z"
   },
   {
    "duration": 9,
    "start_time": "2025-04-27T11:50:56.261Z"
   },
   {
    "duration": 414,
    "start_time": "2025-04-27T11:50:56.272Z"
   },
   {
    "duration": 400,
    "start_time": "2025-04-27T11:50:56.689Z"
   },
   {
    "duration": 384,
    "start_time": "2025-04-27T11:50:57.091Z"
   },
   {
    "duration": 34,
    "start_time": "2025-04-27T11:50:57.478Z"
   },
   {
    "duration": 213,
    "start_time": "2025-04-27T11:50:57.514Z"
   },
   {
    "duration": 186,
    "start_time": "2025-04-27T11:50:57.729Z"
   },
   {
    "duration": 20,
    "start_time": "2025-04-27T11:50:57.917Z"
   },
   {
    "duration": 52,
    "start_time": "2025-04-27T11:55:44.407Z"
   },
   {
    "duration": 42,
    "start_time": "2025-04-27T11:55:53.565Z"
   },
   {
    "duration": 1225,
    "start_time": "2025-04-27T11:57:50.880Z"
   },
   {
    "duration": 71,
    "start_time": "2025-04-27T11:57:52.107Z"
   },
   {
    "duration": 14,
    "start_time": "2025-04-27T11:57:52.180Z"
   },
   {
    "duration": 25,
    "start_time": "2025-04-27T11:57:52.196Z"
   },
   {
    "duration": 80,
    "start_time": "2025-04-27T11:57:52.223Z"
   },
   {
    "duration": 7,
    "start_time": "2025-04-27T11:57:52.305Z"
   },
   {
    "duration": 374,
    "start_time": "2025-04-27T11:57:52.314Z"
   },
   {
    "duration": 397,
    "start_time": "2025-04-27T11:57:52.690Z"
   },
   {
    "duration": 393,
    "start_time": "2025-04-27T11:57:53.089Z"
   },
   {
    "duration": 33,
    "start_time": "2025-04-27T11:57:53.485Z"
   },
   {
    "duration": 213,
    "start_time": "2025-04-27T11:57:53.520Z"
   },
   {
    "duration": 189,
    "start_time": "2025-04-27T11:57:53.736Z"
   },
   {
    "duration": 662,
    "start_time": "2025-04-27T11:57:53.927Z"
   },
   {
    "duration": 1279,
    "start_time": "2025-04-27T12:08:04.767Z"
   },
   {
    "duration": 72,
    "start_time": "2025-04-27T12:08:06.048Z"
   },
   {
    "duration": 16,
    "start_time": "2025-04-27T12:08:06.121Z"
   },
   {
    "duration": 26,
    "start_time": "2025-04-27T12:08:06.138Z"
   },
   {
    "duration": 6,
    "start_time": "2025-04-27T12:08:06.167Z"
   },
   {
    "duration": 6,
    "start_time": "2025-04-27T12:08:06.174Z"
   },
   {
    "duration": 407,
    "start_time": "2025-04-27T12:08:06.182Z"
   },
   {
    "duration": 397,
    "start_time": "2025-04-27T12:08:06.590Z"
   },
   {
    "duration": 393,
    "start_time": "2025-04-27T12:08:06.989Z"
   },
   {
    "duration": 35,
    "start_time": "2025-04-27T12:08:07.384Z"
   },
   {
    "duration": 222,
    "start_time": "2025-04-27T12:08:07.421Z"
   },
   {
    "duration": 196,
    "start_time": "2025-04-27T12:08:07.645Z"
   },
   {
    "duration": 429,
    "start_time": "2025-04-27T12:08:07.843Z"
   },
   {
    "duration": 1333,
    "start_time": "2025-04-27T12:17:55.489Z"
   },
   {
    "duration": 84,
    "start_time": "2025-04-27T12:17:56.824Z"
   },
   {
    "duration": 15,
    "start_time": "2025-04-27T12:17:56.910Z"
   },
   {
    "duration": 26,
    "start_time": "2025-04-27T12:17:56.927Z"
   },
   {
    "duration": 6,
    "start_time": "2025-04-27T12:17:56.955Z"
   },
   {
    "duration": 10,
    "start_time": "2025-04-27T12:17:56.962Z"
   },
   {
    "duration": 439,
    "start_time": "2025-04-27T12:17:56.974Z"
   },
   {
    "duration": 387,
    "start_time": "2025-04-27T12:17:57.415Z"
   },
   {
    "duration": 386,
    "start_time": "2025-04-27T12:17:57.804Z"
   },
   {
    "duration": 35,
    "start_time": "2025-04-27T12:17:58.193Z"
   },
   {
    "duration": 208,
    "start_time": "2025-04-27T12:17:58.230Z"
   },
   {
    "duration": 187,
    "start_time": "2025-04-27T12:17:58.440Z"
   },
   {
    "duration": 1609,
    "start_time": "2025-04-27T12:17:58.629Z"
   },
   {
    "duration": 44,
    "start_time": "2025-04-27T12:18:56.121Z"
   },
   {
    "duration": 41,
    "start_time": "2025-04-27T12:19:44.382Z"
   },
   {
    "duration": 41,
    "start_time": "2025-04-27T12:21:05.489Z"
   },
   {
    "duration": 40,
    "start_time": "2025-04-27T12:25:44.172Z"
   },
   {
    "duration": 49,
    "start_time": "2025-04-27T12:29:21.487Z"
   },
   {
    "duration": 47,
    "start_time": "2025-04-27T12:46:25.576Z"
   },
   {
    "duration": 44,
    "start_time": "2025-04-27T12:46:34.326Z"
   },
   {
    "duration": 52,
    "start_time": "2025-04-27T16:03:24.609Z"
   },
   {
    "duration": 7,
    "start_time": "2025-04-27T16:03:33.394Z"
   },
   {
    "duration": 1460,
    "start_time": "2025-04-27T16:03:41.256Z"
   },
   {
    "duration": 84,
    "start_time": "2025-04-27T16:03:42.718Z"
   },
   {
    "duration": 16,
    "start_time": "2025-04-27T16:03:42.803Z"
   },
   {
    "duration": 25,
    "start_time": "2025-04-27T16:03:42.821Z"
   },
   {
    "duration": 14,
    "start_time": "2025-04-27T16:03:42.848Z"
   },
   {
    "duration": 5,
    "start_time": "2025-04-27T16:03:42.864Z"
   },
   {
    "duration": 453,
    "start_time": "2025-04-27T16:03:42.871Z"
   },
   {
    "duration": 362,
    "start_time": "2025-04-27T16:03:43.326Z"
   },
   {
    "duration": 382,
    "start_time": "2025-04-27T16:03:43.690Z"
   },
   {
    "duration": 32,
    "start_time": "2025-04-27T16:03:44.074Z"
   },
   {
    "duration": 208,
    "start_time": "2025-04-27T16:03:44.107Z"
   },
   {
    "duration": 182,
    "start_time": "2025-04-27T16:03:44.316Z"
   },
   {
    "duration": 37,
    "start_time": "2025-04-27T16:03:44.499Z"
   },
   {
    "duration": 36,
    "start_time": "2025-04-27T16:03:48.726Z"
   },
   {
    "duration": 44,
    "start_time": "2025-04-27T16:13:49.483Z"
   },
   {
    "duration": 43,
    "start_time": "2025-04-27T16:14:02.465Z"
   },
   {
    "duration": 34,
    "start_time": "2025-04-27T16:15:58.522Z"
   },
   {
    "duration": 33,
    "start_time": "2025-04-27T16:16:08.905Z"
   },
   {
    "duration": 36,
    "start_time": "2025-04-27T16:16:14.243Z"
   },
   {
    "duration": 40,
    "start_time": "2025-04-27T16:16:22.462Z"
   },
   {
    "duration": 33,
    "start_time": "2025-04-27T16:16:27.833Z"
   },
   {
    "duration": 1511,
    "start_time": "2025-04-27T16:24:06.761Z"
   },
   {
    "duration": 1485,
    "start_time": "2025-04-27T16:24:33.642Z"
   },
   {
    "duration": 254,
    "start_time": "2025-04-27T16:25:48.796Z"
   },
   {
    "duration": 229,
    "start_time": "2025-04-27T16:26:41.578Z"
   },
   {
    "duration": 38,
    "start_time": "2025-04-27T16:27:12.549Z"
   },
   {
    "duration": 67,
    "start_time": "2025-04-27T16:32:28.667Z"
   },
   {
    "duration": 67,
    "start_time": "2025-04-27T16:32:39.328Z"
   },
   {
    "duration": 344,
    "start_time": "2025-04-27T16:35:51.154Z"
   },
   {
    "duration": 24,
    "start_time": "2025-04-27T16:37:40.713Z"
   },
   {
    "duration": 13,
    "start_time": "2025-04-27T16:40:25.496Z"
   },
   {
    "duration": 13,
    "start_time": "2025-04-27T16:40:32.208Z"
   },
   {
    "duration": 12,
    "start_time": "2025-04-27T16:41:15.985Z"
   },
   {
    "duration": 1204,
    "start_time": "2025-04-27T16:41:22.696Z"
   },
   {
    "duration": 70,
    "start_time": "2025-04-27T16:41:23.902Z"
   },
   {
    "duration": 14,
    "start_time": "2025-04-27T16:41:23.973Z"
   },
   {
    "duration": 24,
    "start_time": "2025-04-27T16:41:23.988Z"
   },
   {
    "duration": 5,
    "start_time": "2025-04-27T16:41:24.014Z"
   },
   {
    "duration": 5,
    "start_time": "2025-04-27T16:41:24.021Z"
   },
   {
    "duration": 409,
    "start_time": "2025-04-27T16:41:24.028Z"
   },
   {
    "duration": 350,
    "start_time": "2025-04-27T16:41:24.439Z"
   },
   {
    "duration": 377,
    "start_time": "2025-04-27T16:41:24.791Z"
   },
   {
    "duration": 23,
    "start_time": "2025-04-27T16:41:25.169Z"
   },
   {
    "duration": 195,
    "start_time": "2025-04-27T16:41:25.194Z"
   },
   {
    "duration": 189,
    "start_time": "2025-04-27T16:41:25.391Z"
   },
   {
    "duration": 46,
    "start_time": "2025-04-27T16:41:25.581Z"
   },
   {
    "duration": 2590,
    "start_time": "2025-04-27T16:41:25.629Z"
   },
   {
    "duration": 35,
    "start_time": "2025-04-27T16:42:18.834Z"
   },
   {
    "duration": 1624,
    "start_time": "2025-04-27T16:42:23.881Z"
   },
   {
    "duration": 38,
    "start_time": "2025-04-27T16:43:53.857Z"
   },
   {
    "duration": 22,
    "start_time": "2025-04-27T16:44:13.211Z"
   },
   {
    "duration": 183,
    "start_time": "2025-04-27T16:44:14.478Z"
   },
   {
    "duration": 175,
    "start_time": "2025-04-27T16:44:15.837Z"
   },
   {
    "duration": 41,
    "start_time": "2025-04-27T16:44:39.919Z"
   },
   {
    "duration": 38,
    "start_time": "2025-04-27T16:44:47.206Z"
   },
   {
    "duration": 39,
    "start_time": "2025-04-27T16:44:52.888Z"
   },
   {
    "duration": 1262,
    "start_time": "2025-04-27T16:45:07.365Z"
   },
   {
    "duration": 70,
    "start_time": "2025-04-27T16:45:08.630Z"
   },
   {
    "duration": 15,
    "start_time": "2025-04-27T16:45:08.702Z"
   },
   {
    "duration": 26,
    "start_time": "2025-04-27T16:45:08.719Z"
   },
   {
    "duration": 14,
    "start_time": "2025-04-27T16:45:08.747Z"
   },
   {
    "duration": 10,
    "start_time": "2025-04-27T16:45:08.763Z"
   },
   {
    "duration": 416,
    "start_time": "2025-04-27T16:45:08.775Z"
   },
   {
    "duration": 391,
    "start_time": "2025-04-27T16:45:09.193Z"
   },
   {
    "duration": 386,
    "start_time": "2025-04-27T16:45:09.586Z"
   },
   {
    "duration": 24,
    "start_time": "2025-04-27T16:45:09.974Z"
   },
   {
    "duration": 219,
    "start_time": "2025-04-27T16:45:10.000Z"
   },
   {
    "duration": 191,
    "start_time": "2025-04-27T16:45:10.221Z"
   },
   {
    "duration": 53,
    "start_time": "2025-04-27T16:45:10.414Z"
   },
   {
    "duration": 39,
    "start_time": "2025-04-27T16:45:17.699Z"
   },
   {
    "duration": 40,
    "start_time": "2025-04-27T16:45:23.114Z"
   },
   {
    "duration": 20,
    "start_time": "2025-04-27T16:45:50.668Z"
   },
   {
    "duration": 23,
    "start_time": "2025-04-27T16:45:54.136Z"
   },
   {
    "duration": 362,
    "start_time": "2025-04-27T16:46:39.620Z"
   },
   {
    "duration": 23,
    "start_time": "2025-04-27T16:48:48.496Z"
   },
   {
    "duration": 39,
    "start_time": "2025-04-27T16:54:13.995Z"
   },
   {
    "duration": 448,
    "start_time": "2025-04-27T16:57:57.581Z"
   },
   {
    "duration": 47,
    "start_time": "2025-04-27T17:02:06.447Z"
   },
   {
    "duration": 39,
    "start_time": "2025-04-27T17:02:18.490Z"
   },
   {
    "duration": 1773,
    "start_time": "2025-04-27T17:14:21.513Z"
   },
   {
    "duration": 1390,
    "start_time": "2025-04-27T17:14:48.104Z"
   },
   {
    "duration": 1536,
    "start_time": "2025-04-27T17:15:26.221Z"
   },
   {
    "duration": 1464,
    "start_time": "2025-04-27T17:19:59.172Z"
   },
   {
    "duration": 1368,
    "start_time": "2025-04-27T17:21:54.528Z"
   },
   {
    "duration": 1356,
    "start_time": "2025-04-27T17:22:09.084Z"
   },
   {
    "duration": 1403,
    "start_time": "2025-04-27T17:22:42.127Z"
   },
   {
    "duration": 40,
    "start_time": "2025-04-27T17:23:03.815Z"
   },
   {
    "duration": 39,
    "start_time": "2025-04-27T17:26:01.741Z"
   },
   {
    "duration": 1493,
    "start_time": "2025-04-27T17:27:01.508Z"
   },
   {
    "duration": 1404,
    "start_time": "2025-04-27T17:27:23.156Z"
   },
   {
    "duration": 1542,
    "start_time": "2025-04-27T17:30:18.915Z"
   },
   {
    "duration": 28,
    "start_time": "2025-04-27T17:31:56.412Z"
   },
   {
    "duration": 30,
    "start_time": "2025-04-27T17:33:56.244Z"
   },
   {
    "duration": 34,
    "start_time": "2025-04-27T17:34:12.614Z"
   },
   {
    "duration": 41,
    "start_time": "2025-04-27T17:34:18.999Z"
   },
   {
    "duration": 1551,
    "start_time": "2025-04-27T17:43:45.639Z"
   },
   {
    "duration": 18,
    "start_time": "2025-04-27T17:45:26.328Z"
   },
   {
    "duration": 39,
    "start_time": "2025-04-27T17:45:40.165Z"
   },
   {
    "duration": 45,
    "start_time": "2025-04-27T17:47:46.571Z"
   },
   {
    "duration": 302,
    "start_time": "2025-04-27T17:48:10.329Z"
   },
   {
    "duration": 157,
    "start_time": "2025-04-27T17:48:32.918Z"
   },
   {
    "duration": 368,
    "start_time": "2025-04-27T17:48:44.067Z"
   },
   {
    "duration": 290,
    "start_time": "2025-04-27T17:49:26.777Z"
   },
   {
    "duration": 301,
    "start_time": "2025-04-27T17:50:21.992Z"
   },
   {
    "duration": 28,
    "start_time": "2025-04-27T17:51:20.644Z"
   },
   {
    "duration": 46,
    "start_time": "2025-04-27T17:54:33.017Z"
   },
   {
    "duration": 45,
    "start_time": "2025-04-27T17:54:46.344Z"
   },
   {
    "duration": 43,
    "start_time": "2025-04-27T17:56:18.056Z"
   },
   {
    "duration": 303,
    "start_time": "2025-04-27T17:59:02.835Z"
   },
   {
    "duration": 356,
    "start_time": "2025-04-27T17:59:09.439Z"
   },
   {
    "duration": 293,
    "start_time": "2025-04-27T18:00:51.550Z"
   },
   {
    "duration": 279,
    "start_time": "2025-04-27T18:01:14.326Z"
   },
   {
    "duration": 279,
    "start_time": "2025-04-27T18:14:08.436Z"
   },
   {
    "duration": 69,
    "start_time": "2025-04-27T18:25:32.987Z"
   },
   {
    "duration": 1589,
    "start_time": "2025-04-27T18:25:56.380Z"
   },
   {
    "duration": 374,
    "start_time": "2025-04-27T18:26:12.474Z"
   },
   {
    "duration": 284,
    "start_time": "2025-04-27T18:27:04.933Z"
   },
   {
    "duration": 55,
    "start_time": "2025-05-02T08:28:12.954Z"
   },
   {
    "duration": 1516,
    "start_time": "2025-05-02T08:28:23.694Z"
   },
   {
    "duration": 71,
    "start_time": "2025-05-02T08:28:25.212Z"
   },
   {
    "duration": 17,
    "start_time": "2025-05-02T08:28:25.284Z"
   },
   {
    "duration": 28,
    "start_time": "2025-05-02T08:28:25.303Z"
   },
   {
    "duration": 6,
    "start_time": "2025-05-02T08:28:25.333Z"
   },
   {
    "duration": 8,
    "start_time": "2025-05-02T08:28:25.341Z"
   },
   {
    "duration": 445,
    "start_time": "2025-05-02T08:28:25.351Z"
   },
   {
    "duration": 439,
    "start_time": "2025-05-02T08:28:25.798Z"
   },
   {
    "duration": 411,
    "start_time": "2025-05-02T08:28:26.239Z"
   },
   {
    "duration": 28,
    "start_time": "2025-05-02T08:28:26.652Z"
   },
   {
    "duration": 223,
    "start_time": "2025-05-02T08:28:26.682Z"
   },
   {
    "duration": 189,
    "start_time": "2025-05-02T08:28:26.906Z"
   },
   {
    "duration": 50,
    "start_time": "2025-05-02T08:28:27.097Z"
   },
   {
    "duration": 308,
    "start_time": "2025-05-02T08:28:27.151Z"
   },
   {
    "duration": 12,
    "start_time": "2025-05-02T08:28:27.461Z"
   },
   {
    "duration": 228,
    "start_time": "2025-05-02T08:29:07.870Z"
   },
   {
    "duration": 108,
    "start_time": "2025-05-02T08:30:17.654Z"
   },
   {
    "duration": 1307,
    "start_time": "2025-05-02T08:30:22.383Z"
   },
   {
    "duration": 70,
    "start_time": "2025-05-02T08:30:23.693Z"
   },
   {
    "duration": 16,
    "start_time": "2025-05-02T08:30:23.765Z"
   },
   {
    "duration": 30,
    "start_time": "2025-05-02T08:30:23.782Z"
   },
   {
    "duration": 6,
    "start_time": "2025-05-02T08:30:23.815Z"
   },
   {
    "duration": 13,
    "start_time": "2025-05-02T08:30:23.823Z"
   },
   {
    "duration": 397,
    "start_time": "2025-05-02T08:30:23.838Z"
   },
   {
    "duration": 402,
    "start_time": "2025-05-02T08:30:24.238Z"
   },
   {
    "duration": 394,
    "start_time": "2025-05-02T08:30:24.643Z"
   },
   {
    "duration": 32,
    "start_time": "2025-05-02T08:30:25.040Z"
   },
   {
    "duration": 212,
    "start_time": "2025-05-02T08:30:25.074Z"
   },
   {
    "duration": 196,
    "start_time": "2025-05-02T08:30:25.288Z"
   },
   {
    "duration": 59,
    "start_time": "2025-05-02T08:30:25.486Z"
   },
   {
    "duration": 318,
    "start_time": "2025-05-02T08:30:25.549Z"
   },
   {
    "duration": 10,
    "start_time": "2025-05-02T08:30:25.869Z"
   },
   {
    "duration": 246,
    "start_time": "2025-05-02T08:30:25.881Z"
   },
   {
    "duration": 5,
    "start_time": "2025-05-02T08:30:26.129Z"
   },
   {
    "duration": 51,
    "start_time": "2025-05-02T17:01:30.063Z"
   },
   {
    "duration": 1474,
    "start_time": "2025-05-02T17:01:38.198Z"
   },
   {
    "duration": 72,
    "start_time": "2025-05-02T17:01:39.674Z"
   },
   {
    "duration": 16,
    "start_time": "2025-05-02T17:01:39.749Z"
   },
   {
    "duration": 39,
    "start_time": "2025-05-02T17:01:39.767Z"
   },
   {
    "duration": 6,
    "start_time": "2025-05-02T17:01:39.810Z"
   },
   {
    "duration": 8,
    "start_time": "2025-05-02T17:01:39.818Z"
   },
   {
    "duration": 457,
    "start_time": "2025-05-02T17:01:39.828Z"
   },
   {
    "duration": 359,
    "start_time": "2025-05-02T17:01:40.287Z"
   },
   {
    "duration": 382,
    "start_time": "2025-05-02T17:01:40.648Z"
   },
   {
    "duration": 31,
    "start_time": "2025-05-02T17:01:41.032Z"
   },
   {
    "duration": 228,
    "start_time": "2025-05-02T17:01:41.064Z"
   },
   {
    "duration": 187,
    "start_time": "2025-05-02T17:01:41.294Z"
   },
   {
    "duration": 56,
    "start_time": "2025-05-02T17:01:41.482Z"
   },
   {
    "duration": 302,
    "start_time": "2025-05-02T17:01:41.541Z"
   },
   {
    "duration": 9,
    "start_time": "2025-05-02T17:01:41.845Z"
   },
   {
    "duration": 243,
    "start_time": "2025-05-02T17:01:41.856Z"
   },
   {
    "duration": 5,
    "start_time": "2025-05-02T17:01:42.104Z"
   },
   {
    "duration": 15,
    "start_time": "2025-05-02T17:01:42.110Z"
   },
   {
    "duration": 150,
    "start_time": "2025-05-02T17:02:23.712Z"
   },
   {
    "duration": 145,
    "start_time": "2025-05-02T17:03:05.224Z"
   },
   {
    "duration": 147,
    "start_time": "2025-05-02T17:04:02.199Z"
   },
   {
    "duration": 5,
    "start_time": "2025-05-02T17:04:54.033Z"
   },
   {
    "duration": 1380,
    "start_time": "2025-05-02T17:22:38.493Z"
   },
   {
    "duration": 1257,
    "start_time": "2025-05-02T17:24:06.441Z"
   },
   {
    "duration": 73,
    "start_time": "2025-05-02T17:24:07.703Z"
   },
   {
    "duration": 17,
    "start_time": "2025-05-02T17:24:07.778Z"
   },
   {
    "duration": 26,
    "start_time": "2025-05-02T17:24:07.797Z"
   },
   {
    "duration": 5,
    "start_time": "2025-05-02T17:24:07.826Z"
   },
   {
    "duration": 42,
    "start_time": "2025-05-02T17:24:07.834Z"
   },
   {
    "duration": 446,
    "start_time": "2025-05-02T17:24:07.878Z"
   },
   {
    "duration": 398,
    "start_time": "2025-05-02T17:24:08.326Z"
   },
   {
    "duration": 392,
    "start_time": "2025-05-02T17:24:08.726Z"
   },
   {
    "duration": 31,
    "start_time": "2025-05-02T17:24:09.120Z"
   },
   {
    "duration": 218,
    "start_time": "2025-05-02T17:24:09.153Z"
   },
   {
    "duration": 186,
    "start_time": "2025-05-02T17:24:09.373Z"
   },
   {
    "duration": 54,
    "start_time": "2025-05-02T17:24:09.560Z"
   },
   {
    "duration": 298,
    "start_time": "2025-05-02T17:24:09.616Z"
   },
   {
    "duration": 9,
    "start_time": "2025-05-02T17:24:09.915Z"
   },
   {
    "duration": 241,
    "start_time": "2025-05-02T17:24:09.926Z"
   },
   {
    "duration": 5,
    "start_time": "2025-05-02T17:24:10.169Z"
   },
   {
    "duration": 10,
    "start_time": "2025-05-02T17:24:10.176Z"
   },
   {
    "duration": 144,
    "start_time": "2025-05-02T17:24:10.205Z"
   },
   {
    "duration": 6,
    "start_time": "2025-05-02T17:24:10.351Z"
   },
   {
    "duration": 1316,
    "start_time": "2025-05-02T17:24:10.359Z"
   },
   {
    "duration": 11,
    "start_time": "2025-05-02T17:28:20.952Z"
   },
   {
    "duration": 148,
    "start_time": "2025-05-02T17:41:10.780Z"
   },
   {
    "duration": 139,
    "start_time": "2025-05-02T17:41:32.121Z"
   },
   {
    "duration": 163,
    "start_time": "2025-05-02T17:41:55.149Z"
   },
   {
    "duration": 152,
    "start_time": "2025-05-02T17:42:04.286Z"
   },
   {
    "duration": 11,
    "start_time": "2025-05-02T17:43:01.087Z"
   },
   {
    "duration": 5,
    "start_time": "2025-05-02T17:43:40.334Z"
   },
   {
    "duration": 52,
    "start_time": "2025-05-03T08:01:54.639Z"
   },
   {
    "duration": 1414,
    "start_time": "2025-05-03T08:02:00.977Z"
   },
   {
    "duration": 78,
    "start_time": "2025-05-03T08:02:02.393Z"
   },
   {
    "duration": 13,
    "start_time": "2025-05-03T08:02:02.473Z"
   },
   {
    "duration": 55,
    "start_time": "2025-05-03T08:02:02.488Z"
   },
   {
    "duration": 5,
    "start_time": "2025-05-03T08:02:02.545Z"
   },
   {
    "duration": 42,
    "start_time": "2025-05-03T08:02:02.551Z"
   },
   {
    "duration": 428,
    "start_time": "2025-05-03T08:02:02.595Z"
   },
   {
    "duration": 383,
    "start_time": "2025-05-03T08:02:03.025Z"
   },
   {
    "duration": 370,
    "start_time": "2025-05-03T08:02:03.409Z"
   },
   {
    "duration": 26,
    "start_time": "2025-05-03T08:02:03.781Z"
   },
   {
    "duration": 199,
    "start_time": "2025-05-03T08:02:03.809Z"
   },
   {
    "duration": 174,
    "start_time": "2025-05-03T08:02:04.010Z"
   },
   {
    "duration": 44,
    "start_time": "2025-05-03T08:02:04.186Z"
   },
   {
    "duration": 293,
    "start_time": "2025-05-03T08:02:04.233Z"
   },
   {
    "duration": 9,
    "start_time": "2025-05-03T08:02:04.528Z"
   },
   {
    "duration": 208,
    "start_time": "2025-05-03T08:02:04.538Z"
   },
   {
    "duration": 4,
    "start_time": "2025-05-03T08:02:04.748Z"
   },
   {
    "duration": 9,
    "start_time": "2025-05-03T08:02:04.762Z"
   },
   {
    "duration": 157,
    "start_time": "2025-05-03T08:02:04.772Z"
   },
   {
    "duration": 6,
    "start_time": "2025-05-03T08:02:04.931Z"
   },
   {
    "duration": 27,
    "start_time": "2025-05-03T08:02:04.939Z"
   },
   {
    "duration": 146,
    "start_time": "2025-05-03T08:02:04.968Z"
   },
   {
    "duration": 5,
    "start_time": "2025-05-03T08:02:05.115Z"
   },
   {
    "duration": 71,
    "start_time": "2025-05-03T08:02:18.568Z"
   },
   {
    "duration": 74,
    "start_time": "2025-05-03T08:02:31.041Z"
   },
   {
    "duration": 5,
    "start_time": "2025-05-03T08:57:38.812Z"
   },
   {
    "duration": 375,
    "start_time": "2025-05-03T09:25:39.976Z"
   },
   {
    "duration": 374,
    "start_time": "2025-05-03T09:26:32.120Z"
   },
   {
    "duration": 394,
    "start_time": "2025-05-03T09:29:33.562Z"
   },
   {
    "duration": 437,
    "start_time": "2025-05-03T09:29:55.773Z"
   },
   {
    "duration": 376,
    "start_time": "2025-05-03T09:30:33.352Z"
   },
   {
    "duration": 402,
    "start_time": "2025-05-03T09:32:38.676Z"
   },
   {
    "duration": 372,
    "start_time": "2025-05-03T09:32:48.940Z"
   },
   {
    "duration": 1221,
    "start_time": "2025-05-03T10:36:42.476Z"
   },
   {
    "duration": 76,
    "start_time": "2025-05-03T10:36:43.700Z"
   },
   {
    "duration": 14,
    "start_time": "2025-05-03T10:36:43.778Z"
   },
   {
    "duration": 25,
    "start_time": "2025-05-03T10:36:43.794Z"
   },
   {
    "duration": 4,
    "start_time": "2025-05-03T10:36:43.821Z"
   },
   {
    "duration": 5,
    "start_time": "2025-05-03T10:36:43.827Z"
   },
   {
    "duration": 423,
    "start_time": "2025-05-03T10:36:43.833Z"
   },
   {
    "duration": 390,
    "start_time": "2025-05-03T10:36:44.261Z"
   },
   {
    "duration": 344,
    "start_time": "2025-05-03T10:36:44.653Z"
   },
   {
    "duration": 28,
    "start_time": "2025-05-03T10:36:44.999Z"
   },
   {
    "duration": 216,
    "start_time": "2025-05-03T10:36:45.029Z"
   },
   {
    "duration": 207,
    "start_time": "2025-05-03T10:36:45.247Z"
   },
   {
    "duration": 49,
    "start_time": "2025-05-03T10:36:45.456Z"
   },
   {
    "duration": 71,
    "start_time": "2025-05-03T10:36:45.507Z"
   },
   {
    "duration": 0,
    "start_time": "2025-05-03T10:36:45.579Z"
   },
   {
    "duration": 0,
    "start_time": "2025-05-03T10:36:45.581Z"
   },
   {
    "duration": 0,
    "start_time": "2025-05-03T10:36:45.582Z"
   },
   {
    "duration": 0,
    "start_time": "2025-05-03T10:36:45.583Z"
   },
   {
    "duration": 0,
    "start_time": "2025-05-03T10:36:45.584Z"
   },
   {
    "duration": 0,
    "start_time": "2025-05-03T10:36:45.585Z"
   },
   {
    "duration": 0,
    "start_time": "2025-05-03T10:36:45.586Z"
   },
   {
    "duration": 0,
    "start_time": "2025-05-03T10:36:45.587Z"
   },
   {
    "duration": 0,
    "start_time": "2025-05-03T10:36:45.588Z"
   },
   {
    "duration": 0,
    "start_time": "2025-05-03T10:36:45.589Z"
   },
   {
    "duration": 1224,
    "start_time": "2025-05-03T10:37:09.468Z"
   },
   {
    "duration": 66,
    "start_time": "2025-05-03T10:37:10.694Z"
   },
   {
    "duration": 15,
    "start_time": "2025-05-03T10:37:10.762Z"
   },
   {
    "duration": 25,
    "start_time": "2025-05-03T10:37:10.778Z"
   },
   {
    "duration": 5,
    "start_time": "2025-05-03T10:37:10.805Z"
   },
   {
    "duration": 5,
    "start_time": "2025-05-03T10:37:10.811Z"
   },
   {
    "duration": 401,
    "start_time": "2025-05-03T10:37:10.818Z"
   },
   {
    "duration": 401,
    "start_time": "2025-05-03T10:37:11.220Z"
   },
   {
    "duration": 365,
    "start_time": "2025-05-03T10:37:11.623Z"
   },
   {
    "duration": 28,
    "start_time": "2025-05-03T10:37:11.990Z"
   },
   {
    "duration": 202,
    "start_time": "2025-05-03T10:37:12.020Z"
   },
   {
    "duration": 181,
    "start_time": "2025-05-03T10:37:12.224Z"
   },
   {
    "duration": 43,
    "start_time": "2025-05-03T10:37:12.407Z"
   },
   {
    "duration": 291,
    "start_time": "2025-05-03T10:37:12.464Z"
   },
   {
    "duration": 10,
    "start_time": "2025-05-03T10:37:12.757Z"
   },
   {
    "duration": 228,
    "start_time": "2025-05-03T10:37:12.768Z"
   },
   {
    "duration": 5,
    "start_time": "2025-05-03T10:37:12.997Z"
   },
   {
    "duration": 12,
    "start_time": "2025-05-03T10:37:13.004Z"
   },
   {
    "duration": 155,
    "start_time": "2025-05-03T10:37:13.017Z"
   },
   {
    "duration": 5,
    "start_time": "2025-05-03T10:37:13.173Z"
   },
   {
    "duration": 10,
    "start_time": "2025-05-03T10:37:13.180Z"
   },
   {
    "duration": 158,
    "start_time": "2025-05-03T10:37:13.192Z"
   },
   {
    "duration": 13,
    "start_time": "2025-05-03T10:37:13.352Z"
   },
   {
    "duration": 26,
    "start_time": "2025-05-03T10:39:02.419Z"
   },
   {
    "duration": 178,
    "start_time": "2025-05-03T10:39:13.625Z"
   },
   {
    "duration": 1234,
    "start_time": "2025-05-03T10:40:02.167Z"
   },
   {
    "duration": 81,
    "start_time": "2025-05-03T10:40:03.403Z"
   },
   {
    "duration": 14,
    "start_time": "2025-05-03T10:40:03.485Z"
   },
   {
    "duration": 65,
    "start_time": "2025-05-03T10:40:03.501Z"
   },
   {
    "duration": 28,
    "start_time": "2025-05-03T10:40:03.568Z"
   },
   {
    "duration": 55,
    "start_time": "2025-05-03T10:40:03.597Z"
   },
   {
    "duration": 426,
    "start_time": "2025-05-03T10:40:03.654Z"
   },
   {
    "duration": 422,
    "start_time": "2025-05-03T10:40:04.081Z"
   },
   {
    "duration": 378,
    "start_time": "2025-05-03T10:40:04.506Z"
   },
   {
    "duration": 32,
    "start_time": "2025-05-03T10:40:04.886Z"
   },
   {
    "duration": 217,
    "start_time": "2025-05-03T10:40:04.921Z"
   },
   {
    "duration": 179,
    "start_time": "2025-05-03T10:40:05.139Z"
   },
   {
    "duration": 61,
    "start_time": "2025-05-03T10:40:05.320Z"
   },
   {
    "duration": 291,
    "start_time": "2025-05-03T10:40:05.384Z"
   },
   {
    "duration": 8,
    "start_time": "2025-05-03T10:40:05.677Z"
   },
   {
    "duration": 234,
    "start_time": "2025-05-03T10:40:05.687Z"
   },
   {
    "duration": 5,
    "start_time": "2025-05-03T10:40:05.922Z"
   },
   {
    "duration": 22,
    "start_time": "2025-05-03T10:40:05.929Z"
   },
   {
    "duration": 177,
    "start_time": "2025-05-03T10:40:05.952Z"
   },
   {
    "duration": 6,
    "start_time": "2025-05-03T10:40:06.130Z"
   },
   {
    "duration": 25,
    "start_time": "2025-05-03T10:40:06.137Z"
   },
   {
    "duration": 144,
    "start_time": "2025-05-03T10:40:06.164Z"
   },
   {
    "duration": 5,
    "start_time": "2025-05-03T10:40:06.310Z"
   },
   {
    "duration": 1350,
    "start_time": "2025-05-03T16:54:01.047Z"
   },
   {
    "duration": 76,
    "start_time": "2025-05-03T16:54:02.399Z"
   },
   {
    "duration": 12,
    "start_time": "2025-05-03T16:54:02.477Z"
   },
   {
    "duration": 28,
    "start_time": "2025-05-03T16:54:02.491Z"
   },
   {
    "duration": 10,
    "start_time": "2025-05-03T16:54:02.521Z"
   },
   {
    "duration": 39,
    "start_time": "2025-05-03T16:54:02.532Z"
   },
   {
    "duration": 449,
    "start_time": "2025-05-03T16:54:02.572Z"
   },
   {
    "duration": 390,
    "start_time": "2025-05-03T16:54:03.023Z"
   },
   {
    "duration": 350,
    "start_time": "2025-05-03T16:54:03.415Z"
   },
   {
    "duration": 24,
    "start_time": "2025-05-03T16:54:03.776Z"
   },
   {
    "duration": 182,
    "start_time": "2025-05-03T16:54:03.802Z"
   },
   {
    "duration": 169,
    "start_time": "2025-05-03T16:54:03.985Z"
   },
   {
    "duration": 48,
    "start_time": "2025-05-03T16:54:04.157Z"
   },
   {
    "duration": 298,
    "start_time": "2025-05-03T16:54:04.208Z"
   },
   {
    "duration": 8,
    "start_time": "2025-05-03T16:54:04.507Z"
   },
   {
    "duration": 224,
    "start_time": "2025-05-03T16:54:04.517Z"
   },
   {
    "duration": 5,
    "start_time": "2025-05-03T16:54:04.743Z"
   },
   {
    "duration": 92,
    "start_time": "2025-05-03T16:54:04.749Z"
   },
   {
    "duration": 147,
    "start_time": "2025-05-03T16:54:04.843Z"
   },
   {
    "duration": 4,
    "start_time": "2025-05-03T16:54:04.992Z"
   },
   {
    "duration": 26,
    "start_time": "2025-05-03T16:54:04.998Z"
   },
   {
    "duration": 167,
    "start_time": "2025-05-03T16:54:05.026Z"
   },
   {
    "duration": 4,
    "start_time": "2025-05-03T16:54:05.195Z"
   },
   {
    "duration": 67,
    "start_time": "2025-05-03T17:03:42.875Z"
   },
   {
    "duration": 172,
    "start_time": "2025-05-03T17:03:51.214Z"
   },
   {
    "duration": 1159,
    "start_time": "2025-05-03T17:03:57.833Z"
   },
   {
    "duration": 79,
    "start_time": "2025-05-03T17:03:58.993Z"
   },
   {
    "duration": 14,
    "start_time": "2025-05-03T17:03:59.073Z"
   },
   {
    "duration": 76,
    "start_time": "2025-05-03T17:03:59.089Z"
   },
   {
    "duration": 5,
    "start_time": "2025-05-03T17:03:59.177Z"
   },
   {
    "duration": 9,
    "start_time": "2025-05-03T17:03:59.184Z"
   },
   {
    "duration": 425,
    "start_time": "2025-05-03T17:03:59.194Z"
   },
   {
    "duration": 411,
    "start_time": "2025-05-03T17:03:59.621Z"
   },
   {
    "duration": 481,
    "start_time": "2025-05-03T17:04:00.034Z"
   },
   {
    "duration": 29,
    "start_time": "2025-05-03T17:04:00.517Z"
   },
   {
    "duration": 218,
    "start_time": "2025-05-03T17:04:00.547Z"
   },
   {
    "duration": 164,
    "start_time": "2025-05-03T17:04:00.767Z"
   },
   {
    "duration": 110,
    "start_time": "2025-05-03T17:04:00.933Z"
   },
   {
    "duration": 0,
    "start_time": "2025-05-03T17:04:01.045Z"
   },
   {
    "duration": 0,
    "start_time": "2025-05-03T17:04:01.046Z"
   },
   {
    "duration": 0,
    "start_time": "2025-05-03T17:04:01.047Z"
   },
   {
    "duration": 0,
    "start_time": "2025-05-03T17:04:01.048Z"
   },
   {
    "duration": 0,
    "start_time": "2025-05-03T17:04:01.049Z"
   },
   {
    "duration": 0,
    "start_time": "2025-05-03T17:04:01.050Z"
   },
   {
    "duration": 0,
    "start_time": "2025-05-03T17:04:01.050Z"
   },
   {
    "duration": 0,
    "start_time": "2025-05-03T17:04:01.051Z"
   },
   {
    "duration": 0,
    "start_time": "2025-05-03T17:04:01.052Z"
   },
   {
    "duration": 0,
    "start_time": "2025-05-03T17:04:01.053Z"
   },
   {
    "duration": 1244,
    "start_time": "2025-05-03T17:04:54.668Z"
   },
   {
    "duration": 64,
    "start_time": "2025-05-03T17:04:55.914Z"
   },
   {
    "duration": 13,
    "start_time": "2025-05-03T17:04:55.980Z"
   },
   {
    "duration": 29,
    "start_time": "2025-05-03T17:04:55.995Z"
   },
   {
    "duration": 13,
    "start_time": "2025-05-03T17:04:56.026Z"
   },
   {
    "duration": 21,
    "start_time": "2025-05-03T17:04:56.040Z"
   },
   {
    "duration": 388,
    "start_time": "2025-05-03T17:04:56.063Z"
   },
   {
    "duration": 380,
    "start_time": "2025-05-03T17:04:56.453Z"
   },
   {
    "duration": 345,
    "start_time": "2025-05-03T17:04:56.834Z"
   },
   {
    "duration": 27,
    "start_time": "2025-05-03T17:04:57.182Z"
   },
   {
    "duration": 211,
    "start_time": "2025-05-03T17:04:57.211Z"
   },
   {
    "duration": 166,
    "start_time": "2025-05-03T17:04:57.424Z"
   },
   {
    "duration": 42,
    "start_time": "2025-05-03T17:04:57.592Z"
   },
   {
    "duration": 279,
    "start_time": "2025-05-03T17:04:57.635Z"
   },
   {
    "duration": 8,
    "start_time": "2025-05-03T17:04:57.916Z"
   },
   {
    "duration": 218,
    "start_time": "2025-05-03T17:04:57.926Z"
   },
   {
    "duration": 5,
    "start_time": "2025-05-03T17:04:58.146Z"
   },
   {
    "duration": 127,
    "start_time": "2025-05-03T17:04:58.153Z"
   },
   {
    "duration": 135,
    "start_time": "2025-05-03T17:04:58.281Z"
   },
   {
    "duration": 6,
    "start_time": "2025-05-03T17:04:58.418Z"
   },
   {
    "duration": 43,
    "start_time": "2025-05-03T17:04:58.426Z"
   },
   {
    "duration": 140,
    "start_time": "2025-05-03T17:04:58.470Z"
   },
   {
    "duration": 6,
    "start_time": "2025-05-03T17:04:58.611Z"
   },
   {
    "duration": 1281,
    "start_time": "2025-05-03T17:06:32.318Z"
   },
   {
    "duration": 66,
    "start_time": "2025-05-03T17:06:33.601Z"
   },
   {
    "duration": 14,
    "start_time": "2025-05-03T17:06:33.668Z"
   },
   {
    "duration": 94,
    "start_time": "2025-05-03T17:06:33.684Z"
   },
   {
    "duration": 20,
    "start_time": "2025-05-03T17:06:33.781Z"
   },
   {
    "duration": 36,
    "start_time": "2025-05-03T17:06:33.803Z"
   },
   {
    "duration": 423,
    "start_time": "2025-05-03T17:06:33.841Z"
   },
   {
    "duration": 374,
    "start_time": "2025-05-03T17:06:34.267Z"
   },
   {
    "duration": 346,
    "start_time": "2025-05-03T17:06:34.643Z"
   },
   {
    "duration": 27,
    "start_time": "2025-05-03T17:06:34.991Z"
   },
   {
    "duration": 198,
    "start_time": "2025-05-03T17:06:35.020Z"
   },
   {
    "duration": 183,
    "start_time": "2025-05-03T17:06:35.220Z"
   },
   {
    "duration": 46,
    "start_time": "2025-05-03T17:06:35.404Z"
   },
   {
    "duration": 290,
    "start_time": "2025-05-03T17:06:35.453Z"
   },
   {
    "duration": 9,
    "start_time": "2025-05-03T17:06:35.745Z"
   },
   {
    "duration": 262,
    "start_time": "2025-05-03T17:06:35.756Z"
   },
   {
    "duration": 6,
    "start_time": "2025-05-03T17:06:36.020Z"
   },
   {
    "duration": 26,
    "start_time": "2025-05-03T17:06:36.028Z"
   },
   {
    "duration": 148,
    "start_time": "2025-05-03T17:06:36.057Z"
   },
   {
    "duration": 6,
    "start_time": "2025-05-03T17:06:36.207Z"
   },
   {
    "duration": 80,
    "start_time": "2025-05-03T17:06:36.214Z"
   },
   {
    "duration": 179,
    "start_time": "2025-05-03T17:06:36.296Z"
   },
   {
    "duration": 6,
    "start_time": "2025-05-03T17:06:36.477Z"
   },
   {
    "duration": 41,
    "start_time": "2025-05-03T17:29:21.873Z"
   },
   {
    "duration": 43,
    "start_time": "2025-05-03T17:29:37.107Z"
   },
   {
    "duration": 42,
    "start_time": "2025-05-03T17:30:37.610Z"
   },
   {
    "duration": 52,
    "start_time": "2025-05-03T17:30:51.549Z"
   },
   {
    "duration": 39,
    "start_time": "2025-05-03T18:24:19.410Z"
   },
   {
    "duration": 256,
    "start_time": "2025-05-03T18:31:21.508Z"
   },
   {
    "duration": 259,
    "start_time": "2025-05-03T18:32:53.791Z"
   },
   {
    "duration": 262,
    "start_time": "2025-05-03T18:33:13.188Z"
   },
   {
    "duration": 9,
    "start_time": "2025-05-03T18:41:02.531Z"
   },
   {
    "duration": 8,
    "start_time": "2025-05-03T18:41:16.959Z"
   },
   {
    "duration": 1141,
    "start_time": "2025-05-03T19:27:15.566Z"
   },
   {
    "duration": 1235,
    "start_time": "2025-05-03T19:33:07.854Z"
   },
   {
    "duration": 67,
    "start_time": "2025-05-03T19:33:09.091Z"
   },
   {
    "duration": 13,
    "start_time": "2025-05-03T19:33:09.160Z"
   },
   {
    "duration": 60,
    "start_time": "2025-05-03T19:33:09.174Z"
   },
   {
    "duration": 5,
    "start_time": "2025-05-03T19:33:09.236Z"
   },
   {
    "duration": 8,
    "start_time": "2025-05-03T19:33:09.242Z"
   },
   {
    "duration": 363,
    "start_time": "2025-05-03T19:33:09.251Z"
   },
   {
    "duration": 389,
    "start_time": "2025-05-03T19:33:09.615Z"
   },
   {
    "duration": 384,
    "start_time": "2025-05-03T19:33:10.006Z"
   },
   {
    "duration": 26,
    "start_time": "2025-05-03T19:33:10.392Z"
   },
   {
    "duration": 194,
    "start_time": "2025-05-03T19:33:10.420Z"
   },
   {
    "duration": 170,
    "start_time": "2025-05-03T19:33:10.616Z"
   },
   {
    "duration": 49,
    "start_time": "2025-05-03T19:33:10.788Z"
   },
   {
    "duration": 287,
    "start_time": "2025-05-03T19:33:10.840Z"
   },
   {
    "duration": 9,
    "start_time": "2025-05-03T19:33:11.128Z"
   },
   {
    "duration": 269,
    "start_time": "2025-05-03T19:33:11.138Z"
   },
   {
    "duration": 5,
    "start_time": "2025-05-03T19:33:11.408Z"
   },
   {
    "duration": 58,
    "start_time": "2025-05-03T19:33:11.414Z"
   },
   {
    "duration": 176,
    "start_time": "2025-05-03T19:33:11.473Z"
   },
   {
    "duration": 5,
    "start_time": "2025-05-03T19:33:11.651Z"
   },
   {
    "duration": 20,
    "start_time": "2025-05-03T19:33:11.657Z"
   },
   {
    "duration": 138,
    "start_time": "2025-05-03T19:33:11.679Z"
   },
   {
    "duration": 5,
    "start_time": "2025-05-03T19:33:11.819Z"
   },
   {
    "duration": 1041,
    "start_time": "2025-05-03T19:33:11.825Z"
   },
   {
    "duration": 1171,
    "start_time": "2025-05-03T19:38:34.739Z"
   },
   {
    "duration": 77,
    "start_time": "2025-05-03T19:38:35.912Z"
   },
   {
    "duration": 14,
    "start_time": "2025-05-03T19:38:35.990Z"
   },
   {
    "duration": 26,
    "start_time": "2025-05-03T19:38:36.005Z"
   },
   {
    "duration": 4,
    "start_time": "2025-05-03T19:38:36.033Z"
   },
   {
    "duration": 29,
    "start_time": "2025-05-03T19:38:36.038Z"
   },
   {
    "duration": 423,
    "start_time": "2025-05-03T19:38:36.069Z"
   },
   {
    "duration": 441,
    "start_time": "2025-05-03T19:38:36.493Z"
   },
   {
    "duration": 359,
    "start_time": "2025-05-03T19:38:36.936Z"
   },
   {
    "duration": 27,
    "start_time": "2025-05-03T19:38:37.297Z"
   },
   {
    "duration": 189,
    "start_time": "2025-05-03T19:38:37.326Z"
   },
   {
    "duration": 164,
    "start_time": "2025-05-03T19:38:37.516Z"
   },
   {
    "duration": 43,
    "start_time": "2025-05-03T19:38:37.681Z"
   },
   {
    "duration": 278,
    "start_time": "2025-05-03T19:38:37.727Z"
   },
   {
    "duration": 9,
    "start_time": "2025-05-03T19:38:38.007Z"
   },
   {
    "duration": 218,
    "start_time": "2025-05-03T19:38:38.018Z"
   },
   {
    "duration": 5,
    "start_time": "2025-05-03T19:38:38.238Z"
   },
   {
    "duration": 15,
    "start_time": "2025-05-03T19:38:38.244Z"
   },
   {
    "duration": 177,
    "start_time": "2025-05-03T19:38:38.261Z"
   },
   {
    "duration": 5,
    "start_time": "2025-05-03T19:38:38.439Z"
   },
   {
    "duration": 9,
    "start_time": "2025-05-03T19:38:38.445Z"
   },
   {
    "duration": 154,
    "start_time": "2025-05-03T19:38:38.455Z"
   },
   {
    "duration": 4,
    "start_time": "2025-05-03T19:38:38.611Z"
   },
   {
    "duration": 968,
    "start_time": "2025-05-03T19:38:38.617Z"
   },
   {
    "duration": 395,
    "start_time": "2025-05-03T19:38:39.587Z"
   },
   {
    "duration": 1450,
    "start_time": "2025-05-03T20:17:42.309Z"
   },
   {
    "duration": 83,
    "start_time": "2025-05-03T20:17:43.761Z"
   },
   {
    "duration": 16,
    "start_time": "2025-05-03T20:17:43.846Z"
   },
   {
    "duration": 49,
    "start_time": "2025-05-03T20:17:43.864Z"
   },
   {
    "duration": 5,
    "start_time": "2025-05-03T20:17:43.915Z"
   },
   {
    "duration": 19,
    "start_time": "2025-05-03T20:17:43.922Z"
   },
   {
    "duration": 457,
    "start_time": "2025-05-03T20:17:43.942Z"
   },
   {
    "duration": 403,
    "start_time": "2025-05-03T20:17:44.405Z"
   },
   {
    "duration": 360,
    "start_time": "2025-05-03T20:17:44.810Z"
   },
   {
    "duration": 40,
    "start_time": "2025-05-03T20:17:45.172Z"
   },
   {
    "duration": 202,
    "start_time": "2025-05-03T20:17:45.213Z"
   },
   {
    "duration": 183,
    "start_time": "2025-05-03T20:17:45.417Z"
   },
   {
    "duration": 44,
    "start_time": "2025-05-03T20:17:45.605Z"
   },
   {
    "duration": 306,
    "start_time": "2025-05-03T20:17:45.651Z"
   },
   {
    "duration": 9,
    "start_time": "2025-05-03T20:17:45.958Z"
   },
   {
    "duration": 323,
    "start_time": "2025-05-03T20:17:45.969Z"
   },
   {
    "duration": 14,
    "start_time": "2025-05-03T20:17:46.294Z"
   },
   {
    "duration": 18,
    "start_time": "2025-05-03T20:17:46.310Z"
   },
   {
    "duration": 148,
    "start_time": "2025-05-03T20:17:46.329Z"
   },
   {
    "duration": 6,
    "start_time": "2025-05-03T20:17:46.479Z"
   },
   {
    "duration": 23,
    "start_time": "2025-05-03T20:17:46.487Z"
   },
   {
    "duration": 168,
    "start_time": "2025-05-03T20:17:46.512Z"
   },
   {
    "duration": 5,
    "start_time": "2025-05-03T20:17:46.682Z"
   },
   {
    "duration": 1050,
    "start_time": "2025-05-03T20:17:46.689Z"
   },
   {
    "duration": 458,
    "start_time": "2025-05-03T20:17:47.740Z"
   },
   {
    "duration": 54,
    "start_time": "2025-05-04T10:08:59.915Z"
   },
   {
    "duration": 1589,
    "start_time": "2025-05-04T10:09:09.472Z"
   },
   {
    "duration": 99,
    "start_time": "2025-05-04T10:09:11.063Z"
   },
   {
    "duration": 18,
    "start_time": "2025-05-04T10:09:11.165Z"
   },
   {
    "duration": 33,
    "start_time": "2025-05-04T10:09:11.186Z"
   },
   {
    "duration": 6,
    "start_time": "2025-05-04T10:09:11.220Z"
   },
   {
    "duration": 33,
    "start_time": "2025-05-04T10:09:11.228Z"
   },
   {
    "duration": 450,
    "start_time": "2025-05-04T10:09:12.905Z"
   },
   {
    "duration": 421,
    "start_time": "2025-05-04T10:09:13.362Z"
   },
   {
    "duration": 404,
    "start_time": "2025-05-04T10:09:13.785Z"
   },
   {
    "duration": 36,
    "start_time": "2025-05-04T10:09:14.192Z"
   },
   {
    "duration": 224,
    "start_time": "2025-05-04T10:09:14.231Z"
   },
   {
    "duration": 195,
    "start_time": "2025-05-04T10:09:14.461Z"
   },
   {
    "duration": 49,
    "start_time": "2025-05-04T10:09:14.658Z"
   },
   {
    "duration": 314,
    "start_time": "2025-05-04T10:09:14.709Z"
   },
   {
    "duration": 10,
    "start_time": "2025-05-04T10:09:15.025Z"
   },
   {
    "duration": 243,
    "start_time": "2025-05-04T10:09:15.037Z"
   },
   {
    "duration": 6,
    "start_time": "2025-05-04T10:09:15.282Z"
   },
   {
    "duration": 14,
    "start_time": "2025-05-04T10:09:15.291Z"
   },
   {
    "duration": 186,
    "start_time": "2025-05-04T10:09:15.308Z"
   },
   {
    "duration": 6,
    "start_time": "2025-05-04T10:09:15.498Z"
   },
   {
    "duration": 13,
    "start_time": "2025-05-04T10:09:15.506Z"
   },
   {
    "duration": 184,
    "start_time": "2025-05-04T10:09:15.521Z"
   },
   {
    "duration": 6,
    "start_time": "2025-05-04T10:09:15.708Z"
   },
   {
    "duration": 1093,
    "start_time": "2025-05-04T10:09:15.716Z"
   },
   {
    "duration": 459,
    "start_time": "2025-05-04T10:09:16.811Z"
   },
   {
    "duration": 105,
    "start_time": "2025-05-04T10:18:44.247Z"
   },
   {
    "duration": 116,
    "start_time": "2025-05-04T10:29:12.686Z"
   },
   {
    "duration": 1247,
    "start_time": "2025-05-04T10:29:27.835Z"
   },
   {
    "duration": 1263,
    "start_time": "2025-05-04T10:29:48.586Z"
   },
   {
    "duration": 119,
    "start_time": "2025-05-04T10:29:49.851Z"
   },
   {
    "duration": 1330,
    "start_time": "2025-05-04T10:29:49.972Z"
   },
   {
    "duration": 0,
    "start_time": "2025-05-04T10:29:51.305Z"
   },
   {
    "duration": 0,
    "start_time": "2025-05-04T10:29:51.306Z"
   },
   {
    "duration": 0,
    "start_time": "2025-05-04T10:29:51.307Z"
   },
   {
    "duration": 0,
    "start_time": "2025-05-04T10:29:51.309Z"
   },
   {
    "duration": 0,
    "start_time": "2025-05-04T10:29:51.310Z"
   },
   {
    "duration": 0,
    "start_time": "2025-05-04T10:29:51.311Z"
   },
   {
    "duration": 0,
    "start_time": "2025-05-04T10:29:51.312Z"
   },
   {
    "duration": 0,
    "start_time": "2025-05-04T10:29:51.313Z"
   },
   {
    "duration": 0,
    "start_time": "2025-05-04T10:29:51.314Z"
   },
   {
    "duration": 0,
    "start_time": "2025-05-04T10:29:51.315Z"
   },
   {
    "duration": 0,
    "start_time": "2025-05-04T10:29:51.316Z"
   },
   {
    "duration": 0,
    "start_time": "2025-05-04T10:29:51.317Z"
   },
   {
    "duration": 0,
    "start_time": "2025-05-04T10:29:51.318Z"
   },
   {
    "duration": 0,
    "start_time": "2025-05-04T10:29:51.320Z"
   },
   {
    "duration": 0,
    "start_time": "2025-05-04T10:29:51.321Z"
   },
   {
    "duration": 0,
    "start_time": "2025-05-04T10:29:51.322Z"
   },
   {
    "duration": 0,
    "start_time": "2025-05-04T10:29:51.323Z"
   },
   {
    "duration": 0,
    "start_time": "2025-05-04T10:29:51.324Z"
   },
   {
    "duration": 0,
    "start_time": "2025-05-04T10:29:51.325Z"
   },
   {
    "duration": 0,
    "start_time": "2025-05-04T10:29:51.326Z"
   },
   {
    "duration": 0,
    "start_time": "2025-05-04T10:29:51.327Z"
   },
   {
    "duration": 0,
    "start_time": "2025-05-04T10:29:51.328Z"
   },
   {
    "duration": 23,
    "start_time": "2025-05-04T10:30:10.289Z"
   },
   {
    "duration": 6,
    "start_time": "2025-05-04T10:38:22.187Z"
   },
   {
    "duration": 11,
    "start_time": "2025-05-04T11:16:07.639Z"
   },
   {
    "duration": 1243,
    "start_time": "2025-05-04T11:16:17.064Z"
   },
   {
    "duration": 120,
    "start_time": "2025-05-04T11:16:18.309Z"
   },
   {
    "duration": 16,
    "start_time": "2025-05-04T11:16:18.430Z"
   },
   {
    "duration": 33,
    "start_time": "2025-05-04T11:16:18.448Z"
   },
   {
    "duration": 6,
    "start_time": "2025-05-04T11:16:18.483Z"
   },
   {
    "duration": 6,
    "start_time": "2025-05-04T11:16:18.490Z"
   },
   {
    "duration": 434,
    "start_time": "2025-05-04T11:16:18.498Z"
   },
   {
    "duration": 427,
    "start_time": "2025-05-04T11:16:18.933Z"
   },
   {
    "duration": 350,
    "start_time": "2025-05-04T11:16:19.362Z"
   },
   {
    "duration": 30,
    "start_time": "2025-05-04T11:16:19.714Z"
   },
   {
    "duration": 217,
    "start_time": "2025-05-04T11:16:19.746Z"
   },
   {
    "duration": 189,
    "start_time": "2025-05-04T11:16:19.966Z"
   },
   {
    "duration": 125,
    "start_time": "2025-05-04T11:16:20.161Z"
   },
   {
    "duration": 0,
    "start_time": "2025-05-04T11:16:20.289Z"
   },
   {
    "duration": 0,
    "start_time": "2025-05-04T11:16:20.291Z"
   },
   {
    "duration": 0,
    "start_time": "2025-05-04T11:16:20.293Z"
   },
   {
    "duration": 0,
    "start_time": "2025-05-04T11:16:20.295Z"
   },
   {
    "duration": 0,
    "start_time": "2025-05-04T11:16:20.296Z"
   },
   {
    "duration": 0,
    "start_time": "2025-05-04T11:16:20.298Z"
   },
   {
    "duration": 0,
    "start_time": "2025-05-04T11:16:20.300Z"
   },
   {
    "duration": 0,
    "start_time": "2025-05-04T11:16:20.301Z"
   },
   {
    "duration": 0,
    "start_time": "2025-05-04T11:16:20.302Z"
   },
   {
    "duration": 0,
    "start_time": "2025-05-04T11:16:20.304Z"
   },
   {
    "duration": 0,
    "start_time": "2025-05-04T11:16:20.306Z"
   },
   {
    "duration": 0,
    "start_time": "2025-05-04T11:16:20.307Z"
   },
   {
    "duration": 47,
    "start_time": "2025-05-04T11:16:36.075Z"
   },
   {
    "duration": 1567,
    "start_time": "2025-05-05T05:36:35.837Z"
   },
   {
    "duration": 135,
    "start_time": "2025-05-05T05:36:37.406Z"
   },
   {
    "duration": 21,
    "start_time": "2025-05-05T05:36:37.544Z"
   },
   {
    "duration": 86,
    "start_time": "2025-05-05T05:36:37.568Z"
   },
   {
    "duration": 19,
    "start_time": "2025-05-05T05:36:37.656Z"
   },
   {
    "duration": 10,
    "start_time": "2025-05-05T05:36:37.677Z"
   },
   {
    "duration": 20,
    "start_time": "2025-05-05T05:36:37.690Z"
   },
   {
    "duration": 35,
    "start_time": "2025-05-05T05:36:37.712Z"
   },
   {
    "duration": 22,
    "start_time": "2025-05-05T05:36:37.750Z"
   },
   {
    "duration": 12,
    "start_time": "2025-05-05T05:36:37.776Z"
   },
   {
    "duration": 519,
    "start_time": "2025-05-05T05:36:37.790Z"
   },
   {
    "duration": 509,
    "start_time": "2025-05-05T05:36:38.314Z"
   },
   {
    "duration": 438,
    "start_time": "2025-05-05T05:36:38.825Z"
   },
   {
    "duration": 40,
    "start_time": "2025-05-05T05:36:39.264Z"
   },
   {
    "duration": 300,
    "start_time": "2025-05-05T05:36:39.306Z"
   },
   {
    "duration": 190,
    "start_time": "2025-05-05T05:36:39.608Z"
   },
   {
    "duration": 46,
    "start_time": "2025-05-05T05:36:39.804Z"
   },
   {
    "duration": 347,
    "start_time": "2025-05-05T05:36:39.853Z"
   },
   {
    "duration": 10,
    "start_time": "2025-05-05T05:36:40.205Z"
   },
   {
    "duration": 326,
    "start_time": "2025-05-05T05:36:40.216Z"
   },
   {
    "duration": 5,
    "start_time": "2025-05-05T05:36:40.543Z"
   },
   {
    "duration": 10,
    "start_time": "2025-05-05T05:36:40.550Z"
   },
   {
    "duration": 168,
    "start_time": "2025-05-05T05:36:40.561Z"
   },
   {
    "duration": 5,
    "start_time": "2025-05-05T05:36:40.731Z"
   },
   {
    "duration": 14,
    "start_time": "2025-05-05T05:36:40.738Z"
   },
   {
    "duration": 163,
    "start_time": "2025-05-05T05:36:40.753Z"
   },
   {
    "duration": 5,
    "start_time": "2025-05-05T05:36:40.918Z"
   },
   {
    "duration": 1125,
    "start_time": "2025-05-05T05:36:40.926Z"
   },
   {
    "duration": 457,
    "start_time": "2025-05-05T05:36:42.053Z"
   },
   {
    "duration": 124,
    "start_time": "2025-05-05T05:42:32.114Z"
   },
   {
    "duration": 19,
    "start_time": "2025-05-05T05:42:46.880Z"
   },
   {
    "duration": 14,
    "start_time": "2025-05-05T05:43:17.917Z"
   },
   {
    "duration": 13,
    "start_time": "2025-05-05T05:43:49.174Z"
   },
   {
    "duration": 11,
    "start_time": "2025-05-05T05:43:55.858Z"
   },
   {
    "duration": 1301,
    "start_time": "2025-05-05T05:45:02.949Z"
   },
   {
    "duration": 119,
    "start_time": "2025-05-05T05:45:04.253Z"
   },
   {
    "duration": 27,
    "start_time": "2025-05-05T05:45:04.374Z"
   },
   {
    "duration": 12,
    "start_time": "2025-05-05T05:45:04.403Z"
   },
   {
    "duration": 18,
    "start_time": "2025-05-05T05:45:04.418Z"
   },
   {
    "duration": 12,
    "start_time": "2025-05-05T05:45:04.438Z"
   },
   {
    "duration": 12,
    "start_time": "2025-05-05T05:45:04.452Z"
   },
   {
    "duration": 13,
    "start_time": "2025-05-05T05:45:04.466Z"
   },
   {
    "duration": 24,
    "start_time": "2025-05-05T05:45:04.481Z"
   },
   {
    "duration": 455,
    "start_time": "2025-05-05T05:45:04.507Z"
   },
   {
    "duration": 419,
    "start_time": "2025-05-05T05:45:04.964Z"
   },
   {
    "duration": 432,
    "start_time": "2025-05-05T05:45:05.385Z"
   },
   {
    "duration": 33,
    "start_time": "2025-05-05T05:45:05.819Z"
   },
   {
    "duration": 250,
    "start_time": "2025-05-05T05:45:05.856Z"
   },
   {
    "duration": 199,
    "start_time": "2025-05-05T05:45:06.109Z"
   },
   {
    "duration": 48,
    "start_time": "2025-05-05T05:45:06.310Z"
   },
   {
    "duration": 331,
    "start_time": "2025-05-05T05:45:06.360Z"
   },
   {
    "duration": 18,
    "start_time": "2025-05-05T05:45:06.693Z"
   },
   {
    "duration": 234,
    "start_time": "2025-05-05T05:45:06.713Z"
   },
   {
    "duration": 6,
    "start_time": "2025-05-05T05:45:06.949Z"
   },
   {
    "duration": 45,
    "start_time": "2025-05-05T05:45:06.957Z"
   },
   {
    "duration": 159,
    "start_time": "2025-05-05T05:45:07.004Z"
   },
   {
    "duration": 7,
    "start_time": "2025-05-05T05:45:07.165Z"
   },
   {
    "duration": 32,
    "start_time": "2025-05-05T05:45:07.173Z"
   },
   {
    "duration": 144,
    "start_time": "2025-05-05T05:45:07.207Z"
   },
   {
    "duration": 32,
    "start_time": "2025-05-05T05:45:07.353Z"
   },
   {
    "duration": 1131,
    "start_time": "2025-05-05T05:45:07.387Z"
   },
   {
    "duration": 497,
    "start_time": "2025-05-05T05:45:08.520Z"
   },
   {
    "duration": 11,
    "start_time": "2025-05-05T05:46:13.109Z"
   },
   {
    "duration": 4,
    "start_time": "2025-05-05T05:46:17.484Z"
   },
   {
    "duration": 10,
    "start_time": "2025-05-05T05:46:18.313Z"
   },
   {
    "duration": 121,
    "start_time": "2025-05-05T05:48:03.987Z"
   },
   {
    "duration": 2510,
    "start_time": "2025-05-05T05:48:53.651Z"
   },
   {
    "duration": 17,
    "start_time": "2025-05-05T05:49:51.136Z"
   },
   {
    "duration": 1332,
    "start_time": "2025-05-05T06:27:39.066Z"
   },
   {
    "duration": 145,
    "start_time": "2025-05-05T06:27:40.401Z"
   },
   {
    "duration": 23,
    "start_time": "2025-05-05T06:27:40.548Z"
   },
   {
    "duration": 32,
    "start_time": "2025-05-05T06:27:40.574Z"
   },
   {
    "duration": 25,
    "start_time": "2025-05-05T06:27:40.610Z"
   },
   {
    "duration": 19,
    "start_time": "2025-05-05T06:27:40.637Z"
   },
   {
    "duration": 27,
    "start_time": "2025-05-05T06:27:40.659Z"
   },
   {
    "duration": 415,
    "start_time": "2025-05-05T06:27:40.689Z"
   },
   {
    "duration": 7,
    "start_time": "2025-05-05T06:27:41.106Z"
   },
   {
    "duration": 449,
    "start_time": "2025-05-05T06:27:41.116Z"
   },
   {
    "duration": 474,
    "start_time": "2025-05-05T06:27:41.568Z"
   },
   {
    "duration": 404,
    "start_time": "2025-05-05T06:27:42.044Z"
   },
   {
    "duration": 32,
    "start_time": "2025-05-05T06:27:42.450Z"
   },
   {
    "duration": 245,
    "start_time": "2025-05-05T06:27:42.485Z"
   },
   {
    "duration": 207,
    "start_time": "2025-05-05T06:27:42.732Z"
   },
   {
    "duration": 66,
    "start_time": "2025-05-05T06:27:42.941Z"
   },
   {
    "duration": 402,
    "start_time": "2025-05-05T06:27:43.009Z"
   },
   {
    "duration": 13,
    "start_time": "2025-05-05T06:27:43.413Z"
   },
   {
    "duration": 166,
    "start_time": "2025-05-05T06:27:43.428Z"
   },
   {
    "duration": 7,
    "start_time": "2025-05-05T06:27:43.604Z"
   },
   {
    "duration": 13,
    "start_time": "2025-05-05T06:27:43.613Z"
   },
   {
    "duration": 162,
    "start_time": "2025-05-05T06:27:43.628Z"
   },
   {
    "duration": 13,
    "start_time": "2025-05-05T06:27:43.793Z"
   },
   {
    "duration": 14,
    "start_time": "2025-05-05T06:27:43.809Z"
   },
   {
    "duration": 178,
    "start_time": "2025-05-05T06:27:43.826Z"
   },
   {
    "duration": 8,
    "start_time": "2025-05-05T06:27:44.006Z"
   },
   {
    "duration": 1156,
    "start_time": "2025-05-05T06:27:44.017Z"
   },
   {
    "duration": 594,
    "start_time": "2025-05-05T06:27:45.175Z"
   },
   {
    "duration": 384,
    "start_time": "2025-05-05T06:28:18.880Z"
   },
   {
    "duration": 331,
    "start_time": "2025-05-05T07:20:56.632Z"
   },
   {
    "duration": 516,
    "start_time": "2025-05-05T07:22:10.722Z"
   },
   {
    "duration": 469,
    "start_time": "2025-05-05T07:29:21.621Z"
   },
   {
    "duration": 503,
    "start_time": "2025-05-05T07:29:37.125Z"
   },
   {
    "duration": 381,
    "start_time": "2025-05-05T07:30:11.997Z"
   },
   {
    "duration": 64,
    "start_time": "2025-05-05T07:31:59.861Z"
   },
   {
    "duration": 70,
    "start_time": "2025-05-05T07:32:20.392Z"
   },
   {
    "duration": 12,
    "start_time": "2025-05-05T09:16:01.127Z"
   },
   {
    "duration": 273,
    "start_time": "2025-05-05T09:21:01.358Z"
   },
   {
    "duration": 398,
    "start_time": "2025-05-05T09:22:42.513Z"
   },
   {
    "duration": 424,
    "start_time": "2025-05-05T09:23:07.634Z"
   },
   {
    "duration": 464,
    "start_time": "2025-05-05T09:25:35.880Z"
   },
   {
    "duration": 419,
    "start_time": "2025-05-05T09:27:29.606Z"
   },
   {
    "duration": 477,
    "start_time": "2025-05-05T09:41:04.596Z"
   },
   {
    "duration": 488,
    "start_time": "2025-05-05T09:42:35.201Z"
   },
   {
    "duration": 579,
    "start_time": "2025-05-05T09:43:30.539Z"
   },
   {
    "duration": 60,
    "start_time": "2025-05-05T09:47:47.441Z"
   },
   {
    "duration": 42,
    "start_time": "2025-05-05T09:48:00.559Z"
   },
   {
    "duration": 111,
    "start_time": "2025-05-05T09:54:40.741Z"
   },
   {
    "duration": 48,
    "start_time": "2025-05-05T09:55:34.767Z"
   },
   {
    "duration": 61,
    "start_time": "2025-05-05T09:56:24.255Z"
   },
   {
    "duration": 56,
    "start_time": "2025-05-05T09:56:42.497Z"
   },
   {
    "duration": 39,
    "start_time": "2025-05-05T09:56:53.670Z"
   },
   {
    "duration": 81,
    "start_time": "2025-05-05T09:58:00.851Z"
   },
   {
    "duration": 80,
    "start_time": "2025-05-05T09:58:34.051Z"
   },
   {
    "duration": 128,
    "start_time": "2025-05-05T10:00:07.240Z"
   },
   {
    "duration": 41,
    "start_time": "2025-05-05T10:00:29.422Z"
   },
   {
    "duration": 1390,
    "start_time": "2025-05-05T10:00:48.867Z"
   },
   {
    "duration": 112,
    "start_time": "2025-05-05T10:00:50.260Z"
   },
   {
    "duration": 16,
    "start_time": "2025-05-05T10:00:50.375Z"
   },
   {
    "duration": 98,
    "start_time": "2025-05-05T10:00:50.393Z"
   },
   {
    "duration": 54,
    "start_time": "2025-05-05T10:00:50.493Z"
   },
   {
    "duration": 29,
    "start_time": "2025-05-05T10:00:50.548Z"
   },
   {
    "duration": 17,
    "start_time": "2025-05-05T10:00:50.579Z"
   },
   {
    "duration": 472,
    "start_time": "2025-05-05T10:00:50.598Z"
   },
   {
    "duration": 306,
    "start_time": "2025-05-05T10:00:51.072Z"
   },
   {
    "duration": 465,
    "start_time": "2025-05-05T10:00:51.382Z"
   },
   {
    "duration": 144,
    "start_time": "2025-05-05T10:00:51.849Z"
   },
   {
    "duration": 0,
    "start_time": "2025-05-05T10:00:51.995Z"
   },
   {
    "duration": 0,
    "start_time": "2025-05-05T10:00:51.996Z"
   },
   {
    "duration": 0,
    "start_time": "2025-05-05T10:00:52.006Z"
   },
   {
    "duration": 0,
    "start_time": "2025-05-05T10:00:52.007Z"
   },
   {
    "duration": 0,
    "start_time": "2025-05-05T10:00:52.009Z"
   },
   {
    "duration": 0,
    "start_time": "2025-05-05T10:00:52.010Z"
   },
   {
    "duration": 0,
    "start_time": "2025-05-05T10:00:52.012Z"
   },
   {
    "duration": 0,
    "start_time": "2025-05-05T10:00:52.013Z"
   },
   {
    "duration": 0,
    "start_time": "2025-05-05T10:00:52.014Z"
   },
   {
    "duration": 0,
    "start_time": "2025-05-05T10:00:52.016Z"
   },
   {
    "duration": 1,
    "start_time": "2025-05-05T10:00:52.017Z"
   },
   {
    "duration": 0,
    "start_time": "2025-05-05T10:00:52.022Z"
   },
   {
    "duration": 0,
    "start_time": "2025-05-05T10:00:52.024Z"
   },
   {
    "duration": 0,
    "start_time": "2025-05-05T10:00:52.025Z"
   },
   {
    "duration": 0,
    "start_time": "2025-05-05T10:00:52.027Z"
   },
   {
    "duration": 0,
    "start_time": "2025-05-05T10:00:52.029Z"
   },
   {
    "duration": 0,
    "start_time": "2025-05-05T10:00:52.031Z"
   },
   {
    "duration": 66,
    "start_time": "2025-05-05T10:01:04.657Z"
   },
   {
    "duration": 40,
    "start_time": "2025-05-05T10:01:13.232Z"
   },
   {
    "duration": 61,
    "start_time": "2025-05-05T10:01:47.122Z"
   },
   {
    "duration": 216,
    "start_time": "2025-05-05T10:02:14.368Z"
   },
   {
    "duration": 17,
    "start_time": "2025-05-05T10:03:56.484Z"
   },
   {
    "duration": 40,
    "start_time": "2025-05-05T10:04:44.409Z"
   },
   {
    "duration": 45,
    "start_time": "2025-05-05T10:05:39.208Z"
   },
   {
    "duration": 17,
    "start_time": "2025-05-05T10:05:52.649Z"
   },
   {
    "duration": 17,
    "start_time": "2025-05-05T10:06:47.479Z"
   },
   {
    "duration": 1329,
    "start_time": "2025-05-05T10:07:29.241Z"
   },
   {
    "duration": 142,
    "start_time": "2025-05-05T10:07:30.573Z"
   },
   {
    "duration": 17,
    "start_time": "2025-05-05T10:07:30.723Z"
   },
   {
    "duration": 32,
    "start_time": "2025-05-05T10:07:30.742Z"
   },
   {
    "duration": 26,
    "start_time": "2025-05-05T10:07:30.776Z"
   },
   {
    "duration": 15,
    "start_time": "2025-05-05T10:07:30.812Z"
   },
   {
    "duration": 8,
    "start_time": "2025-05-05T10:07:30.829Z"
   },
   {
    "duration": 367,
    "start_time": "2025-05-05T10:07:30.839Z"
   },
   {
    "duration": 272,
    "start_time": "2025-05-05T10:07:31.208Z"
   },
   {
    "duration": 435,
    "start_time": "2025-05-05T10:07:31.483Z"
   },
   {
    "duration": 160,
    "start_time": "2025-05-05T10:07:31.920Z"
   },
   {
    "duration": 0,
    "start_time": "2025-05-05T10:07:32.082Z"
   },
   {
    "duration": 0,
    "start_time": "2025-05-05T10:07:32.083Z"
   },
   {
    "duration": 0,
    "start_time": "2025-05-05T10:07:32.085Z"
   },
   {
    "duration": 0,
    "start_time": "2025-05-05T10:07:32.087Z"
   },
   {
    "duration": 0,
    "start_time": "2025-05-05T10:07:32.089Z"
   },
   {
    "duration": 0,
    "start_time": "2025-05-05T10:07:32.108Z"
   },
   {
    "duration": 0,
    "start_time": "2025-05-05T10:07:32.110Z"
   },
   {
    "duration": 0,
    "start_time": "2025-05-05T10:07:32.111Z"
   },
   {
    "duration": 1,
    "start_time": "2025-05-05T10:07:32.118Z"
   },
   {
    "duration": 0,
    "start_time": "2025-05-05T10:07:32.123Z"
   },
   {
    "duration": 0,
    "start_time": "2025-05-05T10:07:32.125Z"
   },
   {
    "duration": 0,
    "start_time": "2025-05-05T10:07:32.126Z"
   },
   {
    "duration": 0,
    "start_time": "2025-05-05T10:07:32.128Z"
   },
   {
    "duration": 0,
    "start_time": "2025-05-05T10:07:32.130Z"
   },
   {
    "duration": 0,
    "start_time": "2025-05-05T10:07:32.131Z"
   },
   {
    "duration": 0,
    "start_time": "2025-05-05T10:07:32.133Z"
   },
   {
    "duration": 0,
    "start_time": "2025-05-05T10:07:32.134Z"
   },
   {
    "duration": 0,
    "start_time": "2025-05-05T10:07:32.137Z"
   },
   {
    "duration": 0,
    "start_time": "2025-05-05T10:07:32.138Z"
   },
   {
    "duration": 475,
    "start_time": "2025-05-05T10:09:01.459Z"
   },
   {
    "duration": 424,
    "start_time": "2025-05-05T10:11:12.471Z"
   },
   {
    "duration": 15,
    "start_time": "2025-05-05T10:12:02.229Z"
   },
   {
    "duration": 12,
    "start_time": "2025-05-05T10:13:09.069Z"
   },
   {
    "duration": 52,
    "start_time": "2025-05-05T10:14:29.221Z"
   },
   {
    "duration": 23,
    "start_time": "2025-05-05T10:14:32.389Z"
   },
   {
    "duration": 23,
    "start_time": "2025-05-05T10:14:35.632Z"
   },
   {
    "duration": 221,
    "start_time": "2025-05-05T10:15:43.055Z"
   },
   {
    "duration": 21,
    "start_time": "2025-05-05T10:37:05.822Z"
   },
   {
    "duration": 53,
    "start_time": "2025-05-05T10:38:35.741Z"
   },
   {
    "duration": 39,
    "start_time": "2025-05-05T10:38:44.978Z"
   },
   {
    "duration": 20,
    "start_time": "2025-05-05T10:47:44.611Z"
   },
   {
    "duration": 316,
    "start_time": "2025-05-05T10:48:12.968Z"
   },
   {
    "duration": 1083,
    "start_time": "2025-05-05T10:48:33.874Z"
   },
   {
    "duration": 223,
    "start_time": "2025-05-05T10:52:27.456Z"
   },
   {
    "duration": 1092,
    "start_time": "2025-05-05T10:53:41.284Z"
   },
   {
    "duration": 972,
    "start_time": "2025-05-05T10:53:47.950Z"
   },
   {
    "duration": 907,
    "start_time": "2025-05-05T10:54:25.480Z"
   },
   {
    "duration": 49,
    "start_time": "2025-05-05T10:55:16.145Z"
   },
   {
    "duration": 91,
    "start_time": "2025-05-10T19:03:46.236Z"
   },
   {
    "duration": 1422,
    "start_time": "2025-05-10T19:03:51.346Z"
   },
   {
    "duration": 108,
    "start_time": "2025-05-10T19:03:52.771Z"
   },
   {
    "duration": 16,
    "start_time": "2025-05-10T19:03:52.881Z"
   },
   {
    "duration": 13,
    "start_time": "2025-05-10T19:03:52.905Z"
   },
   {
    "duration": 16,
    "start_time": "2025-05-10T19:03:52.923Z"
   },
   {
    "duration": 20,
    "start_time": "2025-05-10T19:03:52.941Z"
   },
   {
    "duration": 7,
    "start_time": "2025-05-10T19:03:52.962Z"
   },
   {
    "duration": 416,
    "start_time": "2025-05-10T19:03:52.971Z"
   },
   {
    "duration": 287,
    "start_time": "2025-05-10T19:03:53.389Z"
   },
   {
    "duration": 435,
    "start_time": "2025-05-10T19:03:53.679Z"
   },
   {
    "duration": 448,
    "start_time": "2025-05-10T19:03:54.122Z"
   },
   {
    "duration": 465,
    "start_time": "2025-05-10T19:03:54.571Z"
   },
   {
    "duration": 33,
    "start_time": "2025-05-10T19:03:55.038Z"
   },
   {
    "duration": 46,
    "start_time": "2025-05-10T19:03:55.073Z"
   },
   {
    "duration": 17,
    "start_time": "2025-05-10T19:03:55.121Z"
   },
   {
    "duration": 1013,
    "start_time": "2025-05-10T19:03:55.140Z"
   },
   {
    "duration": 951,
    "start_time": "2025-05-10T19:03:56.155Z"
   },
   {
    "duration": 133,
    "start_time": "2025-05-10T19:03:57.112Z"
   },
   {
    "duration": 0,
    "start_time": "2025-05-10T19:03:57.247Z"
   },
   {
    "duration": 0,
    "start_time": "2025-05-10T19:03:57.248Z"
   },
   {
    "duration": 0,
    "start_time": "2025-05-10T19:03:57.249Z"
   },
   {
    "duration": 0,
    "start_time": "2025-05-10T19:03:57.251Z"
   },
   {
    "duration": 0,
    "start_time": "2025-05-10T19:03:57.252Z"
   },
   {
    "duration": 0,
    "start_time": "2025-05-10T19:03:57.253Z"
   },
   {
    "duration": 0,
    "start_time": "2025-05-10T19:03:57.254Z"
   },
   {
    "duration": 0,
    "start_time": "2025-05-10T19:03:57.255Z"
   },
   {
    "duration": 0,
    "start_time": "2025-05-10T19:03:57.256Z"
   },
   {
    "duration": 0,
    "start_time": "2025-05-10T19:03:57.257Z"
   },
   {
    "duration": 0,
    "start_time": "2025-05-10T19:03:57.259Z"
   },
   {
    "duration": 0,
    "start_time": "2025-05-10T19:03:57.260Z"
   },
   {
    "duration": 20,
    "start_time": "2025-05-10T19:04:33.964Z"
   },
   {
    "duration": 16,
    "start_time": "2025-05-10T19:04:49.735Z"
   },
   {
    "duration": 1247,
    "start_time": "2025-05-10T19:30:38.997Z"
   },
   {
    "duration": 121,
    "start_time": "2025-05-10T19:30:40.246Z"
   },
   {
    "duration": 16,
    "start_time": "2025-05-10T19:30:40.369Z"
   },
   {
    "duration": 4,
    "start_time": "2025-05-10T19:30:40.387Z"
   },
   {
    "duration": 30,
    "start_time": "2025-05-10T19:30:40.393Z"
   },
   {
    "duration": 13,
    "start_time": "2025-05-10T19:30:40.425Z"
   },
   {
    "duration": 7,
    "start_time": "2025-05-10T19:30:40.440Z"
   },
   {
    "duration": 397,
    "start_time": "2025-05-10T19:30:40.450Z"
   },
   {
    "duration": 317,
    "start_time": "2025-05-10T19:30:40.849Z"
   },
   {
    "duration": 453,
    "start_time": "2025-05-10T19:30:41.168Z"
   },
   {
    "duration": 472,
    "start_time": "2025-05-10T19:30:41.624Z"
   },
   {
    "duration": 473,
    "start_time": "2025-05-10T19:30:42.103Z"
   },
   {
    "duration": 41,
    "start_time": "2025-05-10T19:30:42.578Z"
   },
   {
    "duration": 15,
    "start_time": "2025-05-10T19:30:42.623Z"
   },
   {
    "duration": 24,
    "start_time": "2025-05-10T19:30:42.640Z"
   },
   {
    "duration": 950,
    "start_time": "2025-05-10T19:30:42.666Z"
   },
   {
    "duration": 833,
    "start_time": "2025-05-10T19:30:43.625Z"
   },
   {
    "duration": 137,
    "start_time": "2025-05-10T19:30:44.459Z"
   },
   {
    "duration": 0,
    "start_time": "2025-05-10T19:30:44.598Z"
   },
   {
    "duration": 0,
    "start_time": "2025-05-10T19:30:44.599Z"
   },
   {
    "duration": 0,
    "start_time": "2025-05-10T19:30:44.600Z"
   },
   {
    "duration": 0,
    "start_time": "2025-05-10T19:30:44.604Z"
   },
   {
    "duration": 0,
    "start_time": "2025-05-10T19:30:44.605Z"
   },
   {
    "duration": 0,
    "start_time": "2025-05-10T19:30:44.605Z"
   },
   {
    "duration": 0,
    "start_time": "2025-05-10T19:30:44.612Z"
   },
   {
    "duration": 0,
    "start_time": "2025-05-10T19:30:44.612Z"
   },
   {
    "duration": 0,
    "start_time": "2025-05-10T19:30:44.613Z"
   },
   {
    "duration": 0,
    "start_time": "2025-05-10T19:30:44.614Z"
   },
   {
    "duration": 0,
    "start_time": "2025-05-10T19:30:44.614Z"
   },
   {
    "duration": 0,
    "start_time": "2025-05-10T19:30:44.615Z"
   },
   {
    "duration": 1374,
    "start_time": "2025-05-10T19:30:55.272Z"
   },
   {
    "duration": 123,
    "start_time": "2025-05-10T19:30:56.648Z"
   },
   {
    "duration": 16,
    "start_time": "2025-05-10T19:30:56.773Z"
   },
   {
    "duration": 48,
    "start_time": "2025-05-10T19:30:56.791Z"
   },
   {
    "duration": 18,
    "start_time": "2025-05-10T19:30:56.841Z"
   },
   {
    "duration": 13,
    "start_time": "2025-05-10T19:30:56.861Z"
   },
   {
    "duration": 8,
    "start_time": "2025-05-10T19:30:56.876Z"
   },
   {
    "duration": 314,
    "start_time": "2025-05-10T19:30:56.885Z"
   },
   {
    "duration": 280,
    "start_time": "2025-05-10T19:30:57.205Z"
   },
   {
    "duration": 444,
    "start_time": "2025-05-10T19:30:57.488Z"
   },
   {
    "duration": 478,
    "start_time": "2025-05-10T19:30:57.934Z"
   },
   {
    "duration": 477,
    "start_time": "2025-05-10T19:30:58.414Z"
   },
   {
    "duration": 40,
    "start_time": "2025-05-10T19:30:58.893Z"
   },
   {
    "duration": 18,
    "start_time": "2025-05-10T19:30:58.934Z"
   },
   {
    "duration": 17,
    "start_time": "2025-05-10T19:30:58.954Z"
   },
   {
    "duration": 990,
    "start_time": "2025-05-10T19:30:59.006Z"
   },
   {
    "duration": 885,
    "start_time": "2025-05-10T19:30:59.998Z"
   },
   {
    "duration": 140,
    "start_time": "2025-05-10T19:31:00.884Z"
   },
   {
    "duration": 0,
    "start_time": "2025-05-10T19:31:01.026Z"
   },
   {
    "duration": 0,
    "start_time": "2025-05-10T19:31:01.027Z"
   },
   {
    "duration": 0,
    "start_time": "2025-05-10T19:31:01.029Z"
   },
   {
    "duration": 0,
    "start_time": "2025-05-10T19:31:01.030Z"
   },
   {
    "duration": 0,
    "start_time": "2025-05-10T19:31:01.031Z"
   },
   {
    "duration": 0,
    "start_time": "2025-05-10T19:31:01.033Z"
   },
   {
    "duration": 0,
    "start_time": "2025-05-10T19:31:01.034Z"
   },
   {
    "duration": 0,
    "start_time": "2025-05-10T19:31:01.035Z"
   },
   {
    "duration": 0,
    "start_time": "2025-05-10T19:31:01.036Z"
   },
   {
    "duration": 0,
    "start_time": "2025-05-10T19:31:01.038Z"
   },
   {
    "duration": 0,
    "start_time": "2025-05-10T19:31:01.040Z"
   },
   {
    "duration": 0,
    "start_time": "2025-05-10T19:31:01.041Z"
   },
   {
    "duration": 19,
    "start_time": "2025-05-10T19:41:41.182Z"
   },
   {
    "duration": 51,
    "start_time": "2025-05-10T19:42:04.519Z"
   },
   {
    "duration": 1612,
    "start_time": "2025-05-11T12:48:31.576Z"
   },
   {
    "duration": 126,
    "start_time": "2025-05-11T12:48:33.190Z"
   },
   {
    "duration": 24,
    "start_time": "2025-05-11T12:48:33.321Z"
   },
   {
    "duration": 5,
    "start_time": "2025-05-11T12:48:33.348Z"
   },
   {
    "duration": 167,
    "start_time": "2025-05-11T12:48:33.355Z"
   },
   {
    "duration": 14,
    "start_time": "2025-05-11T12:48:33.525Z"
   },
   {
    "duration": 11,
    "start_time": "2025-05-11T12:48:33.541Z"
   },
   {
    "duration": 432,
    "start_time": "2025-05-11T12:48:33.554Z"
   },
   {
    "duration": 295,
    "start_time": "2025-05-11T12:48:33.989Z"
   },
   {
    "duration": 456,
    "start_time": "2025-05-11T12:48:34.287Z"
   },
   {
    "duration": 462,
    "start_time": "2025-05-11T12:48:34.745Z"
   },
   {
    "duration": 519,
    "start_time": "2025-05-11T12:48:35.210Z"
   },
   {
    "duration": 33,
    "start_time": "2025-05-11T12:48:35.731Z"
   },
   {
    "duration": 52,
    "start_time": "2025-05-11T12:48:35.766Z"
   },
   {
    "duration": 25,
    "start_time": "2025-05-11T12:48:35.832Z"
   },
   {
    "duration": 1053,
    "start_time": "2025-05-11T12:48:35.860Z"
   },
   {
    "duration": 953,
    "start_time": "2025-05-11T12:48:36.915Z"
   },
   {
    "duration": 57,
    "start_time": "2025-05-11T12:48:37.870Z"
   },
   {
    "duration": 275,
    "start_time": "2025-05-11T12:48:37.931Z"
   },
   {
    "duration": 0,
    "start_time": "2025-05-11T12:48:38.209Z"
   },
   {
    "duration": 0,
    "start_time": "2025-05-11T12:48:38.211Z"
   },
   {
    "duration": 0,
    "start_time": "2025-05-11T12:48:38.216Z"
   },
   {
    "duration": 0,
    "start_time": "2025-05-11T12:48:38.218Z"
   },
   {
    "duration": 0,
    "start_time": "2025-05-11T12:48:38.220Z"
   },
   {
    "duration": 0,
    "start_time": "2025-05-11T12:48:38.223Z"
   },
   {
    "duration": 0,
    "start_time": "2025-05-11T12:48:38.226Z"
   },
   {
    "duration": 1,
    "start_time": "2025-05-11T12:48:38.227Z"
   },
   {
    "duration": 0,
    "start_time": "2025-05-11T12:48:38.229Z"
   },
   {
    "duration": 0,
    "start_time": "2025-05-11T12:48:38.232Z"
   },
   {
    "duration": 0,
    "start_time": "2025-05-11T12:48:38.234Z"
   },
   {
    "duration": 255,
    "start_time": "2025-05-11T12:49:33.932Z"
   },
   {
    "duration": 1374,
    "start_time": "2025-05-11T12:49:50.892Z"
   },
   {
    "duration": 116,
    "start_time": "2025-05-11T12:49:52.268Z"
   },
   {
    "duration": 25,
    "start_time": "2025-05-11T12:49:52.386Z"
   },
   {
    "duration": 12,
    "start_time": "2025-05-11T12:49:52.414Z"
   },
   {
    "duration": 24,
    "start_time": "2025-05-11T12:49:52.428Z"
   },
   {
    "duration": 11,
    "start_time": "2025-05-11T12:49:52.455Z"
   },
   {
    "duration": 67,
    "start_time": "2025-05-11T12:49:52.468Z"
   },
   {
    "duration": 445,
    "start_time": "2025-05-11T12:49:52.537Z"
   },
   {
    "duration": 301,
    "start_time": "2025-05-11T12:49:52.984Z"
   },
   {
    "duration": 445,
    "start_time": "2025-05-11T12:49:53.288Z"
   },
   {
    "duration": 449,
    "start_time": "2025-05-11T12:49:53.734Z"
   },
   {
    "duration": 459,
    "start_time": "2025-05-11T12:49:54.185Z"
   },
   {
    "duration": 33,
    "start_time": "2025-05-11T12:49:54.647Z"
   },
   {
    "duration": 40,
    "start_time": "2025-05-11T12:49:54.682Z"
   },
   {
    "duration": 26,
    "start_time": "2025-05-11T12:49:54.725Z"
   },
   {
    "duration": 1007,
    "start_time": "2025-05-11T12:49:54.752Z"
   },
   {
    "duration": 972,
    "start_time": "2025-05-11T12:49:55.761Z"
   },
   {
    "duration": 32,
    "start_time": "2025-05-11T12:49:56.734Z"
   },
   {
    "duration": 259,
    "start_time": "2025-05-11T12:49:56.768Z"
   },
   {
    "duration": 10,
    "start_time": "2025-05-11T12:49:57.029Z"
   },
   {
    "duration": 174,
    "start_time": "2025-05-11T12:49:57.041Z"
   },
   {
    "duration": 11,
    "start_time": "2025-05-11T12:49:57.220Z"
   },
   {
    "duration": 113,
    "start_time": "2025-05-11T12:49:57.233Z"
   },
   {
    "duration": 143,
    "start_time": "2025-05-11T12:49:57.348Z"
   },
   {
    "duration": 22,
    "start_time": "2025-05-11T12:49:57.493Z"
   },
   {
    "duration": 19,
    "start_time": "2025-05-11T12:49:57.524Z"
   },
   {
    "duration": 172,
    "start_time": "2025-05-11T12:49:57.545Z"
   },
   {
    "duration": 7,
    "start_time": "2025-05-11T12:49:57.722Z"
   },
   {
    "duration": 1162,
    "start_time": "2025-05-11T12:49:57.731Z"
   },
   {
    "duration": 565,
    "start_time": "2025-05-11T12:49:58.895Z"
   },
   {
    "duration": 1457,
    "start_time": "2025-05-12T07:34:47.456Z"
   },
   {
    "duration": 117,
    "start_time": "2025-05-12T07:34:48.916Z"
   },
   {
    "duration": 26,
    "start_time": "2025-05-12T07:34:49.035Z"
   },
   {
    "duration": 41,
    "start_time": "2025-05-12T07:34:49.063Z"
   },
   {
    "duration": 43,
    "start_time": "2025-05-12T07:34:49.107Z"
   },
   {
    "duration": 29,
    "start_time": "2025-05-12T07:34:49.152Z"
   },
   {
    "duration": 12,
    "start_time": "2025-05-12T07:34:49.183Z"
   },
   {
    "duration": 393,
    "start_time": "2025-05-12T07:34:49.197Z"
   },
   {
    "duration": 232,
    "start_time": "2025-05-12T07:34:49.592Z"
   },
   {
    "duration": 387,
    "start_time": "2025-05-12T07:34:49.825Z"
   },
   {
    "duration": 420,
    "start_time": "2025-05-12T07:34:50.214Z"
   },
   {
    "duration": 405,
    "start_time": "2025-05-12T07:34:50.636Z"
   },
   {
    "duration": 43,
    "start_time": "2025-05-12T07:34:51.044Z"
   },
   {
    "duration": 39,
    "start_time": "2025-05-12T07:34:51.090Z"
   },
   {
    "duration": 21,
    "start_time": "2025-05-12T07:34:51.131Z"
   },
   {
    "duration": 871,
    "start_time": "2025-05-12T07:34:51.154Z"
   },
   {
    "duration": 901,
    "start_time": "2025-05-12T07:34:52.026Z"
   },
   {
    "duration": 38,
    "start_time": "2025-05-12T07:34:52.929Z"
   },
   {
    "duration": 568,
    "start_time": "2025-05-12T07:34:52.969Z"
   },
   {
    "duration": 9,
    "start_time": "2025-05-12T07:34:53.539Z"
   },
   {
    "duration": 230,
    "start_time": "2025-05-12T07:34:53.562Z"
   },
   {
    "duration": 6,
    "start_time": "2025-05-12T07:34:53.794Z"
   },
   {
    "duration": 12,
    "start_time": "2025-05-12T07:34:53.802Z"
   },
   {
    "duration": 147,
    "start_time": "2025-05-12T07:34:53.816Z"
   },
   {
    "duration": 6,
    "start_time": "2025-05-12T07:34:53.965Z"
   },
   {
    "duration": 103,
    "start_time": "2025-05-12T07:34:53.973Z"
   },
   {
    "duration": 170,
    "start_time": "2025-05-12T07:34:54.078Z"
   },
   {
    "duration": 5,
    "start_time": "2025-05-12T07:34:54.250Z"
   },
   {
    "duration": 1217,
    "start_time": "2025-05-12T07:34:54.261Z"
   },
   {
    "duration": 477,
    "start_time": "2025-05-12T07:34:55.480Z"
   },
   {
    "duration": 48,
    "start_time": "2025-05-12T16:30:42.880Z"
   },
   {
    "duration": 1421,
    "start_time": "2025-05-12T16:30:48.654Z"
   },
   {
    "duration": 100,
    "start_time": "2025-05-12T16:30:50.077Z"
   },
   {
    "duration": 14,
    "start_time": "2025-05-12T16:30:50.179Z"
   },
   {
    "duration": 22,
    "start_time": "2025-05-12T16:30:50.195Z"
   },
   {
    "duration": 21,
    "start_time": "2025-05-12T16:30:50.219Z"
   },
   {
    "duration": 47,
    "start_time": "2025-05-12T16:30:50.241Z"
   },
   {
    "duration": 17,
    "start_time": "2025-05-12T16:30:50.289Z"
   },
   {
    "duration": 383,
    "start_time": "2025-05-12T16:30:50.308Z"
   },
   {
    "duration": 280,
    "start_time": "2025-05-12T16:30:50.693Z"
   },
   {
    "duration": 409,
    "start_time": "2025-05-12T16:30:50.976Z"
   },
   {
    "duration": 394,
    "start_time": "2025-05-12T16:30:51.386Z"
   },
   {
    "duration": 399,
    "start_time": "2025-05-12T16:30:51.782Z"
   },
   {
    "duration": 27,
    "start_time": "2025-05-12T16:30:52.182Z"
   },
   {
    "duration": 30,
    "start_time": "2025-05-12T16:30:52.210Z"
   },
   {
    "duration": 15,
    "start_time": "2025-05-12T16:30:52.242Z"
   },
   {
    "duration": 828,
    "start_time": "2025-05-12T16:30:52.259Z"
   },
   {
    "duration": 776,
    "start_time": "2025-05-12T16:30:53.089Z"
   },
   {
    "duration": 29,
    "start_time": "2025-05-12T16:30:53.867Z"
   },
   {
    "duration": 239,
    "start_time": "2025-05-12T16:30:53.898Z"
   },
   {
    "duration": 9,
    "start_time": "2025-05-12T16:30:54.138Z"
   },
   {
    "duration": 148,
    "start_time": "2025-05-12T16:30:54.148Z"
   },
   {
    "duration": 5,
    "start_time": "2025-05-12T16:30:54.298Z"
   },
   {
    "duration": 25,
    "start_time": "2025-05-12T16:30:54.305Z"
   },
   {
    "duration": 158,
    "start_time": "2025-05-12T16:30:54.332Z"
   },
   {
    "duration": 5,
    "start_time": "2025-05-12T16:30:54.492Z"
   },
   {
    "duration": 52,
    "start_time": "2025-05-12T16:30:54.499Z"
   },
   {
    "duration": 128,
    "start_time": "2025-05-12T16:30:54.553Z"
   },
   {
    "duration": 5,
    "start_time": "2025-05-12T16:30:54.684Z"
   },
   {
    "duration": 1065,
    "start_time": "2025-05-12T16:30:54.690Z"
   },
   {
    "duration": 439,
    "start_time": "2025-05-12T16:30:55.757Z"
   },
   {
    "duration": 112,
    "start_time": "2025-05-12T16:30:56.197Z"
   },
   {
    "duration": 1383,
    "start_time": "2025-05-15T09:04:22.198Z"
   },
   {
    "duration": 105,
    "start_time": "2025-05-15T09:04:23.583Z"
   },
   {
    "duration": 15,
    "start_time": "2025-05-15T09:04:23.691Z"
   },
   {
    "duration": 3,
    "start_time": "2025-05-15T09:04:23.710Z"
   },
   {
    "duration": 29,
    "start_time": "2025-05-15T09:04:23.715Z"
   },
   {
    "duration": 11,
    "start_time": "2025-05-15T09:04:23.745Z"
   },
   {
    "duration": 5,
    "start_time": "2025-05-15T09:04:23.758Z"
   },
   {
    "duration": 400,
    "start_time": "2025-05-15T09:04:23.765Z"
   },
   {
    "duration": 247,
    "start_time": "2025-05-15T09:04:24.167Z"
   },
   {
    "duration": 424,
    "start_time": "2025-05-15T09:04:24.416Z"
   },
   {
    "duration": 462,
    "start_time": "2025-05-15T09:04:24.841Z"
   },
   {
    "duration": 424,
    "start_time": "2025-05-15T09:04:25.304Z"
   },
   {
    "duration": 32,
    "start_time": "2025-05-15T09:04:25.730Z"
   },
   {
    "duration": 19,
    "start_time": "2025-05-15T09:04:25.764Z"
   },
   {
    "duration": 16,
    "start_time": "2025-05-15T09:04:25.785Z"
   },
   {
    "duration": 870,
    "start_time": "2025-05-15T09:04:25.803Z"
   },
   {
    "duration": 809,
    "start_time": "2025-05-15T09:04:26.675Z"
   },
   {
    "duration": 28,
    "start_time": "2025-05-15T09:04:27.486Z"
   },
   {
    "duration": 226,
    "start_time": "2025-05-15T09:04:27.515Z"
   },
   {
    "duration": 10,
    "start_time": "2025-05-15T09:04:27.744Z"
   },
   {
    "duration": 147,
    "start_time": "2025-05-15T09:04:27.756Z"
   },
   {
    "duration": 6,
    "start_time": "2025-05-15T09:04:27.905Z"
   },
   {
    "duration": 100,
    "start_time": "2025-05-15T09:04:27.913Z"
   },
   {
    "duration": 134,
    "start_time": "2025-05-15T09:04:28.015Z"
   },
   {
    "duration": 6,
    "start_time": "2025-05-15T09:04:28.151Z"
   },
   {
    "duration": 19,
    "start_time": "2025-05-15T09:04:28.159Z"
   },
   {
    "duration": 144,
    "start_time": "2025-05-15T09:04:28.180Z"
   },
   {
    "duration": 5,
    "start_time": "2025-05-15T09:04:28.328Z"
   },
   {
    "duration": 1162,
    "start_time": "2025-05-15T09:04:28.338Z"
   },
   {
    "duration": 492,
    "start_time": "2025-05-15T09:04:29.538Z"
   },
   {
    "duration": 107,
    "start_time": "2025-05-15T09:05:43.376Z"
   },
   {
    "duration": 22,
    "start_time": "2025-05-15T09:05:58.662Z"
   },
   {
    "duration": 15,
    "start_time": "2025-05-15T09:06:19.253Z"
   },
   {
    "duration": 50,
    "start_time": "2025-05-15T09:06:52.373Z"
   },
   {
    "duration": 2218,
    "start_time": "2025-05-15T09:07:07.355Z"
   },
   {
    "duration": 119,
    "start_time": "2025-05-15T09:07:35.887Z"
   },
   {
    "duration": 10,
    "start_time": "2025-05-15T09:12:39.801Z"
   },
   {
    "duration": 3,
    "start_time": "2025-05-15T09:13:25.845Z"
   },
   {
    "duration": 5,
    "start_time": "2025-05-15T09:13:37.712Z"
   },
   {
    "duration": 14,
    "start_time": "2025-05-15T09:15:16.501Z"
   },
   {
    "duration": 125,
    "start_time": "2025-05-15T09:15:20.702Z"
   },
   {
    "duration": 13,
    "start_time": "2025-05-15T09:21:19.222Z"
   },
   {
    "duration": 119,
    "start_time": "2025-05-15T09:21:30.584Z"
   },
   {
    "duration": 5,
    "start_time": "2025-05-15T09:22:16.926Z"
   },
   {
    "duration": 7,
    "start_time": "2025-05-15T09:22:39.333Z"
   },
   {
    "duration": 242,
    "start_time": "2025-05-15T09:22:41.734Z"
   },
   {
    "duration": 1183,
    "start_time": "2025-05-15T09:24:17.485Z"
   },
   {
    "duration": 102,
    "start_time": "2025-05-15T09:24:18.670Z"
   },
   {
    "duration": 14,
    "start_time": "2025-05-15T09:24:18.774Z"
   },
   {
    "duration": 4,
    "start_time": "2025-05-15T09:24:18.790Z"
   },
   {
    "duration": 21,
    "start_time": "2025-05-15T09:24:18.795Z"
   },
   {
    "duration": 11,
    "start_time": "2025-05-15T09:24:18.837Z"
   },
   {
    "duration": 10,
    "start_time": "2025-05-15T09:24:18.850Z"
   },
   {
    "duration": 362,
    "start_time": "2025-05-15T09:24:18.862Z"
   },
   {
    "duration": 253,
    "start_time": "2025-05-15T09:24:19.226Z"
   },
   {
    "duration": 383,
    "start_time": "2025-05-15T09:24:19.482Z"
   },
   {
    "duration": 413,
    "start_time": "2025-05-15T09:24:19.867Z"
   },
   {
    "duration": 400,
    "start_time": "2025-05-15T09:24:20.282Z"
   },
   {
    "duration": 28,
    "start_time": "2025-05-15T09:24:20.683Z"
   },
   {
    "duration": 32,
    "start_time": "2025-05-15T09:24:20.713Z"
   },
   {
    "duration": 18,
    "start_time": "2025-05-15T09:24:20.747Z"
   },
   {
    "duration": 788,
    "start_time": "2025-05-15T09:24:20.767Z"
   },
   {
    "duration": 839,
    "start_time": "2025-05-15T09:24:21.556Z"
   },
   {
    "duration": 41,
    "start_time": "2025-05-15T09:24:22.397Z"
   },
   {
    "duration": 217,
    "start_time": "2025-05-15T09:24:22.440Z"
   },
   {
    "duration": 10,
    "start_time": "2025-05-15T09:24:22.659Z"
   },
   {
    "duration": 178,
    "start_time": "2025-05-15T09:24:22.671Z"
   },
   {
    "duration": 6,
    "start_time": "2025-05-15T09:24:22.851Z"
   },
   {
    "duration": 21,
    "start_time": "2025-05-15T09:24:22.859Z"
   },
   {
    "duration": 138,
    "start_time": "2025-05-15T09:24:22.882Z"
   },
   {
    "duration": 5,
    "start_time": "2025-05-15T09:24:23.022Z"
   },
   {
    "duration": 19,
    "start_time": "2025-05-15T09:24:23.029Z"
   },
   {
    "duration": 134,
    "start_time": "2025-05-15T09:24:23.049Z"
   },
   {
    "duration": 5,
    "start_time": "2025-05-15T09:24:23.186Z"
   },
   {
    "duration": 957,
    "start_time": "2025-05-15T09:24:23.193Z"
   },
   {
    "duration": 442,
    "start_time": "2025-05-15T09:24:24.152Z"
   },
   {
    "duration": 104,
    "start_time": "2025-05-15T09:24:31.143Z"
   },
   {
    "duration": 136,
    "start_time": "2025-05-15T09:25:31.836Z"
   },
   {
    "duration": 120,
    "start_time": "2025-05-15T09:25:38.422Z"
   },
   {
    "duration": 230,
    "start_time": "2025-05-15T09:25:57.239Z"
   },
   {
    "duration": 107,
    "start_time": "2025-05-15T09:27:17.362Z"
   },
   {
    "duration": 96,
    "start_time": "2025-05-15T09:27:32.515Z"
   },
   {
    "duration": 1180,
    "start_time": "2025-05-15T09:27:36.595Z"
   },
   {
    "duration": 104,
    "start_time": "2025-05-15T09:27:37.777Z"
   },
   {
    "duration": 16,
    "start_time": "2025-05-15T09:27:37.882Z"
   },
   {
    "duration": 23,
    "start_time": "2025-05-15T09:27:37.900Z"
   },
   {
    "duration": 59,
    "start_time": "2025-05-15T09:27:37.925Z"
   },
   {
    "duration": 109,
    "start_time": "2025-05-15T09:27:37.986Z"
   },
   {
    "duration": 10,
    "start_time": "2025-05-15T09:27:38.096Z"
   },
   {
    "duration": 340,
    "start_time": "2025-05-15T09:27:38.108Z"
   },
   {
    "duration": 247,
    "start_time": "2025-05-15T09:27:38.450Z"
   },
   {
    "duration": 375,
    "start_time": "2025-05-15T09:27:38.701Z"
   },
   {
    "duration": 411,
    "start_time": "2025-05-15T09:27:39.078Z"
   },
   {
    "duration": 389,
    "start_time": "2025-05-15T09:27:39.490Z"
   },
   {
    "duration": 27,
    "start_time": "2025-05-15T09:27:39.881Z"
   },
   {
    "duration": 32,
    "start_time": "2025-05-15T09:27:39.909Z"
   },
   {
    "duration": 16,
    "start_time": "2025-05-15T09:27:39.943Z"
   },
   {
    "duration": 878,
    "start_time": "2025-05-15T09:27:39.960Z"
   },
   {
    "duration": 810,
    "start_time": "2025-05-15T09:27:40.840Z"
   },
   {
    "duration": 27,
    "start_time": "2025-05-15T09:27:41.652Z"
   },
   {
    "duration": 225,
    "start_time": "2025-05-15T09:27:41.681Z"
   },
   {
    "duration": 10,
    "start_time": "2025-05-15T09:27:41.908Z"
   },
   {
    "duration": 142,
    "start_time": "2025-05-15T09:27:41.920Z"
   },
   {
    "duration": 15,
    "start_time": "2025-05-15T09:27:42.064Z"
   },
   {
    "duration": 16,
    "start_time": "2025-05-15T09:27:42.081Z"
   },
   {
    "duration": 123,
    "start_time": "2025-05-15T09:27:42.099Z"
   },
   {
    "duration": 5,
    "start_time": "2025-05-15T09:27:42.223Z"
   },
   {
    "duration": 10,
    "start_time": "2025-05-15T09:27:42.238Z"
   },
   {
    "duration": 134,
    "start_time": "2025-05-15T09:27:42.249Z"
   },
   {
    "duration": 5,
    "start_time": "2025-05-15T09:27:42.387Z"
   },
   {
    "duration": 1044,
    "start_time": "2025-05-15T09:27:42.394Z"
   },
   {
    "duration": 478,
    "start_time": "2025-05-15T09:27:43.439Z"
   },
   {
    "duration": 5,
    "start_time": "2025-05-15T09:27:45.415Z"
   },
   {
    "duration": 53,
    "start_time": "2025-05-15T16:23:34.514Z"
   },
   {
    "duration": 1445,
    "start_time": "2025-05-15T16:23:41.381Z"
   },
   {
    "duration": 108,
    "start_time": "2025-05-15T16:23:42.829Z"
   },
   {
    "duration": 16,
    "start_time": "2025-05-15T16:23:42.939Z"
   },
   {
    "duration": 3,
    "start_time": "2025-05-15T16:23:42.961Z"
   },
   {
    "duration": 17,
    "start_time": "2025-05-15T16:23:42.966Z"
   },
   {
    "duration": 10,
    "start_time": "2025-05-15T16:23:42.985Z"
   },
   {
    "duration": 7,
    "start_time": "2025-05-15T16:23:42.997Z"
   },
   {
    "duration": 387,
    "start_time": "2025-05-15T16:23:43.005Z"
   },
   {
    "duration": 228,
    "start_time": "2025-05-15T16:23:43.394Z"
   },
   {
    "duration": 391,
    "start_time": "2025-05-15T16:23:43.625Z"
   },
   {
    "duration": 405,
    "start_time": "2025-05-15T16:23:44.018Z"
   },
   {
    "duration": 413,
    "start_time": "2025-05-15T16:23:44.425Z"
   },
   {
    "duration": 36,
    "start_time": "2025-05-15T16:23:44.840Z"
   },
   {
    "duration": 16,
    "start_time": "2025-05-15T16:23:44.878Z"
   },
   {
    "duration": 76,
    "start_time": "2025-05-15T16:23:44.896Z"
   },
   {
    "duration": 905,
    "start_time": "2025-05-15T16:23:44.974Z"
   },
   {
    "duration": 872,
    "start_time": "2025-05-15T16:23:45.881Z"
   },
   {
    "duration": 34,
    "start_time": "2025-05-15T16:23:46.755Z"
   },
   {
    "duration": 243,
    "start_time": "2025-05-15T16:23:46.791Z"
   },
   {
    "duration": 10,
    "start_time": "2025-05-15T16:23:47.036Z"
   },
   {
    "duration": 148,
    "start_time": "2025-05-15T16:23:47.061Z"
   },
   {
    "duration": 6,
    "start_time": "2025-05-15T16:23:47.211Z"
   },
   {
    "duration": 7,
    "start_time": "2025-05-15T16:23:47.220Z"
   },
   {
    "duration": 160,
    "start_time": "2025-05-15T16:23:47.229Z"
   },
   {
    "duration": 116,
    "start_time": "2025-05-15T16:23:47.392Z"
   },
   {
    "duration": 0,
    "start_time": "2025-05-15T16:23:47.511Z"
   },
   {
    "duration": 0,
    "start_time": "2025-05-15T16:23:47.512Z"
   },
   {
    "duration": 0,
    "start_time": "2025-05-15T16:23:47.514Z"
   },
   {
    "duration": 0,
    "start_time": "2025-05-15T16:23:47.516Z"
   },
   {
    "duration": 0,
    "start_time": "2025-05-15T16:23:47.518Z"
   },
   {
    "duration": 10,
    "start_time": "2025-05-15T16:25:17.603Z"
   },
   {
    "duration": 5,
    "start_time": "2025-05-15T16:26:10.520Z"
   },
   {
    "duration": 6,
    "start_time": "2025-05-15T16:42:36.656Z"
   },
   {
    "duration": 6,
    "start_time": "2025-05-15T16:43:48.221Z"
   },
   {
    "duration": 10,
    "start_time": "2025-05-15T16:46:21.287Z"
   },
   {
    "duration": 152,
    "start_time": "2025-05-15T16:46:23.323Z"
   },
   {
    "duration": 6,
    "start_time": "2025-05-15T16:46:26.248Z"
   },
   {
    "duration": 1459,
    "start_time": "2025-05-16T16:39:18.599Z"
   },
   {
    "duration": 103,
    "start_time": "2025-05-16T16:39:20.060Z"
   },
   {
    "duration": 15,
    "start_time": "2025-05-16T16:39:20.165Z"
   },
   {
    "duration": 3,
    "start_time": "2025-05-16T16:39:20.182Z"
   },
   {
    "duration": 30,
    "start_time": "2025-05-16T16:39:20.187Z"
   },
   {
    "duration": 9,
    "start_time": "2025-05-16T16:39:20.219Z"
   },
   {
    "duration": 6,
    "start_time": "2025-05-16T16:39:20.230Z"
   },
   {
    "duration": 401,
    "start_time": "2025-05-16T16:39:20.237Z"
   },
   {
    "duration": 230,
    "start_time": "2025-05-16T16:39:20.640Z"
   },
   {
    "duration": 392,
    "start_time": "2025-05-16T16:39:20.872Z"
   },
   {
    "duration": 401,
    "start_time": "2025-05-16T16:39:21.266Z"
   },
   {
    "duration": 401,
    "start_time": "2025-05-16T16:39:21.669Z"
   },
   {
    "duration": 40,
    "start_time": "2025-05-16T16:39:22.071Z"
   },
   {
    "duration": 16,
    "start_time": "2025-05-16T16:39:22.114Z"
   },
   {
    "duration": 52,
    "start_time": "2025-05-16T16:39:22.131Z"
   },
   {
    "duration": 885,
    "start_time": "2025-05-16T16:39:22.184Z"
   },
   {
    "duration": 893,
    "start_time": "2025-05-16T16:39:23.071Z"
   },
   {
    "duration": 43,
    "start_time": "2025-05-16T16:39:23.966Z"
   },
   {
    "duration": 234,
    "start_time": "2025-05-16T16:39:24.011Z"
   },
   {
    "duration": 9,
    "start_time": "2025-05-16T16:39:24.248Z"
   },
   {
    "duration": 162,
    "start_time": "2025-05-16T16:39:24.259Z"
   },
   {
    "duration": 6,
    "start_time": "2025-05-16T16:39:24.424Z"
   },
   {
    "duration": 20,
    "start_time": "2025-05-16T16:39:24.432Z"
   },
   {
    "duration": 153,
    "start_time": "2025-05-16T16:39:24.454Z"
   },
   {
    "duration": 5,
    "start_time": "2025-05-16T16:39:24.610Z"
   },
   {
    "duration": 9,
    "start_time": "2025-05-16T16:39:24.617Z"
   },
   {
    "duration": 158,
    "start_time": "2025-05-16T16:39:24.628Z"
   },
   {
    "duration": 6,
    "start_time": "2025-05-16T16:39:24.788Z"
   },
   {
    "duration": 1050,
    "start_time": "2025-05-16T16:39:24.806Z"
   },
   {
    "duration": 462,
    "start_time": "2025-05-16T16:39:25.858Z"
   },
   {
    "duration": 5,
    "start_time": "2025-05-16T16:39:54.044Z"
   },
   {
    "duration": 6,
    "start_time": "2025-05-16T16:40:09.241Z"
   },
   {
    "duration": 9,
    "start_time": "2025-05-16T16:40:20.430Z"
   },
   {
    "duration": 11,
    "start_time": "2025-05-16T16:45:48.812Z"
   },
   {
    "duration": 14,
    "start_time": "2025-05-16T16:49:48.810Z"
   },
   {
    "duration": 1423,
    "start_time": "2025-05-16T18:51:25.915Z"
   },
   {
    "duration": 123,
    "start_time": "2025-05-16T18:51:27.339Z"
   },
   {
    "duration": 17,
    "start_time": "2025-05-16T18:51:27.464Z"
   },
   {
    "duration": 4,
    "start_time": "2025-05-16T18:51:27.487Z"
   },
   {
    "duration": 24,
    "start_time": "2025-05-16T18:51:27.493Z"
   },
   {
    "duration": 10,
    "start_time": "2025-05-16T18:51:27.519Z"
   },
   {
    "duration": 26,
    "start_time": "2025-05-16T18:51:27.531Z"
   },
   {
    "duration": 378,
    "start_time": "2025-05-16T18:51:27.558Z"
   },
   {
    "duration": 288,
    "start_time": "2025-05-16T18:51:27.938Z"
   },
   {
    "duration": 402,
    "start_time": "2025-05-16T18:51:28.229Z"
   },
   {
    "duration": 417,
    "start_time": "2025-05-16T18:51:28.633Z"
   },
   {
    "duration": 400,
    "start_time": "2025-05-16T18:51:29.052Z"
   },
   {
    "duration": 41,
    "start_time": "2025-05-16T18:51:29.454Z"
   },
   {
    "duration": 15,
    "start_time": "2025-05-16T18:51:29.496Z"
   },
   {
    "duration": 15,
    "start_time": "2025-05-16T18:51:29.513Z"
   },
   {
    "duration": 952,
    "start_time": "2025-05-16T18:51:29.529Z"
   },
   {
    "duration": 950,
    "start_time": "2025-05-16T18:51:30.484Z"
   },
   {
    "duration": 28,
    "start_time": "2025-05-16T18:51:31.436Z"
   },
   {
    "duration": 261,
    "start_time": "2025-05-16T18:51:31.465Z"
   },
   {
    "duration": 1148,
    "start_time": "2025-05-16T18:51:31.728Z"
   },
   {
    "duration": 0,
    "start_time": "2025-05-16T18:51:32.879Z"
   },
   {
    "duration": 0,
    "start_time": "2025-05-16T18:51:32.881Z"
   },
   {
    "duration": 0,
    "start_time": "2025-05-16T18:51:32.883Z"
   },
   {
    "duration": 0,
    "start_time": "2025-05-16T18:51:32.885Z"
   },
   {
    "duration": 0,
    "start_time": "2025-05-16T18:51:32.886Z"
   },
   {
    "duration": 0,
    "start_time": "2025-05-16T18:51:32.887Z"
   },
   {
    "duration": 0,
    "start_time": "2025-05-16T18:51:32.889Z"
   },
   {
    "duration": 0,
    "start_time": "2025-05-16T18:51:32.891Z"
   },
   {
    "duration": 0,
    "start_time": "2025-05-16T18:51:32.892Z"
   },
   {
    "duration": 0,
    "start_time": "2025-05-16T18:51:32.894Z"
   },
   {
    "duration": 11,
    "start_time": "2025-05-16T18:54:31.056Z"
   },
   {
    "duration": 133,
    "start_time": "2025-05-16T18:58:39.385Z"
   },
   {
    "duration": 5,
    "start_time": "2025-05-16T18:58:42.355Z"
   },
   {
    "duration": 10,
    "start_time": "2025-05-16T19:18:08.863Z"
   },
   {
    "duration": 11,
    "start_time": "2025-05-16T19:18:16.001Z"
   },
   {
    "duration": 3,
    "start_time": "2025-05-16T19:19:17.065Z"
   },
   {
    "duration": 17,
    "start_time": "2025-05-16T19:19:34.781Z"
   },
   {
    "duration": 6,
    "start_time": "2025-05-16T19:21:19.834Z"
   },
   {
    "duration": 7,
    "start_time": "2025-05-16T19:21:31.251Z"
   },
   {
    "duration": 6,
    "start_time": "2025-05-16T19:21:56.251Z"
   },
   {
    "duration": 8,
    "start_time": "2025-05-16T19:25:30.909Z"
   },
   {
    "duration": 5,
    "start_time": "2025-05-16T19:27:26.570Z"
   },
   {
    "duration": 9,
    "start_time": "2025-05-16T19:31:40.906Z"
   },
   {
    "duration": 8,
    "start_time": "2025-05-16T19:32:36.096Z"
   },
   {
    "duration": 152,
    "start_time": "2025-05-16T19:47:33.928Z"
   },
   {
    "duration": 25,
    "start_time": "2025-05-16T19:47:45.061Z"
   },
   {
    "duration": 154,
    "start_time": "2025-05-16T19:48:15.604Z"
   },
   {
    "duration": 1064,
    "start_time": "2025-05-16T19:49:15.125Z"
   },
   {
    "duration": 9,
    "start_time": "2025-05-16T19:50:33.292Z"
   },
   {
    "duration": 8,
    "start_time": "2025-05-16T19:53:06.602Z"
   },
   {
    "duration": 6,
    "start_time": "2025-05-16T19:55:27.833Z"
   },
   {
    "duration": 7,
    "start_time": "2025-05-16T19:56:05.954Z"
   },
   {
    "duration": 6,
    "start_time": "2025-05-16T19:58:33.961Z"
   },
   {
    "duration": 8,
    "start_time": "2025-05-16T20:00:01.627Z"
   },
   {
    "duration": 12,
    "start_time": "2025-05-16T20:00:53.002Z"
   },
   {
    "duration": 6,
    "start_time": "2025-05-16T20:00:55.141Z"
   },
   {
    "duration": 13,
    "start_time": "2025-05-16T20:02:05.771Z"
   },
   {
    "duration": 6,
    "start_time": "2025-05-16T20:02:11.869Z"
   },
   {
    "duration": 12,
    "start_time": "2025-05-16T20:16:03.179Z"
   },
   {
    "duration": 17,
    "start_time": "2025-05-16T20:16:12.782Z"
   },
   {
    "duration": 1364,
    "start_time": "2025-05-16T20:17:37.407Z"
   },
   {
    "duration": 119,
    "start_time": "2025-05-16T20:17:38.773Z"
   },
   {
    "duration": 26,
    "start_time": "2025-05-16T20:17:38.895Z"
   },
   {
    "duration": 57,
    "start_time": "2025-05-16T20:17:38.924Z"
   },
   {
    "duration": 27,
    "start_time": "2025-05-16T20:17:38.985Z"
   },
   {
    "duration": 12,
    "start_time": "2025-05-16T20:17:39.015Z"
   },
   {
    "duration": 10,
    "start_time": "2025-05-16T20:17:39.030Z"
   },
   {
    "duration": 377,
    "start_time": "2025-05-16T20:17:39.042Z"
   },
   {
    "duration": 300,
    "start_time": "2025-05-16T20:17:39.421Z"
   },
   {
    "duration": 454,
    "start_time": "2025-05-16T20:17:39.724Z"
   },
   {
    "duration": 506,
    "start_time": "2025-05-16T20:17:40.180Z"
   },
   {
    "duration": 508,
    "start_time": "2025-05-16T20:17:40.691Z"
   },
   {
    "duration": 38,
    "start_time": "2025-05-16T20:17:41.201Z"
   },
   {
    "duration": 17,
    "start_time": "2025-05-16T20:17:41.241Z"
   },
   {
    "duration": 30,
    "start_time": "2025-05-16T20:17:41.283Z"
   },
   {
    "duration": 1131,
    "start_time": "2025-05-16T20:17:41.315Z"
   },
   {
    "duration": 994,
    "start_time": "2025-05-16T20:17:42.448Z"
   },
   {
    "duration": 40,
    "start_time": "2025-05-16T20:17:43.444Z"
   },
   {
    "duration": 264,
    "start_time": "2025-05-16T20:17:43.490Z"
   },
   {
    "duration": 9,
    "start_time": "2025-05-16T20:17:43.757Z"
   },
   {
    "duration": 12,
    "start_time": "2025-05-16T20:17:43.776Z"
   },
   {
    "duration": 16,
    "start_time": "2025-05-16T20:17:43.791Z"
   },
   {
    "duration": 10,
    "start_time": "2025-05-16T20:17:43.809Z"
   },
   {
    "duration": 35,
    "start_time": "2025-05-16T20:17:43.821Z"
   },
   {
    "duration": 45,
    "start_time": "2025-05-16T20:17:43.857Z"
   },
   {
    "duration": 171,
    "start_time": "2025-05-16T20:17:43.904Z"
   },
   {
    "duration": 9,
    "start_time": "2025-05-16T20:17:44.081Z"
   },
   {
    "duration": 1349,
    "start_time": "2025-05-16T20:17:44.093Z"
   },
   {
    "duration": 505,
    "start_time": "2025-05-16T20:17:45.443Z"
   },
   {
    "duration": 10,
    "start_time": "2025-05-16T20:18:03.243Z"
   },
   {
    "duration": 15,
    "start_time": "2025-05-16T20:24:08.098Z"
   },
   {
    "duration": 152,
    "start_time": "2025-05-16T20:26:20.901Z"
   },
   {
    "duration": 7,
    "start_time": "2025-05-16T20:28:03.308Z"
   },
   {
    "duration": 8,
    "start_time": "2025-05-16T20:28:06.955Z"
   },
   {
    "duration": 5,
    "start_time": "2025-05-16T20:30:33.333Z"
   },
   {
    "duration": 136,
    "start_time": "2025-05-16T20:32:08.583Z"
   },
   {
    "duration": 9,
    "start_time": "2025-05-16T20:32:27.405Z"
   },
   {
    "duration": 7,
    "start_time": "2025-05-16T20:32:33.021Z"
   },
   {
    "duration": 6,
    "start_time": "2025-05-16T20:33:23.515Z"
   },
   {
    "duration": 5,
    "start_time": "2025-05-16T20:40:49.522Z"
   },
   {
    "duration": 9,
    "start_time": "2025-05-16T21:05:08.577Z"
   },
   {
    "duration": 8,
    "start_time": "2025-05-16T21:05:39.670Z"
   },
   {
    "duration": 8,
    "start_time": "2025-05-16T21:12:29.095Z"
   },
   {
    "duration": 78,
    "start_time": "2025-06-14T10:24:32.981Z"
   },
   {
    "duration": 1243,
    "start_time": "2025-06-14T10:24:40.104Z"
   },
   {
    "duration": 114,
    "start_time": "2025-06-14T10:24:41.349Z"
   },
   {
    "duration": 15,
    "start_time": "2025-06-14T10:24:41.465Z"
   },
   {
    "duration": 42,
    "start_time": "2025-06-14T10:24:41.481Z"
   },
   {
    "duration": 23,
    "start_time": "2025-06-14T10:24:41.528Z"
   },
   {
    "duration": 11,
    "start_time": "2025-06-14T10:24:41.552Z"
   },
   {
    "duration": 7,
    "start_time": "2025-06-14T10:24:41.564Z"
   },
   {
    "duration": 378,
    "start_time": "2025-06-14T10:24:41.572Z"
   },
   {
    "duration": 233,
    "start_time": "2025-06-14T10:24:41.952Z"
   },
   {
    "duration": 495,
    "start_time": "2025-06-14T10:24:42.187Z"
   },
   {
    "duration": 400,
    "start_time": "2025-06-14T10:24:42.683Z"
   },
   {
    "duration": 440,
    "start_time": "2025-06-14T10:24:43.084Z"
   },
   {
    "duration": 28,
    "start_time": "2025-06-14T10:24:43.527Z"
   },
   {
    "duration": 16,
    "start_time": "2025-06-14T10:24:43.558Z"
   },
   {
    "duration": 50,
    "start_time": "2025-06-14T10:24:43.576Z"
   },
   {
    "duration": 896,
    "start_time": "2025-06-14T10:24:43.629Z"
   },
   {
    "duration": 1027,
    "start_time": "2025-06-14T10:24:44.527Z"
   },
   {
    "duration": 29,
    "start_time": "2025-06-14T10:24:45.556Z"
   },
   {
    "duration": 276,
    "start_time": "2025-06-14T10:24:45.586Z"
   },
   {
    "duration": 10,
    "start_time": "2025-06-14T10:24:45.864Z"
   },
   {
    "duration": 6,
    "start_time": "2025-06-14T10:24:45.876Z"
   },
   {
    "duration": 18,
    "start_time": "2025-06-14T10:24:45.883Z"
   },
   {
    "duration": 11,
    "start_time": "2025-06-14T10:24:45.918Z"
   },
   {
    "duration": 15,
    "start_time": "2025-06-14T10:24:45.931Z"
   },
   {
    "duration": 8,
    "start_time": "2025-06-14T10:24:45.948Z"
   },
   {
    "duration": 12,
    "start_time": "2025-06-14T10:24:45.957Z"
   },
   {
    "duration": 8,
    "start_time": "2025-06-14T10:24:45.971Z"
   },
   {
    "duration": 240,
    "start_time": "2025-06-14T10:24:45.981Z"
   },
   {
    "duration": 1158,
    "start_time": "2025-06-14T10:24:46.223Z"
   },
   {
    "duration": 552,
    "start_time": "2025-06-14T10:24:47.383Z"
   },
   {
    "duration": 11,
    "start_time": "2025-06-14T10:24:49.792Z"
   }
  ],
  "kernelspec": {
   "display_name": "anaconda-2024.02-py310",
   "language": "python",
   "name": "conda-env-anaconda-2024.02-py310-py"
  },
  "language_info": {
   "codemirror_mode": {
    "name": "ipython",
    "version": 3
   },
   "file_extension": ".py",
   "mimetype": "text/x-python",
   "name": "python",
   "nbconvert_exporter": "python",
   "pygments_lexer": "ipython3",
   "version": "3.10.14"
  },
  "toc": {
   "base_numbering": 1,
   "nav_menu": {},
   "number_sections": true,
   "sideBar": true,
   "skip_h1_title": true,
   "title_cell": "Table of Contents",
   "title_sidebar": "Contents",
   "toc_cell": false,
   "toc_position": {},
   "toc_section_display": true,
   "toc_window_display": false
  }
 },
 "nbformat": 4,
 "nbformat_minor": 5
}
